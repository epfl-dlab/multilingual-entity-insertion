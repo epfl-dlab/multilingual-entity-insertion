{
 "cells": [
  {
   "cell_type": "code",
   "execution_count": 2,
   "metadata": {},
   "outputs": [],
   "source": [
    "import os\n",
    "import pandas as pd\n",
    "from faker import Faker\n",
    "from tqdm import tqdm\n",
    "import random"
   ]
  },
  {
   "cell_type": "code",
   "execution_count": null,
   "metadata": {},
   "outputs": [],
   "source": [
    "# create folder 'dummy/train' and 'dummy/val'\n",
    "os.makedirs('dummy/train', exist_ok=True)\n",
    "os.makedirs('dummy/val', exist_ok=True)"
   ]
  },
  {
   "cell_type": "code",
   "execution_count": null,
   "metadata": {},
   "outputs": [
    {
     "name": "stderr",
     "output_type": "stream",
     "text": [
      "  0%|          | 0/10000 [00:00<?, ?it/s]"
     ]
    },
    {
     "name": "stderr",
     "output_type": "stream",
     "text": [
      "100%|██████████| 10000/10000 [00:25<00:00, 392.49it/s]\n"
     ]
    }
   ],
   "source": [
    "# create fake datasets\n",
    "fake = Faker('en_US')\n",
    "train_data = []\n",
    "for i in tqdm(range(10_000)):\n",
    "    source_article = fake.text(max_nb_chars=random.randint(100, 10_000))\n",
    "    target_article = fake.text(max_nb_chars=random.randint(100, 10_000))\n",
    "    context = fake.text(max_nb_chars=random.randint(100, 1_000))\n",
    "    label = random.randint(0, 1)\n",
    "    train_data.append({'source': source_article,\n",
    "                 'target': target_article,\n",
    "                 'context': context,\n",
    "                 'label': label})"
   ]
  },
  {
   "cell_type": "code",
   "execution_count": null,
   "metadata": {},
   "outputs": [],
   "source": [
    "df = pd.DataFrame(train_data)\n",
    "df.to_parquet('dummy/train/dummy.parquet')"
   ]
  },
  {
   "cell_type": "code",
   "execution_count": null,
   "metadata": {},
   "outputs": [
    {
     "name": "stderr",
     "output_type": "stream",
     "text": [
      "  0%|          | 0/100 [00:00<?, ?it/s]"
     ]
    },
    {
     "name": "stderr",
     "output_type": "stream",
     "text": [
      "100%|██████████| 100/100 [00:00<00:00, 512.42it/s]\n"
     ]
    }
   ],
   "source": [
    "val_data = []\n",
    "for i in tqdm(range(100)):\n",
    "    source_article = fake.text(max_nb_chars=random.randint(100, 10_000))\n",
    "    target_article = fake.text(max_nb_chars=random.randint(100, 10_000))\n",
    "    context = fake.text(max_nb_chars=random.randint(100, 1_000))\n",
    "    label = random.randint(0, 1)\n",
    "    val_data.append({'source': source_article,\n",
    "                 'target': target_article,\n",
    "                 'context': context,\n",
    "                 'label': label})"
   ]
  },
  {
   "cell_type": "code",
   "execution_count": null,
   "metadata": {},
   "outputs": [],
   "source": [
    "df = pd.DataFrame(val_data)\n",
    "df.to_parquet('dummy/val/dummy.parquet')"
   ]
  },
  {
   "cell_type": "code",
   "execution_count": null,
   "metadata": {},
   "outputs": [],
   "source": []
  }
 ],
 "metadata": {
  "kernelspec": {
   "display_name": "Python 3",
   "language": "python",
   "name": "python3"
  },
  "language_info": {
   "codemirror_mode": {
    "name": "ipython",
    "version": 3
   },
   "file_extension": ".py",
   "mimetype": "text/x-python",
   "name": "python",
   "nbconvert_exporter": "python",
   "pygments_lexer": "ipython3",
   "version": "3.8.18"
  },
  "orig_nbformat": 4
 },
 "nbformat": 4,
 "nbformat_minor": 2
}
