{
 "cells": [
  {
   "cell_type": "code",
   "execution_count": 16,
   "metadata": {},
   "outputs": [],
   "source": [
    "import pandas as pd\n",
    "from ast import literal_eval"
   ]
  },
  {
   "cell_type": "code",
   "execution_count": 17,
   "metadata": {},
   "outputs": [],
   "source": [
    "df = pd.read_parquet('test_ranking_scores.parquet')"
   ]
  },
  {
   "cell_type": "code",
   "execution_count": 18,
   "metadata": {},
   "outputs": [],
   "source": [
    "df = df.to_dict(orient='records')"
   ]
  },
  {
   "cell_type": "code",
   "execution_count": 19,
   "metadata": {},
   "outputs": [
    {
     "name": "stdout",
     "output_type": "stream",
     "text": [
      "SOURCE: Armenia\n",
      "TARGET: Hittites\n",
      "###############################################\n",
      "SECTION: History\n",
      "CONTEXT: History\n",
      "Hayasa-Azzi may have played a significant role in the ethnicity of Armenians. It has an ancient cultural heritage. One of the earliest Armenian kingdoms such as Urartu was established in 860 BC and by the 6th century BC it was replaced by the Satrapy of Armenia. The Kingdom of Armenia reached its height under Tigranes the Great in the 1st century BC and became the first state in the world to adopt Christianity as its official religion in the late 3rd or early 4th century AD. The official date of state adoption of Christianity is 301. \n",
      "Foreign invasion\n",
      "Between the 16th century and 19th century, the traditional Armenian homeland composed of Eastern Armenia and Western Armenia came under the rule of the Ottoman and Iranian empires, repeatedly ruled by either of the two over the centuries.\n",
      "###############################################\n",
      "BETTER CANDIDATES\n",
      "SECTION: Gallery\n",
      "CONTEXT: Gallery\n",
      "\n",
      "Armenia\n",
      " \n",
      "\n",
      "\n",
      "Yerevan\n",
      "\n",
      "\n",
      " \n",
      "\n",
      "\n",
      "Geghard\n",
      "\n",
      "\n",
      " \n",
      "\n",
      "\n",
      "Vagharshapat\n",
      "\n",
      "\n",
      " \n",
      "\n",
      "\n",
      "Khor Virap\n",
      "\n",
      "\n",
      " \n",
      "\n",
      "\n",
      "Sevanavank\n",
      "\n",
      "\n",
      " \n",
      "\n",
      "\n",
      "Zvartnots\n",
      "\n",
      "\n",
      " \n",
      "\n",
      "\n",
      "Etchmiadzin\n",
      "\n",
      "\n",
      " \n",
      "\n",
      "\n",
      "Armenian dancers.\n",
      "SECTION: Culture\n",
      "CONTEXT: Culture\n",
      "Armenia is a Christian majority country, with European and some wider Eurasian cultural influences. The Republic of Armenia recognises the Armenian Apostolic Church, the world's oldest national church, as the country's primary religious establishment. The unique Armenian alphabet was invented by Mesrop Mashtots in 405 AD. Armenia is a member of the Council of Europe, the Eurasian Economic Union and the Collective Security Treaty Organization. Armenia supports the de facto independent Republic of Artsakh, which was proclaimed in 1991.\n"
     ]
    }
   ],
   "source": [
    "target = df[1]['target_title']\n",
    "source = df[1]['source_title']\n",
    "\n",
    "context = df[1]['context']\n",
    "section = df[1]['section']\n",
    "\n",
    "negative_contexts = literal_eval(df[1]['negative_contexts'])\n",
    "\n",
    "print(f\"SOURCE: {source}\")\n",
    "print(f\"TARGET: {target}\")\n",
    "print(\"###############################################\")\n",
    "print(f\"SECTION: {section}\")\n",
    "print(f\"CONTEXT: {context}\")\n",
    "print(\"###############################################\")\n",
    "print(f\"BETTER CANDIDATES\")\n",
    "print(f\"SECTION: {negative_contexts[-1]['section']}\")\n",
    "print(f\"CONTEXT: {negative_contexts[-1]['context']}\")\n",
    "print(f\"SECTION: {negative_contexts[-2]['section']}\")\n",
    "print(f\"CONTEXT: {negative_contexts[-2]['context']}\")"
   ]
  },
  {
   "cell_type": "code",
   "execution_count": null,
   "metadata": {},
   "outputs": [],
   "source": []
  }
 ],
 "metadata": {
  "kernelspec": {
   "display_name": "wiki_dump",
   "language": "python",
   "name": "python3"
  },
  "language_info": {
   "codemirror_mode": {
    "name": "ipython",
    "version": 3
   },
   "file_extension": ".py",
   "mimetype": "text/x-python",
   "name": "python",
   "nbconvert_exporter": "python",
   "pygments_lexer": "ipython3",
   "version": "3.9.18"
  }
 },
 "nbformat": 4,
 "nbformat_minor": 2
}
