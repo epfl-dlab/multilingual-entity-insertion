{
 "cells": [
  {
   "cell_type": "code",
   "execution_count": 18,
   "metadata": {},
   "outputs": [
    {
     "name": "stdout",
     "output_type": "stream",
     "text": [
      "The autoreload extension is already loaded. To reload it, use:\n",
      "  %reload_ext autoreload\n"
     ]
    }
   ],
   "source": [
    "%load_ext autoreload\n",
    "%autoreload 2"
   ]
  },
  {
   "cell_type": "code",
   "execution_count": 26,
   "metadata": {},
   "outputs": [],
   "source": [
    "import tiktoken\n",
    "import pandas as pd\n",
    "from ast import literal_eval\n",
    "import gpt_pairwise\n",
    "from urllib import parse\n",
    "from tqdm import tqdm\n",
    "import random"
   ]
  },
  {
   "cell_type": "code",
   "execution_count": 20,
   "metadata": {},
   "outputs": [],
   "source": [
    "def fix_title(title):\n",
    "    return parse.unquote(title).replace('_', ' ')\n"
   ]
  },
  {
   "cell_type": "code",
   "execution_count": 21,
   "metadata": {},
   "outputs": [
    {
     "data": {
      "text/html": [
       "<div>\n",
       "<style scoped>\n",
       "    .dataframe tbody tr th:only-of-type {\n",
       "        vertical-align: middle;\n",
       "    }\n",
       "\n",
       "    .dataframe tbody tr th {\n",
       "        vertical-align: top;\n",
       "    }\n",
       "\n",
       "    .dataframe thead th {\n",
       "        text-align: right;\n",
       "    }\n",
       "</style>\n",
       "<table border=\"1\" class=\"dataframe\">\n",
       "  <thead>\n",
       "    <tr style=\"text-align: right;\">\n",
       "      <th></th>\n",
       "      <th>source_title</th>\n",
       "      <th>source_ID</th>\n",
       "      <th>target_title</th>\n",
       "      <th>context</th>\n",
       "      <th>section</th>\n",
       "      <th>mention_present</th>\n",
       "      <th>source_lead</th>\n",
       "      <th>first_version</th>\n",
       "      <th>second_version</th>\n",
       "      <th>direct_match</th>\n",
       "      <th>...</th>\n",
       "      <th>roberta_simple_multilingual</th>\n",
       "      <th>roberta_full_en</th>\n",
       "      <th>roberta_full_multilingual</th>\n",
       "      <th>roberta_dyn_mask_en</th>\n",
       "      <th>roberta_only_expansion_en</th>\n",
       "      <th>roberta_expansion_en</th>\n",
       "      <th>roberta_full_multilingual-all</th>\n",
       "      <th>entqa_rank</th>\n",
       "      <th>get_rank</th>\n",
       "      <th>roberta_dyn_mask_no_neg_en</th>\n",
       "    </tr>\n",
       "  </thead>\n",
       "  <tbody>\n",
       "    <tr>\n",
       "      <th>0</th>\n",
       "      <td>2023%E2%80%9324_AFC_Cup_group_stage</td>\n",
       "      <td>74555776</td>\n",
       "      <td>Hettikamkanamge_Perera</td>\n",
       "      <td>Group A\\nSource: Rules for classification: Gro...</td>\n",
       "      <td>Ranking of runner-up teams</td>\n",
       "      <td>False</td>\n",
       "      <td>AFC Cup group stage\\nThe 2023–24 AFC Cup group...</td>\n",
       "      <td>1178732500</td>\n",
       "      <td>1178733621</td>\n",
       "      <td>True</td>\n",
       "      <td>...</td>\n",
       "      <td>1</td>\n",
       "      <td>1</td>\n",
       "      <td>1</td>\n",
       "      <td>3</td>\n",
       "      <td>1</td>\n",
       "      <td>1</td>\n",
       "      <td>1</td>\n",
       "      <td>3</td>\n",
       "      <td>2</td>\n",
       "      <td>1</td>\n",
       "    </tr>\n",
       "    <tr>\n",
       "      <th>1</th>\n",
       "      <td>Madonna_and_business</td>\n",
       "      <td>75009374</td>\n",
       "      <td>MCI_Group</td>\n",
       "      <td>From 2017 to 2020, Madonna lived in Lisbon, Po...</td>\n",
       "      <td>Commercial impact</td>\n",
       "      <td>False</td>\n",
       "      <td>Aspect of Madonna's career\\nAmerican singer-so...</td>\n",
       "      <td>1179712520</td>\n",
       "      <td>1179715108</td>\n",
       "      <td>False</td>\n",
       "      <td>...</td>\n",
       "      <td>119</td>\n",
       "      <td>21</td>\n",
       "      <td>1</td>\n",
       "      <td>66</td>\n",
       "      <td>30</td>\n",
       "      <td>76</td>\n",
       "      <td>55</td>\n",
       "      <td>107</td>\n",
       "      <td>17</td>\n",
       "      <td>14</td>\n",
       "    </tr>\n",
       "    <tr>\n",
       "      <th>2</th>\n",
       "      <td>2024_UEFA_Women%27s_Under-19_Championship_qual...</td>\n",
       "      <td>74509532</td>\n",
       "      <td>Bulgarian_Football_Union</td>\n",
       "      <td>Source: UEFARules for classification: Qualific...</td>\n",
       "      <td>Round 1</td>\n",
       "      <td>False</td>\n",
       "      <td>International football competition\\nThe 2024 U...</td>\n",
       "      <td>1181645363</td>\n",
       "      <td>1181645710</td>\n",
       "      <td>False</td>\n",
       "      <td>...</td>\n",
       "      <td>12</td>\n",
       "      <td>11</td>\n",
       "      <td>2</td>\n",
       "      <td>39</td>\n",
       "      <td>1</td>\n",
       "      <td>6</td>\n",
       "      <td>1</td>\n",
       "      <td>41</td>\n",
       "      <td>32</td>\n",
       "      <td>19</td>\n",
       "    </tr>\n",
       "    <tr>\n",
       "      <th>3</th>\n",
       "      <td>Racism_in_Quebec</td>\n",
       "      <td>75111544</td>\n",
       "      <td>Bouchard-Taylor_Commission</td>\n",
       "      <td>Historically, there has been a reluctance in Q...</td>\n",
       "      <td>History</td>\n",
       "      <td>True</td>\n",
       "      <td>Prejudice towards immigrants and minorities fr...</td>\n",
       "      <td>1181203098</td>\n",
       "      <td>1181204380</td>\n",
       "      <td>True</td>\n",
       "      <td>...</td>\n",
       "      <td>1</td>\n",
       "      <td>18</td>\n",
       "      <td>1</td>\n",
       "      <td>1</td>\n",
       "      <td>2</td>\n",
       "      <td>3</td>\n",
       "      <td>1</td>\n",
       "      <td>149</td>\n",
       "      <td>1</td>\n",
       "      <td>1</td>\n",
       "    </tr>\n",
       "    <tr>\n",
       "      <th>4</th>\n",
       "      <td>India%27s_Got_Talent_%28season_10%29</td>\n",
       "      <td>71081798</td>\n",
       "      <td>Ravi_Teja</td>\n",
       "      <td>The team with the lowest score goes to the eli...</td>\n",
       "      <td>Elimination Chart</td>\n",
       "      <td>False</td>\n",
       "      <td>Indian TV show\\nThe tenth season of Indian tal...</td>\n",
       "      <td>1180115976</td>\n",
       "      <td>1180221202</td>\n",
       "      <td>True</td>\n",
       "      <td>...</td>\n",
       "      <td>1</td>\n",
       "      <td>5</td>\n",
       "      <td>3</td>\n",
       "      <td>1</td>\n",
       "      <td>3</td>\n",
       "      <td>3</td>\n",
       "      <td>4</td>\n",
       "      <td>10</td>\n",
       "      <td>11</td>\n",
       "      <td>1</td>\n",
       "    </tr>\n",
       "  </tbody>\n",
       "</table>\n",
       "<p>5 rows × 28 columns</p>\n",
       "</div>"
      ],
      "text/plain": [
       "                                        source_title  source_ID  \\\n",
       "0                2023%E2%80%9324_AFC_Cup_group_stage   74555776   \n",
       "1                               Madonna_and_business   75009374   \n",
       "2  2024_UEFA_Women%27s_Under-19_Championship_qual...   74509532   \n",
       "3                                   Racism_in_Quebec   75111544   \n",
       "4               India%27s_Got_Talent_%28season_10%29   71081798   \n",
       "\n",
       "                 target_title  \\\n",
       "0      Hettikamkanamge_Perera   \n",
       "1                   MCI_Group   \n",
       "2    Bulgarian_Football_Union   \n",
       "3  Bouchard-Taylor_Commission   \n",
       "4                   Ravi_Teja   \n",
       "\n",
       "                                             context  \\\n",
       "0  Group A\\nSource: Rules for classification: Gro...   \n",
       "1  From 2017 to 2020, Madonna lived in Lisbon, Po...   \n",
       "2  Source: UEFARules for classification: Qualific...   \n",
       "3  Historically, there has been a reluctance in Q...   \n",
       "4  The team with the lowest score goes to the eli...   \n",
       "\n",
       "                      section  mention_present  \\\n",
       "0  Ranking of runner-up teams            False   \n",
       "1           Commercial impact            False   \n",
       "2                     Round 1            False   \n",
       "3                     History             True   \n",
       "4           Elimination Chart            False   \n",
       "\n",
       "                                         source_lead  first_version  \\\n",
       "0  AFC Cup group stage\\nThe 2023–24 AFC Cup group...     1178732500   \n",
       "1  Aspect of Madonna's career\\nAmerican singer-so...     1179712520   \n",
       "2  International football competition\\nThe 2024 U...     1181645363   \n",
       "3  Prejudice towards immigrants and minorities fr...     1181203098   \n",
       "4  Indian TV show\\nThe tenth season of Indian tal...     1180115976   \n",
       "\n",
       "   second_version  direct_match  ... roberta_simple_multilingual  \\\n",
       "0      1178733621          True  ...                           1   \n",
       "1      1179715108         False  ...                         119   \n",
       "2      1181645710         False  ...                          12   \n",
       "3      1181204380          True  ...                           1   \n",
       "4      1180221202          True  ...                           1   \n",
       "\n",
       "  roberta_full_en roberta_full_multilingual roberta_dyn_mask_en  \\\n",
       "0               1                         1                   3   \n",
       "1              21                         1                  66   \n",
       "2              11                         2                  39   \n",
       "3              18                         1                   1   \n",
       "4               5                         3                   1   \n",
       "\n",
       "   roberta_only_expansion_en  roberta_expansion_en  \\\n",
       "0                          1                     1   \n",
       "1                         30                    76   \n",
       "2                          1                     6   \n",
       "3                          2                     3   \n",
       "4                          3                     3   \n",
       "\n",
       "   roberta_full_multilingual-all  entqa_rank  get_rank  \\\n",
       "0                              1           3         2   \n",
       "1                             55         107        17   \n",
       "2                              1          41        32   \n",
       "3                              1         149         1   \n",
       "4                              4          10        11   \n",
       "\n",
       "   roberta_dyn_mask_no_neg_en  \n",
       "0                           1  \n",
       "1                          14  \n",
       "2                          19  \n",
       "3                           1  \n",
       "4                           1  \n",
       "\n",
       "[5 rows x 28 columns]"
      ]
     },
     "execution_count": 21,
     "metadata": {},
     "output_type": "execute_result"
    }
   ],
   "source": [
    "df = pd.read_parquet('/dlabdata1/tsoares/linkrec-llms/data_modelling/benchmark_multilingual/test_data/en.parquet')\n",
    "df.head(5)"
   ]
  },
  {
   "cell_type": "markdown",
   "metadata": {},
   "source": [
    "# Prompt strategy experiments"
   ]
  },
  {
   "cell_type": "code",
   "execution_count": 22,
   "metadata": {},
   "outputs": [
    {
     "data": {
      "text/html": [
       "<div>\n",
       "<style scoped>\n",
       "    .dataframe tbody tr th:only-of-type {\n",
       "        vertical-align: middle;\n",
       "    }\n",
       "\n",
       "    .dataframe tbody tr th {\n",
       "        vertical-align: top;\n",
       "    }\n",
       "\n",
       "    .dataframe thead th {\n",
       "        text-align: right;\n",
       "    }\n",
       "</style>\n",
       "<table border=\"1\" class=\"dataframe\">\n",
       "  <thead>\n",
       "    <tr style=\"text-align: right;\">\n",
       "      <th></th>\n",
       "      <th>source_title</th>\n",
       "      <th>source_ID</th>\n",
       "      <th>target_title</th>\n",
       "      <th>context</th>\n",
       "      <th>section</th>\n",
       "      <th>mention_present</th>\n",
       "      <th>source_lead</th>\n",
       "      <th>first_version</th>\n",
       "      <th>second_version</th>\n",
       "      <th>direct_match</th>\n",
       "      <th>...</th>\n",
       "      <th>roberta_simple_multilingual</th>\n",
       "      <th>roberta_full_en</th>\n",
       "      <th>roberta_full_multilingual</th>\n",
       "      <th>roberta_dyn_mask_en</th>\n",
       "      <th>roberta_only_expansion_en</th>\n",
       "      <th>roberta_expansion_en</th>\n",
       "      <th>roberta_full_multilingual-all</th>\n",
       "      <th>entqa_rank</th>\n",
       "      <th>get_rank</th>\n",
       "      <th>roberta_dyn_mask_no_neg_en</th>\n",
       "    </tr>\n",
       "  </thead>\n",
       "  <tbody>\n",
       "    <tr>\n",
       "      <th>503</th>\n",
       "      <td>1990_Santos_FC_season</td>\n",
       "      <td>74845591</td>\n",
       "      <td>Santos_FC</td>\n",
       "      <td>Futures v Santos\\nCompetitions Campeonato Paul...</td>\n",
       "      <td>Competitions</td>\n",
       "      <td>True</td>\n",
       "      <td>Santos 1990 football season\\nThe 1990 season w...</td>\n",
       "      <td>1177160232</td>\n",
       "      <td>1177172712</td>\n",
       "      <td>True</td>\n",
       "      <td>...</td>\n",
       "      <td>1</td>\n",
       "      <td>1</td>\n",
       "      <td>1</td>\n",
       "      <td>1</td>\n",
       "      <td>1</td>\n",
       "      <td>1</td>\n",
       "      <td>1</td>\n",
       "      <td>1</td>\n",
       "      <td>1</td>\n",
       "      <td>1</td>\n",
       "    </tr>\n",
       "    <tr>\n",
       "      <th>704</th>\n",
       "      <td>St._Mary%27s_School_%28Knoxville%2C_Illinois%29</td>\n",
       "      <td>74941861</td>\n",
       "      <td>Carrara_marble</td>\n",
       "      <td>Many of the rooms were elaborately furnished. ...</td>\n",
       "      <td>Architecture and fittings</td>\n",
       "      <td>True</td>\n",
       "      <td>St. Mary's School was an American parochial gi...</td>\n",
       "      <td>1177845080</td>\n",
       "      <td>1177845855</td>\n",
       "      <td>True</td>\n",
       "      <td>...</td>\n",
       "      <td>1</td>\n",
       "      <td>6</td>\n",
       "      <td>4</td>\n",
       "      <td>1</td>\n",
       "      <td>3</td>\n",
       "      <td>1</td>\n",
       "      <td>3</td>\n",
       "      <td>6</td>\n",
       "      <td>1</td>\n",
       "      <td>1</td>\n",
       "    </tr>\n",
       "    <tr>\n",
       "      <th>213</th>\n",
       "      <td>2023_Ryder_Cup</td>\n",
       "      <td>58628035</td>\n",
       "      <td>Justin_Thomas</td>\n",
       "      <td>Sunday's matches\\nThe first match between Jon ...</td>\n",
       "      <td>Event summary</td>\n",
       "      <td>True</td>\n",
       "      <td>Men's golf competition between the United Stat...</td>\n",
       "      <td>1178705998</td>\n",
       "      <td>1178710751</td>\n",
       "      <td>True</td>\n",
       "      <td>...</td>\n",
       "      <td>1</td>\n",
       "      <td>1</td>\n",
       "      <td>1</td>\n",
       "      <td>1</td>\n",
       "      <td>1</td>\n",
       "      <td>1</td>\n",
       "      <td>1</td>\n",
       "      <td>30</td>\n",
       "      <td>1</td>\n",
       "      <td>1</td>\n",
       "    </tr>\n",
       "    <tr>\n",
       "      <th>460</th>\n",
       "      <td>2023%E2%80%9324_BG_Pathum_United_F.C._season</td>\n",
       "      <td>73930601</td>\n",
       "      <td>Lamphun_Warriors_F.C.</td>\n",
       "      <td>Appearances and goals\\nAs of 7 Oct 2023\\nCompe...</td>\n",
       "      <td>Competitions</td>\n",
       "      <td>True</td>\n",
       "      <td>Association football season\\nBG Pathum United ...</td>\n",
       "      <td>1180432149</td>\n",
       "      <td>1180436472</td>\n",
       "      <td>True</td>\n",
       "      <td>...</td>\n",
       "      <td>1</td>\n",
       "      <td>1</td>\n",
       "      <td>1</td>\n",
       "      <td>1</td>\n",
       "      <td>1</td>\n",
       "      <td>1</td>\n",
       "      <td>1</td>\n",
       "      <td>3</td>\n",
       "      <td>1</td>\n",
       "      <td>1</td>\n",
       "    </tr>\n",
       "    <tr>\n",
       "      <th>652</th>\n",
       "      <td>Caitlin_Clark</td>\n",
       "      <td>67294481</td>\n",
       "      <td>DePaul_Blue_Demons_women%27s_basketball</td>\n",
       "      <td>She was a unanimous first-team All-American fo...</td>\n",
       "      <td>College career</td>\n",
       "      <td>True</td>\n",
       "      <td>American basketball player (born 2002)\\nThis a...</td>\n",
       "      <td>1180331455</td>\n",
       "      <td>1180331635</td>\n",
       "      <td>True</td>\n",
       "      <td>...</td>\n",
       "      <td>1</td>\n",
       "      <td>2</td>\n",
       "      <td>1</td>\n",
       "      <td>1</td>\n",
       "      <td>1</td>\n",
       "      <td>2</td>\n",
       "      <td>1</td>\n",
       "      <td>7</td>\n",
       "      <td>10</td>\n",
       "      <td>2</td>\n",
       "    </tr>\n",
       "  </tbody>\n",
       "</table>\n",
       "<p>5 rows × 28 columns</p>\n",
       "</div>"
      ],
      "text/plain": [
       "                                        source_title  source_ID  \\\n",
       "503                            1990_Santos_FC_season   74845591   \n",
       "704  St._Mary%27s_School_%28Knoxville%2C_Illinois%29   74941861   \n",
       "213                                   2023_Ryder_Cup   58628035   \n",
       "460     2023%E2%80%9324_BG_Pathum_United_F.C._season   73930601   \n",
       "652                                    Caitlin_Clark   67294481   \n",
       "\n",
       "                                target_title  \\\n",
       "503                                Santos_FC   \n",
       "704                           Carrara_marble   \n",
       "213                            Justin_Thomas   \n",
       "460                    Lamphun_Warriors_F.C.   \n",
       "652  DePaul_Blue_Demons_women%27s_basketball   \n",
       "\n",
       "                                               context  \\\n",
       "503  Futures v Santos\\nCompetitions Campeonato Paul...   \n",
       "704  Many of the rooms were elaborately furnished. ...   \n",
       "213  Sunday's matches\\nThe first match between Jon ...   \n",
       "460  Appearances and goals\\nAs of 7 Oct 2023\\nCompe...   \n",
       "652  She was a unanimous first-team All-American fo...   \n",
       "\n",
       "                       section  mention_present  \\\n",
       "503               Competitions             True   \n",
       "704  Architecture and fittings             True   \n",
       "213              Event summary             True   \n",
       "460               Competitions             True   \n",
       "652             College career             True   \n",
       "\n",
       "                                           source_lead  first_version  \\\n",
       "503  Santos 1990 football season\\nThe 1990 season w...     1177160232   \n",
       "704  St. Mary's School was an American parochial gi...     1177845080   \n",
       "213  Men's golf competition between the United Stat...     1178705998   \n",
       "460  Association football season\\nBG Pathum United ...     1180432149   \n",
       "652  American basketball player (born 2002)\\nThis a...     1180331455   \n",
       "\n",
       "     second_version  direct_match  ... roberta_simple_multilingual  \\\n",
       "503      1177172712          True  ...                           1   \n",
       "704      1177845855          True  ...                           1   \n",
       "213      1178710751          True  ...                           1   \n",
       "460      1180436472          True  ...                           1   \n",
       "652      1180331635          True  ...                           1   \n",
       "\n",
       "    roberta_full_en roberta_full_multilingual roberta_dyn_mask_en  \\\n",
       "503               1                         1                   1   \n",
       "704               6                         4                   1   \n",
       "213               1                         1                   1   \n",
       "460               1                         1                   1   \n",
       "652               2                         1                   1   \n",
       "\n",
       "     roberta_only_expansion_en  roberta_expansion_en  \\\n",
       "503                          1                     1   \n",
       "704                          3                     1   \n",
       "213                          1                     1   \n",
       "460                          1                     1   \n",
       "652                          1                     2   \n",
       "\n",
       "     roberta_full_multilingual-all  entqa_rank  get_rank  \\\n",
       "503                              1           1         1   \n",
       "704                              3           6         1   \n",
       "213                              1          30         1   \n",
       "460                              1           3         1   \n",
       "652                              1           7        10   \n",
       "\n",
       "     roberta_dyn_mask_no_neg_en  \n",
       "503                           1  \n",
       "704                           1  \n",
       "213                           1  \n",
       "460                           1  \n",
       "652                           2  \n",
       "\n",
       "[5 rows x 28 columns]"
      ]
     },
     "execution_count": 22,
     "metadata": {},
     "output_type": "execute_result"
    }
   ],
   "source": [
    "df_test = df[df['missing_category'].isna()].sample(5)\n",
    "df_test"
   ]
  },
  {
   "cell_type": "code",
   "execution_count": 23,
   "metadata": {},
   "outputs": [
    {
     "name": "stderr",
     "output_type": "stream",
     "text": [
      "100%|██████████| 5/5 [00:00<00:00, 192.82it/s]"
     ]
    },
    {
     "name": "stdout",
     "output_type": "stream",
     "text": [
      "Generated 480 contexts for language\n"
     ]
    },
    {
     "name": "stderr",
     "output_type": "stream",
     "text": [
      "\n"
     ]
    }
   ],
   "source": [
    "# prepare the inputs\n",
    "target_titles = df_test['target_title'].apply(fix_title).tolist()\n",
    "target_leads = df_test['target_lead'].to_list()\n",
    "\n",
    "target_pages = [{'target_title': title,\n",
    "'target_lead': lead} for title, lead in zip(target_titles, target_leads)]\n",
    "\n",
    "df_rows = df_test.to_dict('records')\n",
    "all_contexts = []\n",
    "counter = 0\n",
    "for row in tqdm(df_rows):\n",
    "    positive_context = {'section_title': row['section'],\n",
    "                        'link_context': row['context']}\n",
    "    negative_contexts = literal_eval(row['negative_contexts'])\n",
    "    row_contexts = []\n",
    "    for context in negative_contexts:\n",
    "        negative_context = {'section_title': context['section'],\n",
    "                            'link_context': context['context']}\n",
    "        row_contexts.append([[positive_context, negative_context], [negative_context, positive_context]])\n",
    "        counter += 2\n",
    "    all_contexts.append(row_contexts)\n",
    "\n",
    "print(f'Generated {counter} contexts for language')"
   ]
  },
  {
   "cell_type": "markdown",
   "metadata": {},
   "source": [
    "# PROMPT EXPERIMENTS"
   ]
  },
  {
   "cell_type": "code",
   "execution_count": 24,
   "metadata": {},
   "outputs": [],
   "source": [
    "gpt_results = {}"
   ]
  },
  {
   "cell_type": "markdown",
   "metadata": {},
   "source": [
    "## Prompt Strategy 1"
   ]
  },
  {
   "cell_type": "code",
   "execution_count": 25,
   "metadata": {},
   "outputs": [
    {
     "name": "stderr",
     "output_type": "stream",
     "text": [
      "0 / 2:   0%|          | 0/5 [00:00<?, ?it/s]"
     ]
    },
    {
     "name": "stderr",
     "output_type": "stream",
     "text": [
      "107 / 108: 100%|██████████| 5/5 [08:32<00:00, 102.40s/it]\n"
     ]
    }
   ],
   "source": [
    "gpt_results['1'] = [] \n",
    "for (target_page, contexts) in (pbar := tqdm(zip(target_pages, all_contexts), total=len(target_pages))):\n",
    "    gpt_results['1'].append([])\n",
    "    for i, context_pair in enumerate(contexts):\n",
    "        pbar.set_description(f'{i} / {len(contexts)}')\n",
    "        answers = []\n",
    "        for context in context_pair:\n",
    "            result = gpt_pairwise.get_best_candidate(context, target_page, 'gpt-3.5-turbo-0125', prompt_type=1)\n",
    "            if result == None:\n",
    "                print('ERROR')\n",
    "                answers.append(None)\n",
    "            else:\n",
    "                answers.append(result.choices[0].message.content)\n",
    "        gpt_results['1'][-1].append(answers)"
   ]
  },
  {
   "cell_type": "code",
   "execution_count": 27,
   "metadata": {},
   "outputs": [
    {
     "name": "stdout",
     "output_type": "stream",
     "text": [
      "203 36 1\n",
      "[1, 1, 23, 1, 2]\n"
     ]
    }
   ],
   "source": [
    "positions = []\n",
    "successes = 0\n",
    "ties = 0\n",
    "fails = 0\n",
    "for results in gpt_results['1']:\n",
    "    position = 1\n",
    "    tied = 0\n",
    "    # results = results.replace('{{', '').replace('}}', '')\n",
    "    # results = literal_eval(results)\n",
    "    for result in results:\n",
    "        simple_result = []\n",
    "        if 'Passage A' in result[0] and 'Passage B' not in result[0]:\n",
    "            simple_result.append('A')\n",
    "        elif 'Passage B' in result[0] and 'Passage A' not in result[0]:\n",
    "            simple_result.append('B')\n",
    "        else:\n",
    "            simple_result.append(result[0])\n",
    "        \n",
    "        if 'Passage A' in result[1] and 'Passage B' not in result[1]:\n",
    "            simple_result.append('A')\n",
    "        elif 'Passage B' in result[1] and 'Passage A' not in result[1]:\n",
    "            simple_result.append('B')\n",
    "        else:\n",
    "            simple_result.append(result[1])\n",
    "        \n",
    "        \n",
    "        if simple_result == ['B', 'B'] or simple_result == ['A', 'A']:\n",
    "            tied += 1\n",
    "            ties += 1\n",
    "        elif simple_result == ['A', 'B']:\n",
    "            successes += 1\n",
    "            continue\n",
    "        elif simple_result == ['B', 'A']:\n",
    "            position += 1\n",
    "            fails += 1\n",
    "        else:\n",
    "            print(result)\n",
    "    positions.append(position + random.randint(0, tied))\n",
    "print(successes, ties, fails)\n",
    "print(positions)\n"
   ]
  },
  {
   "cell_type": "markdown",
   "metadata": {},
   "source": [
    "# Prompt Strategy 2"
   ]
  },
  {
   "cell_type": "code",
   "execution_count": 28,
   "metadata": {},
   "outputs": [
    {
     "name": "stderr",
     "output_type": "stream",
     "text": [
      "107 / 108: 100%|██████████| 5/5 [08:13<00:00, 98.77s/it] \n"
     ]
    }
   ],
   "source": [
    "gpt_results['2'] = [] \n",
    "for (target_page, contexts) in (pbar := tqdm(zip(target_pages, all_contexts), total=len(target_pages))):\n",
    "    gpt_results['2'].append([])\n",
    "    for i, context_pair in enumerate(contexts):\n",
    "        pbar.set_description(f'{i} / {len(contexts)}')\n",
    "        answers = []\n",
    "        for context in context_pair:\n",
    "            result = gpt_pairwise.get_best_candidate(context, target_page, 'gpt-3.5-turbo-0125', prompt_type=1)\n",
    "            if result == None:\n",
    "                print('ERROR')\n",
    "                answers.append(None)\n",
    "            else:\n",
    "                answers.append(result.choices[0].message.content)\n",
    "        gpt_results['2'][-1].append(answers)"
   ]
  },
  {
   "cell_type": "code",
   "execution_count": 29,
   "metadata": {},
   "outputs": [
    {
     "name": "stdout",
     "output_type": "stream",
     "text": [
      "200 40 0\n",
      "[2, 1, 11, 1, 10]\n"
     ]
    }
   ],
   "source": [
    "positions = []\n",
    "successes = 0\n",
    "ties = 0\n",
    "fails = 0\n",
    "for results in gpt_results['2']:\n",
    "    position = 1\n",
    "    tied = 0\n",
    "    # results = results.replace('{{', '').replace('}}', '')\n",
    "    # results = literal_eval(results)\n",
    "    for result in results:\n",
    "        simple_result = []\n",
    "        if 'Passage A' in result[0] and 'Passage B' not in result[0]:\n",
    "            simple_result.append('A')\n",
    "        elif 'Passage B' in result[0] and 'Passage A' not in result[0]:\n",
    "            simple_result.append('B')\n",
    "        else:\n",
    "            simple_result.append(result[0])\n",
    "        \n",
    "        if 'Passage A' in result[1] and 'Passage B' not in result[1]:\n",
    "            simple_result.append('A')\n",
    "        elif 'Passage B' in result[1] and 'Passage A' not in result[1]:\n",
    "            simple_result.append('B')\n",
    "        else:\n",
    "            simple_result.append(result[1])\n",
    "        \n",
    "        \n",
    "        if simple_result == ['B', 'B'] or simple_result == ['A', 'A']:\n",
    "            tied += 1\n",
    "            ties += 1\n",
    "        elif simple_result == ['A', 'B']:\n",
    "            successes += 1\n",
    "            continue\n",
    "        elif simple_result == ['B', 'A']:\n",
    "            position += 1\n",
    "            fails += 1\n",
    "        else:\n",
    "            print(result)\n",
    "    positions.append(position + random.randint(0, tied))\n",
    "print(successes, ties, fails)\n",
    "print(positions)\n"
   ]
  },
  {
   "cell_type": "markdown",
   "metadata": {},
   "source": [
    "# Prompt Strategy 3"
   ]
  },
  {
   "cell_type": "code",
   "execution_count": 30,
   "metadata": {},
   "outputs": [
    {
     "name": "stderr",
     "output_type": "stream",
     "text": [
      "107 / 108: 100%|██████████| 5/5 [08:26<00:00, 101.27s/it]\n"
     ]
    }
   ],
   "source": [
    "gpt_results['3'] = [] \n",
    "for (target_page, contexts) in (pbar := tqdm(zip(target_pages, all_contexts), total=len(target_pages))):\n",
    "    gpt_results['3'].append([])\n",
    "    for i, context_pair in enumerate(contexts):\n",
    "        pbar.set_description(f'{i} / {len(contexts)}')\n",
    "        answers = []\n",
    "        for context in context_pair:\n",
    "            result = gpt_pairwise.get_best_candidate(context, target_page, 'gpt-3.5-turbo-0125', prompt_type=1)\n",
    "            if result == None:\n",
    "                print('ERROR')\n",
    "                answers.append(None)\n",
    "            else:\n",
    "                answers.append(result.choices[0].message.content)\n",
    "        gpt_results['3'][-1].append(answers)"
   ]
  },
  {
   "cell_type": "code",
   "execution_count": 31,
   "metadata": {},
   "outputs": [
    {
     "name": "stdout",
     "output_type": "stream",
     "text": [
      "205 34 1\n",
      "[2, 1, 24, 1, 1]\n"
     ]
    }
   ],
   "source": [
    "positions = []\n",
    "successes = 0\n",
    "ties = 0\n",
    "fails = 0\n",
    "for results in gpt_results['3']:\n",
    "    position = 1\n",
    "    tied = 0\n",
    "    # results = results.replace('{{', '').replace('}}', '')\n",
    "    # results = literal_eval(results)\n",
    "    for result in results:\n",
    "        simple_result = []\n",
    "        if 'Passage A' in result[0] and 'Passage B' not in result[0]:\n",
    "            simple_result.append('A')\n",
    "        elif 'Passage B' in result[0] and 'Passage A' not in result[0]:\n",
    "            simple_result.append('B')\n",
    "        else:\n",
    "            simple_result.append(result[0])\n",
    "        \n",
    "        if 'Passage A' in result[1] and 'Passage B' not in result[1]:\n",
    "            simple_result.append('A')\n",
    "        elif 'Passage B' in result[1] and 'Passage A' not in result[1]:\n",
    "            simple_result.append('B')\n",
    "        else:\n",
    "            simple_result.append(result[1])\n",
    "        \n",
    "        \n",
    "        if simple_result == ['B', 'B'] or simple_result == ['A', 'A']:\n",
    "            tied += 1\n",
    "            ties += 1\n",
    "        elif simple_result == ['A', 'B']:\n",
    "            successes += 1\n",
    "            continue\n",
    "        elif simple_result == ['B', 'A']:\n",
    "            position += 1\n",
    "            fails += 1\n",
    "        else:\n",
    "            print(result)\n",
    "    positions.append(position + random.randint(0, tied))\n",
    "print(successes, ties, fails)\n",
    "print(positions)"
   ]
  },
  {
   "cell_type": "markdown",
   "metadata": {},
   "source": [
    "# Prompt Strategy 4"
   ]
  },
  {
   "cell_type": "code",
   "execution_count": 32,
   "metadata": {},
   "outputs": [
    {
     "name": "stderr",
     "output_type": "stream",
     "text": [
      "107 / 108: 100%|██████████| 5/5 [07:55<00:00, 95.05s/it] \n"
     ]
    }
   ],
   "source": [
    "gpt_results['4'] = [] \n",
    "for (target_page, contexts) in (pbar := tqdm(zip(target_pages, all_contexts), total=len(target_pages))):\n",
    "    gpt_results['4'].append([])\n",
    "    for i, context_pair in enumerate(contexts):\n",
    "        pbar.set_description(f'{i} / {len(contexts)}')\n",
    "        answers = []\n",
    "        for context in context_pair:\n",
    "            result = gpt_pairwise.get_best_candidate(context, target_page, 'gpt-3.5-turbo-0125', prompt_type=1)\n",
    "            if result == None:\n",
    "                print('ERROR')\n",
    "                answers.append(None)\n",
    "            else:\n",
    "                answers.append(result.choices[0].message.content)\n",
    "        gpt_results['4'][-1].append(answers)"
   ]
  },
  {
   "cell_type": "code",
   "execution_count": 33,
   "metadata": {},
   "outputs": [
    {
     "name": "stdout",
     "output_type": "stream",
     "text": [
      "205 34 1\n",
      "[2, 1, 14, 1, 1]\n"
     ]
    }
   ],
   "source": [
    "positions = []\n",
    "successes = 0\n",
    "ties = 0\n",
    "fails = 0\n",
    "for results in gpt_results['4']:\n",
    "    position = 1\n",
    "    tied = 0\n",
    "    # results = results.replace('{{', '').replace('}}', '')\n",
    "    # results = literal_eval(results)\n",
    "    for result in results:\n",
    "        simple_result = []\n",
    "        if 'Passage A' in result[0] and 'Passage B' not in result[0]:\n",
    "            simple_result.append('A')\n",
    "        elif 'Passage B' in result[0] and 'Passage A' not in result[0]:\n",
    "            simple_result.append('B')\n",
    "        else:\n",
    "            simple_result.append(result[0])\n",
    "        \n",
    "        if 'Passage A' in result[1] and 'Passage B' not in result[1]:\n",
    "            simple_result.append('A')\n",
    "        elif 'Passage B' in result[1] and 'Passage A' not in result[1]:\n",
    "            simple_result.append('B')\n",
    "        else:\n",
    "            simple_result.append(result[1])\n",
    "        \n",
    "        \n",
    "        if simple_result == ['B', 'B'] or simple_result == ['A', 'A']:\n",
    "            tied += 1\n",
    "            ties += 1\n",
    "        elif simple_result == ['A', 'B']:\n",
    "            successes += 1\n",
    "            continue\n",
    "        elif simple_result == ['B', 'A']:\n",
    "            position += 1\n",
    "            fails += 1\n",
    "        else:\n",
    "            print(result)\n",
    "    positions.append(position + random.randint(0, tied))\n",
    "print(successes, ties, fails)\n",
    "print(positions)"
   ]
  },
  {
   "cell_type": "markdown",
   "metadata": {},
   "source": [
    "# Prompt Strategy 5"
   ]
  },
  {
   "cell_type": "code",
   "execution_count": 34,
   "metadata": {},
   "outputs": [
    {
     "name": "stderr",
     "output_type": "stream",
     "text": [
      "107 / 108: 100%|██████████| 5/5 [06:39<00:00, 79.97s/it]\n"
     ]
    }
   ],
   "source": [
    "gpt_results['5'] = [] \n",
    "for (target_page, contexts) in (pbar := tqdm(zip(target_pages, all_contexts), total=len(target_pages))):\n",
    "    gpt_results['5'].append([])\n",
    "    for i, context_pair in enumerate(contexts):\n",
    "        pbar.set_description(f'{i} / {len(contexts)}')\n",
    "        answers = []\n",
    "        for context in context_pair:\n",
    "            result = gpt_pairwise.get_best_candidate(context, target_page, 'gpt-3.5-turbo-0125', prompt_type=1)\n",
    "            if result == None:\n",
    "                print('ERROR')\n",
    "                answers.append(None)\n",
    "            else:\n",
    "                answers.append(result.choices[0].message.content)\n",
    "        gpt_results['5'][-1].append(answers)"
   ]
  },
  {
   "cell_type": "code",
   "execution_count": 35,
   "metadata": {},
   "outputs": [
    {
     "name": "stdout",
     "output_type": "stream",
     "text": [
      "201 38 1\n",
      "[2, 1, 14, 1, 1]\n"
     ]
    }
   ],
   "source": [
    "positions = []\n",
    "successes = 0\n",
    "ties = 0\n",
    "fails = 0\n",
    "for results in gpt_results['5']:\n",
    "    position = 1\n",
    "    tied = 0\n",
    "    # results = results.replace('{{', '').replace('}}', '')\n",
    "    # results = literal_eval(results)\n",
    "    for result in results:\n",
    "        simple_result = []\n",
    "        if 'Passage A' in result[0] and 'Passage B' not in result[0]:\n",
    "            simple_result.append('A')\n",
    "        elif 'Passage B' in result[0] and 'Passage A' not in result[0]:\n",
    "            simple_result.append('B')\n",
    "        else:\n",
    "            simple_result.append(result[0])\n",
    "        \n",
    "        if 'Passage A' in result[1] and 'Passage B' not in result[1]:\n",
    "            simple_result.append('A')\n",
    "        elif 'Passage B' in result[1] and 'Passage A' not in result[1]:\n",
    "            simple_result.append('B')\n",
    "        else:\n",
    "            simple_result.append(result[1])\n",
    "        \n",
    "        \n",
    "        if simple_result == ['B', 'B'] or simple_result == ['A', 'A']:\n",
    "            tied += 1\n",
    "            ties += 1\n",
    "        elif simple_result == ['A', 'B']:\n",
    "            successes += 1\n",
    "            continue\n",
    "        elif simple_result == ['B', 'A']:\n",
    "            position += 1\n",
    "            fails += 1\n",
    "        else:\n",
    "            print(result)\n",
    "    positions.append(position + random.randint(0, tied))\n",
    "print(successes, ties, fails)\n",
    "print(positions)"
   ]
  },
  {
   "cell_type": "markdown",
   "metadata": {},
   "source": [
    "# Strategy 2 with GPT-4"
   ]
  },
  {
   "cell_type": "code",
   "execution_count": 36,
   "metadata": {},
   "outputs": [
    {
     "name": "stderr",
     "output_type": "stream",
     "text": [
      "25 / 46:  20%|██        | 1/5 [03:53<01:34, 23.61s/it]"
     ]
    },
    {
     "name": "stdout",
     "output_type": "stream",
     "text": [
      "ERROR\n"
     ]
    },
    {
     "name": "stderr",
     "output_type": "stream",
     "text": [
      "32 / 46:  20%|██        | 1/5 [06:27<01:34, 23.61s/it]"
     ]
    },
    {
     "name": "stdout",
     "output_type": "stream",
     "text": [
      "ERROR\n"
     ]
    },
    {
     "name": "stderr",
     "output_type": "stream",
     "text": [
      "1 / 81:  40%|████      | 2/5 [11:36<18:52, 377.52s/it] "
     ]
    },
    {
     "name": "stdout",
     "output_type": "stream",
     "text": [
      "ERROR\n"
     ]
    },
    {
     "name": "stderr",
     "output_type": "stream",
     "text": [
      "107 / 108: 100%|██████████| 5/5 [23:11<00:00, 278.37s/it]\n"
     ]
    }
   ],
   "source": [
    "gpt_results['2-GPT4'] = [] \n",
    "for (target_page, contexts) in (pbar := tqdm(zip(target_pages, all_contexts), total=len(target_pages))):\n",
    "    gpt_results['2-GPT4'].append([])\n",
    "    for i, context_pair in enumerate(contexts):\n",
    "        pbar.set_description(f'{i} / {len(contexts)}')\n",
    "        answers = []\n",
    "        for context in context_pair:\n",
    "            result = gpt_pairwise.get_best_candidate(context, target_page, 'gpt-4-0125-preview', prompt_type=1)\n",
    "            if result == None:\n",
    "                print('ERROR')\n",
    "                answers.append(None)\n",
    "            else:\n",
    "                answers.append(result.choices[0].message.content)\n",
    "        gpt_results['2-GPT4'][-1].append(answers)"
   ]
  },
  {
   "cell_type": "code",
   "execution_count": 38,
   "metadata": {},
   "outputs": [
    {
     "name": "stdout",
     "output_type": "stream",
     "text": [
      "237 0 0\n",
      "[1, 1, 1, 1, 1]\n"
     ]
    }
   ],
   "source": [
    "positions = []\n",
    "successes = 0\n",
    "ties = 0\n",
    "fails = 0\n",
    "for results in gpt_results['2-GPT4']:\n",
    "    position = 1\n",
    "    tied = 0\n",
    "    # results = results.replace('{{', '').replace('}}', '')\n",
    "    # results = literal_eval(results)\n",
    "    for result in results:\n",
    "        simple_result = []\n",
    "        if result[0] is None or result[1] is None:\n",
    "            continue\n",
    "        if 'Passage A' in result[0] and 'Passage B' not in result[0]:\n",
    "            simple_result.append('A')\n",
    "        elif 'Passage B' in result[0] and 'Passage A' not in result[0]:\n",
    "            simple_result.append('B')\n",
    "        else:\n",
    "            simple_result.append(result[0])\n",
    "        \n",
    "        if 'Passage A' in result[1] and 'Passage B' not in result[1]:\n",
    "            simple_result.append('A')\n",
    "        elif 'Passage B' in result[1] and 'Passage A' not in result[1]:\n",
    "            simple_result.append('B')\n",
    "        else:\n",
    "            simple_result.append(result[1])\n",
    "        \n",
    "        \n",
    "        if simple_result == ['B', 'B'] or simple_result == ['A', 'A']:\n",
    "            tied += 1\n",
    "            ties += 1\n",
    "        elif simple_result == ['A', 'B']:\n",
    "            successes += 1\n",
    "            continue\n",
    "        elif simple_result == ['B', 'A']:\n",
    "            position += 1\n",
    "            fails += 1\n",
    "        else:\n",
    "            print(result)\n",
    "    positions.append(position + random.randint(0, tied))\n",
    "print(successes, ties, fails)\n",
    "print(positions)"
   ]
  },
  {
   "cell_type": "code",
   "execution_count": null,
   "metadata": {},
   "outputs": [],
   "source": []
  }
 ],
 "metadata": {
  "kernelspec": {
   "display_name": "wiki_dump",
   "language": "python",
   "name": "python3"
  },
  "language_info": {
   "codemirror_mode": {
    "name": "ipython",
    "version": 3
   },
   "file_extension": ".py",
   "mimetype": "text/x-python",
   "name": "python",
   "nbconvert_exporter": "python",
   "pygments_lexer": "ipython3",
   "version": "3.9.18"
  }
 },
 "nbformat": 4,
 "nbformat_minor": 2
}
