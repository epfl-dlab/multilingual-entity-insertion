{
 "cells": [
  {
   "cell_type": "code",
   "execution_count": 1,
   "metadata": {},
   "outputs": [],
   "source": [
    "import pandas as pd\n",
    "from ast import literal_eval\n",
    "import random\n",
    "import numpy as np"
   ]
  },
  {
   "cell_type": "code",
   "execution_count": 2,
   "metadata": {},
   "outputs": [],
   "source": [
    "langs = [\"af\", \"fr\", \"ga\", \"gu\", \"kk\", \"ms\", \"pt\", \"simple\", \"sk\", \"en\"]"
   ]
  },
  {
   "cell_type": "code",
   "execution_count": 3,
   "metadata": {},
   "outputs": [
    {
     "data": {
      "text/plain": [
       "dict_keys(['af', 'fr', 'ga', 'gu', 'kk', 'ms', 'pt', 'simple', 'sk', 'en'])"
      ]
     },
     "execution_count": 3,
     "metadata": {},
     "output_type": "execute_result"
    }
   ],
   "source": [
    "dfs = {}\n",
    "for lang in langs:\n",
    "    try:\n",
    "        dfs[lang] = pd.read_parquet(f'test_data/{lang}_gpt.parquet')\n",
    "    except:\n",
    "        pass\n",
    "dfs.keys()"
   ]
  },
  {
   "cell_type": "code",
   "execution_count": 4,
   "metadata": {},
   "outputs": [
    {
     "data": {
      "text/plain": [
       "Index(['source_title', 'source_ID', 'target_title', 'context', 'section',\n",
       "       'mention_present', 'source_lead', 'first_version', 'second_version',\n",
       "       'direct_match', 'missing_category', 'negative_contexts',\n",
       "       'current_links', 'target_lead', 'random_rank', 'bm25_mentions_rank',\n",
       "       'fuzzy_match_rank', 'roberta_simple_pt', 'roberta_simple_multilingual',\n",
       "       'roberta_full_pt', 'roberta_full_multilingual', 'roberta_dyn_mask_pt',\n",
       "       'roberta_only_expansion_pt', 'roberta_expansion_pt',\n",
       "       'roberta_full_multilingual-all', 'roberta_dyn_mask_no_neg_pt',\n",
       "       'gpt_outputs_25_cands', 'gpt_4_outputs_25_cands'],\n",
       "      dtype='object')"
      ]
     },
     "execution_count": 4,
     "metadata": {},
     "output_type": "execute_result"
    }
   ],
   "source": [
    "dfs['pt'].columns"
   ]
  },
  {
   "cell_type": "markdown",
   "metadata": {},
   "source": [
    "# Get GPT scores"
   ]
  },
  {
   "cell_type": "markdown",
   "metadata": {},
   "source": [
    "## All candidates"
   ]
  },
  {
   "cell_type": "code",
   "execution_count": 5,
   "metadata": {},
   "outputs": [],
   "source": [
    "def evaluate_results(outputs):\n",
    "    positions = []\n",
    "    for output in outputs:\n",
    "        position = 1\n",
    "        tied = 0\n",
    "        results = literal_eval(output)\n",
    "        for result in results:\n",
    "            if result[0] is None or result[1] is None:\n",
    "                tied += 1\n",
    "                continue\n",
    "            simple_result = []\n",
    "            if 'Passage A' in result[0] and 'Passage B' not in result[0]:\n",
    "                simple_result.append('A')\n",
    "            elif 'Passage B' in result[0] and 'Passage A' not in result[0]:\n",
    "                simple_result.append('B')\n",
    "            else:\n",
    "                simple_result.append(result[0])\n",
    "\n",
    "            if 'Passage A' in result[1] and 'Passage B' not in result[1]:\n",
    "                simple_result.append('A')\n",
    "            elif 'Passage B' in result[1] and 'Passage A' not in result[1]:\n",
    "                simple_result.append('B')\n",
    "            else:\n",
    "                simple_result.append(result[1])\n",
    "            \n",
    "            if simple_result == ['B', 'B'] or simple_result == ['A', 'A']:\n",
    "                tied += 1\n",
    "            elif simple_result == ['A', 'B']:\n",
    "                continue\n",
    "            elif simple_result == ['B', 'A']:\n",
    "                position += 1\n",
    "            else:\n",
    "                tied += 1\n",
    "                print(result)\n",
    "        positions.append(position + tied // 2)\n",
    "    return positions"
   ]
  },
  {
   "cell_type": "code",
   "execution_count": 6,
   "metadata": {},
   "outputs": [],
   "source": [
    "scores = {lang: {model: {metric: {category: None for category in ['all', 'present', 'missing']} for metric in ['mrr', 'hits@1']} for model in ['gpt-3', 'gpt-4']} for lang in langs}"
   ]
  },
  {
   "cell_type": "code",
   "execution_count": 7,
   "metadata": {},
   "outputs": [
    {
     "name": "stdout",
     "output_type": "stream",
     "text": [
      "['Neither Passage A nor Passage B is relevant for inserting a mention to the query entity.', '{{Passage B}}']\n",
      "['Neither passage is relevant for inserting a mention to the query entity, Lemoen.', '{{Passage A}}']\n",
      "[\"Since Passage A and Passage B are identical and do not contain any direct relevance to the year 2023 or related events, it's impossible to determine a more suitable passage based solely on the information provided. Therefore, any choice would be arbitrary. However, since a choice is required, I will select:\\n\\n{{Passage A}}\", '{{Passage A}}']\n",
      "['Neither Passage A nor Passage B', 'Neither Passage A nor Passage B is relevant for inserting a mention to the query entity \"China.\"']\n",
      "['Neither Passage A nor Passage B', '{{Passage A}}']\n",
      "['Passage A', 'Neither passage is relevant for the query entity.']\n",
      "['Neither Passage A nor Passage B is relevant for inserting a mention to the query entity.', '{{Passage A}}']\n",
      "['Neither Passage A nor Passage B', 'Passage A']\n",
      "['Neither passage is relevant for inserting a mention to the query entity. ', '{{Passage A}}']\n",
      "['Neither Passage A nor Passage B is relevant for a mention of the query entity.', '{{Passage A}}']\n",
      "[\"Neither Passage A nor Passage B is relevant for inserting a mention to the query entity, Championnat d'Europe féminin de football 2022.\", 'Neither Passage A nor Passage B']\n",
      "[\"Neither Passage A nor Passage B is relevant for inserting a mention to the query entity, Championnat d'Europe féminin de football 2022.\", 'Neither Passage A nor Passage B']\n",
      "['Neither Passage A nor Passage B', 'Passage A']\n",
      "['Neither Passage A nor Passage B', '{{Passage A}}']\n",
      "['Neither Passage A nor Passage B', '{{Passage A}}']\n",
      "['Passage B', 'None']\n",
      "['Neither Passage A nor Passage B', 'Neither Passage A nor Passage B']\n",
      "['Passage A', 'None']\n",
      "['Neither Passage A nor Passage B', 'Passage A']\n",
      "['{{Passage A}}', 'Neither {{Passage A}} nor {{Passage B}} is relevant for inserting a mention to the query entity.']\n",
      "['{{Passage A}}', 'Neither passage is relevant for inserting a mention to the query entity.']\n",
      "['Passage A', 'Neither Passage A nor Passage B is relevant for inserting a mention to the query entity \"Précambrien.\"']\n",
      "['{{Passage A}}', 'Neither Passage A nor Passage B']\n",
      "['Neither passage is relevant for inserting a mention to the query entity, Muir Mharmara.', '{{Passage A}}']\n",
      "['{{Passage B}}', 'None']\n",
      "['Neither Passage A nor Passage B is relevant for inserting a mention to the query entity, An Chróit.', 'Passage A']\n",
      "['None of the passages are relevant for inserting a mention to the query entity, \"An Chróit.\"', 'Passage A']\n",
      "['Neither passage is relevant for inserting a mention to the query entity, An Chróit.', '{{Passage A}}']\n",
      "['None', '{{Passage A}}']\n",
      "['None', '{{Passage A}}']\n",
      "['Neither Passage A nor Passage B is relevant for inserting a mention to the query entity, An Chróit.', '{{Passage A}}']\n",
      "['None', 'Passage A']\n",
      "['Neither Passage A nor Passage B are relevant for inserting a mention to the query entity.', 'Neither passage is relevant for inserting a mention to the query entity, An Chróit.']\n",
      "['Passage A', 'Neither passage is relevant for inserting a mention to the query entity.']\n",
      "['Neither Passage A nor Passage B are relevant for inserting a mention to the query entity.', '{{Passage A}}']\n",
      "['{{Passage A}}', 'Neither {{Passage A}} nor {{Passage B}} is relevant for inserting a mention to the query entity.']\n",
      "['{{Passage A}}', 'Neither {{Passage A}} nor {{Passage B}} are relevant for inserting a mention to the query entity.']\n",
      "['Neither {{Passage A}} nor {{Passage B}} is relevant for inserting a mention to the query entity.', '{{Passage A}}']\n",
      "['{{Passage A}}', 'Neither Passage A nor Passage B is relevant for inserting a mention to the query entity.']\n",
      "['{{Passage A}}', 'None']\n",
      "['{{Passage A}}', 'Both passages provided in the JSON document are identical; therefore, either {{Passage A}} or {{Passage B}} could feasibly incorporate a mention of the query entity, Liospóin (Lisbon), as the context of the passages does not specifically reference the geographical location or relevance of Lisbon to the described events or scenario.']\n",
      "['Neither Passage A nor Passage B is relevant for inserting a mention to the query entity \"Iosrael.\"', 'Neither {{Passage A}} nor {{Passage B}} is relevant for inserting a mention to the query entity.']\n",
      "['Neither Passage A nor Passage B is relevant for inserting a mention to the query entity.', '{{Passage A}}']\n",
      "['Neither {{Passage A}} nor {{Passage B}} is relevant for inserting a mention to the query entity.', '{{Passage A}}']\n",
      "['None', '{{Passage A}}']\n",
      "['Neither Passage A nor Passage B is relevant for inserting a mention to the query entity \"Dornálaíocht\".', '{{Passage A}}']\n",
      "['Neither Passage A nor Passage B is relevant for inserting a mention to the query entity.', 'Neither passage is relevant for inserting a mention to the query entity \"Dornálaíocht.\"']\n",
      "['Neither Passage A nor Passage B is relevant for inserting a mention to the query entity \"Dornálaíocht.\"', '{{Passage A}}']\n",
      "['Neither Passage A nor Passage B is relevant for inserting a mention to the query entity \"Dornálaíocht.\"', '{{Passage A}}']\n",
      "['Neither passage is relevant to the query entity.', 'Neither passage is relevant to the query entity.']\n",
      "['Neither Passage A nor Passage B is relevant for inserting a mention to the query entity \"Dornálaíocht.\"', '{{Passage A}}']\n",
      "['Neither Passage A nor Passage B is relevant for inserting a mention to the query entity \"Dornálaíocht.\"', 'Neither passage is relevant for inserting a mention to the query entity.']\n",
      "['Neither Passage A nor Passage B is relevant for inserting a mention to the query entity.', 'Neither Passage A nor Passage B is relevant for inserting a mention of the query entity.']\n",
      "['Neither Passage A nor Passage B', '{{Passage A}}']\n",
      "['{{Passage B}}', 'Neither Passage A nor Passage B is relevant for inserting a mention to the query entity (Stadium Sultan Ibrahim).']\n",
      "['{{Passage B}}', 'Neither Passage A nor Passage B is relevant for inserting a mention to the query entity, Stadium Sultan Ibrahim.']\n",
      "['Neither Passage A nor Passage B are relevant for inserting a mention to the query entity, Circuito Mundial Masculino de Surfe.', 'Passage A']\n",
      "['Neither passage is relevant for inserting a mention to the query entity.', 'Neither passage is relevant for inserting a mention to the query entity.']\n",
      "['Neither passage is relevant for inserting a mention to the query entity.', 'None']\n",
      "['Passage A', 'None']\n",
      "['None', 'None']\n",
      "['None of the passages are relevant for inserting a mention to the query entity.', 'None of the passages are relevant for inserting a mention to the query entity.']\n",
      "['{{Passage A}}', 'None']\n",
      "['None', 'None']\n",
      "['Neither Passage A nor Passage B is relevant for inserting a mention to the query entity \"Política dos Países Baixos.\"', 'Neither passage is relevant for inserting a mention to the query entity.']\n",
      "['Passage A', 'None']\n",
      "['Neither passage is relevant for inserting a mention to the query entity.', 'Neither passage is relevant for inserting a mention to the query entity.']\n",
      "['None', 'None']\n",
      "['Neither passage is relevant for inserting a mention to the query entity.', 'Neither passage is relevant for inserting a mention to the query entity.']\n",
      "['None', 'None']\n",
      "['None', 'None']\n",
      "['Neither passage is relevant for inserting a mention to the query entity.', 'Neither passage is relevant for inserting a mention to the query entity.']\n",
      "['None', 'None']\n",
      "['Passage A', 'None']\n",
      "['None', 'None']\n",
      "['Neither Passage A nor Passage B', 'None']\n",
      "['Neither passage is relevant for inserting a mention to the query entity.', '{{Passage A}}']\n",
      "['Passage A', 'None']\n",
      "['Passage B', 'None']\n",
      "['{{Passage B}}', 'Neither Passage A nor Passage B']\n",
      "['{{Passage B}}', 'Neither Passage A nor Passage B']\n",
      "['{{Passage B}}', 'Neither Passage A nor Passage B is relevant for inserting a mention to the query entity \"Teoria das cordas\" based on the provided descriptions and content.']\n",
      "['Neither Passage A nor Passage B', 'None']\n",
      "['Neither Passage A nor Passage B is relevant for inserting a mention to the query entity, \"Teoria das cordas.\"', 'None']\n",
      "['Neither Passage A nor Passage B', 'Neither Passage A nor Passage B']\n",
      "['Neither Passage A nor Passage B', '{{Passage B}}']\n",
      "['Neither Passage A nor Passage B', 'Neither Passage A nor Passage B are relevant for inserting a mention to the query entity.']\n",
      "['Neither Passage A nor Passage B is relevant for inserting a mention to the query entity, \"Teoria das cordas\" (String Theory).', '{{Passage B}}']\n",
      "['{{Passage B}}', 'None']\n",
      "['Neither Passage A nor Passage B', 'Neither Passage A nor Passage B']\n",
      "['{{Passage B}}', 'Neither Passage A nor Passage B']\n",
      "['Neither Passage A nor Passage B', 'Passage B']\n",
      "['Neither Passage A nor Passage B is relevant for inserting a mention to the query entity \"Caxemira.\"', 'Neither Passage A nor Passage B is relevant for inserting a mention to the query entity \"Caxemira.\"']\n",
      "['Neither Passage A nor Passage B', '{{Passage A}}']\n",
      "['Neither passage is relevant for inserting a mention to the query entity, \"Netflix.\"', 'Neither Passage A nor Passage B is relevant for inserting a mention to the query entity.']\n",
      "['Neither Passage A nor Passage B', '{{Passage A}}']\n",
      "['{{Passage B}}', 'Neither Passage A nor Passage B is relevant for inserting a mention to the query entity.']\n",
      "['None', '{{Passage B}}']\n",
      "['{{Passage A}}', 'Neither Passage A nor Passage B is relevant for inserting a mention to the query entity, Allianz Parque.']\n",
      "['Neither Passage A nor Passage B', 'Neither passage is relevant for inserting a mention to the query entity \"Allianz Parque.\"']\n",
      "['Neither Passage A nor Passage B', 'Passage A']\n",
      "['Neither passage is relevant for inserting a mention to the query entity.', 'Passage A']\n",
      "['None', '{{Passage B}}']\n",
      "['Neither passage is relevant for inserting a mention to the query entity.', 'Neither Passage A nor Passage B is relevant for inserting a mention to the query entity, Arábia.']\n",
      "['Passage A', 'None']\n",
      "['None', 'Passage B']\n",
      "['None of these passages are relevant for inserting a mention to the query entity \"Três Reinos.\"', '{{Passage B}}']\n",
      "['Since both Passage A and Passage B are identical and there is no direct mention or specific relevance of any of these passages to the query entity \"Acessibilidade\", without additional context or differentiation in passages to evaluate relevance specifically towards \"Acessibilidade\", my selection capabilities are constrained. Thus, in accordance with the instructions provided, neither passage is more relevant based on the content given relative to the query entity.', 'Neither Passage A nor Passage B is relevant for inserting a mention to the query entity \"Acessibilidade.\"']\n",
      "['Neither passage is appropriate for inserting a mention of the query entity.', '{{Passage B}}']\n",
      "['Neither passage is relevant for inserting a mention to the query entity.', '{{Passage B}}']\n",
      "['{{Passage A}}', 'Neither Passage A nor Passage B is relevant for inserting a mention to the query entity.']\n",
      "['{{Passage A}}', \"Since Passage A and Passage B are identical and neither explicitly relates to the detailed description of Delhi provided in the query entity, there is no applicable context within these passages for inserting a mention of Delhi. Given this, it's not possible to make a relevant selection between {{Passage A}} and {{Passage B}} for inserting a mention of the query entity based on the provided passages and the description of Delhi.\"]\n",
      "['Passage B', 'Neither Passage A nor Passage B']\n",
      "['{{Passage A}}', 'Neither {{Passage A}} nor {{Passage B}}']\n",
      "['Neither Passage A nor Passage B is relevant for inserting a mention to the query entity, Wallis Simpsonová.', '{{Passage A}}']\n",
      "['Neither Passage A nor Passage B', 'Neither Passage A nor Passage B is relevant for inserting a mention to the query entity.']\n",
      "['Neither Passage A nor Passage B is relevant for inserting a mention to the query entity, Szolnok.', 'Neither Passage A nor Passage B is relevant for inserting a mention to the query entity, Szolnok.']\n",
      "['Passage A', 'Neither {{Passage A}} nor {{Passage B}}.']\n",
      "['Neither Passage A nor Passage B', '{{Passage A}}']\n",
      "['Neither passage is relevant for inserting a mention to the query entity Szolnok.', '{{Passage B}}']\n",
      "['Neither Passage A nor Passage B', '{{Passage B}}']\n",
      "['Neither Passage A nor Passage B', '{{Passage B}}']\n",
      "['Passage A', 'Neither Passage A nor Passage B']\n",
      "['None of these passages are relevant for inserting a mention to the query entity \"Euro.\"', '{{Passage B}}']\n",
      "['{{Passage B}}', 'None']\n",
      "['Neither Passage A nor Passage B is relevant for inserting a mention to the query entity, Malý Dunaj.', '{{Passage A}}']\n",
      "['Neither Passage A nor Passage B is relevant for inserting a mention to the query entity, Dobroslav Trnka.', 'Passage A']\n",
      "['Both Passage A and Passage B are identical, so inserting a mention to the query entity, Daniel Heriban, would be equally relevant in either. However, since I must choose one, I will select:\\n\\n{{Passage A}}', '{{Passage A}}']\n",
      "['Neither Passage A nor Passage B is relevant for inserting a mention to the query entity, Chemotherapy.', 'Neither Passage A nor Passage B is relevant for inserting a mention to the query entity, Chemotherapy.']\n",
      "[\"Neither passage is relevant for inserting a mention to the query entity, McDonald's.\", 'Passage A']\n",
      "[\"Neither Passage A nor Passage B is relevant for inserting a mention to the query entity, McDonald's.\", \"Neither passage is relevant for inserting a mention to the query entity, McDonald's.\"]\n",
      "[\"Neither Passage A nor Passage B is relevant for inserting a mention to the query entity, McDonald's.\", \"Neither Passage A nor Passage B is relevant for inserting a mention to the query entity, McDonald's.\"]\n",
      "[\"Neither Passage A nor Passage B is relevant for inserting a mention to the query entity, McDonald's.\", \"Neither passage is relevant for inserting a mention to the query entity, McDonald's.\"]\n",
      "['Neither Passage A nor Passage B', \"Neither passage is relevant for inserting a mention to the query entity, McDonald's.\"]\n",
      "[\"Neither {{Passage A}} nor {{Passage B}} is relevant for inserting a mention to the query entity, McDonald's.\", \"Neither passage is relevant for inserting a mention to the query entity, McDonald's.\"]\n",
      "[\"Neither passage is relevant for inserting a mention to the query entity, McDonald's.\", \"Neither passage is relevant for inserting a mention to the query entity, McDonald's.\"]\n",
      "[\"Neither Passage A nor Passage B is relevant for inserting a mention to the query entity, McDonald's.\", \"Neither Passage A nor Passage B is relevant for inserting a mention to the query entity, McDonald's.\"]\n",
      "['Neither Passage A nor Passage B', \"Neither passage is relevant for inserting a mention to the query entity, McDonald's.\"]\n",
      "['Neither Passage A nor Passage B', 'Neither Passage A nor Passage B']\n",
      "[\"Neither passage is relevant for inserting a mention to the query entity, McDonald's.\", \"Neither passage is relevant for inserting a mention to the query entity, McDonald's.\"]\n",
      "['Neither Passage A nor Passage B', \"Neither passage is relevant for inserting a mention to the query entity, McDonald's.\"]\n",
      "[\"Neither passage is relevant for inserting a mention to the query entity, McDonald's.\", '{{Passage A}}']\n",
      "['Neither Passage A nor Passage B', 'Neither Passage A nor Passage B']\n",
      "['None', 'None']\n",
      "['{{Passage A}}', \"Neither Passage A nor Passage B is relevant for inserting a mention to the query entity, McDonald's.\"]\n",
      "['{{Passage A}}', \"Neither passage is relevant for inserting a mention to the query entity, McDonald's.\"]\n",
      "['{{Passage B}}', 'Neither passage is relevant for inserting a mention to the query entity, Hisham Matar.']\n",
      "['Neither passage is relevant for inserting a mention to the query entity, Hisham Matar.', 'Neither Passage A nor Passage B']\n",
      "['Neither {{Passage A}} nor {{Passage B}} is relevant for inserting a mention to the query entity, Hisham Matar.', '{{Passage A}}']\n",
      "['Neither Passage A nor Passage B are relevant for inserting a mention to the query entity, Hisham Matar.', '{{Passage A}}']\n",
      "['{{Passage A}}', 'Neither {{Passage A}} nor {{Passage B}}']\n",
      "['Neither Passage A nor Passage B is relevant for inserting a mention to the query entity, Hisham Matar.', '{{Passage A}}']\n",
      "['Neither Passage A nor Passage B are relevant for inserting a mention to the query entity, Caspar David Friedrich.', 'Neither Passage A nor Passage B']\n",
      "['Neither Passage A nor Passage B', 'Passage A']\n",
      "['Neither Passage A nor Passage B', 'Neither Passage A nor Passage B is relevant for inserting a mention to the query entity, Caspar David Friedrich.']\n",
      "['Neither passage is relevant for inserting a mention to the query entity, Caspar David Friedrich.', 'Neither {{Passage A}} nor {{Passage B}}']\n",
      "['None', '{{Passage A}}']\n",
      "['Neither Passage A nor Passage B', 'Neither Passage A nor Passage B is relevant for inserting a mention to the query entity, Mintons.']\n",
      "['Neither passage is relevant for inserting a mention to the query entity.', 'Neither passage is relevant for inserting a mention to the query entity.']\n",
      "['{{Passage A}}', 'Both Passage A and Passage B are identical, making neither more relevant over the other for inserting a mention to the query entity, Downtown Houston. A decision in this context is arbitrary; thus:\\n\\n{{Passage A}}']\n",
      "['Passage A', 'Neither passage is relevant for inserting a mention to the query entity.']\n",
      "['Neither passage is relevant for inserting a mention to the query entity.', 'Passage A']\n",
      "['Neither passage is relevant for inserting a mention to the query entity World War II.', '{{Passage A}}']\n"
     ]
    }
   ],
   "source": [
    "for lang in dfs:\n",
    "    if 'gpt_outputs_25_cands' in dfs[lang].columns:\n",
    "        positions_gpt3 = evaluate_results(dfs[lang]['gpt_outputs_25_cands'].tolist())\n",
    "        dfs[lang]['gpt-3_rank'] = positions_gpt3\n",
    "    if 'gpt_4_outputs_25_cands' in dfs[lang].columns:\n",
    "        positions_gpt4 = evaluate_results(dfs[lang]['gpt_4_outputs_25_cands'].tolist())\n",
    "        dfs[lang]['gpt-4_rank'] = positions_gpt4\n",
    "    \n",
    "    for model in ['gpt-3', 'gpt-4']:\n",
    "        if f'{model}_rank' in dfs[lang].columns:\n",
    "            df_all = dfs[lang].copy()\n",
    "            df_present = dfs[lang][dfs[lang]['missing_category'].isna()]\n",
    "            df_missing = dfs[lang][~dfs[lang]['missing_category'].isna()]\n",
    "            \n",
    "            for category, df in zip(['all', 'present', 'missing'], [df_all, df_present, df_missing]):\n",
    "                scores[lang][model]['mrr'][category] = np.mean(1 / np.array(df[f'{model}_rank'].tolist()))\n",
    "                scores[lang][model]['hits@1'][category] = np.mean(np.where(np.array(df[f'{model}_rank'].tolist()) == 1, 1, 0))    "
   ]
  },
  {
   "cell_type": "code",
   "execution_count": 13,
   "metadata": {},
   "outputs": [
    {
     "data": {
      "text/plain": [
       "{'gpt-3': {'mrr': {'all': 0.4426480536708024,\n",
       "   'present': 0.5818916871242453,\n",
       "   'missing': 0.33760461089013494},\n",
       "  'hits@1': {'all': 0.31,\n",
       "   'present': 0.46511627906976744,\n",
       "   'missing': 0.19298245614035087}},\n",
       " 'gpt-4': {'mrr': {'all': 0.6251084511680419,\n",
       "   'present': 0.869258454723571,\n",
       "   'missing': 0.44092511515246735},\n",
       "  'hits@1': {'all': 0.54,\n",
       "   'present': 0.8372093023255814,\n",
       "   'missing': 0.3157894736842105}}}"
      ]
     },
     "execution_count": 13,
     "metadata": {},
     "output_type": "execute_result"
    }
   ],
   "source": [
    "scores['sk']"
   ]
  },
  {
   "cell_type": "markdown",
   "metadata": {},
   "source": [
    "# Counting contexts"
   ]
  },
  {
   "cell_type": "code",
   "execution_count": 104,
   "metadata": {},
   "outputs": [
    {
     "name": "stdout",
     "output_type": "stream",
     "text": [
      "af 14590 3282\n"
     ]
    },
    {
     "name": "stdout",
     "output_type": "stream",
     "text": [
      "fr 47364 4528\n",
      "ga 5130 2432\n",
      "gu 2122 952\n",
      "kk 16454 3460\n",
      "ms 12526 3346\n",
      "pt 13686 3670\n",
      "simple 18550 3234\n",
      "sk 79660 3826\n",
      "en 14854 3406\n"
     ]
    }
   ],
   "source": [
    "for lang in dfs:\n",
    "    limited = 0\n",
    "    full = 0\n",
    "    negative_contexts = dfs[lang]['negative_contexts'].tolist()\n",
    "    for context_list in negative_contexts:\n",
    "        context_list = literal_eval(context_list)\n",
    "        full += len(context_list) * 2\n",
    "        limited += min(len(context_list), 24) * 2\n",
    "    print(lang, full, limited)\n",
    "    "
   ]
  },
  {
   "cell_type": "code",
   "execution_count": null,
   "metadata": {},
   "outputs": [],
   "source": []
  }
 ],
 "metadata": {
  "kernelspec": {
   "display_name": "wiki_dump",
   "language": "python",
   "name": "python3"
  },
  "language_info": {
   "codemirror_mode": {
    "name": "ipython",
    "version": 3
   },
   "file_extension": ".py",
   "mimetype": "text/x-python",
   "name": "python",
   "nbconvert_exporter": "python",
   "pygments_lexer": "ipython3",
   "version": "3.9.18"
  }
 },
 "nbformat": 4,
 "nbformat_minor": 2
}
