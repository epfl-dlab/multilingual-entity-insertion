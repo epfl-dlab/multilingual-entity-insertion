{
 "cells": [
  {
   "cell_type": "code",
   "execution_count": 1,
   "metadata": {},
   "outputs": [],
   "source": [
    "%load_ext autoreload\n",
    "%autoreload 2\n",
    "\n",
    "import pandas as pd\n",
    "import sys\n",
    "import os\n",
    "from transformers import AutoModel, AutoTokenizer\n",
    "import torch\n",
    "import torch.nn as nn\n",
    "from ast import literal_eval\n",
    "from urllib import parse\n",
    "import random\n",
    "\n",
    "sys.path.append('..')\n",
    "from baselines import bm25\n",
    "from baselines import fuzzy_match"
   ]
  },
  {
   "cell_type": "code",
   "execution_count": 2,
   "metadata": {},
   "outputs": [],
   "source": [
    "def fix_title(title):\n",
    "    return parse.unquote(title).replace('_', ' ')"
   ]
  },
  {
   "cell_type": "markdown",
   "metadata": {},
   "source": [
    "# Prepare ranking functions"
   ]
  },
  {
   "cell_type": "code",
   "execution_count": 3,
   "metadata": {},
   "outputs": [],
   "source": [
    "def bm25_best_candidate(contexts, target_title, target_lead, mentions):\n",
    "    scores = bm25.rank_contexts(contexts, target_title, target_lead, mentions, True, False)\n",
    "    \n",
    "    # find the context with the highest score\n",
    "    best_context = {'score': float('-inf'), 'context': ''}\n",
    "    for i, score in enumerate(scores):\n",
    "        if score > best_context['score']:\n",
    "            best_context['score'] = score\n",
    "            best_context['context'] = contexts[i]\n",
    "    \n",
    "    return best_context"
   ]
  },
  {
   "cell_type": "code",
   "execution_count": 4,
   "metadata": {},
   "outputs": [],
   "source": [
    "def string_match_best_candidate(contexts, target_mentions):\n",
    "    scores = fuzzy_match.rank_contexts(contexts, target_mentions, True, False)\n",
    "    \n",
    "    # find the context with the highest score\n",
    "    best_context = {'score': float('-inf'), 'context': ''}\n",
    "    for i, score in enumerate(scores):\n",
    "        if score > best_context['score']:\n",
    "            best_context['score'] = score\n",
    "            best_context['context'] = contexts[i]\n",
    "    \n",
    "    return best_context"
   ]
  },
  {
   "cell_type": "code",
   "execution_count": 5,
   "metadata": {},
   "outputs": [],
   "source": [
    "def model_best_candidate(model, prediction_head, tokenizer, contexts, source_sections, target_title, target_lead, mentions):\n",
    "    best_context = {'score': float('-inf'), 'context': ''}\n",
    "    \n",
    "    if target_title not in mentions:\n",
    "        mentions[target_title] = ''\n",
    "    \n",
    "    for context, source_section in zip(contexts, source_sections):\n",
    "        input = [\"\", \"\"]\n",
    "        input[0] = f\"{target_title} {mentions[target_title]}{tokenizer.sep_token}{target_lead}\"\n",
    "        input[1] = f\"{source_section}{tokenizer.sep_token}{context}\"\n",
    "        input_tokens = tokenizer([input], return_tensors='pt', padding='max_length', truncation=True, max_length=512).to(device)\n",
    "        embeddings = model(**input_tokens)['last_hidden_state'][:, 0, :]\n",
    "        prediction = prediction_head(embeddings).squeeze().detach().cpu().numpy()\n",
    "        if prediction.item() > best_context['score']:\n",
    "            best_context['score'] = prediction.item()\n",
    "            best_context['context'] = context\n",
    "    \n",
    "    return best_context"
   ]
  },
  {
   "cell_type": "markdown",
   "metadata": {},
   "source": [
    "# Load model"
   ]
  },
  {
   "cell_type": "code",
   "execution_count": 6,
   "metadata": {},
   "outputs": [],
   "source": [
    "device = 'cuda'\n",
    "\n",
    "model = AutoModel.from_pretrained('/dlabdata1/tsoares/models/roberta_full_multilingual-all/model')\n",
    "tokenizer = AutoTokenizer.from_pretrained('/dlabdata1/tsoares/models/roberta_full_multilingual-all/tokenizer')\n",
    "prediction_head = nn.Sequential(nn.Linear(model.config.hidden_size, model.config.hidden_size),\n",
    "                                nn.ReLU(),\n",
    "                                nn.Linear(model.config.hidden_size, 1))\n",
    "prediction_head.load_state_dict(torch.load('/dlabdata1/tsoares/models/roberta_full_multilingual-all/classification_head.pth', map_location='cpu'))\n",
    "\n",
    "model = model.to(device)\n",
    "prediction_head = prediction_head.to(device)\n",
    "\n",
    "model = model.eval()\n",
    "prediction_head = prediction_head.eval()"
   ]
  },
  {
   "cell_type": "markdown",
   "metadata": {},
   "source": [
    "# Load and prepare data"
   ]
  },
  {
   "cell_type": "code",
   "execution_count": 7,
   "metadata": {},
   "outputs": [],
   "source": [
    "df = pd.read_parquet('test_data/en.parquet')\n",
    "mentions = pd.read_parquet('test_data/en_mention_map.parquet')"
   ]
  },
  {
   "cell_type": "code",
   "execution_count": 8,
   "metadata": {},
   "outputs": [],
   "source": [
    "df['target_title'] = df['target_title'].apply(fix_title)"
   ]
  },
  {
   "cell_type": "code",
   "execution_count": 9,
   "metadata": {},
   "outputs": [],
   "source": [
    "mention_map_pre = mentions.to_dict('records')\n",
    "mention_map = {}\n",
    "for row in mention_map_pre:\n",
    "    title = fix_title(row['target_title'])\n",
    "    if title in mention_map:\n",
    "        mention_map[title].append(row['mention'])\n",
    "    else:\n",
    "        mention_map[title] = [row['mention']]\n",
    "\n",
    "for title in mention_map:\n",
    "    mention_map[title] = list(set([mention.lower() for mention in mention_map[title]]))\n",
    "    if len(mention_map[title]) > 10:\n",
    "        mention_map[title].sort(key=lambda x: len(x))\n",
    "        while len(mention_map[title]) > 10 and len(mention_map[title][0]) < 3:\n",
    "            mention_map[title].pop(0)\n",
    "        mention_map[title] = mention_map[title][:10]\n",
    "        random.shuffle(mention_map[title])\n",
    "    mention_map[title] = ' '.join(mention_map[title])"
   ]
  },
  {
   "cell_type": "markdown",
   "metadata": {},
   "source": [
    "# Analyze examples"
   ]
  },
  {
   "cell_type": "markdown",
   "metadata": {},
   "source": [
    "The following are good examples:\n",
    " - a\n",
    " - a\n",
    " - a\n",
    " - a\n",
    " "
   ]
  },
  {
   "cell_type": "markdown",
   "metadata": {},
   "source": [
    "## Examples of missing mention"
   ]
  },
  {
   "cell_type": "code",
   "execution_count": 31,
   "metadata": {},
   "outputs": [
    {
     "name": "stdout",
     "output_type": "stream",
     "text": [
      "target_title Karlo Letica\n",
      "target_lead Karlo Letica is a Croatian professional footballer who plays as a goalkeeper for Swiss Super League club FC Lausanne-Sport.\n",
      "first_version 1178541564\n",
      "contexts [\"Brazil\\nJô Santos\\nRomário Pires\\n\\nBulgaria\\nPlamen Iliev\\n\\nCongo\\nJuvhel Tsoumou\\n\\nCroatia\\nGabriel Debeljuh\\nCôte d'Ivoire\\nOusmane Viera\\n\\nSwitzerland\\nGoran Karanović\", \"Association football club in Sibiu\\nNot to be confused with FC Sibiu.\\nFootball club\\nAsociația Fotbal Club Hermannstadt (German pronunciation: [ˈhɛʁmanʃtat]), commonly known as FC Hermannstadt, Hermannstadt or familiarly as Sibiu (Romanian pronunciation: [siˈbiw]), is a Romanian professional football club based in the city of Sibiu (German: Hermannstadt), Sibiu County, which currently competes in Liga I. The team was established in 2015 and introduced in the fourth division, with Hermannstadt being the equivalent of the city's name in the standard German language (i.e. Hochdeutsch). Roș-negrii achieved successive promotions and in 2018 reached the Liga I, the highest level of the Romanian football league system. During the same year, Hermannstadt also played a Cupa României final, which they lost 0–2 to Universitatea Craiova.\", 'History AFC Hermannstadt was founded in 2015 to continue the long tradition of football in the city of Sibiu, started in 1913 by Șoimii Sibiu and continued through other teams such as Societatea Gimnastică Sibiu (German: Hermannstädter Turnverein - HATV), Inter Sibiu, FC Sibiu, or Voința Sibiu. Even if Hermannstadt is not a \"legal\" successor to any of these clubs, we can consider it a moral one, as it is currently the only representative of Sibiu in the first three leagues. Hermannstadt is the equivalent of the city\\'s name in the German language, which has sometimes stirred controversy. Immediately after the 2015 founding, the club was enrolled in the Liga IV. It finished first in the league table and subsequently qualified for the Liga III promotion play-offs.', 'History AFC Hermannstadt was founded in 2015 to continue the long tradition of football in the city of Sibiu, started in 1913 by Șoimii Sibiu and continued through other teams such as Societatea Gimnastică Sibiu (German: Hermannstädter Turnverein - HATV), Inter Sibiu, FC Sibiu, or Voința Sibiu. Even if Hermannstadt is not a \"legal\" successor to any of these clubs, we can consider it a moral one, as it is currently the only representative of Sibiu in the first three leagues. Hermannstadt is the equivalent of the city\\'s name in the German language, which has sometimes stirred controversy. Immediately after the 2015 founding, the club was enrolled in the Liga IV. It finished first in the league table and subsequently qualified for the Liga III promotion play-offs. Hermannstadt won the phase without major difficulties, after 6–1 on aggregate against the champion of Gorj County, Gilortul Târgu Cărbunești.', 'History AFC Hermannstadt was founded in 2015 to continue the long tradition of football in the city of Sibiu, started in 1913 by Șoimii Sibiu and continued through other teams such as Societatea Gimnastică Sibiu (German: Hermannstädter Turnverein - HATV), Inter Sibiu, FC Sibiu, or Voința Sibiu. Even if Hermannstadt is not a \"legal\" successor to any of these clubs, we can consider it a moral one, as it is currently the only representative of Sibiu in the first three leagues. Hermannstadt is the equivalent of the city\\'s name in the German language, which has sometimes stirred controversy. Immediately after the 2015 founding, the club was enrolled in the Liga IV. It finished first in the league table and subsequently qualified for the Liga III promotion play-offs. Hermannstadt won the phase without major difficulties, after 6–1 on aggregate against the champion of Gorj County, Gilortul Târgu Cărbunești. Sibienii were also winners of the Liga III – Seria V in the next season and promoted to the Liga II, the second level of the Romanian league system.', 'History AFC Hermannstadt was founded in 2015 to continue the long tradition of football in the city of Sibiu, started in 1913 by Șoimii Sibiu and continued through other teams such as Societatea Gimnastică Sibiu (German: Hermannstädter Turnverein - HATV), Inter Sibiu, FC Sibiu, or Voința Sibiu. Even if Hermannstadt is not a \"legal\" successor to any of these clubs, we can consider it a moral one, as it is currently the only representative of Sibiu in the first three leagues. Hermannstadt is the equivalent of the city\\'s name in the German language, which has sometimes stirred controversy. Immediately after the 2015 founding, the club was enrolled in the Liga IV. It finished first in the league table and subsequently qualified for the Liga III promotion play-offs. Hermannstadt won the phase without major difficulties, after 6–1 on aggregate against the champion of Gorj County, Gilortul Târgu Cărbunești. Sibienii were also winners of the Liga III – Seria V in the next season and promoted to the Liga II, the second level of the Romanian league system. Hermannstadt played its first Liga II match on 5 August 2017, a 3–0 home victory over CS Balotești.', 'History AFC Hermannstadt was founded in 2015 to continue the long tradition of football in the city of Sibiu, started in 1913 by Șoimii Sibiu and continued through other teams such as Societatea Gimnastică Sibiu (German: Hermannstädter Turnverein - HATV), Inter Sibiu, FC Sibiu, or Voința Sibiu. Even if Hermannstadt is not a \"legal\" successor to any of these clubs, we can consider it a moral one, as it is currently the only representative of Sibiu in the first three leagues. Hermannstadt is the equivalent of the city\\'s name in the German language, which has sometimes stirred controversy. Immediately after the 2015 founding, the club was enrolled in the Liga IV. It finished first in the league table and subsequently qualified for the Liga III promotion play-offs. Hermannstadt won the phase without major difficulties, after 6–1 on aggregate against the champion of Gorj County, Gilortul Târgu Cărbunești. Sibienii were also winners of the Liga III – Seria V in the next season and promoted to the Liga II, the second level of the Romanian league system. Hermannstadt played its first Liga II match on 5 August 2017, a 3–0 home victory over CS Balotești. It finished the campaign as runner-up, and thus achieved promotion to the Liga I after only three years of existence.', 'History AFC Hermannstadt was founded in 2015 to continue the long tradition of football in the city of Sibiu, started in 1913 by Șoimii Sibiu and continued through other teams such as Societatea Gimnastică Sibiu (German: Hermannstädter Turnverein - HATV), Inter Sibiu, FC Sibiu, or Voința Sibiu. Even if Hermannstadt is not a \"legal\" successor to any of these clubs, we can consider it a moral one, as it is currently the only representative of Sibiu in the first three leagues. Hermannstadt is the equivalent of the city\\'s name in the German language, which has sometimes stirred controversy. Immediately after the 2015 founding, the club was enrolled in the Liga IV. It finished first in the league table and subsequently qualified for the Liga III promotion play-offs. Hermannstadt won the phase without major difficulties, after 6–1 on aggregate against the champion of Gorj County, Gilortul Târgu Cărbunești. Sibienii were also winners of the Liga III – Seria V in the next season and promoted to the Liga II, the second level of the Romanian league system. Hermannstadt played its first Liga II match on 5 August 2017, a 3–0 home victory over CS Balotești. It finished the campaign as runner-up, and thus achieved promotion to the Liga I after only three years of existence. The club also managed a notable performance in the Cupa României, being the first in 36 years to reach the final despite not playing in the top flight.', 'AFC Hermannstadt was founded in 2015 to continue the long tradition of football in the city of Sibiu, started in 1913 by Șoimii Sibiu and continued through other teams such as Societatea Gimnastică Sibiu (German: Hermannstädter Turnverein - HATV), Inter Sibiu, FC Sibiu, or Voința Sibiu. Even if Hermannstadt is not a \"legal\" successor to any of these clubs, we can consider it a moral one, as it is currently the only representative of Sibiu in the first three leagues. Hermannstadt is the equivalent of the city\\'s name in the German language, which has sometimes stirred controversy. Immediately after the 2015 founding, the club was enrolled in the Liga IV. It finished first in the league table and subsequently qualified for the Liga III promotion play-offs. Hermannstadt won the phase without major difficulties, after 6–1 on aggregate against the champion of Gorj County, Gilortul Târgu Cărbunești. Sibienii were also winners of the Liga III – Seria V in the next season and promoted to the Liga II, the second level of the Romanian league system. Hermannstadt played its first Liga II match on 5 August 2017, a 3–0 home victory over CS Balotești. It finished the campaign as runner-up, and thus achieved promotion to the Liga I after only three years of existence. The club also managed a notable performance in the Cupa României, being the first in 36 years to reach the final despite not playing in the top flight. Hermannstadt upset four Liga I teams en route to the last game of the competition—Voluntari, Juventus București, FCSB and county rival Gaz Metan Mediaș, respectively.', 'Even if Hermannstadt is not a \"legal\" successor to any of these clubs, we can consider it a moral one, as it is currently the only representative of Sibiu in the first three leagues. Hermannstadt is the equivalent of the city\\'s name in the German language, which has sometimes stirred controversy. Immediately after the 2015 founding, the club was enrolled in the Liga IV. It finished first in the league table and subsequently qualified for the Liga III promotion play-offs. Hermannstadt won the phase without major difficulties, after 6–1 on aggregate against the champion of Gorj County, Gilortul Târgu Cărbunești. Sibienii were also winners of the Liga III – Seria V in the next season and promoted to the Liga II, the second level of the Romanian league system. Hermannstadt played its first Liga II match on 5 August 2017, a 3–0 home victory over CS Balotești. It finished the campaign as runner-up, and thus achieved promotion to the Liga I after only three years of existence. The club also managed a notable performance in the Cupa României, being the first in 36 years to reach the final despite not playing in the top flight. Hermannstadt upset four Liga I teams en route to the last game of the competition—Voluntari, Juventus București, FCSB and county rival Gaz Metan Mediaș, respectively. It lost the final 0–2 to Universitatea Craiova, on 27 May 2018.', \"Hermannstadt is the equivalent of the city's name in the German language, which has sometimes stirred controversy. Immediately after the 2015 founding, the club was enrolled in the Liga IV. It finished first in the league table and subsequently qualified for the Liga III promotion play-offs. Hermannstadt won the phase without major difficulties, after 6–1 on aggregate against the champion of Gorj County, Gilortul Târgu Cărbunești. Sibienii were also winners of the Liga III – Seria V in the next season and promoted to the Liga II, the second level of the Romanian league system. Hermannstadt played its first Liga II match on 5 August 2017, a 3–0 home victory over CS Balotești. It finished the campaign as runner-up, and thus achieved promotion to the Liga I after only three years of existence. The club also managed a notable performance in the Cupa României, being the first in 36 years to reach the final despite not playing in the top flight. Hermannstadt upset four Liga I teams en route to the last game of the competition—Voluntari, Juventus București, FCSB and county rival Gaz Metan Mediaș, respectively. It lost the final 0–2 to Universitatea Craiova, on 27 May 2018. On 21 July 2018, Hermannstadt won its first ever Liga I match after Ștefan Blănaru scored the only goal of the opening fixture against Sepsi OSK.\", 'Immediately after the 2015 founding, the club was enrolled in the Liga IV. It finished first in the league table and subsequently qualified for the Liga III promotion play-offs. Hermannstadt won the phase without major difficulties, after 6–1 on aggregate against the champion of Gorj County, Gilortul Târgu Cărbunești. Sibienii were also winners of the Liga III – Seria V in the next season and promoted to the Liga II, the second level of the Romanian league system. Hermannstadt played its first Liga II match on 5 August 2017, a 3–0 home victory over CS Balotești. It finished the campaign as runner-up, and thus achieved promotion to the Liga I after only three years of existence. The club also managed a notable performance in the Cupa României, being the first in 36 years to reach the final despite not playing in the top flight. Hermannstadt upset four Liga I teams en route to the last game of the competition—Voluntari, Juventus București, FCSB and county rival Gaz Metan Mediaș, respectively. It lost the final 0–2 to Universitatea Craiova, on 27 May 2018. On 21 July 2018, Hermannstadt won its first ever Liga I match after Ștefan Blănaru scored the only goal of the opening fixture against Sepsi OSK.', 'It finished first in the league table and subsequently qualified for the Liga III promotion play-offs. Hermannstadt won the phase without major difficulties, after 6–1 on aggregate against the champion of Gorj County, Gilortul Târgu Cărbunești. Sibienii were also winners of the Liga III – Seria V in the next season and promoted to the Liga II, the second level of the Romanian league system. Hermannstadt played its first Liga II match on 5 August 2017, a 3–0 home victory over CS Balotești. It finished the campaign as runner-up, and thus achieved promotion to the Liga I after only three years of existence. The club also managed a notable performance in the Cupa României, being the first in 36 years to reach the final despite not playing in the top flight. Hermannstadt upset four Liga I teams en route to the last game of the competition—Voluntari, Juventus București, FCSB and county rival Gaz Metan Mediaș, respectively. It lost the final 0–2 to Universitatea Craiova, on 27 May 2018. On 21 July 2018, Hermannstadt won its first ever Liga I match after Ștefan Blănaru scored the only goal of the opening fixture against Sepsi OSK.', 'Hermannstadt won the phase without major difficulties, after 6–1 on aggregate against the champion of Gorj County, Gilortul Târgu Cărbunești. Sibienii were also winners of the Liga III – Seria V in the next season and promoted to the Liga II, the second level of the Romanian league system. Hermannstadt played its first Liga II match on 5 August 2017, a 3–0 home victory over CS Balotești. It finished the campaign as runner-up, and thus achieved promotion to the Liga I after only three years of existence. The club also managed a notable performance in the Cupa României, being the first in 36 years to reach the final despite not playing in the top flight. Hermannstadt upset four Liga I teams en route to the last game of the competition—Voluntari, Juventus București, FCSB and county rival Gaz Metan Mediaș, respectively. It lost the final 0–2 to Universitatea Craiova, on 27 May 2018. On 21 July 2018, Hermannstadt won its first ever Liga I match after Ștefan Blănaru scored the only goal of the opening fixture against Sepsi OSK.', 'Sibienii were also winners of the Liga III – Seria V in the next season and promoted to the Liga II, the second level of the Romanian league system. Hermannstadt played its first Liga II match on 5 August 2017, a 3–0 home victory over CS Balotești. It finished the campaign as runner-up, and thus achieved promotion to the Liga I after only three years of existence. The club also managed a notable performance in the Cupa României, being the first in 36 years to reach the final despite not playing in the top flight. Hermannstadt upset four Liga I teams en route to the last game of the competition—Voluntari, Juventus București, FCSB and county rival Gaz Metan Mediaș, respectively. It lost the final 0–2 to Universitatea Craiova, on 27 May 2018. On 21 July 2018, Hermannstadt won its first ever Liga I match after Ștefan Blănaru scored the only goal of the opening fixture against Sepsi OSK.', 'Hermannstadt played its first Liga II match on 5 August 2017, a 3–0 home victory over CS Balotești. It finished the campaign as runner-up, and thus achieved promotion to the Liga I after only three years of existence. The club also managed a notable performance in the Cupa României, being the first in 36 years to reach the final despite not playing in the top flight. Hermannstadt upset four Liga I teams en route to the last game of the competition—Voluntari, Juventus București, FCSB and county rival Gaz Metan Mediaș, respectively. It lost the final 0–2 to Universitatea Craiova, on 27 May 2018. On 21 July 2018, Hermannstadt won its first ever Liga I match after Ștefan Blănaru scored the only goal of the opening fixture against Sepsi OSK.', \"Ground Hermannstadt's home ground, Stadionul Municipal, was built in 1927 and previously used by several other teams from the city. Its demolition started in 2018 to make room for a modern stadium, with Hermannstadt having since played matches at the Stadionul Gaz Metan in Mediaș.\", 'Support In its beginnings, Hermannstadt enjoyed the interest of about 4,000 fans. The team also has an ultras group, named D\\'acii, which appeared for the first time at a match against ASU Politehnica Timișoara in September 2017. Their name is a pun on the words dacii (\"the Dacians\") and d-aci, a contraction of de aici (meaning \"from here\").', 'Rivalries Hermannstadt had a local rivalry with Gaz Metan Mediaș, referred to as the \"Derby of Sibiu County\".', 'Honours Domestic\\nLeagues\\nLiga II\\nRunners-up (2): 2017–18, 2021–22\\n Liga III\\nWinners (1): 2016–17\\n Liga IV – Sibiu County\\nWinners (1): 2015–16\\n \\nCups\\nCupa României\\nRunners-up (1): 2017–18', 'Players First-team squad\\nAs of 15 September 2023\\nNote: Flags indicate national team as defined under FIFA eligibility rules. Players may hold more than one non-FIFA nationality.\\n\\nOut on loan\\n\\nNote: Flags indicate national team as defined under FIFA eligibility rules.', 'Notable former players For a list of all former and current FC Hermannstadt players with a Wikipedia article, see Category:FC Hermannstadt players.\\nRomania\\n\\n Claudiu Belu\\n Ștefan Blănaru\\n Cătălin Căbuz\\n Andrei Cordea\\n Alexandru Curtean', 'Notable former players For a list of all former and current FC Hermannstadt players with a Wikipedia article, see Category:FC Hermannstadt players.\\nRomania\\n\\n Claudiu Belu\\n Ștefan Blănaru\\n Cătălin Căbuz\\n Andrei Cordea\\n Alexandru Curtean\\n Răzvan Dâlbea', 'Notable former players For a list of all former and current FC Hermannstadt players with a Wikipedia article, see Category:FC Hermannstadt players.\\nRomania\\n\\n Claudiu Belu\\n Ștefan Blănaru\\n Cătălin Căbuz\\n Andrei Cordea\\n Alexandru Curtean\\n Răzvan Dâlbea\\n Alexandru Dandea', 'Notable former players For a list of all former and current FC Hermannstadt players with a Wikipedia article, see Category:FC Hermannstadt players.\\nRomania\\n\\n Claudiu Belu\\n Ștefan Blănaru\\n Cătălin Căbuz\\n Andrei Cordea\\n Alexandru Curtean\\n Răzvan Dâlbea\\n Alexandru Dandea\\n Lucian Dumitriu', 'Notable former players For a list of all former and current FC Hermannstadt players with a Wikipedia article, see Category:FC Hermannstadt players.\\nRomania\\n\\n Claudiu Belu\\n Ștefan Blănaru\\n Cătălin Căbuz\\n Andrei Cordea\\n Alexandru Curtean\\n Răzvan Dâlbea\\n Alexandru Dandea\\n Lucian Dumitriu\\n Srdjan Luchin', 'Notable former players For a list of all former and current FC Hermannstadt players with a Wikipedia article, see Category:FC Hermannstadt players.\\nRomania\\n\\n Claudiu Belu\\n Ștefan Blănaru\\n Cătălin Căbuz\\n Andrei Cordea\\n Alexandru Curtean\\n Răzvan Dâlbea\\n Alexandru Dandea\\n Lucian Dumitriu\\n Srdjan Luchin\\n Alexandru Mățel', 'For a list of all former and current FC Hermannstadt players with a Wikipedia article, see Category:FC Hermannstadt players.\\nRomania\\n\\n Claudiu Belu\\n Ștefan Blănaru\\n Cătălin Căbuz\\n Andrei Cordea\\n Alexandru Curtean\\n Răzvan Dâlbea\\n Alexandru Dandea\\n Lucian Dumitriu\\n Srdjan Luchin\\n Alexandru Mățel\\n Ionuț Năstăsie', 'Ștefan Blănaru\\n Cătălin Căbuz\\n Andrei Cordea\\n Alexandru Curtean\\n Răzvan Dâlbea\\n Alexandru Dandea\\n Lucian Dumitriu\\n Srdjan Luchin\\n Alexandru Mățel\\n Ionuț Năstăsie\\n Alexandru Răuță', 'Cătălin Căbuz\\n Andrei Cordea\\n Alexandru Curtean\\n Răzvan Dâlbea\\n Alexandru Dandea\\n Lucian Dumitriu\\n Srdjan Luchin\\n Alexandru Mățel\\n Ionuț Năstăsie\\n Alexandru Răuță\\n Bogdan Rusu', 'Andrei Cordea\\n Alexandru Curtean\\n Răzvan Dâlbea\\n Alexandru Dandea\\n Lucian Dumitriu\\n Srdjan Luchin\\n Alexandru Mățel\\n Ionuț Năstăsie\\n Alexandru Răuță\\n Bogdan Rusu\\n Daniel Tătar', 'Alexandru Curtean\\n Răzvan Dâlbea\\n Alexandru Dandea\\n Lucian Dumitriu\\n Srdjan Luchin\\n Alexandru Mățel\\n Ionuț Năstăsie\\n Alexandru Răuță\\n Bogdan Rusu\\n Daniel Tătar\\n \\nPortugal\\n Cristiano', 'Răzvan Dâlbea\\n Alexandru Dandea\\n Lucian Dumitriu\\n Srdjan Luchin\\n Alexandru Mățel\\n Ionuț Năstăsie\\n Alexandru Răuță\\n Bogdan Rusu\\n Daniel Tătar\\n \\nPortugal\\n Cristiano\\n David Caiado', 'Alexandru Dandea\\n Lucian Dumitriu\\n Srdjan Luchin\\n Alexandru Mățel\\n Ionuț Năstăsie\\n Alexandru Răuță\\n Bogdan Rusu\\n Daniel Tătar\\n \\nPortugal\\n Cristiano\\n David Caiado\\n Yazalde', 'Lucian Dumitriu\\n Srdjan Luchin\\n Alexandru Mățel\\n Ionuț Năstăsie\\n Alexandru Răuță\\n Bogdan Rusu\\n Daniel Tătar\\n \\nPortugal\\n Cristiano\\n David Caiado\\n Yazalde\\n \\nBrazil\\n Jô Santos', 'Srdjan Luchin\\n Alexandru Mățel\\n Ionuț Năstăsie\\n Alexandru Răuță\\n Bogdan Rusu\\n Daniel Tătar\\n \\nPortugal\\n Cristiano\\n David Caiado\\n Yazalde\\n \\nBrazil\\n Jô Santos\\n Romário Pires', 'Alexandru Mățel\\n Ionuț Năstăsie\\n Alexandru Răuță\\n Bogdan Rusu\\n Daniel Tătar\\n \\nPortugal\\n Cristiano\\n David Caiado\\n Yazalde\\n \\nBrazil\\n Jô Santos\\n Romário Pires\\n \\nBulgaria\\n Plamen Iliev', 'Ionuț Năstăsie\\n Alexandru Răuță\\n Bogdan Rusu\\n Daniel Tătar\\n \\nPortugal\\n Cristiano\\n David Caiado\\n Yazalde\\n \\nBrazil\\n Jô Santos\\n Romário Pires\\n \\nBulgaria\\n Plamen Iliev\\n \\nCongo\\n Juvhel Tsoumou', 'Alexandru Răuță\\n Bogdan Rusu\\n Daniel Tătar\\n \\nPortugal\\n Cristiano\\n David Caiado\\n Yazalde\\n \\nBrazil\\n Jô Santos\\n Romário Pires\\n \\nBulgaria\\n Plamen Iliev\\n \\nCongo\\n Juvhel Tsoumou\\n \\nCroatia\\n Gabriel Debeljuh', \"Bogdan Rusu\\n Daniel Tătar\\n \\nPortugal\\n Cristiano\\n David Caiado\\n Yazalde\\n \\nBrazil\\n Jô Santos\\n Romário Pires\\n \\nBulgaria\\n Plamen Iliev\\n \\nCongo\\n Juvhel Tsoumou\\n \\nCroatia\\n Gabriel Debeljuh\\n \\nCôte d'Ivoire\\n Ousmane Viera\", \"Daniel Tătar\\n \\nPortugal\\n Cristiano\\n David Caiado\\n Yazalde\\n \\nBrazil\\n Jô Santos\\n Romário Pires\\n \\nBulgaria\\n Plamen Iliev\\n \\nCongo\\n Juvhel Tsoumou\\n \\nCroatia\\n Gabriel Debeljuh\\n \\nCôte d'Ivoire\\n Ousmane Viera\\n \\nSwitzerland\\n Goran Karanović\", \"Portugal\\n Cristiano\\n David Caiado\\n Yazalde\\n \\nBrazil\\n Jô Santos\\n Romário Pires\\n \\nBulgaria\\n Plamen Iliev\\n \\nCongo\\n Juvhel Tsoumou\\n \\nCroatia\\n Gabriel Debeljuh\\n \\nCôte d'Ivoire\\n Ousmane Viera\\n \\nSwitzerland\\n Goran Karanović\", \"David Caiado\\n Yazalde\\n \\nBrazil\\n Jô Santos\\n Romário Pires\\n \\nBulgaria\\n Plamen Iliev\\n \\nCongo\\n Juvhel Tsoumou\\n \\nCroatia\\n Gabriel Debeljuh\\n \\nCôte d'Ivoire\\n Ousmane Viera\\n \\nSwitzerland\\n Goran Karanović\", \"Yazalde\\n \\nBrazil\\n Jô Santos\\n Romário Pires\\n \\nBulgaria\\n Plamen Iliev\\n \\nCongo\\n Juvhel Tsoumou\\n \\nCroatia\\n Gabriel Debeljuh\\n \\nCôte d'Ivoire\\n Ousmane Viera\\n \\nSwitzerland\\n Goran Karanović\", \"Brazil\\n Jô Santos\\n Romário Pires\\n \\nBulgaria\\n Plamen Iliev\\n \\nCongo\\n Juvhel Tsoumou\\n \\nCroatia\\n Gabriel Debeljuh\\n \\nCôte d'Ivoire\\n Ousmane Viera\\n \\nSwitzerland\\n Goran Karanović\", \"Romário Pires\\n \\nBulgaria\\n Plamen Iliev\\n \\nCongo\\n Juvhel Tsoumou\\n \\nCroatia\\n Gabriel Debeljuh\\n \\nCôte d'Ivoire\\n Ousmane Viera\\n \\nSwitzerland\\n Goran Karanović\", 'Notable former managers For a list of all former and current FC Hermannstadt managers with a Wikipedia article, see Category:FC Hermannstadt managers.\\n\\nRubén Albés\\n Liviu Ciobotariu\\n Costel Enache\\n Vasile Miriuță\\n Eugen Neagoe', 'Notable former managers For a list of all former and current FC Hermannstadt managers with a Wikipedia article, see Category:FC Hermannstadt managers.\\n\\nRubén Albés\\n Liviu Ciobotariu\\n Costel Enache\\n Vasile Miriuță\\n Eugen Neagoe\\n Alexandru Pelici', 'For a list of all former and current FC Hermannstadt managers with a Wikipedia article, see Category:FC Hermannstadt managers.\\n\\nRubén Albés\\n Liviu Ciobotariu\\n Costel Enache\\n Vasile Miriuță\\n Eugen Neagoe\\n Alexandru Pelici']\n",
      "source_sections ['Notable former players', 'Lead', 'History', 'History', 'History', 'History', 'History', 'History', 'History', 'History', 'History', 'History', 'History', 'History', 'History', 'History', 'Ground', 'Support', 'Rivalries', 'Honours', 'Players', 'Notable former players', 'Notable former players', 'Notable former players', 'Notable former players', 'Notable former players', 'Notable former players', 'Notable former players', 'Notable former players', 'Notable former players', 'Notable former players', 'Notable former players', 'Notable former players', 'Notable former players', 'Notable former players', 'Notable former players', 'Notable former players', 'Notable former players', 'Notable former players', 'Notable former players', 'Notable former players', 'Notable former players', 'Notable former players', 'Notable former players', 'Notable former players', 'Notable former players', 'Notable former managers', 'Notable former managers', 'Notable former managers']\n",
      "number of candidates 49\n",
      "RUNNING BM25\n",
      "RESULT {'score': 8.384777566060844, 'context': \"Association football club in Sibiu\\nNot to be confused with FC Sibiu.\\nFootball club\\nAsociația Fotbal Club Hermannstadt (German pronunciation: [ˈhɛʁmanʃtat]), commonly known as FC Hermannstadt, Hermannstadt or familiarly as Sibiu (Romanian pronunciation: [siˈbiw]), is a Romanian professional football club based in the city of Sibiu (German: Hermannstadt), Sibiu County, which currently competes in Liga I. The team was established in 2015 and introduced in the fourth division, with Hermannstadt being the equivalent of the city's name in the standard German language (i.e. Hochdeutsch). Roș-negrii achieved successive promotions and in 2018 reached the Liga I, the highest level of the Romanian football league system. During the same year, Hermannstadt also played a Cupa României final, which they lost 0–2 to Universitatea Craiova.\"}\n",
      "RUNNING FUZZY MATCH\n",
      "RESULT {'score': 0.012658227848101266, 'context': \"Association football club in Sibiu\\nNot to be confused with FC Sibiu.\\nFootball club\\nAsociația Fotbal Club Hermannstadt (German pronunciation: [ˈhɛʁmanʃtat]), commonly known as FC Hermannstadt, Hermannstadt or familiarly as Sibiu (Romanian pronunciation: [siˈbiw]), is a Romanian professional football club based in the city of Sibiu (German: Hermannstadt), Sibiu County, which currently competes in Liga I. The team was established in 2015 and introduced in the fourth division, with Hermannstadt being the equivalent of the city's name in the standard German language (i.e. Hochdeutsch). Roș-negrii achieved successive promotions and in 2018 reached the Liga I, the highest level of the Romanian football league system. During the same year, Hermannstadt also played a Cupa României final, which they lost 0–2 to Universitatea Craiova.\"}\n",
      "RUNNING MODEL\n"
     ]
    },
    {
     "name": "stdout",
     "output_type": "stream",
     "text": [
      "RESULT {'score': 13.536664962768555, 'context': \"Romário Pires\\n \\nBulgaria\\n Plamen Iliev\\n \\nCongo\\n Juvhel Tsoumou\\n \\nCroatia\\n Gabriel Debeljuh\\n \\nCôte d'Ivoire\\n Ousmane Viera\\n \\nSwitzerland\\n Goran Karanović\"}\n"
     ]
    }
   ],
   "source": [
    "# sample = df[df['missing_category'] == 'missing_sentence'].sample(1)\n",
    "# sample = df[df['missing_category'].isna()].sample(1)\n",
    "sample = df[df['source_title'] == 'FC_Hermannstadt'].sample(1)\n",
    "\n",
    "target_title = sample['target_title'].values[0]\n",
    "target_lead = sample['target_lead'].values[0]\n",
    "first_version = sample['first_version'].values[0]\n",
    "\n",
    "contexts = []\n",
    "source_sections = []\n",
    "contexts.append(sample['context'].values[0])\n",
    "source_sections.append(sample['section'].values[0])\n",
    "negative_contexts = literal_eval(sample['negative_contexts'].values[0])\n",
    "for neg_context in negative_contexts:\n",
    "    contexts.append(neg_context['context'])\n",
    "    source_sections.append(neg_context['section'])\n",
    "\n",
    "print('target_title', target_title)\n",
    "print('target_lead', target_lead)\n",
    "print('first_version', first_version)\n",
    "print('contexts', contexts)\n",
    "print('source_sections', source_sections)\n",
    "print('number of candidates', len(contexts))\n",
    "\n",
    "print('RUNNING BM25')\n",
    "best_bm25 = bm25_best_candidate(contexts, target_title, target_lead, mention_map[target_title] if target_title in mention_map else [target_title])\n",
    "print('RESULT', best_bm25)\n",
    "\n",
    "print('RUNNING FUZZY MATCH')\n",
    "best_fuzzy_match = string_match_best_candidate(contexts, mention_map[target_title] if target_title in mention_map else [target_title])\n",
    "print('RESULT', best_fuzzy_match)\n",
    "print('RUNNING MODEL')\n",
    "best_model = model_best_candidate(model, prediction_head, tokenizer, contexts, source_sections, target_title, target_lead, mention_map)\n",
    "print('RESULT', best_model)"
   ]
  },
  {
   "cell_type": "code",
   "execution_count": null,
   "metadata": {},
   "outputs": [],
   "source": []
  },
  {
   "cell_type": "code",
   "execution_count": null,
   "metadata": {},
   "outputs": [],
   "source": []
  }
 ],
 "metadata": {
  "kernelspec": {
   "display_name": "wiki_dump",
   "language": "python",
   "name": "python3"
  },
  "language_info": {
   "codemirror_mode": {
    "name": "ipython",
    "version": 3
   },
   "file_extension": ".py",
   "mimetype": "text/x-python",
   "name": "python",
   "nbconvert_exporter": "python",
   "pygments_lexer": "ipython3",
   "version": "3.9.18"
  }
 },
 "nbformat": 4,
 "nbformat_minor": 2
}
