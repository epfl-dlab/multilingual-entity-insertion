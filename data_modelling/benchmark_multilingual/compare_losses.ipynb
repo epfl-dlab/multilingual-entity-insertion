{
 "cells": [
  {
   "cell_type": "code",
   "execution_count": 1,
   "metadata": {},
   "outputs": [],
   "source": [
    "import argparse\n",
    "import pandas as pd\n",
    "import numpy\n",
    "from transformers import AutoModel, AutoTokenizer\n",
    "import torch\n",
    "import torch.nn as nn\n",
    "import sys\n",
    "import os\n",
    "from urllib import parse\n",
    "from tqdm import tqdm\n",
    "import random\n",
    "from glob import glob\n",
    "from ast import literal_eval"
   ]
  },
  {
   "cell_type": "code",
   "execution_count": 2,
   "metadata": {},
   "outputs": [],
   "source": [
    "def fix_title(title):\n",
    "    return parse.unquote(title).replace('_', ' ')"
   ]
  },
  {
   "cell_type": "markdown",
   "metadata": {},
   "source": [
    "# Generate scores\n",
    "Only needs to be run once!"
   ]
  },
  {
   "cell_type": "code",
   "execution_count": 4,
   "metadata": {},
   "outputs": [],
   "source": [
    "models = {'ranking': {},\n",
    "          'pointwise': {}}\n",
    "\n",
    "models['ranking']['model'] = AutoModel.from_pretrained('/dlabdata1/tsoares/models/roberta_full_simple/model')\n",
    "models['ranking']['model'].eval()\n",
    "models['ranking']['model'].to('cuda:1')\n",
    "models['ranking']['classification_head'] = nn.Sequential(nn.Linear(models['ranking']['model'].config.hidden_size, models['ranking']['model'].config.hidden_size),\n",
    "                                                         nn.ReLU(),\n",
    "                                                         nn.Linear(models['ranking']['model'].config.hidden_size, 1))\n",
    "models['ranking']['classification_head'].load_state_dict(torch.load('/dlabdata1/tsoares/models/roberta_full_simple/classification_head.pth', map_location='cpu'))\n",
    "models['ranking']['classification_head'].eval()\n",
    "models['ranking']['classification_head'].to('cuda:1')\n",
    "models['ranking']['tokenizer'] = AutoTokenizer.from_pretrained('/dlabdata1/tsoares/models/roberta_full_simple/tokenizer')\n",
    "\n",
    "models['pointwise']['model'] = AutoModel.from_pretrained('/dlabdata1/tsoares/models/roberta_pointwise_simple/model')\n",
    "models['pointwise']['model'].eval()\n",
    "models['pointwise']['model'].to('cuda:1')\n",
    "models['pointwise']['classification_head'] = nn.Sequential(nn.Linear(models['pointwise']['model'].config.hidden_size, models['pointwise']['model'].config.hidden_size),\n",
    "                                                            nn.ReLU(),\n",
    "                                                            nn.Linear(models['pointwise']['model'].config.hidden_size, 2))\n",
    "models['pointwise']['classification_head'].load_state_dict(torch.load('/dlabdata1/tsoares/models/roberta_pointwise_simple/classification_head.pth', map_location='cpu'))\n",
    "models['pointwise']['classification_head'].eval()\n",
    "models['pointwise']['classification_head'].to('cuda:1')\n",
    "models['pointwise']['tokenizer'] = AutoTokenizer.from_pretrained('/dlabdata1/tsoares/models/roberta_pointwise_simple/tokenizer')"
   ]
  },
  {
   "cell_type": "code",
   "execution_count": 7,
   "metadata": {},
   "outputs": [],
   "source": [
    "df = pd.read_parquet('test_data/simple.parquet')\n",
    "\n",
    "target_titles = df['target_title'].apply(fix_title).tolist()\n",
    "target_leads = df['target_lead'].tolist()\n",
    "contexts = [[] for _ in range(len(df))]\n",
    "source_sections = [[] for _ in range(len(df))]\n",
    "for i, (pos_context, section) in enumerate(zip(df['context'].tolist(), df['section'].tolist())):\n",
    "    contexts[i].append(pos_context)\n",
    "    source_sections[i].append(section)\n",
    "for i, neg_contexts in enumerate(df['negative_contexts'].tolist()):\n",
    "    neg_contexts = literal_eval(neg_contexts)\n",
    "    for context in neg_contexts:\n",
    "        contexts[i].append(context['context'])\n",
    "        source_sections[i].append(context['section'])\n",
    "        \n",
    "mention_map_pre = pd.read_parquet('test_data/simple_mention_map.parquet')\n",
    "mention_map_pre = mention_map_pre.to_dict('records')\n",
    "mention_map = {}\n",
    "for row in mention_map_pre:\n",
    "    title = fix_title(row['target_title'])\n",
    "    if title in mention_map:\n",
    "        mention_map[title].append(row['mention'])\n",
    "    else:\n",
    "        mention_map[title] = [row['mention']]\n",
    "        \n",
    "for title in mention_map:\n",
    "    mention_map[title] = list(set([mention.lower() for mention in mention_map[title]]))\n",
    "    if len(mention_map[title]) > 10:\n",
    "        mention_map[title].sort(key=lambda x: len(x))\n",
    "        while len(mention_map[title]) > 10 and len(mention_map[title][0]) < 3:\n",
    "            mention_map[title].pop(0)\n",
    "        mention_map[title] = mention_map[title][:10]\n",
    "        random.shuffle(mention_map[title])\n",
    "    mention_map[title] = ' '.join(mention_map[title])"
   ]
  },
  {
   "cell_type": "code",
   "execution_count": 8,
   "metadata": {},
   "outputs": [],
   "source": [
    "full_scores = {}"
   ]
  },
  {
   "cell_type": "code",
   "execution_count": 9,
   "metadata": {},
   "outputs": [
    {
     "name": "stderr",
     "output_type": "stream",
     "text": [
      "100%|██████████| 1000/1000 [43:59<00:00,  2.64s/it] \n"
     ]
    }
   ],
   "source": [
    "ranking_scores = []\n",
    "with torch.no_grad():\n",
    "    for context, source_section, target_title, target_lead in tqdm(zip(contexts, source_sections, target_titles, target_leads), total=len(target_titles)):\n",
    "        if target_title not in mention_map:\n",
    "            mention_map[target_title] = ''\n",
    "        scores = []\n",
    "        inputs = []\n",
    "        for c, s in zip(context, source_section):\n",
    "            input = [\"\", \"\"]\n",
    "            input[0] = f\"{target_title} {mention_map[target_title]}{models['ranking']['tokenizer'].sep_token}{target_lead}\"\n",
    "            input[1] = f\"{s}{models['ranking']['tokenizer'].sep_token}{c}\"\n",
    "            inputs.append(input)\n",
    "            if len(inputs) == 12:\n",
    "                input_tokens = models['ranking']['tokenizer'](inputs, return_tensors='pt', padding='max_length',\n",
    "                                                               truncation=True, max_length=512).to('cuda:1')\n",
    "                embeddings = models['ranking']['model'](\n",
    "                    **input_tokens)['last_hidden_state'][:, 0, :]\n",
    "                prediction = models['ranking']['classification_head'](\n",
    "                    embeddings).squeeze()\n",
    "                if len(prediction.shape) == 0:\n",
    "                    prediction = prediction.unsqueeze(0)\n",
    "                for score in prediction:\n",
    "                    scores.append(score.item())\n",
    "                inputs = []\n",
    "        if len(inputs) > 0:\n",
    "            input_tokens = models['ranking']['tokenizer'](inputs, return_tensors='pt', padding='max_length',\n",
    "                                                           truncation=True, max_length=512).to('cuda:1')\n",
    "            embeddings = models['ranking']['model'](\n",
    "                **input_tokens)['last_hidden_state'][:, 0, :]\n",
    "            prediction = models['ranking']['classification_head'](\n",
    "                embeddings).squeeze()\n",
    "            if len(prediction.shape) == 0:\n",
    "                prediction = prediction.unsqueeze(0)\n",
    "            for score in prediction:\n",
    "                scores.append(score.item())\n",
    "        ranking_scores.append(scores)\n",
    "full_scores['ranking'] = ranking_scores"
   ]
  },
  {
   "cell_type": "code",
   "execution_count": 10,
   "metadata": {},
   "outputs": [
    {
     "name": "stderr",
     "output_type": "stream",
     "text": [
      "100%|██████████| 1000/1000 [43:42<00:00,  2.62s/it] \n"
     ]
    }
   ],
   "source": [
    "pointwise_scores = []\n",
    "with torch.no_grad():\n",
    "    for context, source_section, target_title, target_lead in tqdm(zip(contexts, source_sections, target_titles, target_leads), total=len(target_titles)):\n",
    "        if target_title not in mention_map:\n",
    "            mention_map[target_title] = ''\n",
    "        scores = []\n",
    "        inputs = []\n",
    "        for c, s in zip(context, source_section):\n",
    "            input = [\"\", \"\"]\n",
    "            input[0] = f\"{target_title} {mention_map[target_title]}{models['pointwise']['tokenizer'].sep_token}{target_lead}\"\n",
    "            input[1] = f\"{s}{models['pointwise']['tokenizer'].sep_token}{c}\"\n",
    "            inputs.append(input)\n",
    "            if len(inputs) == 12:\n",
    "                input_tokens = models['pointwise']['tokenizer'](inputs, return_tensors='pt', padding='max_length',\n",
    "                                                               truncation=True, max_length=512).to('cuda:1')\n",
    "                embeddings = models['pointwise']['model'](\n",
    "                    **input_tokens)['last_hidden_state'][:, 0, :]\n",
    "                prediction = models['pointwise']['classification_head'](\n",
    "                    embeddings).squeeze()\n",
    "                if len(prediction.shape) == 1:\n",
    "                    prediction = prediction.unsqueeze(0)\n",
    "                for score in prediction:\n",
    "                    scores.append(score[1].item())\n",
    "                inputs = []\n",
    "        if len(inputs) > 0:\n",
    "            input_tokens = models['pointwise']['tokenizer'](inputs, return_tensors='pt', padding='max_length',\n",
    "                                                           truncation=True, max_length=512).to('cuda:1')\n",
    "            embeddings = models['pointwise']['model'](\n",
    "                **input_tokens)['last_hidden_state'][:, 0, :]\n",
    "            prediction = models['pointwise']['classification_head'](\n",
    "                embeddings).squeeze()\n",
    "            if len(prediction.shape) == 1:\n",
    "                prediction = prediction.unsqueeze(0)\n",
    "            for score in prediction:\n",
    "                scores.append(score[1].item())\n",
    "        pointwise_scores.append(scores)\n",
    "full_scores['pointwise'] = pointwise_scores"
   ]
  },
  {
   "cell_type": "code",
   "execution_count": 11,
   "metadata": {},
   "outputs": [],
   "source": [
    "# save scores to parquet\n",
    "for key in full_scores:\n",
    "    for i in range(len(full_scores[key])):\n",
    "        # save to string\n",
    "        full_scores[key][i] = str(full_scores[key][i])\n",
    "\n",
    "new_df = pd.DataFrame(full_scores)\n",
    "new_df.to_parquet('ranking_pointwise_scores.parquet')"
   ]
  },
  {
   "cell_type": "markdown",
   "metadata": {},
   "source": [
    "# Analyze results"
   ]
  },
  {
   "cell_type": "code",
   "execution_count": 19,
   "metadata": {},
   "outputs": [
    {
     "name": "stdout",
     "output_type": "stream",
     "text": [
      "                                               ranking  \\\n",
      "0    [30.128019332885742, 15.586308479309082, 13.81...   \n",
      "1               [24.00469970703125, 24.00469970703125]   \n",
      "2             [30.303787231445312, 30.303787231445312]   \n",
      "3    [17.560104370117188, 17.267742156982422, 11.02...   \n",
      "4    [17.842689514160156, 14.384617805480957, 16.27...   \n",
      "..                                                 ...   \n",
      "995              [14.66259479522705, 13.1095552444458]   \n",
      "996  [27.3925724029541, 16.834810256958008, 27.3925...   \n",
      "997  [20.923992156982422, 13.914434432983398, 12.21...   \n",
      "998           [24.554214477539062, 12.969429016113281]   \n",
      "999  [23.55314826965332, 14.042487144470215, 7.6408...   \n",
      "\n",
      "                                             pointwise  \n",
      "0    [2.7909767627716064, -1.654488205909729, -2.99...  \n",
      "1           [0.22363175451755524, 0.22363175451755524]  \n",
      "2           [0.41630303859710693, 0.41630303859710693]  \n",
      "3    [-0.7827037572860718, -0.5178406238555908, -3....  \n",
      "4    [0.3787843883037567, -1.9589462280273438, -1.4...  \n",
      "..                                                 ...  \n",
      "995          [0.8334840536117554, 0.05845673382282257]  \n",
      "996  [0.429754376411438, -0.6020293831825256, 0.429...  \n",
      "997  [1.600897192955017, -1.490260362625122, -2.717...  \n",
      "998         [1.3173041343688965, -0.39129579067230225]  \n",
      "999  [-1.3613041639328003, -2.6455023288726807, -3....  \n",
      "\n",
      "[1000 rows x 2 columns]\n"
     ]
    }
   ],
   "source": [
    "df = pd.read_parquet('ranking_pointwise_scores.parquet')\n",
    "print(df)\n",
    "df = df.to_dict('records')"
   ]
  },
  {
   "cell_type": "code",
   "execution_count": 23,
   "metadata": {},
   "outputs": [],
   "source": [
    "scores = {'false_positives': {'ranking': [], 'pointwise': []},\n",
    "          'false_negatives': {'ranking': [], 'pointwise': []},\n",
    "          'true_positives': {'ranking': [], 'pointwise': []},\n",
    "          'true_negatives': {'ranking': [], 'pointwise': []}}\n",
    "\n",
    "for row in df:\n",
    "    ranking_scores = literal_eval(row['ranking'])\n",
    "    pointwise_scores = literal_eval(row['pointwise'])\n",
    "    \n",
    "    ranking_pos = ranking_scores[0]\n",
    "    updated = False\n",
    "    for score in ranking_scores[1:]:\n",
    "        if score > ranking_pos:\n",
    "            if updated:\n",
    "                scores['true_negatives']['ranking'].append(ranking_pos)\n",
    "            else:\n",
    "                scores['false_negatives']['ranking'].append(ranking_pos)\n",
    "                updated = True\n",
    "            ranking_pos = score\n",
    "        else:\n",
    "            scores['true_negatives']['ranking'].append(score)\n",
    "    if updated:\n",
    "        scores['false_positives']['ranking'].append(ranking_pos)\n",
    "    else:\n",
    "        scores['true_positives']['ranking'].append(ranking_pos)\n",
    "    \n",
    "    pointwise_pos = pointwise_scores[0]\n",
    "    updated = False\n",
    "    for score in pointwise_scores[1:]:\n",
    "        if score > pointwise_pos:\n",
    "            if updated:\n",
    "                scores['true_negatives']['pointwise'].append(pointwise_pos)\n",
    "            else:\n",
    "                scores['false_negatives']['pointwise'].append(pointwise_pos)\n",
    "                updated = True\n",
    "            pointwise_pos = score\n",
    "        else:\n",
    "            scores['true_negatives']['pointwise'].append(score)\n",
    "    if updated:\n",
    "        scores['false_positives']['pointwise'].append(pointwise_pos)\n",
    "    else:\n",
    "        scores['true_positives']['pointwise'].append(pointwise_pos)"
   ]
  },
  {
   "cell_type": "code",
   "execution_count": 31,
   "metadata": {},
   "outputs": [
    {
     "data": {
      "text/plain": [
       "<matplotlib.legend.Legend at 0x7fd3b0efd0a0>"
      ]
     },
     "execution_count": 31,
     "metadata": {},
     "output_type": "execute_result"
    },
    {
     "data": {
      "image/png": "[encoded data removed]",
      "text/plain": [
       "<Figure size 640x480 with 4 Axes>"
      ]
     },
     "metadata": {},
     "output_type": "display_data"
    }
   ],
   "source": [
    "# plot a histogram of the positives and the negatives, in a 2x2 grid\n",
    "# normalize the histograms to have the same height\n",
    "import matplotlib.pyplot as plt\n",
    "import numpy as np\n",
    "\n",
    "fig, axs = plt.subplots(2, 2)\n",
    "\n",
    "axs[0, 0].hist(scores['true_positives']['ranking'], bins=20, alpha=0.5, label='Ranking True Positives', density=True)\n",
    "axs[0, 0].hist(scores['true_positives']['pointwise'], bins=20, alpha=0.5, label='Pointwise True Positives', density=True)\n",
    "axs[0, 0].legend(loc='upper right')\n",
    "\n",
    "axs[0, 1].hist(scores['false_positives']['ranking'], bins=20, alpha=0.5, label='Ranking False Positives', density=True)\n",
    "axs[0, 1].hist(scores['false_positives']['pointwise'], bins=20, alpha=0.5, label='Pointwise False Positives', density=True)\n",
    "axs[0, 1].legend(loc='upper right')\n",
    "\n",
    "axs[1, 0].hist(scores['true_negatives']['ranking'], bins=20, alpha=0.5, label='Ranking True Negatives', density=True)\n",
    "axs[1, 0].hist(scores['true_negatives']['pointwise'], bins=20, alpha=0.5, label='Pointwise True Negatives', density=True)\n",
    "axs[1, 0].legend(loc='upper right')\n",
    "\n",
    "axs[1, 1].hist(scores['false_negatives']['ranking'], bins=20, alpha=0.5, label='Ranking False Negatives', density=True)\n",
    "axs[1, 1].hist(scores['false_negatives']['pointwise'], bins=20, alpha=0.5, label='Pointwise False Negatives', density=True)\n",
    "axs[1, 1].legend(loc='upper right')"
   ]
  },
  {
   "cell_type": "code",
   "execution_count": 25,
   "metadata": {},
   "outputs": [],
   "source": [
    "positives = {'ranking': scores['true_positives']['ranking'] + scores['false_positives']['ranking'],\n",
    "             'pointwise': scores['true_positives']['pointwise'] + scores['false_positives']['pointwise']}\n",
    "negatives = {'ranking': scores['true_negatives']['ranking'] + scores['false_negatives']['ranking'],\n",
    "             'pointwise': scores['true_negatives']['pointwise'] + scores['false_negatives']['pointwise']}"
   ]
  },
  {
   "cell_type": "code",
   "execution_count": 36,
   "metadata": {},
   "outputs": [
    {
     "data": {
      "text/plain": [
       "<matplotlib.legend.Legend at 0x7fd39b3b8820>"
      ]
     },
     "execution_count": 36,
     "metadata": {},
     "output_type": "execute_result"
    },
    {
     "data": {
      "image/png": "[encoded data removed]",
      "text/plain": [
       "<Figure size 640x480 with 2 Axes>"
      ]
     },
     "metadata": {},
     "output_type": "display_data"
    }
   ],
   "source": [
    "# plot a 2x1 grid of histograms, one for the pointwise and one for the ranking\n",
    "fig, axs = plt.subplots(2, 1)\n",
    "\n",
    "axs[0].hist(positives['ranking'], bins=20, alpha=0.5, label='Ranking Positives', density=True)\n",
    "axs[0].hist(negatives['ranking'], bins=20, alpha=0.5, label='Ranking Negatives', density=True)\n",
    "axs[0].legend(loc='upper right')\n",
    "\n",
    "axs[1].hist(positives['pointwise'], bins=20, alpha=0.5, label='Pointwise Positives', density=True)\n",
    "axs[1].hist(negatives['pointwise'], bins=20, alpha=0.5, label='Pointwise Negatives', density=True)\n",
    "axs[1].legend(loc='upper right')"
   ]
  },
  {
   "cell_type": "code",
   "execution_count": null,
   "metadata": {},
   "outputs": [],
   "source": []
  }
 ],
 "metadata": {
  "kernelspec": {
   "display_name": "wiki_dump",
   "language": "python",
   "name": "python3"
  },
  "language_info": {
   "codemirror_mode": {
    "name": "ipython",
    "version": 3
   },
   "file_extension": ".py",
   "mimetype": "text/x-python",
   "name": "python",
   "nbconvert_exporter": "python",
   "pygments_lexer": "ipython3",
   "version": "3.9.18"
  }
 },
 "nbformat": 4,
 "nbformat_minor": 2
}
