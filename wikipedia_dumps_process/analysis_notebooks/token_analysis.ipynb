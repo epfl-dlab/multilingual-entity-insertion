{
 "cells": [
  {
   "cell_type": "markdown",
   "metadata": {},
   "source": [
    "# Definitions and Imports"
   ]
  },
  {
   "cell_type": "code",
   "execution_count": 21,
   "metadata": {},
   "outputs": [],
   "source": [
    "import pandas as pd\n",
    "from transformers import AutoTokenizer\n",
    "from glob import glob\n",
    "from tqdm import tqdm\n",
    "import matplotlib.pyplot as plt\n",
    "tqdm.pandas()"
   ]
  },
  {
   "cell_type": "code",
   "execution_count": 4,
   "metadata": {},
   "outputs": [],
   "source": [
    "tokenizer = AutoTokenizer.from_pretrained(\"bert-base-uncased\")"
   ]
  },
  {
   "cell_type": "code",
   "execution_count": 5,
   "metadata": {},
   "outputs": [],
   "source": [
    "root = \"/scratch/tsoares/wikidumps/simplewiki-NS0-20230901/processed_data/\""
   ]
  },
  {
   "cell_type": "markdown",
   "metadata": {},
   "source": [
    "# Load Data"
   ]
  },
  {
   "cell_type": "code",
   "execution_count": 7,
   "metadata": {},
   "outputs": [],
   "source": [
    "files_links = glob(root + \"good_links*\")\n",
    "files_pages = glob(root + \"good_pages*\")"
   ]
  },
  {
   "cell_type": "code",
   "execution_count": 10,
   "metadata": {},
   "outputs": [
    {
     "name": "stderr",
     "output_type": "stream",
     "text": [
      "  0%|          | 0/2 [00:00<?, ?it/s]"
     ]
    },
    {
     "name": "stderr",
     "output_type": "stream",
     "text": [
      "100%|██████████| 2/2 [00:08<00:00,  4.48s/it]\n"
     ]
    },
    {
     "data": {
      "text/html": [
       "<div>\n",
       "<style scoped>\n",
       "    .dataframe tbody tr th:only-of-type {\n",
       "        vertical-align: middle;\n",
       "    }\n",
       "\n",
       "    .dataframe tbody tr th {\n",
       "        vertical-align: top;\n",
       "    }\n",
       "\n",
       "    .dataframe thead th {\n",
       "        text-align: right;\n",
       "    }\n",
       "</style>\n",
       "<table border=\"1\" class=\"dataframe\">\n",
       "  <thead>\n",
       "    <tr style=\"text-align: right;\">\n",
       "      <th></th>\n",
       "      <th>target_title</th>\n",
       "      <th>target_section</th>\n",
       "      <th>source_title</th>\n",
       "      <th>target_ID</th>\n",
       "      <th>target_QID</th>\n",
       "      <th>source_ID</th>\n",
       "      <th>source_QID</th>\n",
       "      <th>source_version</th>\n",
       "      <th>link_ID</th>\n",
       "      <th>mention</th>\n",
       "      <th>...</th>\n",
       "      <th>sentence_end_index</th>\n",
       "      <th>source_page_length</th>\n",
       "      <th>link_section_depth</th>\n",
       "      <th>context</th>\n",
       "      <th>context_sentence_start_index</th>\n",
       "      <th>context_sentence_end_index</th>\n",
       "      <th>context_mention_start_index</th>\n",
       "      <th>context_mention_end_index</th>\n",
       "      <th>context_span_start_index</th>\n",
       "      <th>context_span_end_index</th>\n",
       "    </tr>\n",
       "  </thead>\n",
       "  <tbody>\n",
       "    <tr>\n",
       "      <th>0</th>\n",
       "      <td>Leap_year</td>\n",
       "      <td>Lead</td>\n",
       "      <td>October_10</td>\n",
       "      <td>434</td>\n",
       "      <td>Q19828</td>\n",
       "      <td>10067</td>\n",
       "      <td>Q2921</td>\n",
       "      <td>https://simple.wikipedia.org/w/index.php?title...</td>\n",
       "      <td>None</td>\n",
       "      <td>leap years</td>\n",
       "      <td>...</td>\n",
       "      <td>40296</td>\n",
       "      <td>170177</td>\n",
       "      <td>0.0.0</td>\n",
       "      <td>October 10 is the 283rd day of the year (284th...</td>\n",
       "      <td>0.0</td>\n",
       "      <td>88.0</td>\n",
       "      <td>50.0</td>\n",
       "      <td>60.0</td>\n",
       "      <td>0.0</td>\n",
       "      <td>143.0</td>\n",
       "    </tr>\n",
       "    <tr>\n",
       "      <th>1</th>\n",
       "      <td>Gregorian_calendar</td>\n",
       "      <td>Lead</td>\n",
       "      <td>October_10</td>\n",
       "      <td>12159</td>\n",
       "      <td>Q12138</td>\n",
       "      <td>10067</td>\n",
       "      <td>Q2921</td>\n",
       "      <td>https://simple.wikipedia.org/w/index.php?title...</td>\n",
       "      <td>None</td>\n",
       "      <td>Gregorian calendar</td>\n",
       "      <td>...</td>\n",
       "      <td>40296</td>\n",
       "      <td>170177</td>\n",
       "      <td>0.0.0</td>\n",
       "      <td>October 10 is the 283rd day of the year (284th...</td>\n",
       "      <td>0.0</td>\n",
       "      <td>88.0</td>\n",
       "      <td>69.0</td>\n",
       "      <td>87.0</td>\n",
       "      <td>0.0</td>\n",
       "      <td>143.0</td>\n",
       "    </tr>\n",
       "    <tr>\n",
       "      <th>2</th>\n",
       "      <td>19</td>\n",
       "      <td>Lead</td>\n",
       "      <td>October_10</td>\n",
       "      <td>51220</td>\n",
       "      <td>Q23761</td>\n",
       "      <td>10067</td>\n",
       "      <td>Q2921</td>\n",
       "      <td>https://simple.wikipedia.org/w/index.php?title...</td>\n",
       "      <td>mwCQ</td>\n",
       "      <td>19</td>\n",
       "      <td>...</td>\n",
       "      <td>40937</td>\n",
       "      <td>170177</td>\n",
       "      <td>1.0.0</td>\n",
       "      <td>Events\\n19 - Roman general Germanicus dies und...</td>\n",
       "      <td>7.0</td>\n",
       "      <td>106.0</td>\n",
       "      <td>7.0</td>\n",
       "      <td>9.0</td>\n",
       "      <td>7.0</td>\n",
       "      <td>177.0</td>\n",
       "    </tr>\n",
       "    <tr>\n",
       "      <th>3</th>\n",
       "      <td>Germanicus</td>\n",
       "      <td>Lead</td>\n",
       "      <td>October_10</td>\n",
       "      <td>58348</td>\n",
       "      <td>Q191039</td>\n",
       "      <td>10067</td>\n",
       "      <td>Q2921</td>\n",
       "      <td>https://simple.wikipedia.org/w/index.php?title...</td>\n",
       "      <td>mwCg</td>\n",
       "      <td>Germanicus</td>\n",
       "      <td>...</td>\n",
       "      <td>40937</td>\n",
       "      <td>170177</td>\n",
       "      <td>1.0.0</td>\n",
       "      <td>Events\\n19 - Roman general Germanicus dies und...</td>\n",
       "      <td>7.0</td>\n",
       "      <td>106.0</td>\n",
       "      <td>26.0</td>\n",
       "      <td>36.0</td>\n",
       "      <td>7.0</td>\n",
       "      <td>177.0</td>\n",
       "    </tr>\n",
       "    <tr>\n",
       "      <th>4</th>\n",
       "      <td>Antioch</td>\n",
       "      <td>Lead</td>\n",
       "      <td>October_10</td>\n",
       "      <td>59366</td>\n",
       "      <td>Q200441</td>\n",
       "      <td>10067</td>\n",
       "      <td>Q2921</td>\n",
       "      <td>https://simple.wikipedia.org/w/index.php?title...</td>\n",
       "      <td>mwCw</td>\n",
       "      <td>Antioch</td>\n",
       "      <td>...</td>\n",
       "      <td>40937</td>\n",
       "      <td>170177</td>\n",
       "      <td>1.0.0</td>\n",
       "      <td>Events\\n19 - Roman general Germanicus dies und...</td>\n",
       "      <td>7.0</td>\n",
       "      <td>106.0</td>\n",
       "      <td>76.0</td>\n",
       "      <td>83.0</td>\n",
       "      <td>7.0</td>\n",
       "      <td>177.0</td>\n",
       "    </tr>\n",
       "    <tr>\n",
       "      <th>...</th>\n",
       "      <td>...</td>\n",
       "      <td>...</td>\n",
       "      <td>...</td>\n",
       "      <td>...</td>\n",
       "      <td>...</td>\n",
       "      <td>...</td>\n",
       "      <td>...</td>\n",
       "      <td>...</td>\n",
       "      <td>...</td>\n",
       "      <td>...</td>\n",
       "      <td>...</td>\n",
       "      <td>...</td>\n",
       "      <td>...</td>\n",
       "      <td>...</td>\n",
       "      <td>...</td>\n",
       "      <td>...</td>\n",
       "      <td>...</td>\n",
       "      <td>...</td>\n",
       "      <td>...</td>\n",
       "      <td>...</td>\n",
       "      <td>...</td>\n",
       "    </tr>\n",
       "    <tr>\n",
       "      <th>2581139</th>\n",
       "      <td>German_reunification</td>\n",
       "      <td>Lead</td>\n",
       "      <td>October_3</td>\n",
       "      <td>32070</td>\n",
       "      <td>Q56039</td>\n",
       "      <td>9944</td>\n",
       "      <td>Q2931</td>\n",
       "      <td>https://simple.wikipedia.org/w/index.php?title...</td>\n",
       "      <td>mwBhQ</td>\n",
       "      <td>German reunification</td>\n",
       "      <td>...</td>\n",
       "      <td>205648</td>\n",
       "      <td>206125</td>\n",
       "      <td>4.0.0</td>\n",
       "      <td>Observances\\n Unity Day (Germany), marking the...</td>\n",
       "      <td>13.0</td>\n",
       "      <td>76.0</td>\n",
       "      <td>46.0</td>\n",
       "      <td>66.0</td>\n",
       "      <td>12.0</td>\n",
       "      <td>75.0</td>\n",
       "    </tr>\n",
       "    <tr>\n",
       "      <th>2581140</th>\n",
       "      <td>1990</td>\n",
       "      <td>Lead</td>\n",
       "      <td>October_3</td>\n",
       "      <td>8905</td>\n",
       "      <td>Q2064</td>\n",
       "      <td>9944</td>\n",
       "      <td>Q2931</td>\n",
       "      <td>https://simple.wikipedia.org/w/index.php?title...</td>\n",
       "      <td>mwBhU</td>\n",
       "      <td>1990</td>\n",
       "      <td>...</td>\n",
       "      <td>205648</td>\n",
       "      <td>206125</td>\n",
       "      <td>4.0.0</td>\n",
       "      <td>Observances\\n Unity Day (Germany), marking the...</td>\n",
       "      <td>13.0</td>\n",
       "      <td>76.0</td>\n",
       "      <td>70.0</td>\n",
       "      <td>74.0</td>\n",
       "      <td>12.0</td>\n",
       "      <td>75.0</td>\n",
       "    </tr>\n",
       "    <tr>\n",
       "      <th>2581141</th>\n",
       "      <td>South_Korea</td>\n",
       "      <td>Lead</td>\n",
       "      <td>October_3</td>\n",
       "      <td>5073</td>\n",
       "      <td>Q884</td>\n",
       "      <td>9944</td>\n",
       "      <td>Q2931</td>\n",
       "      <td>https://simple.wikipedia.org/w/index.php?title...</td>\n",
       "      <td>mwBhc</td>\n",
       "      <td>South Korea</td>\n",
       "      <td>...</td>\n",
       "      <td>205781</td>\n",
       "      <td>206125</td>\n",
       "      <td>4.0.0</td>\n",
       "      <td>Observances\\n Unity Day (Germany), marking the...</td>\n",
       "      <td>77.0</td>\n",
       "      <td>107.0</td>\n",
       "      <td>93.0</td>\n",
       "      <td>104.0</td>\n",
       "      <td>76.0</td>\n",
       "      <td>106.0</td>\n",
       "    </tr>\n",
       "    <tr>\n",
       "      <th>2581142</th>\n",
       "      <td>Iraq</td>\n",
       "      <td>Lead</td>\n",
       "      <td>October_3</td>\n",
       "      <td>26175</td>\n",
       "      <td>Q796</td>\n",
       "      <td>9944</td>\n",
       "      <td>Q2931</td>\n",
       "      <td>https://simple.wikipedia.org/w/index.php?title...</td>\n",
       "      <td>mwBhk</td>\n",
       "      <td>Iraq</td>\n",
       "      <td>...</td>\n",
       "      <td>205885</td>\n",
       "      <td>206125</td>\n",
       "      <td>4.0.0</td>\n",
       "      <td>Observances\\n Unity Day (Germany), marking the...</td>\n",
       "      <td>108.0</td>\n",
       "      <td>129.0</td>\n",
       "      <td>122.0</td>\n",
       "      <td>126.0</td>\n",
       "      <td>107.0</td>\n",
       "      <td>128.0</td>\n",
       "    </tr>\n",
       "    <tr>\n",
       "      <th>2581143</th>\n",
       "      <td>Honduras</td>\n",
       "      <td>Lead</td>\n",
       "      <td>October_3</td>\n",
       "      <td>15789</td>\n",
       "      <td>Q783</td>\n",
       "      <td>9944</td>\n",
       "      <td>Q2931</td>\n",
       "      <td>https://simple.wikipedia.org/w/index.php?title...</td>\n",
       "      <td>mwBhs</td>\n",
       "      <td>Honduras</td>\n",
       "      <td>...</td>\n",
       "      <td>206007</td>\n",
       "      <td>206125</td>\n",
       "      <td>4.0.0</td>\n",
       "      <td>Observances\\n Unity Day (Germany), marking the...</td>\n",
       "      <td>130.0</td>\n",
       "      <td>155.0</td>\n",
       "      <td>145.0</td>\n",
       "      <td>153.0</td>\n",
       "      <td>129.0</td>\n",
       "      <td>155.0</td>\n",
       "    </tr>\n",
       "  </tbody>\n",
       "</table>\n",
       "<p>2581144 rows × 26 columns</p>\n",
       "</div>"
      ],
      "text/plain": [
       "                 target_title target_section source_title target_ID  \\\n",
       "0                   Leap_year           Lead   October_10       434   \n",
       "1          Gregorian_calendar           Lead   October_10     12159   \n",
       "2                          19           Lead   October_10     51220   \n",
       "3                  Germanicus           Lead   October_10     58348   \n",
       "4                     Antioch           Lead   October_10     59366   \n",
       "...                       ...            ...          ...       ...   \n",
       "2581139  German_reunification           Lead    October_3     32070   \n",
       "2581140                  1990           Lead    October_3      8905   \n",
       "2581141           South_Korea           Lead    October_3      5073   \n",
       "2581142                  Iraq           Lead    October_3     26175   \n",
       "2581143              Honduras           Lead    October_3     15789   \n",
       "\n",
       "        target_QID source_ID source_QID  \\\n",
       "0           Q19828     10067      Q2921   \n",
       "1           Q12138     10067      Q2921   \n",
       "2           Q23761     10067      Q2921   \n",
       "3          Q191039     10067      Q2921   \n",
       "4          Q200441     10067      Q2921   \n",
       "...            ...       ...        ...   \n",
       "2581139     Q56039      9944      Q2931   \n",
       "2581140      Q2064      9944      Q2931   \n",
       "2581141       Q884      9944      Q2931   \n",
       "2581142       Q796      9944      Q2931   \n",
       "2581143       Q783      9944      Q2931   \n",
       "\n",
       "                                            source_version link_ID  \\\n",
       "0        https://simple.wikipedia.org/w/index.php?title...    None   \n",
       "1        https://simple.wikipedia.org/w/index.php?title...    None   \n",
       "2        https://simple.wikipedia.org/w/index.php?title...    mwCQ   \n",
       "3        https://simple.wikipedia.org/w/index.php?title...    mwCg   \n",
       "4        https://simple.wikipedia.org/w/index.php?title...    mwCw   \n",
       "...                                                    ...     ...   \n",
       "2581139  https://simple.wikipedia.org/w/index.php?title...   mwBhQ   \n",
       "2581140  https://simple.wikipedia.org/w/index.php?title...   mwBhU   \n",
       "2581141  https://simple.wikipedia.org/w/index.php?title...   mwBhc   \n",
       "2581142  https://simple.wikipedia.org/w/index.php?title...   mwBhk   \n",
       "2581143  https://simple.wikipedia.org/w/index.php?title...   mwBhs   \n",
       "\n",
       "                      mention  ... sentence_end_index  source_page_length  \\\n",
       "0                  leap years  ...              40296              170177   \n",
       "1          Gregorian calendar  ...              40296              170177   \n",
       "2                          19  ...              40937              170177   \n",
       "3                  Germanicus  ...              40937              170177   \n",
       "4                     Antioch  ...              40937              170177   \n",
       "...                       ...  ...                ...                 ...   \n",
       "2581139  German reunification  ...             205648              206125   \n",
       "2581140                  1990  ...             205648              206125   \n",
       "2581141           South Korea  ...             205781              206125   \n",
       "2581142                  Iraq  ...             205885              206125   \n",
       "2581143              Honduras  ...             206007              206125   \n",
       "\n",
       "         link_section_depth  \\\n",
       "0                     0.0.0   \n",
       "1                     0.0.0   \n",
       "2                     1.0.0   \n",
       "3                     1.0.0   \n",
       "4                     1.0.0   \n",
       "...                     ...   \n",
       "2581139               4.0.0   \n",
       "2581140               4.0.0   \n",
       "2581141               4.0.0   \n",
       "2581142               4.0.0   \n",
       "2581143               4.0.0   \n",
       "\n",
       "                                                   context  \\\n",
       "0        October 10 is the 283rd day of the year (284th...   \n",
       "1        October 10 is the 283rd day of the year (284th...   \n",
       "2        Events\\n19 - Roman general Germanicus dies und...   \n",
       "3        Events\\n19 - Roman general Germanicus dies und...   \n",
       "4        Events\\n19 - Roman general Germanicus dies und...   \n",
       "...                                                    ...   \n",
       "2581139  Observances\\n Unity Day (Germany), marking the...   \n",
       "2581140  Observances\\n Unity Day (Germany), marking the...   \n",
       "2581141  Observances\\n Unity Day (Germany), marking the...   \n",
       "2581142  Observances\\n Unity Day (Germany), marking the...   \n",
       "2581143  Observances\\n Unity Day (Germany), marking the...   \n",
       "\n",
       "        context_sentence_start_index  context_sentence_end_index  \\\n",
       "0                                0.0                        88.0   \n",
       "1                                0.0                        88.0   \n",
       "2                                7.0                       106.0   \n",
       "3                                7.0                       106.0   \n",
       "4                                7.0                       106.0   \n",
       "...                              ...                         ...   \n",
       "2581139                         13.0                        76.0   \n",
       "2581140                         13.0                        76.0   \n",
       "2581141                         77.0                       107.0   \n",
       "2581142                        108.0                       129.0   \n",
       "2581143                        130.0                       155.0   \n",
       "\n",
       "         context_mention_start_index  context_mention_end_index  \\\n",
       "0                               50.0                       60.0   \n",
       "1                               69.0                       87.0   \n",
       "2                                7.0                        9.0   \n",
       "3                               26.0                       36.0   \n",
       "4                               76.0                       83.0   \n",
       "...                              ...                        ...   \n",
       "2581139                         46.0                       66.0   \n",
       "2581140                         70.0                       74.0   \n",
       "2581141                         93.0                      104.0   \n",
       "2581142                        122.0                      126.0   \n",
       "2581143                        145.0                      153.0   \n",
       "\n",
       "        context_span_start_index context_span_end_index  \n",
       "0                            0.0                  143.0  \n",
       "1                            0.0                  143.0  \n",
       "2                            7.0                  177.0  \n",
       "3                            7.0                  177.0  \n",
       "4                            7.0                  177.0  \n",
       "...                          ...                    ...  \n",
       "2581139                     12.0                   75.0  \n",
       "2581140                     12.0                   75.0  \n",
       "2581141                     76.0                  106.0  \n",
       "2581142                    107.0                  128.0  \n",
       "2581143                    129.0                  155.0  \n",
       "\n",
       "[2581144 rows x 26 columns]"
      ]
     },
     "execution_count": 10,
     "metadata": {},
     "output_type": "execute_result"
    }
   ],
   "source": [
    "dfs = []\n",
    "for file in tqdm(files_links):\n",
    "    dfs.append(pd.read_parquet(file))\n",
    "df_links = pd.concat(dfs)\n",
    "df_links = df_links.reset_index(drop=True)\n",
    "df_links"
   ]
  },
  {
   "cell_type": "code",
   "execution_count": 11,
   "metadata": {},
   "outputs": [
    {
     "name": "stderr",
     "output_type": "stream",
     "text": [
      "100%|██████████| 2/2 [00:31<00:00, 15.84s/it]\n"
     ]
    },
    {
     "data": {
      "text/html": [
       "<div>\n",
       "<style scoped>\n",
       "    .dataframe tbody tr th:only-of-type {\n",
       "        vertical-align: middle;\n",
       "    }\n",
       "\n",
       "    .dataframe tbody tr th {\n",
       "        vertical-align: top;\n",
       "    }\n",
       "\n",
       "    .dataframe thead th {\n",
       "        text-align: right;\n",
       "    }\n",
       "</style>\n",
       "<table border=\"1\" class=\"dataframe\">\n",
       "  <thead>\n",
       "    <tr style=\"text-align: right;\">\n",
       "      <th></th>\n",
       "      <th>title</th>\n",
       "      <th>ID</th>\n",
       "      <th>version</th>\n",
       "      <th>HTML</th>\n",
       "      <th>page_length</th>\n",
       "      <th>language</th>\n",
       "      <th>lead_paragraph</th>\n",
       "      <th>QID</th>\n",
       "    </tr>\n",
       "  </thead>\n",
       "  <tbody>\n",
       "    <tr>\n",
       "      <th>0</th>\n",
       "      <td>October_10</td>\n",
       "      <td>10067</td>\n",
       "      <td>https://simple.wikipedia.org/w/index.php?title...</td>\n",
       "      <td>&lt;!DOCTYPE html&gt;\\n&lt;html prefix=\"dc: http://purl...</td>\n",
       "      <td>170177.0</td>\n",
       "      <td>simple</td>\n",
       "      <td>October 10 is the 283rd day of the year in the...</td>\n",
       "      <td>Q2921</td>\n",
       "    </tr>\n",
       "    <tr>\n",
       "      <th>1</th>\n",
       "      <td>Organic_matter</td>\n",
       "      <td>73756</td>\n",
       "      <td>https://simple.wikipedia.org/w/index.php?title...</td>\n",
       "      <td>&lt;!DOCTYPE html&gt;\\n&lt;html prefix=\"dc: http://purl...</td>\n",
       "      <td>6789.0</td>\n",
       "      <td>simple</td>\n",
       "      <td>Organic matter is matter that has come from a ...</td>\n",
       "      <td>Q1783121</td>\n",
       "    </tr>\n",
       "    <tr>\n",
       "      <th>2</th>\n",
       "      <td>Pleiotropism</td>\n",
       "      <td>215655</td>\n",
       "      <td>https://simple.wikipedia.org/w/index.php?title...</td>\n",
       "      <td>&lt;!DOCTYPE html&gt;\\n&lt;html prefix=\"dc: http://purl...</td>\n",
       "      <td>8728.0</td>\n",
       "      <td>simple</td>\n",
       "      <td>Pleiotropism is a central term in developmenta...</td>\n",
       "      <td>Q1134884</td>\n",
       "    </tr>\n",
       "    <tr>\n",
       "      <th>3</th>\n",
       "      <td>Please_Mr._Postman</td>\n",
       "      <td>459503</td>\n",
       "      <td>https://simple.wikipedia.org/w/index.php?title...</td>\n",
       "      <td>&lt;!DOCTYPE html&gt;\\n&lt;html prefix=\"dc: http://purl...</td>\n",
       "      <td>46184.0</td>\n",
       "      <td>simple</td>\n",
       "      <td>\"Please Mr. Postman\" is the first single of Th...</td>\n",
       "      <td>Q778055</td>\n",
       "    </tr>\n",
       "    <tr>\n",
       "      <th>4</th>\n",
       "      <td>Plectrohyla_tecunumani</td>\n",
       "      <td>889674</td>\n",
       "      <td>https://simple.wikipedia.org/w/index.php?title...</td>\n",
       "      <td>&lt;!DOCTYPE html&gt;\\n&lt;html prefix=\"dc: http://purl...</td>\n",
       "      <td>26320.0</td>\n",
       "      <td>simple</td>\n",
       "      <td>The cave spikethumb frog is a frog that lives ...</td>\n",
       "      <td>Q748021</td>\n",
       "    </tr>\n",
       "    <tr>\n",
       "      <th>...</th>\n",
       "      <td>...</td>\n",
       "      <td>...</td>\n",
       "      <td>...</td>\n",
       "      <td>...</td>\n",
       "      <td>...</td>\n",
       "      <td>...</td>\n",
       "      <td>...</td>\n",
       "      <td>...</td>\n",
       "    </tr>\n",
       "    <tr>\n",
       "      <th>236080</th>\n",
       "      <td>The_False_Madonna</td>\n",
       "      <td>887841</td>\n",
       "      <td>https://simple.wikipedia.org/w/index.php?title...</td>\n",
       "      <td>&lt;!DOCTYPE html&gt;\\n&lt;html prefix=\"dc: http://purl...</td>\n",
       "      <td>5249.0</td>\n",
       "      <td>simple</td>\n",
       "      <td>The False Madonna is a 1931 American drama mov...</td>\n",
       "      <td>Q19363895</td>\n",
       "    </tr>\n",
       "    <tr>\n",
       "      <th>236081</th>\n",
       "      <td>The_Eyes_of_Annie_Jones</td>\n",
       "      <td>761141</td>\n",
       "      <td>https://simple.wikipedia.org/w/index.php?title...</td>\n",
       "      <td>&lt;!DOCTYPE html&gt;\\n&lt;html prefix=\"dc: http://purl...</td>\n",
       "      <td>7070.0</td>\n",
       "      <td>simple</td>\n",
       "      <td>The Eyes of Annie Jones is a 1964 British Amer...</td>\n",
       "      <td>Q7732939</td>\n",
       "    </tr>\n",
       "    <tr>\n",
       "      <th>236082</th>\n",
       "      <td>October_23</td>\n",
       "      <td>10069</td>\n",
       "      <td>https://simple.wikipedia.org/w/index.php?title...</td>\n",
       "      <td>&lt;!DOCTYPE html&gt;\\n&lt;html prefix=\"dc: http://purl...</td>\n",
       "      <td>152452.0</td>\n",
       "      <td>simple</td>\n",
       "      <td>October 23 is the 296th day of the year in the...</td>\n",
       "      <td>Q2958</td>\n",
       "    </tr>\n",
       "    <tr>\n",
       "      <th>236083</th>\n",
       "      <td>Octavio_Paz</td>\n",
       "      <td>67695</td>\n",
       "      <td>https://simple.wikipedia.org/w/index.php?title...</td>\n",
       "      <td>&lt;!DOCTYPE html&gt;\\n&lt;html prefix=\"dc: http://purl...</td>\n",
       "      <td>123499.0</td>\n",
       "      <td>simple</td>\n",
       "      <td>Octavio Paz Lozano was a Mexican writer, poet,...</td>\n",
       "      <td>Q46739</td>\n",
       "    </tr>\n",
       "    <tr>\n",
       "      <th>236084</th>\n",
       "      <td>October_3</td>\n",
       "      <td>9944</td>\n",
       "      <td>https://simple.wikipedia.org/w/index.php?title...</td>\n",
       "      <td>&lt;!DOCTYPE html&gt;\\n&lt;html prefix=\"dc: http://purl...</td>\n",
       "      <td>206125.0</td>\n",
       "      <td>simple</td>\n",
       "      <td>October 3 is the 276th day of the year in the ...</td>\n",
       "      <td>Q2931</td>\n",
       "    </tr>\n",
       "  </tbody>\n",
       "</table>\n",
       "<p>236085 rows × 8 columns</p>\n",
       "</div>"
      ],
      "text/plain": [
       "                          title      ID  \\\n",
       "0                    October_10   10067   \n",
       "1                Organic_matter   73756   \n",
       "2                  Pleiotropism  215655   \n",
       "3            Please_Mr._Postman  459503   \n",
       "4        Plectrohyla_tecunumani  889674   \n",
       "...                         ...     ...   \n",
       "236080        The_False_Madonna  887841   \n",
       "236081  The_Eyes_of_Annie_Jones  761141   \n",
       "236082               October_23   10069   \n",
       "236083              Octavio_Paz   67695   \n",
       "236084                October_3    9944   \n",
       "\n",
       "                                                  version  \\\n",
       "0       https://simple.wikipedia.org/w/index.php?title...   \n",
       "1       https://simple.wikipedia.org/w/index.php?title...   \n",
       "2       https://simple.wikipedia.org/w/index.php?title...   \n",
       "3       https://simple.wikipedia.org/w/index.php?title...   \n",
       "4       https://simple.wikipedia.org/w/index.php?title...   \n",
       "...                                                   ...   \n",
       "236080  https://simple.wikipedia.org/w/index.php?title...   \n",
       "236081  https://simple.wikipedia.org/w/index.php?title...   \n",
       "236082  https://simple.wikipedia.org/w/index.php?title...   \n",
       "236083  https://simple.wikipedia.org/w/index.php?title...   \n",
       "236084  https://simple.wikipedia.org/w/index.php?title...   \n",
       "\n",
       "                                                     HTML  page_length  \\\n",
       "0       <!DOCTYPE html>\\n<html prefix=\"dc: http://purl...     170177.0   \n",
       "1       <!DOCTYPE html>\\n<html prefix=\"dc: http://purl...       6789.0   \n",
       "2       <!DOCTYPE html>\\n<html prefix=\"dc: http://purl...       8728.0   \n",
       "3       <!DOCTYPE html>\\n<html prefix=\"dc: http://purl...      46184.0   \n",
       "4       <!DOCTYPE html>\\n<html prefix=\"dc: http://purl...      26320.0   \n",
       "...                                                   ...          ...   \n",
       "236080  <!DOCTYPE html>\\n<html prefix=\"dc: http://purl...       5249.0   \n",
       "236081  <!DOCTYPE html>\\n<html prefix=\"dc: http://purl...       7070.0   \n",
       "236082  <!DOCTYPE html>\\n<html prefix=\"dc: http://purl...     152452.0   \n",
       "236083  <!DOCTYPE html>\\n<html prefix=\"dc: http://purl...     123499.0   \n",
       "236084  <!DOCTYPE html>\\n<html prefix=\"dc: http://purl...     206125.0   \n",
       "\n",
       "       language                                     lead_paragraph        QID  \n",
       "0        simple  October 10 is the 283rd day of the year in the...      Q2921  \n",
       "1        simple  Organic matter is matter that has come from a ...   Q1783121  \n",
       "2        simple  Pleiotropism is a central term in developmenta...   Q1134884  \n",
       "3        simple  \"Please Mr. Postman\" is the first single of Th...    Q778055  \n",
       "4        simple  The cave spikethumb frog is a frog that lives ...    Q748021  \n",
       "...         ...                                                ...        ...  \n",
       "236080   simple  The False Madonna is a 1931 American drama mov...  Q19363895  \n",
       "236081   simple  The Eyes of Annie Jones is a 1964 British Amer...   Q7732939  \n",
       "236082   simple  October 23 is the 296th day of the year in the...      Q2958  \n",
       "236083   simple  Octavio Paz Lozano was a Mexican writer, poet,...     Q46739  \n",
       "236084   simple  October 3 is the 276th day of the year in the ...      Q2931  \n",
       "\n",
       "[236085 rows x 8 columns]"
      ]
     },
     "execution_count": 11,
     "metadata": {},
     "output_type": "execute_result"
    }
   ],
   "source": [
    "dfs = []\n",
    "for file in tqdm(files_pages):\n",
    "    dfs.append(pd.read_parquet(file))\n",
    "df_pages = pd.concat(dfs)\n",
    "df_pages = df_pages.reset_index(drop=True)\n",
    "df_pages"
   ]
  },
  {
   "cell_type": "markdown",
   "metadata": {},
   "source": [
    "# Statistics"
   ]
  },
  {
   "cell_type": "markdown",
   "metadata": {},
   "source": [
    "## Lead Paragraph"
   ]
  },
  {
   "cell_type": "code",
   "execution_count": 14,
   "metadata": {},
   "outputs": [
    {
     "name": "stderr",
     "output_type": "stream",
     "text": [
      "  0%|          | 648/236085 [00:00<01:11, 3309.75it/s]Token indices sequence length is longer than the specified maximum sequence length for this model (716 > 512). Running this sequence through the model will result in indexing errors\n",
      "100%|██████████| 236085/236085 [01:08<00:00, 3466.45it/s]\n"
     ]
    }
   ],
   "source": [
    "df_pages['lead_paragraph_length'] = df_pages['lead_paragraph'].progress_apply(lambda x: len(tokenizer.tokenize(x)))"
   ]
  },
  {
   "cell_type": "markdown",
   "metadata": {},
   "source": [
    "What are some basic statistics of the mean number of tokens per lead paragraph?"
   ]
  },
  {
   "cell_type": "code",
   "execution_count": 15,
   "metadata": {},
   "outputs": [
    {
     "data": {
      "text/plain": [
       "count    236085.000000\n",
       "mean         81.301802\n",
       "std          81.096754\n",
       "min           6.000000\n",
       "25%          32.000000\n",
       "50%          59.000000\n",
       "75%         102.000000\n",
       "max        8634.000000\n",
       "Name: lead_paragraph_length, dtype: float64"
      ]
     },
     "execution_count": 15,
     "metadata": {},
     "output_type": "execute_result"
    }
   ],
   "source": [
    "df_pages['lead_paragraph_length'].describe()"
   ]
  },
  {
   "cell_type": "code",
   "execution_count": 16,
   "metadata": {},
   "outputs": [
    {
     "data": {
      "text/plain": [
       "59.0"
      ]
     },
     "execution_count": 16,
     "metadata": {},
     "output_type": "execute_result"
    }
   ],
   "source": [
    "df_pages['lead_paragraph_length'].median()"
   ]
  },
  {
   "cell_type": "code",
   "execution_count": 17,
   "metadata": {},
   "outputs": [
    {
     "name": "stdout",
     "output_type": "stream",
     "text": [
      "0.25 32.0\n",
      "0.5 59.0\n",
      "0.75 102.0\n",
      "0.9 167.0\n",
      "0.95 225.0\n",
      "0.99 386.0\n"
     ]
    }
   ],
   "source": [
    "for quantile in [0.25, 0.5, 0.75, 0.9, 0.95, 0.99]:\n",
    "    print(quantile, df_pages['lead_paragraph_length'].quantile(quantile))"
   ]
  },
  {
   "cell_type": "code",
   "execution_count": 23,
   "metadata": {},
   "outputs": [
    {
     "data": {
      "image/png": "[encoded data removed]",
      "text/plain": [
       "<Figure size 640x480 with 1 Axes>"
      ]
     },
     "metadata": {},
     "output_type": "display_data"
    }
   ],
   "source": [
    "df_pages['lead_paragraph_length'].hist(bins=200)\n",
    "# set log log scale\n",
    "plt.yscale('log')\n",
    "plt.xscale('log')"
   ]
  },
  {
   "cell_type": "markdown",
   "metadata": {},
   "source": [
    "## Context"
   ]
  },
  {
   "cell_type": "code",
   "execution_count": 24,
   "metadata": {},
   "outputs": [
    {
     "name": "stderr",
     "output_type": "stream",
     "text": [
      "100%|██████████| 2581144/2581144 [17:10<00:00, 2504.28it/s]\n"
     ]
    }
   ],
   "source": [
    "df_links['context_length'] = df_links['context'].progress_apply(lambda x: len(tokenizer.tokenize(x)))"
   ]
  },
  {
   "cell_type": "markdown",
   "metadata": {},
   "source": [
    "What are some basic statistics about the contexts?"
   ]
  },
  {
   "cell_type": "code",
   "execution_count": 25,
   "metadata": {},
   "outputs": [
    {
     "data": {
      "text/plain": [
       "count    2.581144e+06\n",
       "mean     1.166440e+02\n",
       "std      9.529245e+01\n",
       "min      1.000000e+00\n",
       "25%      6.400000e+01\n",
       "50%      1.040000e+02\n",
       "75%      1.570000e+02\n",
       "max      1.359300e+04\n",
       "Name: context_length, dtype: float64"
      ]
     },
     "execution_count": 25,
     "metadata": {},
     "output_type": "execute_result"
    }
   ],
   "source": [
    "df_links['context_length'].describe()"
   ]
  },
  {
   "cell_type": "code",
   "execution_count": 26,
   "metadata": {},
   "outputs": [
    {
     "data": {
      "text/plain": [
       "104.0"
      ]
     },
     "execution_count": 26,
     "metadata": {},
     "output_type": "execute_result"
    }
   ],
   "source": [
    "df_links['context_length'].median()"
   ]
  },
  {
   "cell_type": "code",
   "execution_count": 27,
   "metadata": {},
   "outputs": [
    {
     "name": "stdout",
     "output_type": "stream",
     "text": [
      "0.25 64.0\n",
      "0.5 104.0\n",
      "0.75 157.0\n",
      "0.9 212.0\n",
      "0.95 247.0\n",
      "0.99 324.0\n"
     ]
    }
   ],
   "source": [
    "for quantile in [0.25, 0.5, 0.75, 0.9, 0.95, 0.99]:\n",
    "    print(quantile, df_links['context_length'].quantile(quantile))"
   ]
  },
  {
   "cell_type": "code",
   "execution_count": 30,
   "metadata": {},
   "outputs": [
    {
     "data": {
      "image/png": "[encoded data removed]",
      "text/plain": [
       "<Figure size 640x480 with 1 Axes>"
      ]
     },
     "metadata": {},
     "output_type": "display_data"
    }
   ],
   "source": [
    "df_links['context_length'].hist(bins=500)\n",
    "# set log log scale\n",
    "plt.yscale('log')\n",
    "plt.xscale('log')"
   ]
  },
  {
   "cell_type": "code",
   "execution_count": null,
   "metadata": {},
   "outputs": [],
   "source": []
  }
 ],
 "metadata": {
  "kernelspec": {
   "display_name": "wiki_dump",
   "language": "python",
   "name": "python3"
  },
  "language_info": {
   "codemirror_mode": {
    "name": "ipython",
    "version": 3
   },
   "file_extension": ".py",
   "mimetype": "text/x-python",
   "name": "python",
   "nbconvert_exporter": "python",
   "pygments_lexer": "ipython3",
   "version": "3.9.18"
  }
 },
 "nbformat": 4,
 "nbformat_minor": 2
}
