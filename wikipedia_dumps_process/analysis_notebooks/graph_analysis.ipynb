{
 "cells": [
  {
   "cell_type": "markdown",
   "metadata": {},
   "source": [
    "# Imports and Definitions"
   ]
  },
  {
   "cell_type": "code",
   "execution_count": null,
   "metadata": {},
   "outputs": [],
   "source": [
    "import pandas as pd\n",
    "from glob import glob\n",
    "from tqdm import tqdm\n",
    "import os\n",
    "tqdm.pandas()"
   ]
  },
  {
   "cell_type": "code",
   "execution_count": null,
   "metadata": {},
   "outputs": [],
   "source": [
    "root = '/scratch/tsoares/wikidumps/simplewiki-NS0-20231001/processed_data'"
   ]
  },
  {
   "cell_type": "markdown",
   "metadata": {},
   "source": [
    "# Get data"
   ]
  },
  {
   "cell_type": "code",
   "execution_count": null,
   "metadata": {},
   "outputs": [],
   "source": [
    "page_files = glob(os.path.join(root, \"pages*.parquet\"))\n",
    "link_files = glob(os.path.join(root, \"links*.parquet\"))\n",
    "redirect_files = glob(os.path.join(root, \"redirect*.parquet\"))\n",
    "print(page_files)\n",
    "print(link_files)\n",
    "print(redirect_files)"
   ]
  },
  {
   "cell_type": "code",
   "execution_count": null,
   "metadata": {},
   "outputs": [],
   "source": [
    "def simplify_html(html):\n",
    "    if html is None:\n",
    "        return None\n",
    "    if html == '':\n",
    "        return ''\n",
    "    return 'a'\n",
    "\n",
    "dfs = []\n",
    "for file in tqdm(page_files):\n",
    "    temp_df = pd.read_parquet(file)\n",
    "    temp_df['HTML'] = temp_df['HTML'].apply(lambda x: simplify_html(x)) # simpify html so it is not too big\n",
    "    dfs.append(temp_df)\n",
    "df_pages = pd.concat(dfs)\n",
    "df_pages"
   ]
  },
  {
   "cell_type": "code",
   "execution_count": null,
   "metadata": {},
   "outputs": [],
   "source": [
    "dfs = []\n",
    "for file in tqdm(link_files):\n",
    "    dfs.append(pd.read_parquet(file))\n",
    "df_links = pd.concat(dfs)\n",
    "df_links"
   ]
  },
  {
   "cell_type": "code",
   "execution_count": null,
   "metadata": {},
   "outputs": [],
   "source": [
    "dfs = []\n",
    "for file in tqdm(redirect_files):\n",
    "    dfs.append(pd.read_parquet(file))\n",
    "df_redirects = pd.concat(dfs)\n",
    "df_redirects"
   ]
  },
  {
   "cell_type": "markdown",
   "metadata": {},
   "source": [
    "# Analyze Pages (Nodes)"
   ]
  },
  {
   "cell_type": "markdown",
   "metadata": {},
   "source": [
    "What is the total number of pages?"
   ]
  },
  {
   "cell_type": "code",
   "execution_count": null,
   "metadata": {},
   "outputs": [],
   "source": [
    "len(df_pages)"
   ]
  },
  {
   "cell_type": "markdown",
   "metadata": {},
   "source": [
    "What is the total number of redirects?"
   ]
  },
  {
   "cell_type": "code",
   "execution_count": null,
   "metadata": {},
   "outputs": [],
   "source": [
    "len(df_redirects)"
   ]
  },
  {
   "cell_type": "markdown",
   "metadata": {},
   "source": [
    "What is the number of pages with missing QID?"
   ]
  },
  {
   "cell_type": "code",
   "execution_count": null,
   "metadata": {},
   "outputs": [],
   "source": [
    "no_qid = df_pages['QID'].isna()\n",
    "len(df_pages[no_qid])"
   ]
  },
  {
   "cell_type": "markdown",
   "metadata": {},
   "source": [
    "What is the number of pages with missing HTML?"
   ]
  },
  {
   "cell_type": "code",
   "execution_count": null,
   "metadata": {},
   "outputs": [],
   "source": [
    "no_html = (df_pages['HTML'].isna()) | (df_pages['HTML'] == '')\n",
    "len(df_pages[no_html])"
   ]
  },
  {
   "cell_type": "markdown",
   "metadata": {},
   "source": [
    "What is the number of pages without a lead paragraph?"
   ]
  },
  {
   "cell_type": "code",
   "execution_count": null,
   "metadata": {},
   "outputs": [],
   "source": [
    "no_lead = (df_pages['lead_paragraph'].isna()) | (df_pages['lead_paragraph'] == '')\n",
    "len(df_pages[no_lead])"
   ]
  },
  {
   "cell_type": "markdown",
   "metadata": {},
   "source": [
    "What is the number of pages with a lead paragraph with less than 6 words?"
   ]
  },
  {
   "cell_type": "code",
   "execution_count": null,
   "metadata": {},
   "outputs": [],
   "source": [
    "# number of pages where lead paragraph has less than 6 words\n",
    "def split_text(x):\n",
    "    if x is None:\n",
    "        return 0\n",
    "    return len(x.split(' ', 5)) \n",
    "short_lead = df_pages['lead_paragraph'].apply(lambda x: split_text(x) < 6)\n",
    "len(df_pages[short_lead])"
   ]
  },
  {
   "cell_type": "markdown",
   "metadata": {},
   "source": [
    "What is the number of good pages if we exclude all the faulty ones?"
   ]
  },
  {
   "cell_type": "code",
   "execution_count": null,
   "metadata": {},
   "outputs": [],
   "source": [
    "len(df_pages[~no_qid & ~no_html & ~no_lead & ~short_lead])"
   ]
  },
  {
   "cell_type": "markdown",
   "metadata": {},
   "source": [
    "Save good data"
   ]
  },
  {
   "cell_type": "code",
   "execution_count": null,
   "metadata": {},
   "outputs": [],
   "source": [
    "# for file in tqdm(page_files):\n",
    "#     df = pd.read_parquet(file)\n",
    "#     df = df[(~df['QID'].isna()) & (~df['HTML'].isna()) & (~df['lead_paragraph'].isna()) & (df['HTML'] != '') & (df['lead_paragraph'] != '') & (df['lead_paragraph'].apply(lambda x: split_text(x) >= 6))]\n",
    "#     df = df.reset_index(drop=True)\n",
    "#     df.to_parquet(file.replace('pages', 'good_pages'))"
   ]
  },
  {
   "cell_type": "markdown",
   "metadata": {},
   "source": [
    "# Analyze Links"
   ]
  },
  {
   "cell_type": "markdown",
   "metadata": {},
   "source": [
    "## Auxiliary Data Structures"
   ]
  },
  {
   "cell_type": "code",
   "execution_count": null,
   "metadata": {},
   "outputs": [],
   "source": [
    "# Pages with no html\n",
    "no_html = df_pages[(df_pages['HTML'].isna()) | (df_pages['HTML'] == '')]['title'].tolist()\n",
    "no_html = set(no_html)"
   ]
  },
  {
   "cell_type": "code",
   "execution_count": null,
   "metadata": {},
   "outputs": [],
   "source": [
    "# Pages with no lead paragraph\n",
    "no_lead = df_pages[(df_pages['lead_paragraph'].isna()) | (df_pages['lead_paragraph'] == '')]['title'].tolist()\n",
    "no_lead = set(no_lead)"
   ]
  },
  {
   "cell_type": "code",
   "execution_count": null,
   "metadata": {},
   "outputs": [],
   "source": [
    "# Pages with lead paragraph with less than 6 words\n",
    "short_lead = df_pages[(df_pages['lead_paragraph'].apply(lambda x: split_text(x) < 6))]['title'].tolist()\n",
    "short_lead = set(short_lead)"
   ]
  },
  {
   "cell_type": "markdown",
   "metadata": {},
   "source": [
    "## Results"
   ]
  },
  {
   "cell_type": "markdown",
   "metadata": {},
   "source": [
    "How many total links do we have?"
   ]
  },
  {
   "cell_type": "code",
   "execution_count": null,
   "metadata": {},
   "outputs": [],
   "source": [
    "len(df_links)"
   ]
  },
  {
   "cell_type": "markdown",
   "metadata": {},
   "source": [
    "Of all the links we have, how many were missing its target?"
   ]
  },
  {
   "cell_type": "code",
   "execution_count": null,
   "metadata": {},
   "outputs": [],
   "source": [
    "no_target = df_links['target_ID'].isna()\n",
    "len(df_links[no_target])"
   ]
  },
  {
   "cell_type": "markdown",
   "metadata": {},
   "source": [
    "What is the number of links where the context couldn't be parsed?"
   ]
  },
  {
   "cell_type": "code",
   "execution_count": null,
   "metadata": {},
   "outputs": [],
   "source": [
    "no_context = df_links['context'].isna()\n",
    "len(df_links[no_context])"
   ]
  },
  {
   "cell_type": "markdown",
   "metadata": {},
   "source": [
    "What is the number of links with source pages without QID?"
   ]
  },
  {
   "cell_type": "code",
   "execution_count": null,
   "metadata": {},
   "outputs": [],
   "source": [
    "no_source_qid = df_links['source_QID'].isna()\n",
    "len(df_links[no_source_qid])"
   ]
  },
  {
   "cell_type": "markdown",
   "metadata": {},
   "source": [
    "What is the number of links with source pages without lead paragraph?"
   ]
  },
  {
   "cell_type": "code",
   "execution_count": null,
   "metadata": {},
   "outputs": [],
   "source": [
    "no_source_lead = df_links['source_title'].isin(no_lead)\n",
    "len(df_links[no_source_lead])"
   ]
  },
  {
   "cell_type": "markdown",
   "metadata": {},
   "source": [
    "What is the number of links where the source lead paragraph is too small (less than 6 words)?"
   ]
  },
  {
   "cell_type": "code",
   "execution_count": null,
   "metadata": {},
   "outputs": [],
   "source": [
    "short_source_lead = df_links['source_title'].isin(short_lead)\n",
    "len(df_links[short_source_lead])"
   ]
  },
  {
   "cell_type": "markdown",
   "metadata": {},
   "source": [
    "What is the number of links with target pages without QID?"
   ]
  },
  {
   "cell_type": "code",
   "execution_count": null,
   "metadata": {},
   "outputs": [],
   "source": [
    "no_target_qid = df_links['target_QID'].isna()\n",
    "len(df_links[no_target_qid])"
   ]
  },
  {
   "cell_type": "markdown",
   "metadata": {},
   "source": [
    "What is the number of links with target pages without HTML?"
   ]
  },
  {
   "cell_type": "code",
   "execution_count": null,
   "metadata": {},
   "outputs": [],
   "source": [
    "target_no_html = df_links['target_title'].isin(no_html)\n",
    "len(df_links[target_no_html])"
   ]
  },
  {
   "cell_type": "markdown",
   "metadata": {},
   "source": [
    "What is the number of links with target pages without lead paragraph?"
   ]
  },
  {
   "cell_type": "code",
   "execution_count": null,
   "metadata": {},
   "outputs": [],
   "source": [
    "target_no_lead = df_links['target_title'].isin(no_lead)\n",
    "len(df_links[target_no_lead])"
   ]
  },
  {
   "cell_type": "markdown",
   "metadata": {},
   "source": [
    "What is the number of links where the target lead paragraph is too small (less than 6 words)?"
   ]
  },
  {
   "cell_type": "code",
   "execution_count": null,
   "metadata": {},
   "outputs": [],
   "source": [
    "target_short_lead = df_links['target_title'].isin(short_lead)\n",
    "len(df_links[target_short_lead])"
   ]
  },
  {
   "cell_type": "markdown",
   "metadata": {},
   "source": [
    "What is the number of links where the source is the same as the target?"
   ]
  },
  {
   "cell_type": "code",
   "execution_count": null,
   "metadata": {},
   "outputs": [],
   "source": [
    "target_same_source = df_links['target_title'] == df_links['source_title']\n",
    "len(df_links[target_same_source])"
   ]
  },
  {
   "cell_type": "markdown",
   "metadata": {},
   "source": [
    "What is the number of good links?"
   ]
  },
  {
   "cell_type": "code",
   "execution_count": null,
   "metadata": {},
   "outputs": [],
   "source": [
    "len(df_links[~no_target & ~no_context & ~no_source_qid & ~no_source_lead & ~short_source_lead & ~no_target_qid & ~target_no_html & ~target_no_lead & ~target_short_lead & ~target_same_source])"
   ]
  },
  {
   "cell_type": "markdown",
   "metadata": {},
   "source": [
    "Save good links"
   ]
  },
  {
   "cell_type": "code",
   "execution_count": null,
   "metadata": {},
   "outputs": [],
   "source": [
    "# for file in tqdm(link_files):\n",
    "#     df = pd.read_parquet(file)\n",
    "#     df = df[(~df['target_ID'].isna()) & (~df['source_QID'].isna()) & (~df['target_QID'].isna()) & (~df['target_title'].isin(no_html)) & (~df['target_title'].isin(no_lead)) & (~df['source_title'].isin(no_lead)) & (~df['context'].isna()) & (~df['source_title'].isin(short_lead)) & (~df['target_title'].isin(short_lead)) & (df['source_title'] != df['target_title'])]\n",
    "#     df = df.reset_index(drop=True)\n",
    "#     df.to_parquet(file.replace('links', 'good_links'))"
   ]
  },
  {
   "cell_type": "code",
   "execution_count": null,
   "metadata": {},
   "outputs": [],
   "source": [
    "for i in range(10):\n",
    "    sample = df_links.sample()\n",
    "    print('SOURCE', sample['source_title'].item())\n",
    "    print('TARGET', sample['target_title'].item())\n",
    "    print('CONTEXT', sample['context'].item())\n",
    "    print('SENTENCE', sample['sentence'].item())\n",
    "    print('MENTION', sample['mention'].item())\n",
    "    print('CONTEXT SPAN START INDEX', sample['context_span_start_index'].item())\n",
    "    print('CONTEXT SPAN END INDEX', sample['context_span_end_index'].item())\n",
    "    print('CONTEXT SENTENCE START INDEX', sample['context_sentence_start_index'].item())\n",
    "    print('CONTEXT SENTENCE END INDEX', sample['context_sentence_end_index'].item())\n",
    "    print('CONTEXT MENTION START INDEX', sample['context_mention_start_index'].item())\n",
    "    print('CONTEXT MENTION END INDEX', sample['context_mention_end_index'].item())\n",
    "    print('SENTENCE TEST', sample['context'].item()[int(sample['context_sentence_start_index'].item()):int(sample['context_sentence_end_index'].item())])\n",
    "    print('MENTION TEST', sample['context'].item()[int(sample['context_mention_start_index'].item()):int(sample['context_mention_end_index'].item())])\n",
    "    print('SECTION', sample['source_section'].item())\n",
    "    print('###############')"
   ]
  }
 ],
 "metadata": {
  "kernelspec": {
   "display_name": "Python 3",
   "language": "python",
   "name": "python3"
  },
  "language_info": {
   "codemirror_mode": {
    "name": "ipython",
    "version": 3
   },
   "file_extension": ".py",
   "mimetype": "text/x-python",
   "name": "python",
   "nbconvert_exporter": "python",
   "pygments_lexer": "ipython3",
   "version": "3.9.18"
  },
  "orig_nbformat": 4
 },
 "nbformat": 4,
 "nbformat_minor": 2
}
