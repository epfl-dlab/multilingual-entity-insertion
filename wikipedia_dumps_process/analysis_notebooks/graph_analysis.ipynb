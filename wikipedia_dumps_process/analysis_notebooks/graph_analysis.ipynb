{
 "cells": [
  {
   "cell_type": "markdown",
   "metadata": {},
   "source": [
    "# Imports and Definitions"
   ]
  },
  {
   "cell_type": "code",
   "execution_count": null,
   "metadata": {},
   "outputs": [],
   "source": [
    "import pandas as pd\n",
    "from glob import glob\n",
    "from tqdm import tqdm\n",
    "import os\n",
    "tqdm.pandas()"
   ]
  },
  {
   "cell_type": "code",
   "execution_count": null,
   "metadata": {},
   "outputs": [],
   "source": [
    "root = '/dlabdata1/tsoares/wikidumps/enwiki-NS0-20231001/processed_data'\n",
    "lang = 'en'"
   ]
  },
  {
   "cell_type": "markdown",
   "metadata": {},
   "source": [
    "# Get data"
   ]
  },
  {
   "cell_type": "code",
   "execution_count": null,
   "metadata": {},
   "outputs": [],
   "source": [
    "page_files = glob(os.path.join(root, \"pages\", \"pages*.parquet\"))\n",
    "link_files = glob(os.path.join(root, \"links\", \"links_*.parquet\"))\n",
    "redirect_files = glob(os.path.join(root, \"redirect*.parquet\"))\n",
    "print(page_files)\n",
    "print(link_files)\n",
    "print(redirect_files)"
   ]
  },
  {
   "cell_type": "markdown",
   "metadata": {},
   "source": [
    "# Analyze Pages"
   ]
  },
  {
   "cell_type": "code",
   "execution_count": null,
   "metadata": {},
   "outputs": [],
   "source": [
    "def simplify_html(html):\n",
    "    if html is None:\n",
    "        return None\n",
    "    if html == '':\n",
    "        return ''\n",
    "    return 'a'\n",
    "    \n",
    "def split_text(x):\n",
    "    if x is None:\n",
    "        return float('inf')\n",
    "    return len(x.split(' ', 10))\n",
    "\n",
    "no_html_set = set([])\n",
    "no_lead_set = set([])\n",
    "short_lead_set = set([])\n",
    "\n",
    "no_qid = 0\n",
    "no_html = 0\n",
    "no_lead = 0\n",
    "short_lead = 0\n",
    "good_pages = 0\n",
    "total_pages = 0\n",
    "for file in tqdm(page_files):\n",
    "    df_pages = pd.read_parquet(file)\n",
    "    if 'HTML' in df_pages.columns:\n",
    "        df_pages['HTML'] = df_pages['HTML'].apply(lambda x: simplify_html(x)) # simpify html so it is not too big\n",
    "    \n",
    "    no_html_set = no_html_set.union(set(df_pages[df_pages['page_length'].isna()]['title'].to_list()))\n",
    "    no_lead_set = no_lead_set.union(set(df_pages[df_pages['lead_paragraph'].isna() | (df_pages['lead_paragraph'] == '')]['title'].to_list()))\n",
    "    short_lead_set = short_lead_set.union(set(df_pages[df_pages['lead_paragraph'].apply(lambda x: split_text(x) < 6)]['title'].to_list()))\n",
    "    \n",
    "    no_qid_mask = df_pages['QID'].isna()\n",
    "    no_html_mask = df_pages['page_length'].isna()\n",
    "    no_lead_mask = df_pages['lead_paragraph'].isna() | (df_pages['lead_paragraph'] == '')\n",
    "    if lang not in ['ja']:\n",
    "        short_lead_mask = df_pages['lead_paragraph'].apply(lambda x: split_text(x) < 6)\n",
    "    \n",
    "    no_qid += no_qid_mask.sum()\n",
    "    no_html += no_html_mask.sum()\n",
    "    no_lead += no_lead_mask.sum()\n",
    "    if lang not in ['ja']:\n",
    "        short_lead += short_lead_mask.sum()\n",
    "    if lang not in ['ja']:\n",
    "        good_pages += (~no_qid_mask & ~no_html_mask & ~no_lead_mask & ~short_lead_mask).sum()\n",
    "    else:\n",
    "        good_pages += (~no_qid_mask & ~no_html_mask & ~no_lead_mask).sum()\n",
    "    total_pages += len(df_pages)\n",
    "df_pages"
   ]
  },
  {
   "cell_type": "code",
   "execution_count": null,
   "metadata": {},
   "outputs": [],
   "source": [
    "dfs = []\n",
    "for file in tqdm(redirect_files):\n",
    "    dfs.append(pd.read_parquet(file))\n",
    "df_redirects = pd.concat(dfs)\n",
    "df_redirects"
   ]
  },
  {
   "cell_type": "code",
   "execution_count": null,
   "metadata": {},
   "outputs": [],
   "source": [
    "dfs = []\n",
    "for file in tqdm(redirect_files):\n",
    "    dfs.append(pd.read_parquet(file))\n",
    "df_redirects = pd.concat(dfs)\n",
    "df_redirects"
   ]
  },
  {
   "cell_type": "markdown",
   "metadata": {},
   "source": [
    "What is the total number of pages?"
   ]
  },
  {
   "cell_type": "code",
   "execution_count": null,
   "metadata": {},
   "outputs": [],
   "source": [
    "total_pages"
   ]
  },
  {
   "cell_type": "markdown",
   "metadata": {},
   "source": [
    "What is the total number of redirects?"
   ]
  },
  {
   "cell_type": "code",
   "execution_count": null,
   "metadata": {},
   "outputs": [],
   "source": [
    "len(df_redirects)"
   ]
  },
  {
   "cell_type": "markdown",
   "metadata": {},
   "source": [
    "What is the number of pages with missing QID?"
   ]
  },
  {
   "cell_type": "code",
   "execution_count": null,
   "metadata": {},
   "outputs": [],
   "source": [
    "no_qid"
   ]
  },
  {
   "cell_type": "markdown",
   "metadata": {},
   "source": [
    "What is the number of pages with missing HTML?"
   ]
  },
  {
   "cell_type": "code",
   "execution_count": null,
   "metadata": {},
   "outputs": [],
   "source": [
    "no_html"
   ]
  },
  {
   "cell_type": "markdown",
   "metadata": {},
   "source": [
    "What is the number of pages without a lead paragraph?"
   ]
  },
  {
   "cell_type": "code",
   "execution_count": null,
   "metadata": {},
   "outputs": [],
   "source": [
    "no_lead"
   ]
  },
  {
   "cell_type": "markdown",
   "metadata": {},
   "source": [
    "What is the number of pages with a lead paragraph with less than 6 words?"
   ]
  },
  {
   "cell_type": "code",
   "execution_count": null,
   "metadata": {},
   "outputs": [],
   "source": [
    "short_lead"
   ]
  },
  {
   "cell_type": "markdown",
   "metadata": {},
   "source": [
    "What is the number of good pages if we exclude all the faulty ones?"
   ]
  },
  {
   "cell_type": "code",
   "execution_count": null,
   "metadata": {},
   "outputs": [],
   "source": [
    "good_pages"
   ]
  },
  {
   "cell_type": "markdown",
   "metadata": {},
   "source": [
    "# Analyze Links"
   ]
  },
  {
   "cell_type": "code",
   "execution_count": null,
   "metadata": {},
   "outputs": [],
   "source": [
    "total_links = 0\n",
    "link_no_target = 0\n",
    "link_no_context = 0\n",
    "link_no_source_qid = 0\n",
    "link_no_source_lead = 0\n",
    "link_short_source_lead = 0\n",
    "link_no_target_qid = 0\n",
    "link_no_target_html = 0\n",
    "link_no_target_lead = 0\n",
    "link_short_target_lead = 0\n",
    "link_same_target_source = 0\n",
    "good_links = 0\n",
    "for file in tqdm(link_files):\n",
    "    df_links = pd.read_parquet(file)\n",
    "    \n",
    "    link_no_target_mask = df_links['target_ID'].isna()\n",
    "    link_no_context_mask = df_links['context'].isna()\n",
    "    link_no_source_qid_mask = df_links['source_QID'].isna()\n",
    "    link_no_source_lead_mask = df_links['source_title'].isin(no_lead_set)\n",
    "    if lang not in ['ja']:\n",
    "        link_short_source_lead_mask = df_links['source_title'].isin(short_lead_set)\n",
    "    link_no_target_qid_mask = df_links['target_QID'].isna()\n",
    "    link_no_target_html_mask = df_links['target_title'].isin(no_html_set)\n",
    "    link_no_target_lead_mask = df_links['target_title'].isin(no_lead_set)\n",
    "    if lang not in ['ja']:\n",
    "        link_short_target_lead_mask = df_links['target_title'].isin(short_lead_set)\n",
    "    link_same_target_source_mask = df_links['source_title'] == df_links['target_title']\n",
    "    \n",
    "    total_links += len(df_links)\n",
    "    link_no_target += link_no_target_mask.sum()\n",
    "    link_no_context += link_no_context_mask.sum()\n",
    "    link_no_source_qid += link_no_source_qid_mask.sum()\n",
    "    link_no_source_lead += link_no_source_lead_mask.sum()\n",
    "    if lang not in ['ja']:\n",
    "        link_short_source_lead += link_short_source_lead_mask.sum()\n",
    "    link_no_target_qid += link_no_target_qid_mask.sum()\n",
    "    link_no_target_html += link_no_target_html_mask.sum()\n",
    "    link_no_target_lead += link_no_target_lead_mask.sum()\n",
    "    if lang not in ['ja']:\n",
    "        link_short_target_lead += link_short_target_lead_mask.sum()\n",
    "    link_same_target_source += link_same_target_source_mask.sum()\n",
    "    if lang not in ['ja']:\n",
    "        good_links += (~link_no_target_mask & ~link_no_context_mask & ~link_no_source_qid_mask & ~link_no_source_lead_mask & ~link_short_source_lead_mask & ~link_no_target_qid_mask & ~link_no_target_html_mask & ~link_no_target_lead_mask & ~link_short_target_lead_mask & ~link_same_target_source_mask).sum()\n",
    "    else:\n",
    "        good_links += (~link_no_target_mask & ~link_no_context_mask & ~link_no_source_qid_mask & ~link_no_source_lead_mask & ~link_no_target_qid_mask & ~link_no_target_html_mask & ~link_no_target_lead_mask & ~link_same_target_source_mask).sum()\n"
   ]
  },
  {
   "cell_type": "markdown",
   "metadata": {},
   "source": [
    "How many total links do we have?"
   ]
  },
  {
   "cell_type": "code",
   "execution_count": null,
   "metadata": {},
   "outputs": [],
   "source": [
    "total_links"
   ]
  },
  {
   "cell_type": "markdown",
   "metadata": {},
   "source": [
    "Of all the links we have, how many were missing its target?"
   ]
  },
  {
   "cell_type": "code",
   "execution_count": null,
   "metadata": {},
   "outputs": [],
   "source": [
    "link_no_target"
   ]
  },
  {
   "cell_type": "markdown",
   "metadata": {},
   "source": [
    "What is the number of links where the context couldn't be parsed?"
   ]
  },
  {
   "cell_type": "code",
   "execution_count": null,
   "metadata": {},
   "outputs": [],
   "source": [
    "link_no_context"
   ]
  },
  {
   "cell_type": "markdown",
   "metadata": {},
   "source": [
    "What is the number of links with source pages without QID?"
   ]
  },
  {
   "cell_type": "code",
   "execution_count": null,
   "metadata": {},
   "outputs": [],
   "source": [
    "link_no_source_qid"
   ]
  },
  {
   "cell_type": "markdown",
   "metadata": {},
   "source": [
    "What is the number of links with source pages without lead paragraph?"
   ]
  },
  {
   "cell_type": "code",
   "execution_count": null,
   "metadata": {},
   "outputs": [],
   "source": [
    "link_no_source_lead"
   ]
  },
  {
   "cell_type": "markdown",
   "metadata": {},
   "source": [
    "What is the number of links where the source lead paragraph is too small (less than 6 words)?"
   ]
  },
  {
   "cell_type": "code",
   "execution_count": null,
   "metadata": {},
   "outputs": [],
   "source": [
    "link_short_source_lead"
   ]
  },
  {
   "cell_type": "markdown",
   "metadata": {},
   "source": [
    "What is the number of links with target pages without QID?"
   ]
  },
  {
   "cell_type": "code",
   "execution_count": null,
   "metadata": {},
   "outputs": [],
   "source": [
    "link_no_target_qid"
   ]
  },
  {
   "cell_type": "markdown",
   "metadata": {},
   "source": [
    "What is the number of links with target pages without HTML?"
   ]
  },
  {
   "cell_type": "code",
   "execution_count": null,
   "metadata": {},
   "outputs": [],
   "source": [
    "link_no_target_html"
   ]
  },
  {
   "cell_type": "markdown",
   "metadata": {},
   "source": [
    "What is the number of links with target pages without lead paragraph?"
   ]
  },
  {
   "cell_type": "code",
   "execution_count": null,
   "metadata": {},
   "outputs": [],
   "source": [
    "link_no_target_lead"
   ]
  },
  {
   "cell_type": "markdown",
   "metadata": {},
   "source": [
    "What is the number of links where the target lead paragraph is too small (less than 6 words)?"
   ]
  },
  {
   "cell_type": "code",
   "execution_count": null,
   "metadata": {},
   "outputs": [],
   "source": [
    "link_short_target_lead"
   ]
  },
  {
   "cell_type": "markdown",
   "metadata": {},
   "source": [
    "What is the number of links where the source is the same as the target?"
   ]
  },
  {
   "cell_type": "code",
   "execution_count": null,
   "metadata": {},
   "outputs": [],
   "source": [
    "link_same_target_source"
   ]
  },
  {
   "cell_type": "markdown",
   "metadata": {},
   "source": [
    "What is the number of good links?"
   ]
  },
  {
   "cell_type": "code",
   "execution_count": null,
   "metadata": {},
   "outputs": [],
   "source": [
    "good_links"
   ]
  },
  {
   "cell_type": "code",
   "execution_count": null,
   "metadata": {},
   "outputs": [],
   "source": []
  }
 ],
 "metadata": {
  "kernelspec": {
   "display_name": "Python 3",
   "language": "python",
   "name": "python3"
  },
  "language_info": {
   "codemirror_mode": {
    "name": "ipython",
    "version": 3
   },
   "file_extension": ".py",
   "mimetype": "text/x-python",
   "name": "python",
   "nbconvert_exporter": "python",
   "pygments_lexer": "ipython3",
   "version": "3.9.18"
  },
  "orig_nbformat": 4
 },
 "nbformat": 4,
 "nbformat_minor": 2
}
