{
 "cells": [
  {
   "cell_type": "code",
   "execution_count": null,
   "metadata": {},
   "outputs": [],
   "source": [
    "import pandas as pd\n",
    "import os\n",
    "from glob import glob\n",
    "from tqdm import tqdm\n",
    "from ast import literal_eval\n",
    "tqdm.pandas()\n",
    "import matplotlib.pyplot as plt"
   ]
  },
  {
   "cell_type": "markdown",
   "metadata": {},
   "source": [
    "# Load data"
   ]
  },
  {
   "cell_type": "code",
   "execution_count": null,
   "metadata": {},
   "outputs": [],
   "source": [
    "root = '/scratch/tsoares/wikidumps/simplewiki-NS0-20230901/processed_data/'\n",
    "files = glob(os.path.join(root, 'good_links_*.parquet'))\n",
    "files"
   ]
  },
  {
   "cell_type": "code",
   "execution_count": null,
   "metadata": {},
   "outputs": [],
   "source": [
    "df = pd.concat([pd.read_parquet(f) for f in tqdm(files)]).reset_index(drop=True)"
   ]
  },
  {
   "cell_type": "code",
   "execution_count": null,
   "metadata": {},
   "outputs": [],
   "source": [
    "df"
   ]
  },
  {
   "cell_type": "markdown",
   "metadata": {},
   "source": [
    "# Analyze links in context"
   ]
  },
  {
   "cell_type": "markdown",
   "metadata": {},
   "source": [
    "## Distribution of links per context"
   ]
  },
  {
   "cell_type": "code",
   "execution_count": null,
   "metadata": {},
   "outputs": [],
   "source": [
    "df['number_current_links'] = df['current_links'].progress_apply(lambda x: x.count(\"'region'\"))"
   ]
  },
  {
   "cell_type": "code",
   "execution_count": null,
   "metadata": {},
   "outputs": [],
   "source": [
    "df['number_current_links'].hist(bins=100)\n",
    "plt.yscale('log')"
   ]
  },
  {
   "cell_type": "code",
   "execution_count": null,
   "metadata": {},
   "outputs": [],
   "source": [
    "df['number_current_links'].describe()"
   ]
  },
  {
   "cell_type": "markdown",
   "metadata": {},
   "source": [
    "## Look at some actual results"
   ]
  },
  {
   "cell_type": "code",
   "execution_count": null,
   "metadata": {},
   "outputs": [],
   "source": [
    "for i in range(20):\n",
    "    sample = df.sample(1)\n",
    "    source_title = sample['source_title'].values[0]\n",
    "    target_title = sample['target_title'].values[0]\n",
    "    mention = sample['mention'].values[0]\n",
    "    context = sample['context'].values[0]\n",
    "    current_links = literal_eval(sample['current_links'].values[0])\n",
    "    print(f'Source title: {source_title}')\n",
    "    print(f'Target title: {target_title}')\n",
    "    print(f'Mention: {mention}')\n",
    "    print(f'Context: {context}')\n",
    "    for column in sample:\n",
    "        if 'index' in column:\n",
    "            print(f'{column}: {sample[column].values[0]}')\n",
    "    for target in current_links:\n",
    "        print(f'Context link: {target}')\n",
    "        print(f'Data: {current_links[target]}')\n",
    "        print('---')\n",
    "    print('#############################################')"
   ]
  },
  {
   "cell_type": "code",
   "execution_count": null,
   "metadata": {},
   "outputs": [],
   "source": []
  }
 ],
 "metadata": {
  "kernelspec": {
   "display_name": "wiki_dump",
   "language": "python",
   "name": "python3"
  },
  "language_info": {
   "codemirror_mode": {
    "name": "ipython",
    "version": 3
   },
   "file_extension": ".py",
   "mimetype": "text/x-python",
   "name": "python",
   "nbconvert_exporter": "python",
   "pygments_lexer": "ipython3",
   "version": "3.9.18"
  }
 },
 "nbformat": 4,
 "nbformat_minor": 2
}
