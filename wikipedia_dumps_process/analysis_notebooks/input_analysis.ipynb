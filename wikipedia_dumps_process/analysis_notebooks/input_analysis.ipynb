{
 "cells": [
  {
   "cell_type": "code",
   "execution_count": null,
   "metadata": {},
   "outputs": [],
   "source": [
    "import pandas as pd\n",
    "from tqdm import tqdm"
   ]
  },
  {
   "cell_type": "code",
   "execution_count": null,
   "metadata": {},
   "outputs": [],
   "source": [
    "df_train_synth = pd.read_parquet('/dlabdata1/tsoares/linkrec-llms/data_modelling/training_ranking/datasets/simple_stage_1/train')\n",
    "df_train_real = pd.read_parquet('/dlabdata1/tsoares/linkrec-llms/data_modelling/training_ranking/datasets/simple_stage_2/train')"
   ]
  },
  {
   "cell_type": "code",
   "execution_count": null,
   "metadata": {},
   "outputs": [],
   "source": [
    "for column in df_train_synth:\n",
    "    if 'index' in column:\n",
    "        df_train_synth[column] = df_train_synth[column].astype(int)\n",
    "df_train_synth"
   ]
  },
  {
   "cell_type": "code",
   "execution_count": null,
   "metadata": {},
   "outputs": [],
   "source": [
    "print(len(df_train_real))\n",
    "df_train_real = df_train_real[df_train_real['link_context'] != '']\n",
    "print(len(df_train_real))\n",
    "df_train_real"
   ]
  },
  {
   "cell_type": "code",
   "execution_count": null,
   "metadata": {},
   "outputs": [],
   "source": [
    "df_train_real = df_train_real.to_dict('records')\n",
    "df_train_synth = df_train_synth.to_dict('records')"
   ]
  },
  {
   "cell_type": "code",
   "execution_count": null,
   "metadata": {},
   "outputs": [],
   "source": [
    "lengths = {}"
   ]
  },
  {
   "cell_type": "code",
   "execution_count": null,
   "metadata": {},
   "outputs": [],
   "source": [
    "lengths['real'] = {'text_present': [], 'missing_mention': [], 'missing_sentence': [], 'missing_span': []}\n",
    "for row in tqdm(df_train_real):\n",
    "    if row['missing_category'] == 'present':\n",
    "        lengths['real']['text_present'].append(len(row['link_context']))\n",
    "    if row['missing_category'] == 'missing_mention':\n",
    "        lengths['real']['missing_mention'].append(len(row['link_context']))\n",
    "    if row['missing_category'] == 'missing_sentence':\n",
    "        lengths['real']['missing_sentence'].append(len(row['link_context']))\n",
    "    if row['missing_category'] == 'missing_span':\n",
    "        lengths['real']['missing_span'].append(len(row['link_context']))"
   ]
  },
  {
   "cell_type": "code",
   "execution_count": null,
   "metadata": {},
   "outputs": [],
   "source": [
    "lengths['synth'] = {'text_present': [], 'missing_mention': [], 'missing_sentence': [], 'missing_span': []}\n",
    "for row in tqdm(df_train_synth):\n",
    "    lengths['synth']['text_present'].append(len(row['link_context']))\n",
    "    if (row['link_context'][:row['context_mention_start_index']] + row['link_context'][row['context_mention_end_index']:]).strip() != '':\n",
    "        lengths['synth']['missing_mention'].append(len(row['link_context'][:row['context_mention_start_index']] + row['link_context'][row['context_mention_end_index']:]))\n",
    "    if (row['link_context'][:row['context_sentence_start_index']] + row['link_context'][row['context_sentence_end_index']:]).strip() != '':\n",
    "        lengths['synth']['missing_sentence'].append(len(row['link_context'][:row['context_sentence_start_index']] + row['link_context'][row['context_sentence_end_index']:]))\n",
    "    if (row['link_context'][:row['context_span_start_index']] + row['link_context'][row['context_span_end_index']:]).strip() != '':\n",
    "        lengths['synth']['missing_span'].append(len(row['link_context'][:row['context_span_start_index']] + row['link_context'][row['context_span_end_index']:]))"
   ]
  },
  {
   "cell_type": "code",
   "execution_count": null,
   "metadata": {},
   "outputs": [],
   "source": [
    "import matplotlib.pyplot as plt\n",
    "import numpy as np\n",
    "\n",
    "fig, axs = plt.subplots(2, 2, figsize=(15, 10))\n",
    "fig.suptitle('Length of Link Contexts')\n",
    "# plot both histograms for each category in the plots\n",
    "# normalize the histograms\n",
    "# compute the bins\n",
    "max_val = max(max(lengths['real']['text_present']), max(lengths['synth']['text_present']))\n",
    "bins = np.linspace(0, max_val, 50)\n",
    "axs[0, 0].hist(lengths['real']['text_present'], bins=bins, density=True, alpha=0.6, label='Real')\n",
    "axs[0, 0].hist(lengths['synth']['text_present'], bins=bins, density=True, alpha=0.6, label='Synthetic')\n",
    "axs[0, 0].set_title('Text Present')\n",
    "axs[0, 0].legend(loc='upper right')\n",
    "\n",
    "max_val = max(max(lengths['real']['missing_mention']), max(lengths['synth']['missing_mention']))\n",
    "bins = np.linspace(0, max_val, 50)\n",
    "axs[0, 1].hist(lengths['real']['missing_mention'], bins=bins, density=True, alpha=0.6, label='Real')\n",
    "axs[0, 1].hist(lengths['synth']['missing_mention'], bins=bins, density=True, alpha=0.6, label='Synthetic')\n",
    "axs[0, 1].set_title('Missing Mention')\n",
    "axs[0, 1].legend(loc='upper right')\n",
    "\n",
    "max_val = max(max(lengths['real']['missing_sentence']), max(lengths['synth']['missing_sentence']))\n",
    "bins = np.linspace(0, max_val, 50)\n",
    "axs[1, 0].hist(lengths['real']['missing_sentence'], bins=bins, density=True, alpha=0.6, label='Real')\n",
    "axs[1, 0].hist(lengths['synth']['missing_sentence'], bins=bins, density=True, alpha=0.6, label='Synthetic')\n",
    "axs[1, 0].set_title('Missing Sentence')\n",
    "axs[1, 0].legend(loc='upper right')\n",
    "\n",
    "max_val = max(max(lengths['real']['missing_span']), max(lengths['synth']['missing_span']))\n",
    "bins = np.linspace(0, max_val, 50)\n",
    "axs[1, 1].hist(lengths['real']['missing_span'], bins=bins, density=True, alpha=0.6, label='Real')\n",
    "axs[1, 1].hist(lengths['synth']['missing_span'], bins=bins, density=True, alpha=0.6, label='Synthetic')\n",
    "axs[1, 1].set_title('Missing Span')\n",
    "axs[1, 1].legend(loc='upper right')"
   ]
  },
  {
   "cell_type": "code",
   "execution_count": null,
   "metadata": {},
   "outputs": [],
   "source": [
    "pd.DataFrame(lengths['real']['missing_span']).describe()"
   ]
  },
  {
   "cell_type": "code",
   "execution_count": null,
   "metadata": {},
   "outputs": [],
   "source": [
    "pd.DataFrame(lengths['synth']['missing_span']).describe()"
   ]
  },
  {
   "cell_type": "code",
   "execution_count": null,
   "metadata": {},
   "outputs": [],
   "source": []
  }
 ],
 "metadata": {
  "kernelspec": {
   "display_name": "wiki_dump",
   "language": "python",
   "name": "python3"
  },
  "language_info": {
   "codemirror_mode": {
    "name": "ipython",
    "version": 3
   },
   "file_extension": ".py",
   "mimetype": "text/x-python",
   "name": "python",
   "nbconvert_exporter": "python",
   "pygments_lexer": "ipython3",
   "version": "3.9.18"
  }
 },
 "nbformat": 4,
 "nbformat_minor": 2
}
