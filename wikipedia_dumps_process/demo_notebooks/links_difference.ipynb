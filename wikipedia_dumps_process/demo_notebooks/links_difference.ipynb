{
 "cells": [
  {
   "cell_type": "markdown",
   "metadata": {},
   "source": [
    "# Imports"
   ]
  },
  {
   "cell_type": "code",
   "execution_count": null,
   "metadata": {},
   "outputs": [],
   "source": [
    "import pandas as pd\n",
    "from glob import glob\n",
    "from tqdm import tqdm"
   ]
  },
  {
   "cell_type": "markdown",
   "metadata": {},
   "source": [
    "# Load data"
   ]
  },
  {
   "cell_type": "code",
   "execution_count": null,
   "metadata": {},
   "outputs": [],
   "source": [
    "files_1 = glob('/scratch/tsoares/wikidumps/simplewiki-NS0-20230901/processed_data/links*')\n",
    "files_2 = glob('/scratch/tsoares/wikidumps/simplewiki-NS0-20231001/processed_data/links*')\n",
    "print(files_1)\n",
    "print(files_2)"
   ]
  },
  {
   "cell_type": "code",
   "execution_count": null,
   "metadata": {},
   "outputs": [],
   "source": [
    "dfs = []\n",
    "for file in files_1:\n",
    "    dfs.append(pd.read_parquet(file))\n",
    "df_1 = pd.concat(dfs).reset_index(drop=True)\n",
    "df_1"
   ]
  },
  {
   "cell_type": "code",
   "execution_count": null,
   "metadata": {},
   "outputs": [],
   "source": [
    "dfs = []\n",
    "for file in files_2:\n",
    "    dfs.append(pd.read_parquet(file))\n",
    "df_2 = pd.concat(dfs).reset_index(drop=True)\n",
    "df_2"
   ]
  },
  {
   "cell_type": "markdown",
   "metadata": {},
   "source": [
    "# Convert Data Into Better Structure"
   ]
  },
  {
   "cell_type": "code",
   "execution_count": null,
   "metadata": {},
   "outputs": [],
   "source": [
    "df_1 = df_1.to_dict('records')\n",
    "df_2 = df_2.to_dict('records')"
   ]
  },
  {
   "cell_type": "code",
   "execution_count": null,
   "metadata": {},
   "outputs": [],
   "source": [
    "early_data = {}\n",
    "for link in tqdm(df_1):\n",
    "    if link['source_title'] not in early_data:\n",
    "        early_data[link['source_title']] = {}\n",
    "    if link['target_title'] not in early_data[link['source_title']]:\n",
    "        early_data[link['source_title']][link['target_title']] = []\n",
    "    early_data[link['source_title']][link['target_title']].append(link)\n",
    "early_data"
   ]
  },
  {
   "cell_type": "code",
   "execution_count": null,
   "metadata": {},
   "outputs": [],
   "source": [
    "later_data = {}\n",
    "for link in tqdm(df_2):\n",
    "    if link['source_title'] not in later_data:\n",
    "        later_data[link['source_title']] = {}\n",
    "    if link['target_title'] not in later_data[link['source_title']]:\n",
    "        later_data[link['source_title']][link['target_title']] = []\n",
    "    later_data[link['source_title']][link['target_title']].append(link)"
   ]
  },
  {
   "cell_type": "markdown",
   "metadata": {},
   "source": [
    "# Compare later data with earlier data"
   ]
  },
  {
   "cell_type": "code",
   "execution_count": null,
   "metadata": {},
   "outputs": [],
   "source": [
    "new_pages = 0\n",
    "new_page_links = 0\n",
    "new_links = []\n",
    "sure_new_links = 0\n",
    "\n",
    "for source_page in tqdm(later_data):\n",
    "    if source_page not in early_data:\n",
    "        new_pages += 1\n",
    "        new_page_links += len(later_data[source_page])\n",
    "        continue\n",
    "    for target_page in later_data[source_page]:\n",
    "        if target_page not in early_data[source_page]:\n",
    "            new_links.extend(later_data[source_page][target_page])\n",
    "        else:\n",
    "            links_with_id = []\n",
    "            links_without_id = []\n",
    "            for link in later_data[source_page][target_page]:\n",
    "                if link['link_ID'] is None:\n",
    "                    links_without_id.append(link)\n",
    "                else:\n",
    "                    links_with_id.append(link)\n",
    "            for link in links_with_id:\n",
    "                found = False\n",
    "                for old_link in early_data[source_page][target_page]:\n",
    "                    if link['link_ID'] == old_link['link_ID']:\n",
    "                        found = True\n",
    "                        break\n",
    "                if not found:\n",
    "                    new_links.append(link)\n",
    "                    sure_new_links += 1\n",
    "            \n",
    "            used = set([])\n",
    "            for new_link in links_without_id:\n",
    "                for i, old_link in enumerate(early_data[source_page][target_page]):\n",
    "                    if old_link['link_ID'] is None and old_link['mention'] == new_link['mention'] and i not in used:\n",
    "                        used.add(i)\n",
    "                        break\n",
    "                    if i == len(early_data[source_page][target_page]) - 1:\n",
    "                        new_links.append(new_link)\n",
    "                        sure_new_links += 1\n",
    "                            \n",
    "print(f\"The new data has {new_pages} new pages containing {new_page_links} links\")\n",
    "print(f\"There are potentially {len(new_links)} new links, out of which {sure_new_links} are sure new links\")        "
   ]
  },
  {
   "cell_type": "code",
   "execution_count": null,
   "metadata": {},
   "outputs": [],
   "source": [
    "link_struc = {}\n",
    "for link in new_links:\n",
    "    if link['source_ID'] in link_struc:\n",
    "        link_struc[link['source_ID']].append(link['mention'])\n",
    "    else:\n",
    "        link_struc[link['source_ID']] = [link['mention']]\n",
    "link_struc"
   ]
  },
  {
   "cell_type": "code",
   "execution_count": null,
   "metadata": {},
   "outputs": [],
   "source": []
  }
 ],
 "metadata": {
  "kernelspec": {
   "display_name": "wiki_dump",
   "language": "python",
   "name": "python3"
  },
  "language_info": {
   "codemirror_mode": {
    "name": "ipython",
    "version": 3
   },
   "file_extension": ".py",
   "mimetype": "text/x-python",
   "name": "python",
   "nbconvert_exporter": "python",
   "pygments_lexer": "ipython3",
   "version": "3.9.18"
  }
 },
 "nbformat": 4,
 "nbformat_minor": 2
}
