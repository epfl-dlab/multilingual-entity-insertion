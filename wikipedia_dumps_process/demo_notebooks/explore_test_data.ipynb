{
 "cells": [
  {
   "cell_type": "code",
   "execution_count": null,
   "metadata": {},
   "outputs": [],
   "source": [
    "import pandas as pd\n",
    "from ast import literal_eval"
   ]
  },
  {
   "cell_type": "code",
   "execution_count": null,
   "metadata": {},
   "outputs": [],
   "source": [
    "df = pd.read_parquet('/scratch/tsoares/wikidumps/simplewiki-NS0-20230901/val_data/test_data.parquet')\n",
    "df"
   ]
  },
  {
   "cell_type": "markdown",
   "metadata": {},
   "source": [
    "## Look at the cases where _context_ is empty"
   ]
  },
  {
   "cell_type": "code",
   "execution_count": null,
   "metadata": {},
   "outputs": [],
   "source": [
    "print(f\"There are {len(df)} rows in the dataframe\")\n",
    "print(f\"Out of these, {len(df[df['context'] == ''])} have empty context ({len(df[df['context'] == ''])/len(df)*100:.2f}%)\")"
   ]
  },
  {
   "cell_type": "code",
   "execution_count": null,
   "metadata": {},
   "outputs": [],
   "source": [
    "for i in range(10):\n",
    "    sample = df[df['context'] == ''].sample(1)\n",
    "    print(f\"Source Title: {sample['source_title'].values[0]}\")\n",
    "    print(f\"Source ID: {sample['source_ID'].values[0]}\")\n",
    "    print(f\"Target Title: {sample['target_title'].values[0]}\")\n",
    "    print(f\"Lead Paragraph: {sample['source_lead'].values[0]}\")\n",
    "    print(f\"Context: {sample['context'].values[0]}\")\n",
    "    print(f\"Version 1: {sample['first_version'].values[0]}\")\n",
    "    print(f\"Version 2: {sample['second_version'].values[0]}\")\n",
    "    print(f\"Source Section: {sample['section'].values[0]}\")\n",
    "    print(f\"Present: {sample['mention_present'].values[0]}\")\n",
    "    print(\"#############################################\")"
   ]
  },
  {
   "cell_type": "markdown",
   "metadata": {},
   "source": [
    "## Look at the cases where _direct\\_match_ is False"
   ]
  },
  {
   "cell_type": "code",
   "execution_count": null,
   "metadata": {},
   "outputs": [],
   "source": [
    "print(f\"There are {len(df)} rows in the dataframe\")\n",
    "print(f\"Out of these, {len(df[df['direct_match'] == False])} the sentences could not be directly matched ({len(df[df['direct_match'] == False])/len(df)*100:.2f}%)\")\n",
    "print(f\"Context was extracted indirectly from {len(df[(df['direct_match'] == False) & (df['context'] != '')])} cases ({len(df[(df['direct_match'] == False) & (df['context'] != '')])/len(df)*100:.2f}%)\")"
   ]
  },
  {
   "cell_type": "code",
   "execution_count": null,
   "metadata": {},
   "outputs": [],
   "source": [
    "for i in range(10):\n",
    "    sample = df[df['direct_match'] == False].sample(1)\n",
    "    print(f\"Source Title: {sample['source_title'].values[0]}\")\n",
    "    print(f\"Source ID: {sample['source_ID'].values[0]}\")\n",
    "    print(f\"Target Title: {sample['target_title'].values[0]}\")\n",
    "    print(f\"Lead Paragraph: {sample['source_lead'].values[0]}\")\n",
    "    print(f\"Context: {sample['context'].values[0]}\")\n",
    "    print(f\"Version 1: {sample['first_version'].values[0]}\")\n",
    "    print(f\"Version 2: {sample['second_version'].values[0]}\")\n",
    "    print(f\"Source Section: {sample['section'].values[0]}\")\n",
    "    print(f\"Present: {sample['mention_present'].values[0]}\")\n",
    "    print(\"#############################################\")"
   ]
  },
  {
   "cell_type": "markdown",
   "metadata": {},
   "source": [
    "## Look at the cases where _direct\\_match_ is True and _mention\\_present_ is False"
   ]
  },
  {
   "cell_type": "code",
   "execution_count": null,
   "metadata": {},
   "outputs": [],
   "source": [
    "for i in range(10):\n",
    "    sample = df[(df['direct_match'] == True) & (df['mention_present'] == False)].sample(1)\n",
    "    print(f\"Source Title: {sample['source_title'].values[0]}\")\n",
    "    print(f\"Source ID: {sample['source_ID'].values[0]}\")\n",
    "    print(f\"Target Title: {sample['target_title'].values[0]}\")\n",
    "    print(f\"Lead Paragraph: {sample['source_lead'].values[0]}\")\n",
    "    print(f\"Context: {sample['context'].values[0]}\")\n",
    "    print(f\"Version 1: {sample['first_version'].values[0]}\")\n",
    "    print(f\"Version 2: {sample['second_version'].values[0]}\")\n",
    "    print(f\"Source Section: {sample['section'].values[0]}\")\n",
    "    print(f\"Present: {sample['mention_present'].values[0]}\")\n",
    "    print(\"#############################################\")"
   ]
  },
  {
   "cell_type": "markdown",
   "metadata": {},
   "source": [
    "## Some extra stuff"
   ]
  },
  {
   "cell_type": "code",
   "execution_count": null,
   "metadata": {},
   "outputs": [],
   "source": [
    "df[df['mention_present'] == False]"
   ]
  },
  {
   "cell_type": "code",
   "execution_count": null,
   "metadata": {},
   "outputs": [],
   "source": [
    "len(df[df['mention_present'] == False])/len(df[df['context'] != ''])*100"
   ]
  },
  {
   "cell_type": "code",
   "execution_count": null,
   "metadata": {},
   "outputs": [],
   "source": [
    "df[df['context'] == '']"
   ]
  },
  {
   "cell_type": "code",
   "execution_count": null,
   "metadata": {},
   "outputs": [],
   "source": []
  }
 ],
 "metadata": {
  "kernelspec": {
   "display_name": "wiki_dump",
   "language": "python",
   "name": "python3"
  },
  "language_info": {
   "codemirror_mode": {
    "name": "ipython",
    "version": 3
   },
   "file_extension": ".py",
   "mimetype": "text/x-python",
   "name": "python",
   "nbconvert_exporter": "python",
   "pygments_lexer": "ipython3",
   "version": "3.9.18"
  }
 },
 "nbformat": 4,
 "nbformat_minor": 2
}
