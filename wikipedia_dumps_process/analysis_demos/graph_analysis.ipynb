{
 "cells": [
  {
   "cell_type": "markdown",
   "metadata": {},
   "source": [
    "# Imports and Definitions"
   ]
  },
  {
   "cell_type": "code",
   "execution_count": 1,
   "metadata": {},
   "outputs": [],
   "source": [
    "import pandas as pd\n",
    "from glob import glob\n",
    "from tqdm import tqdm\n",
    "import os\n",
    "tqdm.pandas()"
   ]
  },
  {
   "cell_type": "code",
   "execution_count": 2,
   "metadata": {},
   "outputs": [],
   "source": [
    "root = '/scratch/tsoares/wikidumps/simplewiki-NS0-20231001/processed_data'"
   ]
  },
  {
   "cell_type": "markdown",
   "metadata": {},
   "source": [
    "# Get data"
   ]
  },
  {
   "cell_type": "code",
   "execution_count": 3,
   "metadata": {},
   "outputs": [
    {
     "name": "stdout",
     "output_type": "stream",
     "text": [
      "['/scratch/tsoares/wikidumps/simplewiki-NS0-20231001/processed_data/pages_0.parquet', '/scratch/tsoares/wikidumps/simplewiki-NS0-20231001/processed_data/pages_1.parquet']\n",
      "['/scratch/tsoares/wikidumps/simplewiki-NS0-20231001/processed_data/links_1.parquet', '/scratch/tsoares/wikidumps/simplewiki-NS0-20231001/processed_data/links_0.parquet']\n",
      "['/scratch/tsoares/wikidumps/simplewiki-NS0-20231001/processed_data/redirect_map.parquet']\n"
     ]
    }
   ],
   "source": [
    "page_files = glob(os.path.join(root, \"pages*.parquet\"))\n",
    "link_files = glob(os.path.join(root, \"links*.parquet\"))\n",
    "redirect_files = glob(os.path.join(root, \"redirect*.parquet\"))\n",
    "print(page_files)\n",
    "print(link_files)\n",
    "print(redirect_files)"
   ]
  },
  {
   "cell_type": "code",
   "execution_count": 4,
   "metadata": {},
   "outputs": [
    {
     "name": "stderr",
     "output_type": "stream",
     "text": [
      "100%|██████████| 2/2 [00:35<00:00, 17.58s/it]\n"
     ]
    },
    {
     "data": {
      "text/html": [
       "<div>\n",
       "<style scoped>\n",
       "    .dataframe tbody tr th:only-of-type {\n",
       "        vertical-align: middle;\n",
       "    }\n",
       "\n",
       "    .dataframe tbody tr th {\n",
       "        vertical-align: top;\n",
       "    }\n",
       "\n",
       "    .dataframe thead th {\n",
       "        text-align: right;\n",
       "    }\n",
       "</style>\n",
       "<table border=\"1\" class=\"dataframe\">\n",
       "  <thead>\n",
       "    <tr style=\"text-align: right;\">\n",
       "      <th></th>\n",
       "      <th>title</th>\n",
       "      <th>ID</th>\n",
       "      <th>version</th>\n",
       "      <th>HTML</th>\n",
       "      <th>page_length</th>\n",
       "      <th>language</th>\n",
       "      <th>lead_paragraph</th>\n",
       "      <th>QID</th>\n",
       "    </tr>\n",
       "  </thead>\n",
       "  <tbody>\n",
       "    <tr>\n",
       "      <th>0</th>\n",
       "      <td>1280s</td>\n",
       "      <td>24221</td>\n",
       "      <td>https://simple.wikipedia.org/w/index.php?title...</td>\n",
       "      <td>a</td>\n",
       "      <td>7848.0</td>\n",
       "      <td>simple</td>\n",
       "      <td></td>\n",
       "      <td>Q83352</td>\n",
       "    </tr>\n",
       "    <tr>\n",
       "      <th>1</th>\n",
       "      <td>1283</td>\n",
       "      <td>69408</td>\n",
       "      <td>https://simple.wikipedia.org/w/index.php?title...</td>\n",
       "      <td>a</td>\n",
       "      <td>6277.0</td>\n",
       "      <td>simple</td>\n",
       "      <td>1283 was a common year.</td>\n",
       "      <td>Q5543</td>\n",
       "    </tr>\n",
       "    <tr>\n",
       "      <th>2</th>\n",
       "      <td>1272</td>\n",
       "      <td>46219</td>\n",
       "      <td>https://simple.wikipedia.org/w/index.php?title...</td>\n",
       "      <td>a</td>\n",
       "      <td>13916.0</td>\n",
       "      <td>simple</td>\n",
       "      <td></td>\n",
       "      <td>Q5524</td>\n",
       "    </tr>\n",
       "    <tr>\n",
       "      <th>3</th>\n",
       "      <td>1267</td>\n",
       "      <td>4652</td>\n",
       "      <td>https://simple.wikipedia.org/w/index.php?title...</td>\n",
       "      <td>a</td>\n",
       "      <td>13275.0</td>\n",
       "      <td>simple</td>\n",
       "      <td></td>\n",
       "      <td>Q5519</td>\n",
       "    </tr>\n",
       "    <tr>\n",
       "      <th>4</th>\n",
       "      <td>1296</td>\n",
       "      <td>39604</td>\n",
       "      <td>https://simple.wikipedia.org/w/index.php?title...</td>\n",
       "      <td>a</td>\n",
       "      <td>5002.0</td>\n",
       "      <td>simple</td>\n",
       "      <td>The year 1296 was a leap year which started on...</td>\n",
       "      <td>Q5561</td>\n",
       "    </tr>\n",
       "    <tr>\n",
       "      <th>...</th>\n",
       "      <td>...</td>\n",
       "      <td>...</td>\n",
       "      <td>...</td>\n",
       "      <td>...</td>\n",
       "      <td>...</td>\n",
       "      <td>...</td>\n",
       "      <td>...</td>\n",
       "      <td>...</td>\n",
       "    </tr>\n",
       "    <tr>\n",
       "      <th>40242</th>\n",
       "      <td>109_%28number%29</td>\n",
       "      <td>1051195</td>\n",
       "      <td>None</td>\n",
       "      <td>None</td>\n",
       "      <td>NaN</td>\n",
       "      <td>simple</td>\n",
       "      <td>None</td>\n",
       "      <td>Q604950</td>\n",
       "    </tr>\n",
       "    <tr>\n",
       "      <th>40243</th>\n",
       "      <td>110_%28number%29</td>\n",
       "      <td>1051196</td>\n",
       "      <td>None</td>\n",
       "      <td>None</td>\n",
       "      <td>NaN</td>\n",
       "      <td>simple</td>\n",
       "      <td>None</td>\n",
       "      <td>Q715456</td>\n",
       "    </tr>\n",
       "    <tr>\n",
       "      <th>40244</th>\n",
       "      <td>Krste_Petkov_Misirkov</td>\n",
       "      <td>1051200</td>\n",
       "      <td>None</td>\n",
       "      <td>None</td>\n",
       "      <td>NaN</td>\n",
       "      <td>simple</td>\n",
       "      <td>None</td>\n",
       "      <td>None</td>\n",
       "    </tr>\n",
       "    <tr>\n",
       "      <th>40245</th>\n",
       "      <td>Anna_Odobescu</td>\n",
       "      <td>1051218</td>\n",
       "      <td>None</td>\n",
       "      <td>None</td>\n",
       "      <td>NaN</td>\n",
       "      <td>simple</td>\n",
       "      <td>None</td>\n",
       "      <td>Q61947352</td>\n",
       "    </tr>\n",
       "    <tr>\n",
       "      <th>40246</th>\n",
       "      <td>Pseudophilautus_frankenbergi</td>\n",
       "      <td>1051224</td>\n",
       "      <td>None</td>\n",
       "      <td>None</td>\n",
       "      <td>NaN</td>\n",
       "      <td>simple</td>\n",
       "      <td>None</td>\n",
       "      <td>Q28061030</td>\n",
       "    </tr>\n",
       "  </tbody>\n",
       "</table>\n",
       "<p>240247 rows × 8 columns</p>\n",
       "</div>"
      ],
      "text/plain": [
       "                              title       ID  \\\n",
       "0                             1280s    24221   \n",
       "1                              1283    69408   \n",
       "2                              1272    46219   \n",
       "3                              1267     4652   \n",
       "4                              1296    39604   \n",
       "...                             ...      ...   \n",
       "40242              109_%28number%29  1051195   \n",
       "40243              110_%28number%29  1051196   \n",
       "40244         Krste_Petkov_Misirkov  1051200   \n",
       "40245                 Anna_Odobescu  1051218   \n",
       "40246  Pseudophilautus_frankenbergi  1051224   \n",
       "\n",
       "                                                 version  HTML  page_length  \\\n",
       "0      https://simple.wikipedia.org/w/index.php?title...     a       7848.0   \n",
       "1      https://simple.wikipedia.org/w/index.php?title...     a       6277.0   \n",
       "2      https://simple.wikipedia.org/w/index.php?title...     a      13916.0   \n",
       "3      https://simple.wikipedia.org/w/index.php?title...     a      13275.0   \n",
       "4      https://simple.wikipedia.org/w/index.php?title...     a       5002.0   \n",
       "...                                                  ...   ...          ...   \n",
       "40242                                               None  None          NaN   \n",
       "40243                                               None  None          NaN   \n",
       "40244                                               None  None          NaN   \n",
       "40245                                               None  None          NaN   \n",
       "40246                                               None  None          NaN   \n",
       "\n",
       "      language                                     lead_paragraph        QID  \n",
       "0       simple                                                        Q83352  \n",
       "1       simple                            1283 was a common year.      Q5543  \n",
       "2       simple                                                         Q5524  \n",
       "3       simple                                                         Q5519  \n",
       "4       simple  The year 1296 was a leap year which started on...      Q5561  \n",
       "...        ...                                                ...        ...  \n",
       "40242   simple                                               None    Q604950  \n",
       "40243   simple                                               None    Q715456  \n",
       "40244   simple                                               None       None  \n",
       "40245   simple                                               None  Q61947352  \n",
       "40246   simple                                               None  Q28061030  \n",
       "\n",
       "[240247 rows x 8 columns]"
      ]
     },
     "execution_count": 4,
     "metadata": {},
     "output_type": "execute_result"
    }
   ],
   "source": [
    "def simplify_html(html):\n",
    "    if html is None:\n",
    "        return None\n",
    "    if html == '':\n",
    "        return ''\n",
    "    return 'a'\n",
    "\n",
    "dfs = []\n",
    "for file in tqdm(page_files):\n",
    "    temp_df = pd.read_parquet(file)\n",
    "    temp_df['HTML'] = temp_df['HTML'].apply(lambda x: simplify_html(x)) # simpify html so it is not too big\n",
    "    dfs.append(temp_df)\n",
    "df_pages = pd.concat(dfs)\n",
    "df_pages"
   ]
  },
  {
   "cell_type": "code",
   "execution_count": 5,
   "metadata": {},
   "outputs": [
    {
     "name": "stderr",
     "output_type": "stream",
     "text": [
      "100%|██████████| 2/2 [00:10<00:00,  5.27s/it]\n"
     ]
    },
    {
     "data": {
      "text/html": [
       "<div>\n",
       "<style scoped>\n",
       "    .dataframe tbody tr th:only-of-type {\n",
       "        vertical-align: middle;\n",
       "    }\n",
       "\n",
       "    .dataframe tbody tr th {\n",
       "        vertical-align: top;\n",
       "    }\n",
       "\n",
       "    .dataframe thead th {\n",
       "        text-align: right;\n",
       "    }\n",
       "</style>\n",
       "<table border=\"1\" class=\"dataframe\">\n",
       "  <thead>\n",
       "    <tr style=\"text-align: right;\">\n",
       "      <th></th>\n",
       "      <th>target_title</th>\n",
       "      <th>target_section</th>\n",
       "      <th>source_title</th>\n",
       "      <th>target_ID</th>\n",
       "      <th>target_QID</th>\n",
       "      <th>source_ID</th>\n",
       "      <th>source_QID</th>\n",
       "      <th>source_version</th>\n",
       "      <th>link_ID</th>\n",
       "      <th>mention</th>\n",
       "      <th>...</th>\n",
       "      <th>sentence_raw</th>\n",
       "      <th>sentence_start_index</th>\n",
       "      <th>sentence_end_index</th>\n",
       "      <th>source_page_length</th>\n",
       "      <th>link_section_depth</th>\n",
       "      <th>context</th>\n",
       "      <th>context_sentence_start_index</th>\n",
       "      <th>context_sentence_end_index</th>\n",
       "      <th>context_mention_start_index</th>\n",
       "      <th>context_mention_end_index</th>\n",
       "    </tr>\n",
       "  </thead>\n",
       "  <tbody>\n",
       "    <tr>\n",
       "      <th>0</th>\n",
       "      <td>Georgian_language</td>\n",
       "      <td>Lead</td>\n",
       "      <td>David_Khakhaleishvili</td>\n",
       "      <td>52487</td>\n",
       "      <td>Q8108</td>\n",
       "      <td>813041</td>\n",
       "      <td>Q155514</td>\n",
       "      <td>https://simple.wikipedia.org/w/index.php?title...</td>\n",
       "      <td>mwBA</td>\n",
       "      <td>Georgian</td>\n",
       "      <td>...</td>\n",
       "      <td>&lt;section data-mw-section-id=\"0\" id=\"mwAQ\"&gt;&lt;p i...</td>\n",
       "      <td>16</td>\n",
       "      <td>2464</td>\n",
       "      <td>9058</td>\n",
       "      <td>0.0.0</td>\n",
       "      <td>David Khakhaleishvili (Georgian: დავით ხახალეი...</td>\n",
       "      <td>0.0</td>\n",
       "      <td>171.0</td>\n",
       "      <td>23.0</td>\n",
       "      <td>31.0</td>\n",
       "    </tr>\n",
       "    <tr>\n",
       "      <th>1</th>\n",
       "      <td>Judo</td>\n",
       "      <td>Lead</td>\n",
       "      <td>David_Khakhaleishvili</td>\n",
       "      <td>78553</td>\n",
       "      <td>Q11420</td>\n",
       "      <td>813041</td>\n",
       "      <td>Q155514</td>\n",
       "      <td>https://simple.wikipedia.org/w/index.php?title...</td>\n",
       "      <td>mwBg</td>\n",
       "      <td>judoka</td>\n",
       "      <td>...</td>\n",
       "      <td>&lt;section data-mw-section-id=\"0\" id=\"mwAQ\"&gt;&lt;p i...</td>\n",
       "      <td>16</td>\n",
       "      <td>2464</td>\n",
       "      <td>9058</td>\n",
       "      <td>0.0.0</td>\n",
       "      <td>David Khakhaleishvili (Georgian: დავით ხახალეი...</td>\n",
       "      <td>0.0</td>\n",
       "      <td>171.0</td>\n",
       "      <td>116.0</td>\n",
       "      <td>122.0</td>\n",
       "    </tr>\n",
       "    <tr>\n",
       "      <th>2</th>\n",
       "      <td>Mixed_martial_arts</td>\n",
       "      <td>Lead</td>\n",
       "      <td>David_Khakhaleishvili</td>\n",
       "      <td>31326</td>\n",
       "      <td>Q114466</td>\n",
       "      <td>813041</td>\n",
       "      <td>Q155514</td>\n",
       "      <td>https://simple.wikipedia.org/w/index.php?title...</td>\n",
       "      <td>mwBw</td>\n",
       "      <td>mixed martial artist</td>\n",
       "      <td>...</td>\n",
       "      <td>&lt;section data-mw-section-id=\"0\" id=\"mwAQ\"&gt;&lt;p i...</td>\n",
       "      <td>16</td>\n",
       "      <td>2464</td>\n",
       "      <td>9058</td>\n",
       "      <td>0.0.0</td>\n",
       "      <td>David Khakhaleishvili (Georgian: დავით ხახალეი...</td>\n",
       "      <td>0.0</td>\n",
       "      <td>171.0</td>\n",
       "      <td>124.0</td>\n",
       "      <td>144.0</td>\n",
       "    </tr>\n",
       "    <tr>\n",
       "      <th>3</th>\n",
       "      <td>Georgia_%28country%29</td>\n",
       "      <td>Lead</td>\n",
       "      <td>David_Khakhaleishvili</td>\n",
       "      <td>14986</td>\n",
       "      <td>Q230</td>\n",
       "      <td>813041</td>\n",
       "      <td>Q155514</td>\n",
       "      <td>https://simple.wikipedia.org/w/index.php?title...</td>\n",
       "      <td>mwCQ</td>\n",
       "      <td>Georgia</td>\n",
       "      <td>...</td>\n",
       "      <td>He was born in &lt;a rel=\"mw:WikiLink\" href=\"./K...</td>\n",
       "      <td>2464</td>\n",
       "      <td>2805</td>\n",
       "      <td>9058</td>\n",
       "      <td>0.0.0</td>\n",
       "      <td>David Khakhaleishvili (Georgian: დავით ხახალეი...</td>\n",
       "      <td>0.0</td>\n",
       "      <td>171.0</td>\n",
       "      <td>23.0</td>\n",
       "      <td>30.0</td>\n",
       "    </tr>\n",
       "    <tr>\n",
       "      <th>4</th>\n",
       "      <td>1992_Summer_Olympics</td>\n",
       "      <td>Lead</td>\n",
       "      <td>David_Khakhaleishvili</td>\n",
       "      <td>47889</td>\n",
       "      <td>Q8488</td>\n",
       "      <td>813041</td>\n",
       "      <td>Q155514</td>\n",
       "      <td>https://simple.wikipedia.org/w/index.php?title...</td>\n",
       "      <td>mwCg</td>\n",
       "      <td>1992 Summer Olympics</td>\n",
       "      <td>...</td>\n",
       "      <td>He won the gold medal at the &lt;a rel=\"mw:WikiL...</td>\n",
       "      <td>2805</td>\n",
       "      <td>2950</td>\n",
       "      <td>9058</td>\n",
       "      <td>0.0.0</td>\n",
       "      <td>David Khakhaleishvili (Georgian: დავით ხახალეი...</td>\n",
       "      <td>205.0</td>\n",
       "      <td>255.0</td>\n",
       "      <td>234.0</td>\n",
       "      <td>254.0</td>\n",
       "    </tr>\n",
       "    <tr>\n",
       "      <th>...</th>\n",
       "      <td>...</td>\n",
       "      <td>...</td>\n",
       "      <td>...</td>\n",
       "      <td>...</td>\n",
       "      <td>...</td>\n",
       "      <td>...</td>\n",
       "      <td>...</td>\n",
       "      <td>...</td>\n",
       "      <td>...</td>\n",
       "      <td>...</td>\n",
       "      <td>...</td>\n",
       "      <td>...</td>\n",
       "      <td>...</td>\n",
       "      <td>...</td>\n",
       "      <td>...</td>\n",
       "      <td>...</td>\n",
       "      <td>...</td>\n",
       "      <td>...</td>\n",
       "      <td>...</td>\n",
       "      <td>...</td>\n",
       "      <td>...</td>\n",
       "    </tr>\n",
       "    <tr>\n",
       "      <th>2041949</th>\n",
       "      <td>San_Diego_County</td>\n",
       "      <td>Lead</td>\n",
       "      <td>Escondido%2C_California</td>\n",
       "      <td>298599</td>\n",
       "      <td>Q108143</td>\n",
       "      <td>650261</td>\n",
       "      <td>Q372454</td>\n",
       "      <td>https://simple.wikipedia.org/w/index.php?title...</td>\n",
       "      <td>mwEw</td>\n",
       "      <td>San Diego County</td>\n",
       "      <td>...</td>\n",
       "      <td>Created in 1888, it is one of the oldest citi...</td>\n",
       "      <td>5207</td>\n",
       "      <td>5406</td>\n",
       "      <td>53507</td>\n",
       "      <td>0.0.0</td>\n",
       "      <td>Escondido (/ˌɛskənˈdiːdoʊ/ ES-kən-DEE-doh) is ...</td>\n",
       "      <td>0.0</td>\n",
       "      <td>165.0</td>\n",
       "      <td>64.0</td>\n",
       "      <td>80.0</td>\n",
       "    </tr>\n",
       "    <tr>\n",
       "      <th>2041950</th>\n",
       "      <td>Ice_hockey</td>\n",
       "      <td>Lead</td>\n",
       "      <td>Milan_Kajkl</td>\n",
       "      <td>9451</td>\n",
       "      <td>Q41466</td>\n",
       "      <td>694013</td>\n",
       "      <td>Q1386108</td>\n",
       "      <td>https://simple.wikipedia.org/w/index.php?title...</td>\n",
       "      <td>mwCA</td>\n",
       "      <td>ice hockey</td>\n",
       "      <td>...</td>\n",
       "      <td>\\n&lt;p id=\"mwBA\"&gt;&lt;b id=\"mwBQ\"&gt;Milan Kajkl&lt;/b&gt; (M...</td>\n",
       "      <td>8997</td>\n",
       "      <td>9520</td>\n",
       "      <td>23054</td>\n",
       "      <td>0.0.0</td>\n",
       "      <td>Milan Kajkl (May 14, 1950 – January 18, 2014) ...</td>\n",
       "      <td>0.0</td>\n",
       "      <td>91.0</td>\n",
       "      <td>73.0</td>\n",
       "      <td>83.0</td>\n",
       "    </tr>\n",
       "    <tr>\n",
       "      <th>2041951</th>\n",
       "      <td>Plze%C5%88</td>\n",
       "      <td>Lead</td>\n",
       "      <td>Milan_Kajkl</td>\n",
       "      <td>160752</td>\n",
       "      <td>Q43453</td>\n",
       "      <td>694013</td>\n",
       "      <td>Q1386108</td>\n",
       "      <td>https://simple.wikipedia.org/w/index.php?title...</td>\n",
       "      <td>mwCQ</td>\n",
       "      <td>Plzeň</td>\n",
       "      <td>...</td>\n",
       "      <td>Kajkl was born in &lt;a rel=\"mw:WikiLink\" href=\"...</td>\n",
       "      <td>9520</td>\n",
       "      <td>9707</td>\n",
       "      <td>23054</td>\n",
       "      <td>0.0.0</td>\n",
       "      <td>Milan Kajkl (May 14, 1950 – January 18, 2014) ...</td>\n",
       "      <td>92.0</td>\n",
       "      <td>132.0</td>\n",
       "      <td>110.0</td>\n",
       "      <td>115.0</td>\n",
       "    </tr>\n",
       "    <tr>\n",
       "      <th>2041952</th>\n",
       "      <td>Czechoslovakia</td>\n",
       "      <td>Lead</td>\n",
       "      <td>Milan_Kajkl</td>\n",
       "      <td>22914</td>\n",
       "      <td>Q33946</td>\n",
       "      <td>694013</td>\n",
       "      <td>Q1386108</td>\n",
       "      <td>https://simple.wikipedia.org/w/index.php?title...</td>\n",
       "      <td>mwCg</td>\n",
       "      <td>Czechoslovakia</td>\n",
       "      <td>...</td>\n",
       "      <td>Kajkl was born in &lt;a rel=\"mw:WikiLink\" href=\"...</td>\n",
       "      <td>9520</td>\n",
       "      <td>9707</td>\n",
       "      <td>23054</td>\n",
       "      <td>0.0.0</td>\n",
       "      <td>Milan Kajkl (May 14, 1950 – January 18, 2014) ...</td>\n",
       "      <td>92.0</td>\n",
       "      <td>132.0</td>\n",
       "      <td>117.0</td>\n",
       "      <td>131.0</td>\n",
       "    </tr>\n",
       "    <tr>\n",
       "      <th>2041953</th>\n",
       "      <td>Innsbruck</td>\n",
       "      <td>Lead</td>\n",
       "      <td>Milan_Kajkl</td>\n",
       "      <td>33885</td>\n",
       "      <td>Q1735</td>\n",
       "      <td>694013</td>\n",
       "      <td>Q1386108</td>\n",
       "      <td>https://simple.wikipedia.org/w/index.php?title...</td>\n",
       "      <td>mwDA</td>\n",
       "      <td>Innsbruck</td>\n",
       "      <td>...</td>\n",
       "      <td>He participated at the &lt;a rel=\"mw:WikiLink\" ...</td>\n",
       "      <td>9707</td>\n",
       "      <td>10525</td>\n",
       "      <td>23054</td>\n",
       "      <td>0.0.0</td>\n",
       "      <td>Milan Kajkl (May 14, 1950 – January 18, 2014) ...</td>\n",
       "      <td>133.0</td>\n",
       "      <td>225.0</td>\n",
       "      <td>180.0</td>\n",
       "      <td>189.0</td>\n",
       "    </tr>\n",
       "  </tbody>\n",
       "</table>\n",
       "<p>2750665 rows × 24 columns</p>\n",
       "</div>"
      ],
      "text/plain": [
       "                  target_title target_section             source_title  \\\n",
       "0            Georgian_language           Lead    David_Khakhaleishvili   \n",
       "1                         Judo           Lead    David_Khakhaleishvili   \n",
       "2           Mixed_martial_arts           Lead    David_Khakhaleishvili   \n",
       "3        Georgia_%28country%29           Lead    David_Khakhaleishvili   \n",
       "4         1992_Summer_Olympics           Lead    David_Khakhaleishvili   \n",
       "...                        ...            ...                      ...   \n",
       "2041949       San_Diego_County           Lead  Escondido%2C_California   \n",
       "2041950             Ice_hockey           Lead              Milan_Kajkl   \n",
       "2041951             Plze%C5%88           Lead              Milan_Kajkl   \n",
       "2041952         Czechoslovakia           Lead              Milan_Kajkl   \n",
       "2041953              Innsbruck           Lead              Milan_Kajkl   \n",
       "\n",
       "        target_ID target_QID source_ID source_QID  \\\n",
       "0           52487      Q8108    813041    Q155514   \n",
       "1           78553     Q11420    813041    Q155514   \n",
       "2           31326    Q114466    813041    Q155514   \n",
       "3           14986       Q230    813041    Q155514   \n",
       "4           47889      Q8488    813041    Q155514   \n",
       "...           ...        ...       ...        ...   \n",
       "2041949    298599    Q108143    650261    Q372454   \n",
       "2041950      9451     Q41466    694013   Q1386108   \n",
       "2041951    160752     Q43453    694013   Q1386108   \n",
       "2041952     22914     Q33946    694013   Q1386108   \n",
       "2041953     33885      Q1735    694013   Q1386108   \n",
       "\n",
       "                                            source_version link_ID  \\\n",
       "0        https://simple.wikipedia.org/w/index.php?title...    mwBA   \n",
       "1        https://simple.wikipedia.org/w/index.php?title...    mwBg   \n",
       "2        https://simple.wikipedia.org/w/index.php?title...    mwBw   \n",
       "3        https://simple.wikipedia.org/w/index.php?title...    mwCQ   \n",
       "4        https://simple.wikipedia.org/w/index.php?title...    mwCg   \n",
       "...                                                    ...     ...   \n",
       "2041949  https://simple.wikipedia.org/w/index.php?title...    mwEw   \n",
       "2041950  https://simple.wikipedia.org/w/index.php?title...    mwCA   \n",
       "2041951  https://simple.wikipedia.org/w/index.php?title...    mwCQ   \n",
       "2041952  https://simple.wikipedia.org/w/index.php?title...    mwCg   \n",
       "2041953  https://simple.wikipedia.org/w/index.php?title...    mwDA   \n",
       "\n",
       "                      mention  ...  \\\n",
       "0                    Georgian  ...   \n",
       "1                      judoka  ...   \n",
       "2        mixed martial artist  ...   \n",
       "3                     Georgia  ...   \n",
       "4        1992 Summer Olympics  ...   \n",
       "...                       ...  ...   \n",
       "2041949      San Diego County  ...   \n",
       "2041950            ice hockey  ...   \n",
       "2041951                 Plzeň  ...   \n",
       "2041952        Czechoslovakia  ...   \n",
       "2041953             Innsbruck  ...   \n",
       "\n",
       "                                              sentence_raw  \\\n",
       "0        <section data-mw-section-id=\"0\" id=\"mwAQ\"><p i...   \n",
       "1        <section data-mw-section-id=\"0\" id=\"mwAQ\"><p i...   \n",
       "2        <section data-mw-section-id=\"0\" id=\"mwAQ\"><p i...   \n",
       "3         He was born in <a rel=\"mw:WikiLink\" href=\"./K...   \n",
       "4         He won the gold medal at the <a rel=\"mw:WikiL...   \n",
       "...                                                    ...   \n",
       "2041949   Created in 1888, it is one of the oldest citi...   \n",
       "2041950  \\n<p id=\"mwBA\"><b id=\"mwBQ\">Milan Kajkl</b> (M...   \n",
       "2041951   Kajkl was born in <a rel=\"mw:WikiLink\" href=\"...   \n",
       "2041952   Kajkl was born in <a rel=\"mw:WikiLink\" href=\"...   \n",
       "2041953    He participated at the <a rel=\"mw:WikiLink\" ...   \n",
       "\n",
       "         sentence_start_index  sentence_end_index source_page_length  \\\n",
       "0                          16                2464               9058   \n",
       "1                          16                2464               9058   \n",
       "2                          16                2464               9058   \n",
       "3                        2464                2805               9058   \n",
       "4                        2805                2950               9058   \n",
       "...                       ...                 ...                ...   \n",
       "2041949                  5207                5406              53507   \n",
       "2041950                  8997                9520              23054   \n",
       "2041951                  9520                9707              23054   \n",
       "2041952                  9520                9707              23054   \n",
       "2041953                  9707               10525              23054   \n",
       "\n",
       "        link_section_depth                                            context  \\\n",
       "0                    0.0.0  David Khakhaleishvili (Georgian: დავით ხახალეი...   \n",
       "1                    0.0.0  David Khakhaleishvili (Georgian: დავით ხახალეი...   \n",
       "2                    0.0.0  David Khakhaleishvili (Georgian: დავით ხახალეი...   \n",
       "3                    0.0.0  David Khakhaleishvili (Georgian: დავით ხახალეი...   \n",
       "4                    0.0.0  David Khakhaleishvili (Georgian: დავით ხახალეი...   \n",
       "...                    ...                                                ...   \n",
       "2041949              0.0.0  Escondido (/ˌɛskənˈdiːdoʊ/ ES-kən-DEE-doh) is ...   \n",
       "2041950              0.0.0  Milan Kajkl (May 14, 1950 – January 18, 2014) ...   \n",
       "2041951              0.0.0  Milan Kajkl (May 14, 1950 – January 18, 2014) ...   \n",
       "2041952              0.0.0  Milan Kajkl (May 14, 1950 – January 18, 2014) ...   \n",
       "2041953              0.0.0  Milan Kajkl (May 14, 1950 – January 18, 2014) ...   \n",
       "\n",
       "         context_sentence_start_index  context_sentence_end_index  \\\n",
       "0                                 0.0                       171.0   \n",
       "1                                 0.0                       171.0   \n",
       "2                                 0.0                       171.0   \n",
       "3                                 0.0                       171.0   \n",
       "4                               205.0                       255.0   \n",
       "...                               ...                         ...   \n",
       "2041949                           0.0                       165.0   \n",
       "2041950                           0.0                        91.0   \n",
       "2041951                          92.0                       132.0   \n",
       "2041952                          92.0                       132.0   \n",
       "2041953                         133.0                       225.0   \n",
       "\n",
       "        context_mention_start_index context_mention_end_index  \n",
       "0                              23.0                      31.0  \n",
       "1                             116.0                     122.0  \n",
       "2                             124.0                     144.0  \n",
       "3                              23.0                      30.0  \n",
       "4                             234.0                     254.0  \n",
       "...                             ...                       ...  \n",
       "2041949                        64.0                      80.0  \n",
       "2041950                        73.0                      83.0  \n",
       "2041951                       110.0                     115.0  \n",
       "2041952                       117.0                     131.0  \n",
       "2041953                       180.0                     189.0  \n",
       "\n",
       "[2750665 rows x 24 columns]"
      ]
     },
     "execution_count": 5,
     "metadata": {},
     "output_type": "execute_result"
    }
   ],
   "source": [
    "dfs = []\n",
    "for file in tqdm(link_files):\n",
    "    dfs.append(pd.read_parquet(file))\n",
    "df_links = pd.concat(dfs)\n",
    "df_links"
   ]
  },
  {
   "cell_type": "code",
   "execution_count": 6,
   "metadata": {},
   "outputs": [
    {
     "name": "stderr",
     "output_type": "stream",
     "text": [
      "100%|██████████| 1/1 [00:00<00:00, 14.37it/s]\n"
     ]
    },
    {
     "data": {
      "text/html": [
       "<div>\n",
       "<style scoped>\n",
       "    .dataframe tbody tr th:only-of-type {\n",
       "        vertical-align: middle;\n",
       "    }\n",
       "\n",
       "    .dataframe tbody tr th {\n",
       "        vertical-align: top;\n",
       "    }\n",
       "\n",
       "    .dataframe thead th {\n",
       "        text-align: right;\n",
       "    }\n",
       "</style>\n",
       "<table border=\"1\" class=\"dataframe\">\n",
       "  <thead>\n",
       "    <tr style=\"text-align: right;\">\n",
       "      <th></th>\n",
       "      <th>redirect</th>\n",
       "    </tr>\n",
       "    <tr>\n",
       "      <th>title</th>\n",
       "      <th></th>\n",
       "    </tr>\n",
       "  </thead>\n",
       "  <tbody>\n",
       "    <tr>\n",
       "      <th>Albigensian</th>\n",
       "      <td>Catharism</td>\n",
       "    </tr>\n",
       "    <tr>\n",
       "      <th>American_Units_Of_Measurement</th>\n",
       "      <td>United_States_customary_units</td>\n",
       "    </tr>\n",
       "    <tr>\n",
       "      <th>As</th>\n",
       "      <td>AS</td>\n",
       "    </tr>\n",
       "    <tr>\n",
       "      <th>Animalia</th>\n",
       "      <td>Animal</td>\n",
       "    </tr>\n",
       "    <tr>\n",
       "      <th>Bootstrap</th>\n",
       "      <td>Boot</td>\n",
       "    </tr>\n",
       "    <tr>\n",
       "      <th>...</th>\n",
       "      <td>...</td>\n",
       "    </tr>\n",
       "    <tr>\n",
       "      <th>Hol</th>\n",
       "      <td>HOL</td>\n",
       "    </tr>\n",
       "    <tr>\n",
       "      <th>Voss_%28village%29</th>\n",
       "      <td>Vossevangen</td>\n",
       "    </tr>\n",
       "    <tr>\n",
       "      <th>Grandmaster_Sexay</th>\n",
       "      <td>Brian_Christopher</td>\n",
       "    </tr>\n",
       "    <tr>\n",
       "      <th>Perfume_%28J-Pop%29</th>\n",
       "      <td>Perfume_%28Japanese_band%29</td>\n",
       "    </tr>\n",
       "    <tr>\n",
       "      <th>The_World_Starts_Tonight</th>\n",
       "      <td>Bonnie_Tyler</td>\n",
       "    </tr>\n",
       "  </tbody>\n",
       "</table>\n",
       "<p>93857 rows × 1 columns</p>\n",
       "</div>"
      ],
      "text/plain": [
       "                                                    redirect\n",
       "title                                                       \n",
       "Albigensian                                        Catharism\n",
       "American_Units_Of_Measurement  United_States_customary_units\n",
       "As                                                        AS\n",
       "Animalia                                              Animal\n",
       "Bootstrap                                               Boot\n",
       "...                                                      ...\n",
       "Hol                                                      HOL\n",
       "Voss_%28village%29                               Vossevangen\n",
       "Grandmaster_Sexay                          Brian_Christopher\n",
       "Perfume_%28J-Pop%29              Perfume_%28Japanese_band%29\n",
       "The_World_Starts_Tonight                        Bonnie_Tyler\n",
       "\n",
       "[93857 rows x 1 columns]"
      ]
     },
     "execution_count": 6,
     "metadata": {},
     "output_type": "execute_result"
    }
   ],
   "source": [
    "dfs = []\n",
    "for file in tqdm(redirect_files):\n",
    "    dfs.append(pd.read_parquet(file))\n",
    "df_redirects = pd.concat(dfs)\n",
    "df_redirects"
   ]
  },
  {
   "cell_type": "markdown",
   "metadata": {},
   "source": [
    "# Analyze Pages (Nodes)"
   ]
  },
  {
   "cell_type": "markdown",
   "metadata": {},
   "source": [
    "What is the total number of pages?"
   ]
  },
  {
   "cell_type": "code",
   "execution_count": 7,
   "metadata": {},
   "outputs": [
    {
     "data": {
      "text/plain": [
       "240247"
      ]
     },
     "execution_count": 7,
     "metadata": {},
     "output_type": "execute_result"
    }
   ],
   "source": [
    "len(df_pages)"
   ]
  },
  {
   "cell_type": "markdown",
   "metadata": {},
   "source": [
    "What is the total number of redirects?"
   ]
  },
  {
   "cell_type": "code",
   "execution_count": 8,
   "metadata": {},
   "outputs": [
    {
     "data": {
      "text/plain": [
       "93857"
      ]
     },
     "execution_count": 8,
     "metadata": {},
     "output_type": "execute_result"
    }
   ],
   "source": [
    "len(df_redirects)"
   ]
  },
  {
   "cell_type": "markdown",
   "metadata": {},
   "source": [
    "What is the number of pages with missing QID?"
   ]
  },
  {
   "cell_type": "code",
   "execution_count": 9,
   "metadata": {},
   "outputs": [
    {
     "data": {
      "text/plain": [
       "184"
      ]
     },
     "execution_count": 9,
     "metadata": {},
     "output_type": "execute_result"
    }
   ],
   "source": [
    "no_qid = df_pages['QID'].isna()\n",
    "len(df_pages[no_qid])"
   ]
  },
  {
   "cell_type": "markdown",
   "metadata": {},
   "source": [
    "What is the number of pages with missing HTML?"
   ]
  },
  {
   "cell_type": "code",
   "execution_count": 10,
   "metadata": {},
   "outputs": [
    {
     "data": {
      "text/plain": [
       "726"
      ]
     },
     "execution_count": 10,
     "metadata": {},
     "output_type": "execute_result"
    }
   ],
   "source": [
    "no_html = (df_pages['HTML'].isna()) | (df_pages['HTML'] == '')\n",
    "len(df_pages[no_html])"
   ]
  },
  {
   "cell_type": "markdown",
   "metadata": {},
   "source": [
    "What is the number of pages without a lead paragraph?"
   ]
  },
  {
   "cell_type": "code",
   "execution_count": 11,
   "metadata": {},
   "outputs": [
    {
     "data": {
      "text/plain": [
       "1406"
      ]
     },
     "execution_count": 11,
     "metadata": {},
     "output_type": "execute_result"
    }
   ],
   "source": [
    "no_lead = (df_pages['lead_paragraph'].isna()) | (df_pages['lead_paragraph'] == '')\n",
    "len(df_pages[no_lead])"
   ]
  },
  {
   "cell_type": "markdown",
   "metadata": {},
   "source": [
    "What is the number of pages with a lead paragraph with less than 6 words?"
   ]
  },
  {
   "cell_type": "code",
   "execution_count": 12,
   "metadata": {},
   "outputs": [
    {
     "data": {
      "text/plain": [
       "2122"
      ]
     },
     "execution_count": 12,
     "metadata": {},
     "output_type": "execute_result"
    }
   ],
   "source": [
    "# number of pages where lead paragraph has less than 6 words\n",
    "def split_text(x):\n",
    "    if x is None:\n",
    "        return 0\n",
    "    return len(x.split(' ', 5)) \n",
    "short_lead = df_pages['lead_paragraph'].apply(lambda x: split_text(x) < 6)\n",
    "len(df_pages[short_lead])"
   ]
  },
  {
   "cell_type": "markdown",
   "metadata": {},
   "source": [
    "What is the number of good pages if we exclude all the faulty ones?"
   ]
  },
  {
   "cell_type": "code",
   "execution_count": 13,
   "metadata": {},
   "outputs": [
    {
     "data": {
      "text/plain": [
       "237977"
      ]
     },
     "execution_count": 13,
     "metadata": {},
     "output_type": "execute_result"
    }
   ],
   "source": [
    "len(df_pages[~no_qid & ~no_html & ~no_lead & ~short_lead])"
   ]
  },
  {
   "cell_type": "markdown",
   "metadata": {},
   "source": [
    "Save good data"
   ]
  },
  {
   "cell_type": "code",
   "execution_count": 14,
   "metadata": {},
   "outputs": [
    {
     "name": "stderr",
     "output_type": "stream",
     "text": [
      "100%|██████████| 2/2 [01:20<00:00, 40.20s/it]\n"
     ]
    }
   ],
   "source": [
    "for file in tqdm(page_files):\n",
    "    df = pd.read_parquet(file)\n",
    "    df = df[(~df['QID'].isna()) & (~df['HTML'].isna()) & (~df['lead_paragraph'].isna()) & (df['HTML'] != '') & (df['lead_paragraph'] != '') & (df['lead_paragraph'].apply(lambda x: split_text(x) >= 6))]\n",
    "    df = df.reset_index(drop=True)\n",
    "    df.to_parquet(file.replace('pages', 'good_pages'))"
   ]
  },
  {
   "cell_type": "markdown",
   "metadata": {},
   "source": [
    "# Analyze Links"
   ]
  },
  {
   "cell_type": "markdown",
   "metadata": {},
   "source": [
    "## Auxiliary Data Structures"
   ]
  },
  {
   "cell_type": "code",
   "execution_count": 15,
   "metadata": {},
   "outputs": [],
   "source": [
    "# Pages with no html\n",
    "no_html = df_pages[(df_pages['HTML'].isna()) | (df_pages['HTML'] == '')]['title'].tolist()\n",
    "no_html = set(no_html)"
   ]
  },
  {
   "cell_type": "code",
   "execution_count": 16,
   "metadata": {},
   "outputs": [],
   "source": [
    "# Pages with no lead paragraph\n",
    "no_lead = df_pages[(df_pages['lead_paragraph'].isna()) | (df_pages['lead_paragraph'] == '')]['title'].tolist()\n",
    "no_lead = set(no_lead)"
   ]
  },
  {
   "cell_type": "code",
   "execution_count": 17,
   "metadata": {},
   "outputs": [],
   "source": [
    "# Pages with lead paragraph with less than 6 words\n",
    "short_lead = df_pages[(df_pages['lead_paragraph'].apply(lambda x: split_text(x) < 6))]['title'].tolist()\n",
    "short_lead = set(short_lead)"
   ]
  },
  {
   "cell_type": "markdown",
   "metadata": {},
   "source": [
    "## Results"
   ]
  },
  {
   "cell_type": "markdown",
   "metadata": {},
   "source": [
    "How many total links do we have?"
   ]
  },
  {
   "cell_type": "code",
   "execution_count": 18,
   "metadata": {},
   "outputs": [
    {
     "data": {
      "text/plain": [
       "2750665"
      ]
     },
     "execution_count": 18,
     "metadata": {},
     "output_type": "execute_result"
    }
   ],
   "source": [
    "len(df_links)"
   ]
  },
  {
   "cell_type": "markdown",
   "metadata": {},
   "source": [
    "Of all the links we have, how many were missing its target?"
   ]
  },
  {
   "cell_type": "code",
   "execution_count": 19,
   "metadata": {},
   "outputs": [
    {
     "data": {
      "text/plain": [
       "636"
      ]
     },
     "execution_count": 19,
     "metadata": {},
     "output_type": "execute_result"
    }
   ],
   "source": [
    "no_target = df_links['target_ID'].isna()\n",
    "len(df_links[no_target])"
   ]
  },
  {
   "cell_type": "markdown",
   "metadata": {},
   "source": [
    "What is the number of links without context?"
   ]
  },
  {
   "cell_type": "code",
   "execution_count": 32,
   "metadata": {},
   "outputs": [
    {
     "data": {
      "text/plain": [
       "0"
      ]
     },
     "execution_count": 32,
     "metadata": {},
     "output_type": "execute_result"
    }
   ],
   "source": [
    "no_context = df_links['context'] == ''\n",
    "len(df_links[no_context])"
   ]
  },
  {
   "cell_type": "markdown",
   "metadata": {},
   "source": [
    "What is the number of links with source pages without QID?"
   ]
  },
  {
   "cell_type": "code",
   "execution_count": 33,
   "metadata": {},
   "outputs": [
    {
     "data": {
      "text/plain": [
       "1632"
      ]
     },
     "execution_count": 33,
     "metadata": {},
     "output_type": "execute_result"
    }
   ],
   "source": [
    "no_source_qid = df_links['source_QID'].isna()\n",
    "len(df_links[no_source_qid])"
   ]
  },
  {
   "cell_type": "markdown",
   "metadata": {},
   "source": [
    "What is the number of links with source pages without lead paragraph?"
   ]
  },
  {
   "cell_type": "code",
   "execution_count": 34,
   "metadata": {},
   "outputs": [
    {
     "data": {
      "text/plain": [
       "15176"
      ]
     },
     "execution_count": 34,
     "metadata": {},
     "output_type": "execute_result"
    }
   ],
   "source": [
    "no_source_lead = df_links['source_title'].isin(no_lead)\n",
    "len(df_links[no_source_lead])"
   ]
  },
  {
   "cell_type": "markdown",
   "metadata": {},
   "source": [
    "What is the number of links where the source lead paragraph is too small (less than 6 words)?"
   ]
  },
  {
   "cell_type": "code",
   "execution_count": 35,
   "metadata": {},
   "outputs": [
    {
     "data": {
      "text/plain": [
       "22721"
      ]
     },
     "execution_count": 35,
     "metadata": {},
     "output_type": "execute_result"
    }
   ],
   "source": [
    "short_source_lead = df_links['source_title'].isin(short_lead)\n",
    "len(df_links[short_source_lead])"
   ]
  },
  {
   "cell_type": "markdown",
   "metadata": {},
   "source": [
    "What is the number of links with target pages without QID?"
   ]
  },
  {
   "cell_type": "code",
   "execution_count": 36,
   "metadata": {},
   "outputs": [
    {
     "data": {
      "text/plain": [
       "868"
      ]
     },
     "execution_count": 36,
     "metadata": {},
     "output_type": "execute_result"
    }
   ],
   "source": [
    "no_target_qid = df_links['target_QID'].isna()\n",
    "len(df_links[no_target_qid])"
   ]
  },
  {
   "cell_type": "markdown",
   "metadata": {},
   "source": [
    "What is the number of links with target pages without HTML?"
   ]
  },
  {
   "cell_type": "code",
   "execution_count": 37,
   "metadata": {},
   "outputs": [
    {
     "data": {
      "text/plain": [
       "3074"
      ]
     },
     "execution_count": 37,
     "metadata": {},
     "output_type": "execute_result"
    }
   ],
   "source": [
    "target_no_html = df_links['target_title'].isin(no_html)\n",
    "len(df_links[target_no_html])"
   ]
  },
  {
   "cell_type": "markdown",
   "metadata": {},
   "source": [
    "What is the number of links with target pages without lead paragraph?"
   ]
  },
  {
   "cell_type": "code",
   "execution_count": 38,
   "metadata": {},
   "outputs": [
    {
     "data": {
      "text/plain": [
       "40246"
      ]
     },
     "execution_count": 38,
     "metadata": {},
     "output_type": "execute_result"
    }
   ],
   "source": [
    "target_no_lead = df_links['target_title'].isin(no_lead)\n",
    "len(df_links[target_no_lead])"
   ]
  },
  {
   "cell_type": "markdown",
   "metadata": {},
   "source": [
    "What is the number of links where the target lead paragraph is too small (less than 6 words)?"
   ]
  },
  {
   "cell_type": "code",
   "execution_count": 39,
   "metadata": {},
   "outputs": [
    {
     "data": {
      "text/plain": [
       "59751"
      ]
     },
     "execution_count": 39,
     "metadata": {},
     "output_type": "execute_result"
    }
   ],
   "source": [
    "target_short_lead = df_links['target_title'].isin(short_lead)\n",
    "len(df_links[target_short_lead])"
   ]
  },
  {
   "cell_type": "markdown",
   "metadata": {},
   "source": [
    "What is the number of links where the source is the same as the target?"
   ]
  },
  {
   "cell_type": "code",
   "execution_count": 40,
   "metadata": {},
   "outputs": [
    {
     "data": {
      "text/plain": [
       "5020"
      ]
     },
     "execution_count": 40,
     "metadata": {},
     "output_type": "execute_result"
    }
   ],
   "source": [
    "target_same_source = df_links['target_title'] == df_links['source_title']\n",
    "len(df_links[target_same_source])"
   ]
  },
  {
   "cell_type": "markdown",
   "metadata": {},
   "source": [
    "What is the number of good links?"
   ]
  },
  {
   "cell_type": "code",
   "execution_count": 46,
   "metadata": {},
   "outputs": [
    {
     "data": {
      "text/plain": [
       "2662601"
      ]
     },
     "execution_count": 46,
     "metadata": {},
     "output_type": "execute_result"
    }
   ],
   "source": [
    "len(df_links[~no_target & ~no_context & ~no_source_qid & ~no_source_lead & ~short_source_lead & ~no_target_qid & ~target_no_html & ~target_no_lead & ~target_short_lead & ~target_same_source])"
   ]
  },
  {
   "cell_type": "markdown",
   "metadata": {},
   "source": [
    "Save good links"
   ]
  },
  {
   "cell_type": "code",
   "execution_count": null,
   "metadata": {},
   "outputs": [
    {
     "name": "stderr",
     "output_type": "stream",
     "text": [
      "  0%|          | 0/2 [00:34<?, ?it/s]\n"
     ]
    },
    {
     "ename": "KeyboardInterrupt",
     "evalue": "",
     "output_type": "error",
     "traceback": [
      "\u001b[0;31m---------------------------------------------------------------------------\u001b[0m",
      "\u001b[0;31mKeyboardInterrupt\u001b[0m                         Traceback (most recent call last)",
      "\u001b[1;32m/home/tsoares/linkrec-llms/wikipedia_dumps_process/graph_analysis.ipynb Cell 63\u001b[0m line \u001b[0;36m3\n\u001b[1;32m      <a href='vscode-notebook-cell://ssh-remote%2Bserver_2/home/tsoares/linkrec-llms/wikipedia_dumps_process/graph_analysis.ipynb#Y116sdnNjb2RlLXJlbW90ZQ%3D%3D?line=0'>1</a>\u001b[0m \u001b[39mfor\u001b[39;00m file \u001b[39min\u001b[39;00m tqdm(link_files):\n\u001b[1;32m      <a href='vscode-notebook-cell://ssh-remote%2Bserver_2/home/tsoares/linkrec-llms/wikipedia_dumps_process/graph_analysis.ipynb#Y116sdnNjb2RlLXJlbW90ZQ%3D%3D?line=1'>2</a>\u001b[0m     df \u001b[39m=\u001b[39m pd\u001b[39m.\u001b[39mread_parquet(file)\n\u001b[0;32m----> <a href='vscode-notebook-cell://ssh-remote%2Bserver_2/home/tsoares/linkrec-llms/wikipedia_dumps_process/graph_analysis.ipynb#Y116sdnNjb2RlLXJlbW90ZQ%3D%3D?line=2'>3</a>\u001b[0m     df \u001b[39m=\u001b[39m df[(\u001b[39m~\u001b[39mdf[\u001b[39m'\u001b[39m\u001b[39mtarget_ID\u001b[39m\u001b[39m'\u001b[39m]\u001b[39m.\u001b[39misna()) \u001b[39m&\u001b[39m (\u001b[39m~\u001b[39mdf[\u001b[39m'\u001b[39m\u001b[39msource_QID\u001b[39m\u001b[39m'\u001b[39m]\u001b[39m.\u001b[39misna()) \u001b[39m&\u001b[39m (\u001b[39m~\u001b[39mdf[\u001b[39m'\u001b[39m\u001b[39mtarget_QID\u001b[39m\u001b[39m'\u001b[39m]\u001b[39m.\u001b[39misna()) \u001b[39m&\u001b[39m (\u001b[39m~\u001b[39mdf[\u001b[39m'\u001b[39m\u001b[39mtarget_title\u001b[39m\u001b[39m'\u001b[39m]\u001b[39m.\u001b[39misin(no_html)) \u001b[39m&\u001b[39m (\u001b[39m~\u001b[39mdf[\u001b[39m'\u001b[39m\u001b[39mtarget_title\u001b[39m\u001b[39m'\u001b[39m]\u001b[39m.\u001b[39misin(no_lead)) \u001b[39m&\u001b[39m (\u001b[39m~\u001b[39mdf[\u001b[39m'\u001b[39m\u001b[39msource_title\u001b[39m\u001b[39m'\u001b[39m]\u001b[39m.\u001b[39misin(no_lead)) \u001b[39m&\u001b[39m (\u001b[39m~\u001b[39mdf[\u001b[39m'\u001b[39m\u001b[39mcontext\u001b[39m\u001b[39m'\u001b[39m]\u001b[39m.\u001b[39misna()) \u001b[39m&\u001b[39m (df[\u001b[39m'\u001b[39m\u001b[39mcontext\u001b[39m\u001b[39m'\u001b[39m] \u001b[39m!=\u001b[39m \u001b[39m'\u001b[39m\u001b[39m'\u001b[39m) \u001b[39m&\u001b[39m (\u001b[39m~\u001b[39mdf[\u001b[39m'\u001b[39m\u001b[39mcontext\u001b[39m\u001b[39m'\u001b[39m]\u001b[39m.\u001b[39mapply(\u001b[39mlambda\u001b[39;00m x: bad_context_eval(x))) \u001b[39m&\u001b[39m (\u001b[39m~\u001b[39mdf[\u001b[39m'\u001b[39m\u001b[39msource_title\u001b[39m\u001b[39m'\u001b[39m]\u001b[39m.\u001b[39misin(short_lead)) \u001b[39m&\u001b[39m (\u001b[39m~\u001b[39mdf[\u001b[39m'\u001b[39m\u001b[39mtarget_title\u001b[39m\u001b[39m'\u001b[39m]\u001b[39m.\u001b[39misin(short_lead)) \u001b[39m&\u001b[39m (df[\u001b[39m'\u001b[39m\u001b[39msource_title\u001b[39m\u001b[39m'\u001b[39m] \u001b[39m!=\u001b[39m df[\u001b[39m'\u001b[39m\u001b[39mtarget_title\u001b[39m\u001b[39m'\u001b[39m]) \u001b[39m&\u001b[39m (df\u001b[39m.\u001b[39;49mapply(\u001b[39mlambda\u001b[39;49;00m x: measure_context_length(x) \u001b[39m>\u001b[39;49m\u001b[39m=\u001b[39;49m \u001b[39m50\u001b[39;49m, axis\u001b[39m=\u001b[39;49m\u001b[39m1\u001b[39;49m))]\n\u001b[1;32m      <a href='vscode-notebook-cell://ssh-remote%2Bserver_2/home/tsoares/linkrec-llms/wikipedia_dumps_process/graph_analysis.ipynb#Y116sdnNjb2RlLXJlbW90ZQ%3D%3D?line=3'>4</a>\u001b[0m     df \u001b[39m=\u001b[39m df\u001b[39m.\u001b[39mreset_index(drop\u001b[39m=\u001b[39m\u001b[39mTrue\u001b[39;00m)\n\u001b[1;32m      <a href='vscode-notebook-cell://ssh-remote%2Bserver_2/home/tsoares/linkrec-llms/wikipedia_dumps_process/graph_analysis.ipynb#Y116sdnNjb2RlLXJlbW90ZQ%3D%3D?line=4'>5</a>\u001b[0m     df\u001b[39m.\u001b[39mto_parquet(file\u001b[39m.\u001b[39mreplace(\u001b[39m'\u001b[39m\u001b[39mlinks\u001b[39m\u001b[39m'\u001b[39m, \u001b[39m'\u001b[39m\u001b[39mgood_links\u001b[39m\u001b[39m'\u001b[39m))\n",
      "File \u001b[0;32m/scratch/tsoares/miniconda3/envs/wiki_dump/lib/python3.9/site-packages/pandas/core/frame.py:10037\u001b[0m, in \u001b[0;36mDataFrame.apply\u001b[0;34m(self, func, axis, raw, result_type, args, by_row, **kwargs)\u001b[0m\n\u001b[1;32m  10025\u001b[0m \u001b[39mfrom\u001b[39;00m \u001b[39mpandas\u001b[39;00m\u001b[39m.\u001b[39;00m\u001b[39mcore\u001b[39;00m\u001b[39m.\u001b[39;00m\u001b[39mapply\u001b[39;00m \u001b[39mimport\u001b[39;00m frame_apply\n\u001b[1;32m  10027\u001b[0m op \u001b[39m=\u001b[39m frame_apply(\n\u001b[1;32m  10028\u001b[0m     \u001b[39mself\u001b[39m,\n\u001b[1;32m  10029\u001b[0m     func\u001b[39m=\u001b[39mfunc,\n\u001b[0;32m   (...)\u001b[0m\n\u001b[1;32m  10035\u001b[0m     kwargs\u001b[39m=\u001b[39mkwargs,\n\u001b[1;32m  10036\u001b[0m )\n\u001b[0;32m> 10037\u001b[0m \u001b[39mreturn\u001b[39;00m op\u001b[39m.\u001b[39;49mapply()\u001b[39m.\u001b[39m__finalize__(\u001b[39mself\u001b[39m, method\u001b[39m=\u001b[39m\u001b[39m\"\u001b[39m\u001b[39mapply\u001b[39m\u001b[39m\"\u001b[39m)\n",
      "File \u001b[0;32m/scratch/tsoares/miniconda3/envs/wiki_dump/lib/python3.9/site-packages/pandas/core/apply.py:837\u001b[0m, in \u001b[0;36mFrameApply.apply\u001b[0;34m(self)\u001b[0m\n\u001b[1;32m    834\u001b[0m \u001b[39melif\u001b[39;00m \u001b[39mself\u001b[39m\u001b[39m.\u001b[39mraw:\n\u001b[1;32m    835\u001b[0m     \u001b[39mreturn\u001b[39;00m \u001b[39mself\u001b[39m\u001b[39m.\u001b[39mapply_raw()\n\u001b[0;32m--> 837\u001b[0m \u001b[39mreturn\u001b[39;00m \u001b[39mself\u001b[39;49m\u001b[39m.\u001b[39;49mapply_standard()\n",
      "File \u001b[0;32m/scratch/tsoares/miniconda3/envs/wiki_dump/lib/python3.9/site-packages/pandas/core/apply.py:963\u001b[0m, in \u001b[0;36mFrameApply.apply_standard\u001b[0;34m(self)\u001b[0m\n\u001b[1;32m    962\u001b[0m \u001b[39mdef\u001b[39;00m \u001b[39mapply_standard\u001b[39m(\u001b[39mself\u001b[39m):\n\u001b[0;32m--> 963\u001b[0m     results, res_index \u001b[39m=\u001b[39m \u001b[39mself\u001b[39;49m\u001b[39m.\u001b[39;49mapply_series_generator()\n\u001b[1;32m    965\u001b[0m     \u001b[39m# wrap results\u001b[39;00m\n\u001b[1;32m    966\u001b[0m     \u001b[39mreturn\u001b[39;00m \u001b[39mself\u001b[39m\u001b[39m.\u001b[39mwrap_results(results, res_index)\n",
      "File \u001b[0;32m/scratch/tsoares/miniconda3/envs/wiki_dump/lib/python3.9/site-packages/pandas/core/apply.py:979\u001b[0m, in \u001b[0;36mFrameApply.apply_series_generator\u001b[0;34m(self)\u001b[0m\n\u001b[1;32m    976\u001b[0m \u001b[39mwith\u001b[39;00m option_context(\u001b[39m\"\u001b[39m\u001b[39mmode.chained_assignment\u001b[39m\u001b[39m\"\u001b[39m, \u001b[39mNone\u001b[39;00m):\n\u001b[1;32m    977\u001b[0m     \u001b[39mfor\u001b[39;00m i, v \u001b[39min\u001b[39;00m \u001b[39menumerate\u001b[39m(series_gen):\n\u001b[1;32m    978\u001b[0m         \u001b[39m# ignore SettingWithCopy here in case the user mutates\u001b[39;00m\n\u001b[0;32m--> 979\u001b[0m         results[i] \u001b[39m=\u001b[39m \u001b[39mself\u001b[39;49m\u001b[39m.\u001b[39;49mfunc(v, \u001b[39m*\u001b[39;49m\u001b[39mself\u001b[39;49m\u001b[39m.\u001b[39;49margs, \u001b[39m*\u001b[39;49m\u001b[39m*\u001b[39;49m\u001b[39mself\u001b[39;49m\u001b[39m.\u001b[39;49mkwargs)\n\u001b[1;32m    980\u001b[0m         \u001b[39mif\u001b[39;00m \u001b[39misinstance\u001b[39m(results[i], ABCSeries):\n\u001b[1;32m    981\u001b[0m             \u001b[39m# If we have a view on v, we need to make a copy because\u001b[39;00m\n\u001b[1;32m    982\u001b[0m             \u001b[39m#  series_generator will swap out the underlying data\u001b[39;00m\n\u001b[1;32m    983\u001b[0m             results[i] \u001b[39m=\u001b[39m results[i]\u001b[39m.\u001b[39mcopy(deep\u001b[39m=\u001b[39m\u001b[39mFalse\u001b[39;00m)\n",
      "\u001b[1;32m/home/tsoares/linkrec-llms/wikipedia_dumps_process/graph_analysis.ipynb Cell 63\u001b[0m line \u001b[0;36m3\n\u001b[1;32m      <a href='vscode-notebook-cell://ssh-remote%2Bserver_2/home/tsoares/linkrec-llms/wikipedia_dumps_process/graph_analysis.ipynb#Y116sdnNjb2RlLXJlbW90ZQ%3D%3D?line=0'>1</a>\u001b[0m \u001b[39mfor\u001b[39;00m file \u001b[39min\u001b[39;00m tqdm(link_files):\n\u001b[1;32m      <a href='vscode-notebook-cell://ssh-remote%2Bserver_2/home/tsoares/linkrec-llms/wikipedia_dumps_process/graph_analysis.ipynb#Y116sdnNjb2RlLXJlbW90ZQ%3D%3D?line=1'>2</a>\u001b[0m     df \u001b[39m=\u001b[39m pd\u001b[39m.\u001b[39mread_parquet(file)\n\u001b[0;32m----> <a href='vscode-notebook-cell://ssh-remote%2Bserver_2/home/tsoares/linkrec-llms/wikipedia_dumps_process/graph_analysis.ipynb#Y116sdnNjb2RlLXJlbW90ZQ%3D%3D?line=2'>3</a>\u001b[0m     df \u001b[39m=\u001b[39m df[(\u001b[39m~\u001b[39mdf[\u001b[39m'\u001b[39m\u001b[39mtarget_ID\u001b[39m\u001b[39m'\u001b[39m]\u001b[39m.\u001b[39misna()) \u001b[39m&\u001b[39m (\u001b[39m~\u001b[39mdf[\u001b[39m'\u001b[39m\u001b[39msource_QID\u001b[39m\u001b[39m'\u001b[39m]\u001b[39m.\u001b[39misna()) \u001b[39m&\u001b[39m (\u001b[39m~\u001b[39mdf[\u001b[39m'\u001b[39m\u001b[39mtarget_QID\u001b[39m\u001b[39m'\u001b[39m]\u001b[39m.\u001b[39misna()) \u001b[39m&\u001b[39m (\u001b[39m~\u001b[39mdf[\u001b[39m'\u001b[39m\u001b[39mtarget_title\u001b[39m\u001b[39m'\u001b[39m]\u001b[39m.\u001b[39misin(no_html)) \u001b[39m&\u001b[39m (\u001b[39m~\u001b[39mdf[\u001b[39m'\u001b[39m\u001b[39mtarget_title\u001b[39m\u001b[39m'\u001b[39m]\u001b[39m.\u001b[39misin(no_lead)) \u001b[39m&\u001b[39m (\u001b[39m~\u001b[39mdf[\u001b[39m'\u001b[39m\u001b[39msource_title\u001b[39m\u001b[39m'\u001b[39m]\u001b[39m.\u001b[39misin(no_lead)) \u001b[39m&\u001b[39m (\u001b[39m~\u001b[39mdf[\u001b[39m'\u001b[39m\u001b[39mcontext\u001b[39m\u001b[39m'\u001b[39m]\u001b[39m.\u001b[39misna()) \u001b[39m&\u001b[39m (df[\u001b[39m'\u001b[39m\u001b[39mcontext\u001b[39m\u001b[39m'\u001b[39m] \u001b[39m!=\u001b[39m \u001b[39m'\u001b[39m\u001b[39m'\u001b[39m) \u001b[39m&\u001b[39m (\u001b[39m~\u001b[39mdf[\u001b[39m'\u001b[39m\u001b[39mcontext\u001b[39m\u001b[39m'\u001b[39m]\u001b[39m.\u001b[39mapply(\u001b[39mlambda\u001b[39;00m x: bad_context_eval(x))) \u001b[39m&\u001b[39m (\u001b[39m~\u001b[39mdf[\u001b[39m'\u001b[39m\u001b[39msource_title\u001b[39m\u001b[39m'\u001b[39m]\u001b[39m.\u001b[39misin(short_lead)) \u001b[39m&\u001b[39m (\u001b[39m~\u001b[39mdf[\u001b[39m'\u001b[39m\u001b[39mtarget_title\u001b[39m\u001b[39m'\u001b[39m]\u001b[39m.\u001b[39misin(short_lead)) \u001b[39m&\u001b[39m (df[\u001b[39m'\u001b[39m\u001b[39msource_title\u001b[39m\u001b[39m'\u001b[39m] \u001b[39m!=\u001b[39m df[\u001b[39m'\u001b[39m\u001b[39mtarget_title\u001b[39m\u001b[39m'\u001b[39m]) \u001b[39m&\u001b[39m (df\u001b[39m.\u001b[39mapply(\u001b[39mlambda\u001b[39;00m x: measure_context_length(x) \u001b[39m>\u001b[39m\u001b[39m=\u001b[39m \u001b[39m50\u001b[39m, axis\u001b[39m=\u001b[39m\u001b[39m1\u001b[39m))]\n\u001b[1;32m      <a href='vscode-notebook-cell://ssh-remote%2Bserver_2/home/tsoares/linkrec-llms/wikipedia_dumps_process/graph_analysis.ipynb#Y116sdnNjb2RlLXJlbW90ZQ%3D%3D?line=3'>4</a>\u001b[0m     df \u001b[39m=\u001b[39m df\u001b[39m.\u001b[39mreset_index(drop\u001b[39m=\u001b[39m\u001b[39mTrue\u001b[39;00m)\n\u001b[1;32m      <a href='vscode-notebook-cell://ssh-remote%2Bserver_2/home/tsoares/linkrec-llms/wikipedia_dumps_process/graph_analysis.ipynb#Y116sdnNjb2RlLXJlbW90ZQ%3D%3D?line=4'>5</a>\u001b[0m     df\u001b[39m.\u001b[39mto_parquet(file\u001b[39m.\u001b[39mreplace(\u001b[39m'\u001b[39m\u001b[39mlinks\u001b[39m\u001b[39m'\u001b[39m, \u001b[39m'\u001b[39m\u001b[39mgood_links\u001b[39m\u001b[39m'\u001b[39m))\n",
      "\u001b[1;32m/home/tsoares/linkrec-llms/wikipedia_dumps_process/graph_analysis.ipynb Cell 63\u001b[0m line \u001b[0;36m4\n\u001b[1;32m      <a href='vscode-notebook-cell://ssh-remote%2Bserver_2/home/tsoares/linkrec-llms/wikipedia_dumps_process/graph_analysis.ipynb#Y116sdnNjb2RlLXJlbW90ZQ%3D%3D?line=1'>2</a>\u001b[0m \u001b[39mif\u001b[39;00m x[\u001b[39m'\u001b[39m\u001b[39mcontext\u001b[39m\u001b[39m'\u001b[39m] \u001b[39mis\u001b[39;00m \u001b[39mNone\u001b[39;00m:\n\u001b[1;32m      <a href='vscode-notebook-cell://ssh-remote%2Bserver_2/home/tsoares/linkrec-llms/wikipedia_dumps_process/graph_analysis.ipynb#Y116sdnNjb2RlLXJlbW90ZQ%3D%3D?line=2'>3</a>\u001b[0m     \u001b[39mreturn\u001b[39;00m \u001b[39m0\u001b[39m\n\u001b[0;32m----> <a href='vscode-notebook-cell://ssh-remote%2Bserver_2/home/tsoares/linkrec-llms/wikipedia_dumps_process/graph_analysis.ipynb#Y116sdnNjb2RlLXJlbW90ZQ%3D%3D?line=3'>4</a>\u001b[0m \u001b[39mreturn\u001b[39;00m \u001b[39mlen\u001b[39m(x[\u001b[39m'\u001b[39m\u001b[39mcontext\u001b[39m\u001b[39m'\u001b[39m]) \u001b[39m-\u001b[39m (x[\u001b[39m'\u001b[39;49m\u001b[39mcontext_sentence_end_index\u001b[39;49m\u001b[39m'\u001b[39;49m] \u001b[39m-\u001b[39m x[\u001b[39m'\u001b[39m\u001b[39mcontext_sentence_start_index\u001b[39m\u001b[39m'\u001b[39m])\n",
      "File \u001b[0;32m/scratch/tsoares/miniconda3/envs/wiki_dump/lib/python3.9/site-packages/pandas/core/series.py:1040\u001b[0m, in \u001b[0;36mSeries.__getitem__\u001b[0;34m(self, key)\u001b[0m\n\u001b[1;32m   1037\u001b[0m     \u001b[39mreturn\u001b[39;00m \u001b[39mself\u001b[39m\u001b[39m.\u001b[39m_values[key]\n\u001b[1;32m   1039\u001b[0m \u001b[39melif\u001b[39;00m key_is_scalar:\n\u001b[0;32m-> 1040\u001b[0m     \u001b[39mreturn\u001b[39;00m \u001b[39mself\u001b[39;49m\u001b[39m.\u001b[39;49m_get_value(key)\n\u001b[1;32m   1042\u001b[0m \u001b[39m# Convert generator to list before going through hashable part\u001b[39;00m\n\u001b[1;32m   1043\u001b[0m \u001b[39m# (We will iterate through the generator there to check for slices)\u001b[39;00m\n\u001b[1;32m   1044\u001b[0m \u001b[39mif\u001b[39;00m is_iterator(key):\n",
      "File \u001b[0;32m/scratch/tsoares/miniconda3/envs/wiki_dump/lib/python3.9/site-packages/pandas/core/series.py:1159\u001b[0m, in \u001b[0;36mSeries._get_value\u001b[0;34m(self, label, takeable)\u001b[0m\n\u001b[1;32m   1156\u001b[0m loc \u001b[39m=\u001b[39m \u001b[39mself\u001b[39m\u001b[39m.\u001b[39mindex\u001b[39m.\u001b[39mget_loc(label)\n\u001b[1;32m   1158\u001b[0m \u001b[39mif\u001b[39;00m is_integer(loc):\n\u001b[0;32m-> 1159\u001b[0m     \u001b[39mreturn\u001b[39;00m \u001b[39mself\u001b[39;49m\u001b[39m.\u001b[39;49m_values[loc]\n\u001b[1;32m   1161\u001b[0m \u001b[39mif\u001b[39;00m \u001b[39misinstance\u001b[39m(\u001b[39mself\u001b[39m\u001b[39m.\u001b[39mindex, MultiIndex):\n\u001b[1;32m   1162\u001b[0m     mi \u001b[39m=\u001b[39m \u001b[39mself\u001b[39m\u001b[39m.\u001b[39mindex\n",
      "File \u001b[0;32m/scratch/tsoares/miniconda3/envs/wiki_dump/lib/python3.9/site-packages/pandas/core/series.py:782\u001b[0m, in \u001b[0;36mSeries._values\u001b[0;34m(self)\u001b[0m\n\u001b[1;32m    750\u001b[0m \u001b[39m@property\u001b[39m\n\u001b[1;32m    751\u001b[0m \u001b[39mdef\u001b[39;00m \u001b[39m_values\u001b[39m(\u001b[39mself\u001b[39m):\n\u001b[1;32m    752\u001b[0m \u001b[39m    \u001b[39m\u001b[39m\"\"\"\u001b[39;00m\n\u001b[1;32m    753\u001b[0m \u001b[39m    Return the internal repr of this data (defined by Block.interval_values).\u001b[39;00m\n\u001b[1;32m    754\u001b[0m \u001b[39m    This are the values as stored in the Block (ndarray or ExtensionArray\u001b[39;00m\n\u001b[0;32m   (...)\u001b[0m\n\u001b[1;32m    780\u001b[0m \n\u001b[1;32m    781\u001b[0m \u001b[39m    \"\"\"\u001b[39;00m\n\u001b[0;32m--> 782\u001b[0m     \u001b[39mreturn\u001b[39;00m \u001b[39mself\u001b[39;49m\u001b[39m.\u001b[39;49m_mgr\u001b[39m.\u001b[39;49minternal_values()\n",
      "\u001b[0;31mKeyboardInterrupt\u001b[0m: "
     ]
    }
   ],
   "source": [
    "for file in tqdm(link_files):\n",
    "    df = pd.read_parquet(file)\n",
    "    df = df[(~df['target_ID'].isna()) & (~df['source_QID'].isna()) & (~df['target_QID'].isna()) & (~df['target_title'].isin(no_html)) & (~df['target_title'].isin(no_lead)) & (~df['source_title'].isin(no_lead)) & (~df['context'].isna()) & (df['context'] != '') & (~df['context'].apply(lambda x: bad_context_eval(x))) & (~df['source_title'].isin(short_lead)) & (~df['target_title'].isin(short_lead)) & (df['source_title'] != df['target_title']) & (df.apply(lambda x: measure_context_length(x) >= 50, axis=1))]\n",
    "    df = df.reset_index(drop=True)\n",
    "    df.to_parquet(file.replace('links', 'good_links'))"
   ]
  },
  {
   "cell_type": "code",
   "execution_count": null,
   "metadata": {},
   "outputs": [],
   "source": [
    "for i in range(10):\n",
    "    sample = df_links.sample()\n",
    "    print('SOURCE', sample['source_title'].item())\n",
    "    print('TARGET', sample['target_title'].item())\n",
    "    print('CONTEXT', sample['context'].item())\n",
    "    print('SENTENCE', sample['sentence'].item())\n",
    "    print('SECTION', sample['source_section'].item())\n",
    "    print('###############')"
   ]
  }
 ],
 "metadata": {
  "kernelspec": {
   "display_name": "Python 3",
   "language": "python",
   "name": "python3"
  },
  "language_info": {
   "codemirror_mode": {
    "name": "ipython",
    "version": 3
   },
   "file_extension": ".py",
   "mimetype": "text/x-python",
   "name": "python",
   "nbconvert_exporter": "python",
   "pygments_lexer": "ipython3",
   "version": "3.9.18"
  },
  "orig_nbformat": 4
 },
 "nbformat": 4,
 "nbformat_minor": 2
}
