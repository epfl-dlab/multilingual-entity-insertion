{
 "cells": [
  {
   "cell_type": "markdown",
   "metadata": {},
   "source": [
    "# Imports and definitions"
   ]
  },
  {
   "cell_type": "code",
   "execution_count": 15,
   "metadata": {},
   "outputs": [],
   "source": [
    "import pandas as pd\n",
    "from glob import glob\n",
    "import urllib.parse\n",
    "from tqdm import tqdm"
   ]
  },
  {
   "cell_type": "code",
   "execution_count": 16,
   "metadata": {},
   "outputs": [],
   "source": [
    "root ='/scratch/tsoares/wikidumps/simplewiki-NS0-20230801/processed_data/'"
   ]
  },
  {
   "cell_type": "markdown",
   "metadata": {},
   "source": [
    "# Load data"
   ]
  },
  {
   "cell_type": "code",
   "execution_count": 17,
   "metadata": {},
   "outputs": [
    {
     "data": {
      "text/plain": [
       "['/scratch/tsoares/wikidumps/simplewiki-NS0-20230801/processed_data/links_0.parquet']"
      ]
     },
     "execution_count": 17,
     "metadata": {},
     "output_type": "execute_result"
    }
   ],
   "source": [
    "link_files = glob(root + 'links*')\n",
    "link_files.sort()\n",
    "link_files"
   ]
  },
  {
   "cell_type": "code",
   "execution_count": 18,
   "metadata": {},
   "outputs": [
    {
     "name": "stdout",
     "output_type": "stream",
     "text": [
      "Loading /scratch/tsoares/wikidumps/simplewiki-NS0-20230801/processed_data/links_0.parquet\n"
     ]
    },
    {
     "data": {
      "text/html": [
       "<div>\n",
       "<style scoped>\n",
       "    .dataframe tbody tr th:only-of-type {\n",
       "        vertical-align: middle;\n",
       "    }\n",
       "\n",
       "    .dataframe tbody tr th {\n",
       "        vertical-align: top;\n",
       "    }\n",
       "\n",
       "    .dataframe thead th {\n",
       "        text-align: right;\n",
       "    }\n",
       "</style>\n",
       "<table border=\"1\" class=\"dataframe\">\n",
       "  <thead>\n",
       "    <tr style=\"text-align: right;\">\n",
       "      <th></th>\n",
       "      <th>target_title</th>\n",
       "      <th>target_section</th>\n",
       "      <th>source_title</th>\n",
       "      <th>target_ID</th>\n",
       "      <th>target_QID</th>\n",
       "      <th>source_ID</th>\n",
       "      <th>source_QID</th>\n",
       "      <th>anchor</th>\n",
       "      <th>source_section</th>\n",
       "      <th>link_start_index</th>\n",
       "      <th>link_end_index</th>\n",
       "      <th>sentence</th>\n",
       "      <th>sentence_start_index</th>\n",
       "      <th>sentence_end_index</th>\n",
       "      <th>source_page_length</th>\n",
       "      <th>link_section_depth</th>\n",
       "    </tr>\n",
       "  </thead>\n",
       "  <tbody>\n",
       "    <tr>\n",
       "      <th>0</th>\n",
       "      <td>Month</td>\n",
       "      <td>Lead</td>\n",
       "      <td>April</td>\n",
       "      <td>3641</td>\n",
       "      <td>Q5151</td>\n",
       "      <td>1</td>\n",
       "      <td>Q118</td>\n",
       "      <td>month</td>\n",
       "      <td>Lead</td>\n",
       "      <td>4613</td>\n",
       "      <td>4682</td>\n",
       "      <td>) is the fourth month of the year in the Julia...</td>\n",
       "      <td>4597</td>\n",
       "      <td>5126</td>\n",
       "      <td>99844</td>\n",
       "      <td>0.0.0</td>\n",
       "    </tr>\n",
       "    <tr>\n",
       "      <th>1</th>\n",
       "      <td>Year</td>\n",
       "      <td>Lead</td>\n",
       "      <td>April</td>\n",
       "      <td>944</td>\n",
       "      <td>Q577</td>\n",
       "      <td>1</td>\n",
       "      <td>Q118</td>\n",
       "      <td>year</td>\n",
       "      <td>Lead</td>\n",
       "      <td>4690</td>\n",
       "      <td>4756</td>\n",
       "      <td>) is the fourth month of the year in the Julia...</td>\n",
       "      <td>4597</td>\n",
       "      <td>5126</td>\n",
       "      <td>99844</td>\n",
       "      <td>0.0.0</td>\n",
       "    </tr>\n",
       "    <tr>\n",
       "      <th>2</th>\n",
       "      <td>Julian_calendar</td>\n",
       "      <td>Lead</td>\n",
       "      <td>April</td>\n",
       "      <td>12158</td>\n",
       "      <td>Q11184</td>\n",
       "      <td>1</td>\n",
       "      <td>Q118</td>\n",
       "      <td>Julian</td>\n",
       "      <td>Lead</td>\n",
       "      <td>4764</td>\n",
       "      <td>4854</td>\n",
       "      <td>) is the fourth month of the year in the Julia...</td>\n",
       "      <td>4597</td>\n",
       "      <td>5126</td>\n",
       "      <td>99844</td>\n",
       "      <td>0.0.0</td>\n",
       "    </tr>\n",
       "    <tr>\n",
       "      <th>3</th>\n",
       "      <td>Gregorian_calendar</td>\n",
       "      <td>Lead</td>\n",
       "      <td>April</td>\n",
       "      <td>12159</td>\n",
       "      <td>Q12138</td>\n",
       "      <td>1</td>\n",
       "      <td>Q118</td>\n",
       "      <td>Gregorian calendars</td>\n",
       "      <td>Lead</td>\n",
       "      <td>4859</td>\n",
       "      <td>4968</td>\n",
       "      <td>) is the fourth month of the year in the Julia...</td>\n",
       "      <td>4597</td>\n",
       "      <td>5126</td>\n",
       "      <td>99844</td>\n",
       "      <td>0.0.0</td>\n",
       "    </tr>\n",
       "    <tr>\n",
       "      <th>4</th>\n",
       "      <td>March</td>\n",
       "      <td>Lead</td>\n",
       "      <td>April</td>\n",
       "      <td>468</td>\n",
       "      <td>Q110</td>\n",
       "      <td>1</td>\n",
       "      <td>Q118</td>\n",
       "      <td>March</td>\n",
       "      <td>Lead</td>\n",
       "      <td>4988</td>\n",
       "      <td>5057</td>\n",
       "      <td>) is the fourth month of the year in the Julia...</td>\n",
       "      <td>4597</td>\n",
       "      <td>5126</td>\n",
       "      <td>99844</td>\n",
       "      <td>0.0.0</td>\n",
       "    </tr>\n",
       "    <tr>\n",
       "      <th>...</th>\n",
       "      <td>...</td>\n",
       "      <td>...</td>\n",
       "      <td>...</td>\n",
       "      <td>...</td>\n",
       "      <td>...</td>\n",
       "      <td>...</td>\n",
       "      <td>...</td>\n",
       "      <td>...</td>\n",
       "      <td>...</td>\n",
       "      <td>...</td>\n",
       "      <td>...</td>\n",
       "      <td>...</td>\n",
       "      <td>...</td>\n",
       "      <td>...</td>\n",
       "      <td>...</td>\n",
       "      <td>...</td>\n",
       "    </tr>\n",
       "    <tr>\n",
       "      <th>2722119</th>\n",
       "      <td>Ed_Bruce</td>\n",
       "      <td>Lead</td>\n",
       "      <td>Ever%2C_Never_Lovin%27_You</td>\n",
       "      <td>812433</td>\n",
       "      <td>Q346085</td>\n",
       "      <td>1034469</td>\n",
       "      <td>Q5416801</td>\n",
       "      <td>Ed Bruce</td>\n",
       "      <td>Lead</td>\n",
       "      <td>10429</td>\n",
       "      <td>10507</td>\n",
       "      <td>\\n\"Ever, Never Lovin' You\" is a 1982 song by E...</td>\n",
       "      <td>10203</td>\n",
       "      <td>10838</td>\n",
       "      <td>26630</td>\n",
       "      <td>0.0.0</td>\n",
       "    </tr>\n",
       "    <tr>\n",
       "      <th>2722120</th>\n",
       "      <td>Placebo_%28band%29</td>\n",
       "      <td>Lead</td>\n",
       "      <td>Pure_Morning</td>\n",
       "      <td>113267</td>\n",
       "      <td>Q484839</td>\n",
       "      <td>1034472</td>\n",
       "      <td>Q2577326</td>\n",
       "      <td>Placebo</td>\n",
       "      <td>Lead</td>\n",
       "      <td>12215</td>\n",
       "      <td>12304</td>\n",
       "      <td>Music video\"Pure Morning\" at YouTube\\n\\n\"Pure ...</td>\n",
       "      <td>11298</td>\n",
       "      <td>12305</td>\n",
       "      <td>45056</td>\n",
       "      <td>0.0.0</td>\n",
       "    </tr>\n",
       "    <tr>\n",
       "      <th>2722121</th>\n",
       "      <td>Indian</td>\n",
       "      <td>Lead</td>\n",
       "      <td>Ankit_Pachauri</td>\n",
       "      <td>264544</td>\n",
       "      <td>Q226324</td>\n",
       "      <td>1034521</td>\n",
       "      <td>None</td>\n",
       "      <td>Indian</td>\n",
       "      <td>Lead</td>\n",
       "      <td>6845</td>\n",
       "      <td>6937</td>\n",
       "      <td>-- Image caption --&gt;\"},\"birth_date\":{\"wt\":\"\"},...</td>\n",
       "      <td>5623</td>\n",
       "      <td>7177</td>\n",
       "      <td>14281</td>\n",
       "      <td>0.0.0</td>\n",
       "    </tr>\n",
       "    <tr>\n",
       "      <th>2722122</th>\n",
       "      <td>Journalist</td>\n",
       "      <td>Lead</td>\n",
       "      <td>Ankit_Pachauri</td>\n",
       "      <td>41747</td>\n",
       "      <td>Q1930187</td>\n",
       "      <td>1034521</td>\n",
       "      <td>None</td>\n",
       "      <td>journalist</td>\n",
       "      <td>Lead</td>\n",
       "      <td>6938</td>\n",
       "      <td>7022</td>\n",
       "      <td>-- Image caption --&gt;\"},\"birth_date\":{\"wt\":\"\"},...</td>\n",
       "      <td>5623</td>\n",
       "      <td>7177</td>\n",
       "      <td>14281</td>\n",
       "      <td>0.0.0</td>\n",
       "    </tr>\n",
       "    <tr>\n",
       "      <th>2722123</th>\n",
       "      <td>Internet_Movie_Database</td>\n",
       "      <td>Lead</td>\n",
       "      <td>Ankit_Pachauri</td>\n",
       "      <td>19278</td>\n",
       "      <td>Q37312</td>\n",
       "      <td>1034521</td>\n",
       "      <td>None</td>\n",
       "      <td>IMDb</td>\n",
       "      <td>Other Websites</td>\n",
       "      <td>12465</td>\n",
       "      <td>12566</td>\n",
       "      <td>Ankit Pachauri on IMDb</td>\n",
       "      <td>12119</td>\n",
       "      <td>12566</td>\n",
       "      <td>14281</td>\n",
       "      <td>2.0.0</td>\n",
       "    </tr>\n",
       "  </tbody>\n",
       "</table>\n",
       "<p>2722124 rows × 16 columns</p>\n",
       "</div>"
      ],
      "text/plain": [
       "                    target_title target_section                source_title  \\\n",
       "0                          Month           Lead                       April   \n",
       "1                           Year           Lead                       April   \n",
       "2                Julian_calendar           Lead                       April   \n",
       "3             Gregorian_calendar           Lead                       April   \n",
       "4                          March           Lead                       April   \n",
       "...                          ...            ...                         ...   \n",
       "2722119                 Ed_Bruce           Lead  Ever%2C_Never_Lovin%27_You   \n",
       "2722120       Placebo_%28band%29           Lead                Pure_Morning   \n",
       "2722121                   Indian           Lead              Ankit_Pachauri   \n",
       "2722122               Journalist           Lead              Ankit_Pachauri   \n",
       "2722123  Internet_Movie_Database           Lead              Ankit_Pachauri   \n",
       "\n",
       "        target_ID target_QID source_ID source_QID               anchor  \\\n",
       "0            3641      Q5151         1       Q118                month   \n",
       "1             944       Q577         1       Q118                 year   \n",
       "2           12158     Q11184         1       Q118               Julian   \n",
       "3           12159     Q12138         1       Q118  Gregorian calendars   \n",
       "4             468       Q110         1       Q118                March   \n",
       "...           ...        ...       ...        ...                  ...   \n",
       "2722119    812433    Q346085   1034469   Q5416801             Ed Bruce   \n",
       "2722120    113267    Q484839   1034472   Q2577326              Placebo   \n",
       "2722121    264544    Q226324   1034521       None               Indian   \n",
       "2722122     41747   Q1930187   1034521       None           journalist   \n",
       "2722123     19278     Q37312   1034521       None                 IMDb   \n",
       "\n",
       "         source_section  link_start_index  link_end_index  \\\n",
       "0                  Lead              4613            4682   \n",
       "1                  Lead              4690            4756   \n",
       "2                  Lead              4764            4854   \n",
       "3                  Lead              4859            4968   \n",
       "4                  Lead              4988            5057   \n",
       "...                 ...               ...             ...   \n",
       "2722119            Lead             10429           10507   \n",
       "2722120            Lead             12215           12304   \n",
       "2722121            Lead              6845            6937   \n",
       "2722122            Lead              6938            7022   \n",
       "2722123  Other Websites             12465           12566   \n",
       "\n",
       "                                                  sentence  \\\n",
       "0        ) is the fourth month of the year in the Julia...   \n",
       "1        ) is the fourth month of the year in the Julia...   \n",
       "2        ) is the fourth month of the year in the Julia...   \n",
       "3        ) is the fourth month of the year in the Julia...   \n",
       "4        ) is the fourth month of the year in the Julia...   \n",
       "...                                                    ...   \n",
       "2722119  \\n\"Ever, Never Lovin' You\" is a 1982 song by E...   \n",
       "2722120  Music video\"Pure Morning\" at YouTube\\n\\n\"Pure ...   \n",
       "2722121  -- Image caption -->\"},\"birth_date\":{\"wt\":\"\"},...   \n",
       "2722122  -- Image caption -->\"},\"birth_date\":{\"wt\":\"\"},...   \n",
       "2722123                             Ankit Pachauri on IMDb   \n",
       "\n",
       "         sentence_start_index  sentence_end_index  source_page_length  \\\n",
       "0                        4597                5126               99844   \n",
       "1                        4597                5126               99844   \n",
       "2                        4597                5126               99844   \n",
       "3                        4597                5126               99844   \n",
       "4                        4597                5126               99844   \n",
       "...                       ...                 ...                 ...   \n",
       "2722119                 10203               10838               26630   \n",
       "2722120                 11298               12305               45056   \n",
       "2722121                  5623                7177               14281   \n",
       "2722122                  5623                7177               14281   \n",
       "2722123                 12119               12566               14281   \n",
       "\n",
       "        link_section_depth  \n",
       "0                    0.0.0  \n",
       "1                    0.0.0  \n",
       "2                    0.0.0  \n",
       "3                    0.0.0  \n",
       "4                    0.0.0  \n",
       "...                    ...  \n",
       "2722119              0.0.0  \n",
       "2722120              0.0.0  \n",
       "2722121              0.0.0  \n",
       "2722122              0.0.0  \n",
       "2722123              2.0.0  \n",
       "\n",
       "[2722124 rows x 16 columns]"
      ]
     },
     "execution_count": 18,
     "metadata": {},
     "output_type": "execute_result"
    }
   ],
   "source": [
    "dfs = []\n",
    "for file in link_files:\n",
    "    print(f'Loading {file}')\n",
    "    dfs.append(pd.read_parquet(file))\n",
    "df_links = pd.concat(dfs)\n",
    "df_links = df_links.reset_index(drop=True)\n",
    "df_links"
   ]
  },
  {
   "cell_type": "code",
   "execution_count": 19,
   "metadata": {},
   "outputs": [
    {
     "data": {
      "text/plain": [
       "['/scratch/tsoares/wikidumps/simplewiki-NS0-20230801/processed_data/pages.parquet']"
      ]
     },
     "execution_count": 19,
     "metadata": {},
     "output_type": "execute_result"
    }
   ],
   "source": [
    "page_files = glob(root + 'pages*')\n",
    "page_files.sort()\n",
    "page_files"
   ]
  },
  {
   "cell_type": "code",
   "execution_count": 20,
   "metadata": {},
   "outputs": [
    {
     "name": "stdout",
     "output_type": "stream",
     "text": [
      "Loading /scratch/tsoares/wikidumps/simplewiki-NS0-20230801/processed_data/pages.parquet\n"
     ]
    }
   ],
   "source": [
    "dfs = []\n",
    "for file in page_files:\n",
    "    print(f'Loading {file}')\n",
    "    dfs.append(pd.read_parquet(file))\n",
    "df_pages = pd.concat(dfs)\n",
    "df_pages = df_pages.reset_index(drop=True)"
   ]
  },
  {
   "cell_type": "markdown",
   "metadata": {},
   "source": [
    "# Get statistics of exact matches in anchors"
   ]
  },
  {
   "cell_type": "code",
   "execution_count": 21,
   "metadata": {},
   "outputs": [],
   "source": [
    "def levenshtein_distance(string_1, string_2):\n",
    "    \"\"\"\n",
    "    Calculates the Levenshtein distance between two strings.\n",
    "    \"\"\"\n",
    "    distances = [[0 for x in range(len(string_2) + 1)] for x in range(len(string_1) + 1)]\n",
    "    for i in range(1, len(string_1) + 1):\n",
    "        distances[i][0] = i\n",
    "    for j in range(1, len(string_2) + 1):\n",
    "        distances[0][j] = j\n",
    "    for i in range(1, len(string_1) + 1):\n",
    "        for j in range(1, len(string_2) + 1):\n",
    "            if string_1[i - 1] == string_2[j - 1]:\n",
    "                distances[i][j] = distances[i - 1][j - 1]\n",
    "            else:\n",
    "                distances[i][j] = 1 + min(distances[i][j - 1], distances[i - 1][j], distances[i - 1][j - 1])\n",
    "    return distances[len(string_1)][len(string_2)]"
   ]
  },
  {
   "cell_type": "code",
   "execution_count": 22,
   "metadata": {},
   "outputs": [
    {
     "name": "stderr",
     "output_type": "stream",
     "text": [
      "100%|██████████| 2722124/2722124 [01:56<00:00, 23356.37it/s]\n"
     ]
    }
   ],
   "source": [
    "counter = [0 for _ in range(11)]\n",
    "for i in tqdm(range(len(df_links))):\n",
    "    title = urllib.parse.unquote(df_links['target_title'][i]).replace('_', ' ').lower()\n",
    "    anchor = df_links['anchor'][i].lower()\n",
    "    if title == anchor:\n",
    "        counter[0] += 1\n",
    "    else:\n",
    "        distance = levenshtein_distance(title, anchor)\n",
    "        counter[min(distance, 10)] += 1"
   ]
  },
  {
   "cell_type": "code",
   "execution_count": 23,
   "metadata": {},
   "outputs": [
    {
     "name": "stdout",
     "output_type": "stream",
     "text": [
      "0.6584516355610546\n",
      "0.06121800476392699\n",
      "0.017670392678658282\n",
      "0.025784644637790195\n",
      "0.0118253246362032\n",
      "0.013089043702638086\n",
      "0.01596180041761507\n",
      "0.01816669630038896\n",
      "0.018304456373038114\n",
      "0.028400249217155428\n",
      "0.13112775171153115\n"
     ]
    }
   ],
   "source": [
    "for elem in counter:\n",
    "    print(elem/sum(counter))"
   ]
  },
  {
   "cell_type": "code",
   "execution_count": 24,
   "metadata": {},
   "outputs": [
    {
     "data": {
      "image/png": "[encoded data removed]",
      "text/plain": [
       "<Figure size 640x480 with 1 Axes>"
      ]
     },
     "metadata": {},
     "output_type": "display_data"
    }
   ],
   "source": [
    "# create histogram from counter\n",
    "# use pandas to create a dataframe\n",
    "import matplotlib.pyplot as plt\n",
    "df = pd.DataFrame([elem / len(df_links) for elem in counter], columns=['relative_frequency'])\n",
    "df['levenshtein_distance'] = ['0', '1', '2', '3', '4', '5', '6', '7', '8', '9', '>=10']\n",
    "# plot relative frequency histogram\n",
    "# the last bin should have legend '>=10'\n",
    "df.plot.bar(x='levenshtein_distance', y='relative_frequency', rot=0, legend=False)\n",
    "plt.xlabel('Levenshtein distance')\n",
    "plt.ylabel('Relative frequency')\n",
    "plt.show()\n"
   ]
  },
  {
   "cell_type": "code",
   "execution_count": 25,
   "metadata": {},
   "outputs": [
    {
     "name": "stdout",
     "output_type": "stream",
     "text": [
      "    relative_frequency levenshtein_distance\n",
      "0             0.658452                    0\n",
      "1             0.061218                    1\n",
      "2             0.017670                    2\n",
      "3             0.025785                    3\n",
      "4             0.011825                    4\n",
      "5             0.013089                    5\n",
      "6             0.015962                    6\n",
      "7             0.018167                    7\n",
      "8             0.018304                    8\n",
      "9             0.028400                    9\n",
      "10            0.131128                 >=10\n"
     ]
    }
   ],
   "source": [
    "print(df)"
   ]
  },
  {
   "cell_type": "markdown",
   "metadata": {},
   "source": [
    "# Analysis of issues with links"
   ]
  },
  {
   "cell_type": "code",
   "execution_count": 26,
   "metadata": {},
   "outputs": [
    {
     "data": {
      "text/plain": [
       "411"
      ]
     },
     "execution_count": 26,
     "metadata": {},
     "output_type": "execute_result"
    }
   ],
   "source": [
    "# How many links are missing source QIDs?\n",
    "len(df_links[df_links['source_QID'].isna()])"
   ]
  },
  {
   "cell_type": "code",
   "execution_count": 27,
   "metadata": {},
   "outputs": [
    {
     "data": {
      "text/plain": [
       "525"
      ]
     },
     "execution_count": 27,
     "metadata": {},
     "output_type": "execute_result"
    }
   ],
   "source": [
    "# How many links are missing target QIDs?\n",
    "len(df_links[df_links['target_QID'].isna()])"
   ]
  },
  {
   "cell_type": "code",
   "execution_count": 28,
   "metadata": {},
   "outputs": [
    {
     "name": "stderr",
     "output_type": "stream",
     "text": [
      "100%|██████████| 2722124/2722124 [00:28<00:00, 96030.73it/s]\n"
     ]
    }
   ],
   "source": [
    "missing_leads = set([])\n",
    "for i in range(len(df_pages)):\n",
    "    if df_pages['lead_paragraph'][i] == '':\n",
    "        missing_leads.add(df_pages['title'][i])\n",
    "\n",
    "missing_target_lead = 0\n",
    "missing_source_lead = 0\n",
    "for i in tqdm(range(len(df_links))):\n",
    "    if df_links['source_title'][i] in missing_leads:\n",
    "        missing_source_lead += 1\n",
    "    if df_links['target_title'][i] in missing_leads:\n",
    "        missing_target_lead += 1"
   ]
  },
  {
   "cell_type": "code",
   "execution_count": 30,
   "metadata": {},
   "outputs": [
    {
     "name": "stdout",
     "output_type": "stream",
     "text": [
      "15839\n",
      "44156\n",
      "1417\n"
     ]
    }
   ],
   "source": [
    "print(missing_source_lead)\n",
    "print(missing_target_lead)\n",
    "print(len(missing_leads))"
   ]
  },
  {
   "cell_type": "code",
   "execution_count": 31,
   "metadata": {},
   "outputs": [
    {
     "data": {
      "text/plain": [
       "2662046"
      ]
     },
     "execution_count": 31,
     "metadata": {},
     "output_type": "execute_result"
    }
   ],
   "source": [
    "# how many links do we have if we remove all the offending links?\n",
    "df_links = df_links[~df_links['source_title'].isin(missing_leads)]\n",
    "df_links = df_links[~df_links['target_title'].isin(missing_leads)]\n",
    "df_links = df_links[~df_links['source_QID'].isna()]\n",
    "df_links = df_links[~df_links['target_QID'].isna()]\n",
    "len(df_links)"
   ]
  },
  {
   "cell_type": "markdown",
   "metadata": {},
   "source": [
    "# Analysis of token size distribution"
   ]
  },
  {
   "cell_type": "code",
   "execution_count": null,
   "metadata": {},
   "outputs": [],
   "source": [
    "from transformers import AutoTokenizer\n",
    "tokenizer = AutoTokenizer.from_pretrained('bert-base-uncased')"
   ]
  },
  {
   "cell_type": "code",
   "execution_count": null,
   "metadata": {},
   "outputs": [],
   "source": [
    "token_lens = []\n",
    "for i in tqdm(range(len(df_pages))):\n",
    "    title = df_pages['lead_paragraph'][i]\n",
    "    tokenized_title = tokenizer(title)\n",
    "    token_lens.append(len(tokenized_title['input_ids']))"
   ]
  },
  {
   "cell_type": "code",
   "execution_count": null,
   "metadata": {},
   "outputs": [],
   "source": [
    "token_series = pd.Series(token_lens)\n",
    "token_series.describe()"
   ]
  }
 ],
 "metadata": {
  "kernelspec": {
   "display_name": "Python 3",
   "language": "python",
   "name": "python3"
  },
  "language_info": {
   "codemirror_mode": {
    "name": "ipython",
    "version": 3
   },
   "file_extension": ".py",
   "mimetype": "text/x-python",
   "name": "python",
   "nbconvert_exporter": "python",
   "pygments_lexer": "ipython3",
   "version": "3.9.18"
  },
  "orig_nbformat": 4
 },
 "nbformat": 4,
 "nbformat_minor": 2
}
