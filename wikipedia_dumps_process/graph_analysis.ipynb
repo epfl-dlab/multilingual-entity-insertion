{
 "cells": [
  {
   "cell_type": "markdown",
   "metadata": {},
   "source": [
    "# Imports and Definitions"
   ]
  },
  {
   "cell_type": "code",
   "execution_count": 3,
   "metadata": {},
   "outputs": [],
   "source": [
    "import pandas as pd\n",
    "from glob import glob\n",
    "from tqdm import tqdm\n",
    "import os"
   ]
  },
  {
   "cell_type": "code",
   "execution_count": 5,
   "metadata": {},
   "outputs": [],
   "source": [
    "root = '/scratch/tsoares/wikidumps/simplewiki-NS0-20231001/processed_data'"
   ]
  },
  {
   "cell_type": "markdown",
   "metadata": {},
   "source": [
    "# Get data"
   ]
  },
  {
   "cell_type": "code",
   "execution_count": 8,
   "metadata": {},
   "outputs": [],
   "source": [
    "page_files = glob(os.path.join(root, \"pages*.parquet\"))\n",
    "link_files = glob(os.path.join(root, \"links*.parquet\"))\n",
    "redirect_files = glob(os.path.join(root, \"redirect*.parquet\"))"
   ]
  },
  {
   "cell_type": "code",
   "execution_count": 24,
   "metadata": {},
   "outputs": [
    {
     "data": {
      "text/html": [
       "<div>\n",
       "<style scoped>\n",
       "    .dataframe tbody tr th:only-of-type {\n",
       "        vertical-align: middle;\n",
       "    }\n",
       "\n",
       "    .dataframe tbody tr th {\n",
       "        vertical-align: top;\n",
       "    }\n",
       "\n",
       "    .dataframe thead th {\n",
       "        text-align: right;\n",
       "    }\n",
       "</style>\n",
       "<table border=\"1\" class=\"dataframe\">\n",
       "  <thead>\n",
       "    <tr style=\"text-align: right;\">\n",
       "      <th></th>\n",
       "      <th>ID</th>\n",
       "      <th>title</th>\n",
       "      <th>language</th>\n",
       "      <th>QID</th>\n",
       "      <th>HTML</th>\n",
       "      <th>page_length</th>\n",
       "      <th>lead_paragraph</th>\n",
       "      <th>version</th>\n",
       "    </tr>\n",
       "  </thead>\n",
       "  <tbody>\n",
       "    <tr>\n",
       "      <th>0</th>\n",
       "      <td>1</td>\n",
       "      <td>April</td>\n",
       "      <td>simple</td>\n",
       "      <td>Q118</td>\n",
       "      <td>&lt;!DOCTYPE html&gt;\\n&lt;html prefix=\"dc: http://purl...</td>\n",
       "      <td>99917.0</td>\n",
       "      <td>April (Apr.) is the fourth month of the year i...</td>\n",
       "      <td>https://simple.wikipedia.org/w/index.php?title...</td>\n",
       "    </tr>\n",
       "    <tr>\n",
       "      <th>1</th>\n",
       "      <td>2</td>\n",
       "      <td>August</td>\n",
       "      <td>simple</td>\n",
       "      <td>Q122</td>\n",
       "      <td>&lt;!DOCTYPE html&gt;\\n&lt;html prefix=\"dc: http://purl...</td>\n",
       "      <td>76710.0</td>\n",
       "      <td>August (Aug.) is the eighth month of the year ...</td>\n",
       "      <td>https://simple.wikipedia.org/w/index.php?title...</td>\n",
       "    </tr>\n",
       "    <tr>\n",
       "      <th>2</th>\n",
       "      <td>6</td>\n",
       "      <td>Art</td>\n",
       "      <td>simple</td>\n",
       "      <td>Q735</td>\n",
       "      <td>&lt;!DOCTYPE html&gt;\\n&lt;html prefix=\"dc: http://purl...</td>\n",
       "      <td>30897.0</td>\n",
       "      <td>Art is a creative activity and technical skill...</td>\n",
       "      <td>https://simple.wikipedia.org/w/index.php?title...</td>\n",
       "    </tr>\n",
       "    <tr>\n",
       "      <th>3</th>\n",
       "      <td>8</td>\n",
       "      <td>A</td>\n",
       "      <td>simple</td>\n",
       "      <td>Q9659</td>\n",
       "      <td>&lt;!DOCTYPE html&gt;\\n&lt;html prefix=\"dc: http://purl...</td>\n",
       "      <td>88163.0</td>\n",
       "      <td>A or a is the first letter of the English alph...</td>\n",
       "      <td>https://simple.wikipedia.org/w/index.php?title...</td>\n",
       "    </tr>\n",
       "    <tr>\n",
       "      <th>4</th>\n",
       "      <td>9</td>\n",
       "      <td>Air</td>\n",
       "      <td>simple</td>\n",
       "      <td>Q7391292</td>\n",
       "      <td>&lt;!DOCTYPE html&gt;\\n&lt;html prefix=\"dc: http://purl...</td>\n",
       "      <td>20548.0</td>\n",
       "      <td>Air is the Earth's atmosphere. Air is a mixtur...</td>\n",
       "      <td>https://simple.wikipedia.org/w/index.php?title...</td>\n",
       "    </tr>\n",
       "    <tr>\n",
       "      <th>...</th>\n",
       "      <td>...</td>\n",
       "      <td>...</td>\n",
       "      <td>...</td>\n",
       "      <td>...</td>\n",
       "      <td>...</td>\n",
       "      <td>...</td>\n",
       "      <td>...</td>\n",
       "      <td>...</td>\n",
       "    </tr>\n",
       "    <tr>\n",
       "      <th>240087</th>\n",
       "      <td>1051195</td>\n",
       "      <td>109_%28number%29</td>\n",
       "      <td>simple</td>\n",
       "      <td>Q604950</td>\n",
       "      <td>None</td>\n",
       "      <td>NaN</td>\n",
       "      <td>None</td>\n",
       "      <td>None</td>\n",
       "    </tr>\n",
       "    <tr>\n",
       "      <th>240088</th>\n",
       "      <td>1051196</td>\n",
       "      <td>110_%28number%29</td>\n",
       "      <td>simple</td>\n",
       "      <td>Q715456</td>\n",
       "      <td>None</td>\n",
       "      <td>NaN</td>\n",
       "      <td>None</td>\n",
       "      <td>None</td>\n",
       "    </tr>\n",
       "    <tr>\n",
       "      <th>240089</th>\n",
       "      <td>1051200</td>\n",
       "      <td>Krste_Petkov_Misirkov</td>\n",
       "      <td>simple</td>\n",
       "      <td>None</td>\n",
       "      <td>None</td>\n",
       "      <td>NaN</td>\n",
       "      <td>None</td>\n",
       "      <td>None</td>\n",
       "    </tr>\n",
       "    <tr>\n",
       "      <th>240090</th>\n",
       "      <td>1051218</td>\n",
       "      <td>Anna_Odobescu</td>\n",
       "      <td>simple</td>\n",
       "      <td>Q61947352</td>\n",
       "      <td>None</td>\n",
       "      <td>NaN</td>\n",
       "      <td>None</td>\n",
       "      <td>None</td>\n",
       "    </tr>\n",
       "    <tr>\n",
       "      <th>240091</th>\n",
       "      <td>1051224</td>\n",
       "      <td>Pseudophilautus_frankenbergi</td>\n",
       "      <td>simple</td>\n",
       "      <td>Q28061030</td>\n",
       "      <td>None</td>\n",
       "      <td>NaN</td>\n",
       "      <td>None</td>\n",
       "      <td>None</td>\n",
       "    </tr>\n",
       "  </tbody>\n",
       "</table>\n",
       "<p>240092 rows × 8 columns</p>\n",
       "</div>"
      ],
      "text/plain": [
       "             ID                         title language        QID  \\\n",
       "0             1                         April   simple       Q118   \n",
       "1             2                        August   simple       Q122   \n",
       "2             6                           Art   simple       Q735   \n",
       "3             8                             A   simple      Q9659   \n",
       "4             9                           Air   simple   Q7391292   \n",
       "...         ...                           ...      ...        ...   \n",
       "240087  1051195              109_%28number%29   simple    Q604950   \n",
       "240088  1051196              110_%28number%29   simple    Q715456   \n",
       "240089  1051200         Krste_Petkov_Misirkov   simple       None   \n",
       "240090  1051218                 Anna_Odobescu   simple  Q61947352   \n",
       "240091  1051224  Pseudophilautus_frankenbergi   simple  Q28061030   \n",
       "\n",
       "                                                     HTML  page_length  \\\n",
       "0       <!DOCTYPE html>\\n<html prefix=\"dc: http://purl...      99917.0   \n",
       "1       <!DOCTYPE html>\\n<html prefix=\"dc: http://purl...      76710.0   \n",
       "2       <!DOCTYPE html>\\n<html prefix=\"dc: http://purl...      30897.0   \n",
       "3       <!DOCTYPE html>\\n<html prefix=\"dc: http://purl...      88163.0   \n",
       "4       <!DOCTYPE html>\\n<html prefix=\"dc: http://purl...      20548.0   \n",
       "...                                                   ...          ...   \n",
       "240087                                               None          NaN   \n",
       "240088                                               None          NaN   \n",
       "240089                                               None          NaN   \n",
       "240090                                               None          NaN   \n",
       "240091                                               None          NaN   \n",
       "\n",
       "                                           lead_paragraph  \\\n",
       "0       April (Apr.) is the fourth month of the year i...   \n",
       "1       August (Aug.) is the eighth month of the year ...   \n",
       "2       Art is a creative activity and technical skill...   \n",
       "3       A or a is the first letter of the English alph...   \n",
       "4       Air is the Earth's atmosphere. Air is a mixtur...   \n",
       "...                                                   ...   \n",
       "240087                                               None   \n",
       "240088                                               None   \n",
       "240089                                               None   \n",
       "240090                                               None   \n",
       "240091                                               None   \n",
       "\n",
       "                                                  version  \n",
       "0       https://simple.wikipedia.org/w/index.php?title...  \n",
       "1       https://simple.wikipedia.org/w/index.php?title...  \n",
       "2       https://simple.wikipedia.org/w/index.php?title...  \n",
       "3       https://simple.wikipedia.org/w/index.php?title...  \n",
       "4       https://simple.wikipedia.org/w/index.php?title...  \n",
       "...                                                   ...  \n",
       "240087                                               None  \n",
       "240088                                               None  \n",
       "240089                                               None  \n",
       "240090                                               None  \n",
       "240091                                               None  \n",
       "\n",
       "[240092 rows x 8 columns]"
      ]
     },
     "execution_count": 24,
     "metadata": {},
     "output_type": "execute_result"
    }
   ],
   "source": [
    "dfs = []\n",
    "for file in page_files:\n",
    "    dfs.append(pd.read_parquet(file))\n",
    "df_pages = pd.concat(dfs)\n",
    "df_pages"
   ]
  },
  {
   "cell_type": "code",
   "execution_count": 25,
   "metadata": {},
   "outputs": [
    {
     "data": {
      "text/html": [
       "<div>\n",
       "<style scoped>\n",
       "    .dataframe tbody tr th:only-of-type {\n",
       "        vertical-align: middle;\n",
       "    }\n",
       "\n",
       "    .dataframe tbody tr th {\n",
       "        vertical-align: top;\n",
       "    }\n",
       "\n",
       "    .dataframe thead th {\n",
       "        text-align: right;\n",
       "    }\n",
       "</style>\n",
       "<table border=\"1\" class=\"dataframe\">\n",
       "  <thead>\n",
       "    <tr style=\"text-align: right;\">\n",
       "      <th></th>\n",
       "      <th>target_title</th>\n",
       "      <th>target_section</th>\n",
       "      <th>source_title</th>\n",
       "      <th>target_ID</th>\n",
       "      <th>target_QID</th>\n",
       "      <th>source_ID</th>\n",
       "      <th>source_QID</th>\n",
       "      <th>mention</th>\n",
       "      <th>source_section</th>\n",
       "      <th>link_start_index</th>\n",
       "      <th>link_end_index</th>\n",
       "      <th>sentence</th>\n",
       "      <th>sentence_start_index</th>\n",
       "      <th>sentence_end_index</th>\n",
       "      <th>source_page_length</th>\n",
       "      <th>link_section_depth</th>\n",
       "    </tr>\n",
       "  </thead>\n",
       "  <tbody>\n",
       "    <tr>\n",
       "      <th>0</th>\n",
       "      <td>Month</td>\n",
       "      <td>Lead</td>\n",
       "      <td>April</td>\n",
       "      <td>3641</td>\n",
       "      <td>Q5151</td>\n",
       "      <td>1</td>\n",
       "      <td>Q118</td>\n",
       "      <td>month</td>\n",
       "      <td>Lead</td>\n",
       "      <td>4613</td>\n",
       "      <td>4682</td>\n",
       "      <td>) is the fourth month of the year in the Julia...</td>\n",
       "      <td>4597</td>\n",
       "      <td>5126</td>\n",
       "      <td>99917</td>\n",
       "      <td>0.0.0</td>\n",
       "    </tr>\n",
       "    <tr>\n",
       "      <th>1</th>\n",
       "      <td>Year</td>\n",
       "      <td>Lead</td>\n",
       "      <td>April</td>\n",
       "      <td>944</td>\n",
       "      <td>Q577</td>\n",
       "      <td>1</td>\n",
       "      <td>Q118</td>\n",
       "      <td>year</td>\n",
       "      <td>Lead</td>\n",
       "      <td>4690</td>\n",
       "      <td>4756</td>\n",
       "      <td>) is the fourth month of the year in the Julia...</td>\n",
       "      <td>4597</td>\n",
       "      <td>5126</td>\n",
       "      <td>99917</td>\n",
       "      <td>0.0.0</td>\n",
       "    </tr>\n",
       "    <tr>\n",
       "      <th>2</th>\n",
       "      <td>Julian_calendar</td>\n",
       "      <td>Lead</td>\n",
       "      <td>April</td>\n",
       "      <td>12158</td>\n",
       "      <td>Q11184</td>\n",
       "      <td>1</td>\n",
       "      <td>Q118</td>\n",
       "      <td>Julian</td>\n",
       "      <td>Lead</td>\n",
       "      <td>4764</td>\n",
       "      <td>4854</td>\n",
       "      <td>) is the fourth month of the year in the Julia...</td>\n",
       "      <td>4597</td>\n",
       "      <td>5126</td>\n",
       "      <td>99917</td>\n",
       "      <td>0.0.0</td>\n",
       "    </tr>\n",
       "    <tr>\n",
       "      <th>3</th>\n",
       "      <td>Gregorian_calendar</td>\n",
       "      <td>Lead</td>\n",
       "      <td>April</td>\n",
       "      <td>12159</td>\n",
       "      <td>Q12138</td>\n",
       "      <td>1</td>\n",
       "      <td>Q118</td>\n",
       "      <td>Gregorian calendars</td>\n",
       "      <td>Lead</td>\n",
       "      <td>4859</td>\n",
       "      <td>4968</td>\n",
       "      <td>) is the fourth month of the year in the Julia...</td>\n",
       "      <td>4597</td>\n",
       "      <td>5126</td>\n",
       "      <td>99917</td>\n",
       "      <td>0.0.0</td>\n",
       "    </tr>\n",
       "    <tr>\n",
       "      <th>4</th>\n",
       "      <td>March</td>\n",
       "      <td>Lead</td>\n",
       "      <td>April</td>\n",
       "      <td>468</td>\n",
       "      <td>Q110</td>\n",
       "      <td>1</td>\n",
       "      <td>Q118</td>\n",
       "      <td>March</td>\n",
       "      <td>Lead</td>\n",
       "      <td>4988</td>\n",
       "      <td>5057</td>\n",
       "      <td>) is the fourth month of the year in the Julia...</td>\n",
       "      <td>4597</td>\n",
       "      <td>5126</td>\n",
       "      <td>99917</td>\n",
       "      <td>0.0.0</td>\n",
       "    </tr>\n",
       "    <tr>\n",
       "      <th>...</th>\n",
       "      <td>...</td>\n",
       "      <td>...</td>\n",
       "      <td>...</td>\n",
       "      <td>...</td>\n",
       "      <td>...</td>\n",
       "      <td>...</td>\n",
       "      <td>...</td>\n",
       "      <td>...</td>\n",
       "      <td>...</td>\n",
       "      <td>...</td>\n",
       "      <td>...</td>\n",
       "      <td>...</td>\n",
       "      <td>...</td>\n",
       "      <td>...</td>\n",
       "      <td>...</td>\n",
       "      <td>...</td>\n",
       "    </tr>\n",
       "    <tr>\n",
       "      <th>2758165</th>\n",
       "      <td>Tom_Petty</td>\n",
       "      <td>Lead</td>\n",
       "      <td>Yer_So_Bad</td>\n",
       "      <td>594236</td>\n",
       "      <td>Q311655</td>\n",
       "      <td>1051098</td>\n",
       "      <td>Q22043272</td>\n",
       "      <td>Tom Petty</td>\n",
       "      <td>Lead</td>\n",
       "      <td>12904</td>\n",
       "      <td>12985</td>\n",
       "      <td>\\n\"Yer So Bad\" is a 1990 song by Tom Petty and...</td>\n",
       "      <td>12690</td>\n",
       "      <td>13325</td>\n",
       "      <td>34920</td>\n",
       "      <td>0.0.0</td>\n",
       "    </tr>\n",
       "    <tr>\n",
       "      <th>2758166</th>\n",
       "      <td>Anime</td>\n",
       "      <td>Lead</td>\n",
       "      <td>Angel_Beats%21</td>\n",
       "      <td>15044</td>\n",
       "      <td>Q1107</td>\n",
       "      <td>1051107</td>\n",
       "      <td>Q531552</td>\n",
       "      <td>anime</td>\n",
       "      <td>Lead</td>\n",
       "      <td>1573</td>\n",
       "      <td>1642</td>\n",
       "      <td>is an anime series.</td>\n",
       "      <td>1562</td>\n",
       "      <td>1650</td>\n",
       "      <td>33446</td>\n",
       "      <td>0.0.0</td>\n",
       "    </tr>\n",
       "    <tr>\n",
       "      <th>2758167</th>\n",
       "      <td>Visual_novel</td>\n",
       "      <td>Lead</td>\n",
       "      <td>Angel_Beats%21</td>\n",
       "      <td>393148</td>\n",
       "      <td>Q689445</td>\n",
       "      <td>1051107</td>\n",
       "      <td>Q531552</td>\n",
       "      <td>visual novel</td>\n",
       "      <td>Lead</td>\n",
       "      <td>3953</td>\n",
       "      <td>4043</td>\n",
       "      <td>[2][3] There was a visual novel of the anime r...</td>\n",
       "      <td>3282</td>\n",
       "      <td>4115</td>\n",
       "      <td>33446</td>\n",
       "      <td>0.0.0</td>\n",
       "    </tr>\n",
       "    <tr>\n",
       "      <th>2758168</th>\n",
       "      <td>Blu-ray_Disc</td>\n",
       "      <td>Lead</td>\n",
       "      <td>Angel_Beats%21</td>\n",
       "      <td>47945</td>\n",
       "      <td>Q47770</td>\n",
       "      <td>1051107</td>\n",
       "      <td>Q531552</td>\n",
       "      <td>Blu-ray</td>\n",
       "      <td>Lead</td>\n",
       "      <td>5389</td>\n",
       "      <td>5484</td>\n",
       "      <td>[5][6] The Blu-ray discs sold very well.</td>\n",
       "      <td>4726</td>\n",
       "      <td>5506</td>\n",
       "      <td>33446</td>\n",
       "      <td>0.0.0</td>\n",
       "    </tr>\n",
       "    <tr>\n",
       "      <th>2758169</th>\n",
       "      <td>Oricon_Albums_Chart</td>\n",
       "      <td>Lead</td>\n",
       "      <td>Angel_Beats%21</td>\n",
       "      <td>973995</td>\n",
       "      <td>Q10852044</td>\n",
       "      <td>1051107</td>\n",
       "      <td>Q531552</td>\n",
       "      <td>Oricon</td>\n",
       "      <td>Lead</td>\n",
       "      <td>5554</td>\n",
       "      <td>5646</td>\n",
       "      <td>All seven volumes sold within the top 3 on th...</td>\n",
       "      <td>5506</td>\n",
       "      <td>5653</td>\n",
       "      <td>33446</td>\n",
       "      <td>0.0.0</td>\n",
       "    </tr>\n",
       "  </tbody>\n",
       "</table>\n",
       "<p>2758170 rows × 16 columns</p>\n",
       "</div>"
      ],
      "text/plain": [
       "                target_title target_section    source_title target_ID  \\\n",
       "0                      Month           Lead           April      3641   \n",
       "1                       Year           Lead           April       944   \n",
       "2            Julian_calendar           Lead           April     12158   \n",
       "3         Gregorian_calendar           Lead           April     12159   \n",
       "4                      March           Lead           April       468   \n",
       "...                      ...            ...             ...       ...   \n",
       "2758165            Tom_Petty           Lead      Yer_So_Bad    594236   \n",
       "2758166                Anime           Lead  Angel_Beats%21     15044   \n",
       "2758167         Visual_novel           Lead  Angel_Beats%21    393148   \n",
       "2758168         Blu-ray_Disc           Lead  Angel_Beats%21     47945   \n",
       "2758169  Oricon_Albums_Chart           Lead  Angel_Beats%21    973995   \n",
       "\n",
       "        target_QID source_ID source_QID              mention source_section  \\\n",
       "0            Q5151         1       Q118                month           Lead   \n",
       "1             Q577         1       Q118                 year           Lead   \n",
       "2           Q11184         1       Q118               Julian           Lead   \n",
       "3           Q12138         1       Q118  Gregorian calendars           Lead   \n",
       "4             Q110         1       Q118                March           Lead   \n",
       "...            ...       ...        ...                  ...            ...   \n",
       "2758165    Q311655   1051098  Q22043272            Tom Petty           Lead   \n",
       "2758166      Q1107   1051107    Q531552                anime           Lead   \n",
       "2758167    Q689445   1051107    Q531552         visual novel           Lead   \n",
       "2758168     Q47770   1051107    Q531552              Blu-ray           Lead   \n",
       "2758169  Q10852044   1051107    Q531552               Oricon           Lead   \n",
       "\n",
       "         link_start_index  link_end_index  \\\n",
       "0                    4613            4682   \n",
       "1                    4690            4756   \n",
       "2                    4764            4854   \n",
       "3                    4859            4968   \n",
       "4                    4988            5057   \n",
       "...                   ...             ...   \n",
       "2758165             12904           12985   \n",
       "2758166              1573            1642   \n",
       "2758167              3953            4043   \n",
       "2758168              5389            5484   \n",
       "2758169              5554            5646   \n",
       "\n",
       "                                                  sentence  \\\n",
       "0        ) is the fourth month of the year in the Julia...   \n",
       "1        ) is the fourth month of the year in the Julia...   \n",
       "2        ) is the fourth month of the year in the Julia...   \n",
       "3        ) is the fourth month of the year in the Julia...   \n",
       "4        ) is the fourth month of the year in the Julia...   \n",
       "...                                                    ...   \n",
       "2758165  \\n\"Yer So Bad\" is a 1990 song by Tom Petty and...   \n",
       "2758166                                is an anime series.   \n",
       "2758167  [2][3] There was a visual novel of the anime r...   \n",
       "2758168           [5][6] The Blu-ray discs sold very well.   \n",
       "2758169   All seven volumes sold within the top 3 on th...   \n",
       "\n",
       "         sentence_start_index  sentence_end_index  source_page_length  \\\n",
       "0                        4597                5126               99917   \n",
       "1                        4597                5126               99917   \n",
       "2                        4597                5126               99917   \n",
       "3                        4597                5126               99917   \n",
       "4                        4597                5126               99917   \n",
       "...                       ...                 ...                 ...   \n",
       "2758165                 12690               13325               34920   \n",
       "2758166                  1562                1650               33446   \n",
       "2758167                  3282                4115               33446   \n",
       "2758168                  4726                5506               33446   \n",
       "2758169                  5506                5653               33446   \n",
       "\n",
       "        link_section_depth  \n",
       "0                    0.0.0  \n",
       "1                    0.0.0  \n",
       "2                    0.0.0  \n",
       "3                    0.0.0  \n",
       "4                    0.0.0  \n",
       "...                    ...  \n",
       "2758165              0.0.0  \n",
       "2758166              0.0.0  \n",
       "2758167              0.0.0  \n",
       "2758168              0.0.0  \n",
       "2758169              0.0.0  \n",
       "\n",
       "[2758170 rows x 16 columns]"
      ]
     },
     "execution_count": 25,
     "metadata": {},
     "output_type": "execute_result"
    }
   ],
   "source": [
    "dfs = []\n",
    "for file in link_files:\n",
    "    dfs.append(pd.read_parquet(file))\n",
    "df_links = pd.concat(dfs)\n",
    "df_links"
   ]
  },
  {
   "cell_type": "code",
   "execution_count": 26,
   "metadata": {},
   "outputs": [
    {
     "data": {
      "text/html": [
       "<div>\n",
       "<style scoped>\n",
       "    .dataframe tbody tr th:only-of-type {\n",
       "        vertical-align: middle;\n",
       "    }\n",
       "\n",
       "    .dataframe tbody tr th {\n",
       "        vertical-align: top;\n",
       "    }\n",
       "\n",
       "    .dataframe thead th {\n",
       "        text-align: right;\n",
       "    }\n",
       "</style>\n",
       "<table border=\"1\" class=\"dataframe\">\n",
       "  <thead>\n",
       "    <tr style=\"text-align: right;\">\n",
       "      <th></th>\n",
       "      <th>redirect</th>\n",
       "    </tr>\n",
       "    <tr>\n",
       "      <th>title</th>\n",
       "      <th></th>\n",
       "    </tr>\n",
       "  </thead>\n",
       "  <tbody>\n",
       "    <tr>\n",
       "      <th>Albigensian</th>\n",
       "      <td>Catharism</td>\n",
       "    </tr>\n",
       "    <tr>\n",
       "      <th>American_Units_Of_Measurement</th>\n",
       "      <td>United_States_customary_units</td>\n",
       "    </tr>\n",
       "    <tr>\n",
       "      <th>As</th>\n",
       "      <td>AS</td>\n",
       "    </tr>\n",
       "    <tr>\n",
       "      <th>Animalia</th>\n",
       "      <td>Animal</td>\n",
       "    </tr>\n",
       "    <tr>\n",
       "      <th>Bootstrap</th>\n",
       "      <td>Boot</td>\n",
       "    </tr>\n",
       "    <tr>\n",
       "      <th>...</th>\n",
       "      <td>...</td>\n",
       "    </tr>\n",
       "    <tr>\n",
       "      <th>Hol</th>\n",
       "      <td>HOL</td>\n",
       "    </tr>\n",
       "    <tr>\n",
       "      <th>Voss_%28village%29</th>\n",
       "      <td>Vossevangen</td>\n",
       "    </tr>\n",
       "    <tr>\n",
       "      <th>Grandmaster_Sexay</th>\n",
       "      <td>Brian_Christopher</td>\n",
       "    </tr>\n",
       "    <tr>\n",
       "      <th>Perfume_%28J-Pop%29</th>\n",
       "      <td>Perfume_%28Japanese_band%29</td>\n",
       "    </tr>\n",
       "    <tr>\n",
       "      <th>The_World_Starts_Tonight</th>\n",
       "      <td>Bonnie_Tyler</td>\n",
       "    </tr>\n",
       "  </tbody>\n",
       "</table>\n",
       "<p>93857 rows × 1 columns</p>\n",
       "</div>"
      ],
      "text/plain": [
       "                                                    redirect\n",
       "title                                                       \n",
       "Albigensian                                        Catharism\n",
       "American_Units_Of_Measurement  United_States_customary_units\n",
       "As                                                        AS\n",
       "Animalia                                              Animal\n",
       "Bootstrap                                               Boot\n",
       "...                                                      ...\n",
       "Hol                                                      HOL\n",
       "Voss_%28village%29                               Vossevangen\n",
       "Grandmaster_Sexay                          Brian_Christopher\n",
       "Perfume_%28J-Pop%29              Perfume_%28Japanese_band%29\n",
       "The_World_Starts_Tonight                        Bonnie_Tyler\n",
       "\n",
       "[93857 rows x 1 columns]"
      ]
     },
     "execution_count": 26,
     "metadata": {},
     "output_type": "execute_result"
    }
   ],
   "source": [
    "dfs = []\n",
    "for file in redirect_files:\n",
    "    dfs.append(pd.read_parquet(file))\n",
    "df_redirects = pd.concat(dfs)\n",
    "df_redirects"
   ]
  },
  {
   "cell_type": "markdown",
   "metadata": {},
   "source": [
    "# Analyze Pages (Nodes)"
   ]
  },
  {
   "cell_type": "markdown",
   "metadata": {},
   "source": [
    "What is the total number of pages?"
   ]
  },
  {
   "cell_type": "code",
   "execution_count": 12,
   "metadata": {},
   "outputs": [
    {
     "data": {
      "text/plain": [
       "240092"
      ]
     },
     "execution_count": 12,
     "metadata": {},
     "output_type": "execute_result"
    }
   ],
   "source": [
    "len(df_pages)"
   ]
  },
  {
   "cell_type": "markdown",
   "metadata": {},
   "source": [
    "What is the total number of redirects?"
   ]
  },
  {
   "cell_type": "code",
   "execution_count": 13,
   "metadata": {},
   "outputs": [
    {
     "data": {
      "text/plain": [
       "93857"
      ]
     },
     "execution_count": 13,
     "metadata": {},
     "output_type": "execute_result"
    }
   ],
   "source": [
    "len(df_redirects)"
   ]
  },
  {
   "cell_type": "markdown",
   "metadata": {},
   "source": [
    "What is the number of pages with missing QID?"
   ]
  },
  {
   "cell_type": "code",
   "execution_count": 14,
   "metadata": {},
   "outputs": [
    {
     "data": {
      "text/plain": [
       "96"
      ]
     },
     "execution_count": 14,
     "metadata": {},
     "output_type": "execute_result"
    }
   ],
   "source": [
    "len(df_pages[df_pages['QID'].isna()])"
   ]
  },
  {
   "cell_type": "markdown",
   "metadata": {},
   "source": [
    "What is the number of pages with missing HTML?"
   ]
  },
  {
   "cell_type": "code",
   "execution_count": 16,
   "metadata": {},
   "outputs": [
    {
     "data": {
      "text/plain": [
       "726"
      ]
     },
     "execution_count": 16,
     "metadata": {},
     "output_type": "execute_result"
    }
   ],
   "source": [
    "len(df_pages[(df_pages['HTML'].isna()) | (df_pages['HTML'] == '')])"
   ]
  },
  {
   "cell_type": "markdown",
   "metadata": {},
   "source": [
    "What is the number of pages without a lead paragraph?"
   ]
  },
  {
   "cell_type": "code",
   "execution_count": 17,
   "metadata": {},
   "outputs": [
    {
     "data": {
      "text/plain": [
       "1385"
      ]
     },
     "execution_count": 17,
     "metadata": {},
     "output_type": "execute_result"
    }
   ],
   "source": [
    "len(df_pages[(df_pages['lead_paragraph'].isna()) | (df_pages['lead_paragraph'] == '')])"
   ]
  },
  {
   "cell_type": "markdown",
   "metadata": {},
   "source": [
    "What is the number of good pages if we exclude all the faulty ones?"
   ]
  },
  {
   "cell_type": "code",
   "execution_count": 19,
   "metadata": {},
   "outputs": [
    {
     "data": {
      "text/plain": [
       "238622"
      ]
     },
     "execution_count": 19,
     "metadata": {},
     "output_type": "execute_result"
    }
   ],
   "source": [
    "len(df_pages[(~df_pages['QID'].isna()) & (~df_pages['HTML'].isna()) & (~df_pages['lead_paragraph'].isna()) & (df_pages['HTML'] != '') & (df_pages['lead_paragraph'] != '')])"
   ]
  },
  {
   "cell_type": "markdown",
   "metadata": {},
   "source": [
    "Save good data"
   ]
  },
  {
   "cell_type": "code",
   "execution_count": 27,
   "metadata": {},
   "outputs": [],
   "source": [
    "df_pages[(~df_pages['QID'].isna()) & (~df_pages['HTML'].isna()) & (~df_pages['lead_paragraph'].isna()) & (df_pages['HTML'] != '') & (df_pages['lead_paragraph'] != '')].to_parquet(os.path.join(root, 'good_pages.parquet'))"
   ]
  },
  {
   "cell_type": "markdown",
   "metadata": {},
   "source": [
    "# Analyze Links"
   ]
  },
  {
   "cell_type": "markdown",
   "metadata": {},
   "source": [
    "## Auxiliary Data Structures"
   ]
  },
  {
   "cell_type": "code",
   "execution_count": 32,
   "metadata": {},
   "outputs": [],
   "source": [
    "# Pages with no html\n",
    "no_html = df_pages[(df_pages['HTML'].isna()) | (df_pages['HTML'] == '')]['title'].tolist()\n",
    "no_html = set(no_html)"
   ]
  },
  {
   "cell_type": "code",
   "execution_count": 33,
   "metadata": {},
   "outputs": [],
   "source": [
    "# Pages with no lead paragraph\n",
    "no_lead = df_pages[(df_pages['lead_paragraph'].isna()) | (df_pages['lead_paragraph'] == '')]['title'].tolist()\n",
    "no_lead = set(no_lead)"
   ]
  },
  {
   "cell_type": "markdown",
   "metadata": {},
   "source": [
    "## Results"
   ]
  },
  {
   "cell_type": "markdown",
   "metadata": {},
   "source": [
    "How many total links do we have?"
   ]
  },
  {
   "cell_type": "code",
   "execution_count": 20,
   "metadata": {},
   "outputs": [
    {
     "data": {
      "text/plain": [
       "2758170"
      ]
     },
     "execution_count": 20,
     "metadata": {},
     "output_type": "execute_result"
    }
   ],
   "source": [
    "len(df_links)"
   ]
  },
  {
   "cell_type": "markdown",
   "metadata": {},
   "source": [
    "Of all the links we have, how many couldn't be parsed (e.g., target page not in storage)?"
   ]
  },
  {
   "cell_type": "code",
   "execution_count": 21,
   "metadata": {},
   "outputs": [
    {
     "data": {
      "text/plain": [
       "620"
      ]
     },
     "execution_count": 21,
     "metadata": {},
     "output_type": "execute_result"
    }
   ],
   "source": [
    "len(df_links[df_links['target_ID'].isna()])"
   ]
  },
  {
   "cell_type": "markdown",
   "metadata": {},
   "source": [
    "What is the number of links with source pages without QID?"
   ]
  },
  {
   "cell_type": "code",
   "execution_count": 22,
   "metadata": {},
   "outputs": [
    {
     "data": {
      "text/plain": [
       "774"
      ]
     },
     "execution_count": 22,
     "metadata": {},
     "output_type": "execute_result"
    }
   ],
   "source": [
    "len(df_links[df_links['source_QID'].isna()])"
   ]
  },
  {
   "cell_type": "markdown",
   "metadata": {},
   "source": [
    "What is the number of links with target pages without QID?"
   ]
  },
  {
   "cell_type": "code",
   "execution_count": 34,
   "metadata": {},
   "outputs": [
    {
     "data": {
      "text/plain": [
       "859"
      ]
     },
     "execution_count": 34,
     "metadata": {},
     "output_type": "execute_result"
    }
   ],
   "source": [
    "len(df_links[df_links['target_QID'].isna()])"
   ]
  },
  {
   "cell_type": "markdown",
   "metadata": {},
   "source": [
    "What is the number of links with target pages without HTML?"
   ]
  },
  {
   "cell_type": "code",
   "execution_count": 35,
   "metadata": {},
   "outputs": [
    {
     "data": {
      "text/plain": [
       "3366"
      ]
     },
     "execution_count": 35,
     "metadata": {},
     "output_type": "execute_result"
    }
   ],
   "source": [
    "len(df_links[df_links['target_title'].isin(no_html)])"
   ]
  },
  {
   "cell_type": "markdown",
   "metadata": {},
   "source": [
    "What is the number of links with target pages without lead paragraph?"
   ]
  },
  {
   "cell_type": "code",
   "execution_count": 36,
   "metadata": {},
   "outputs": [
    {
     "data": {
      "text/plain": [
       "40326"
      ]
     },
     "execution_count": 36,
     "metadata": {},
     "output_type": "execute_result"
    }
   ],
   "source": [
    "len(df_links[df_links['target_title'].isin(no_lead)])"
   ]
  },
  {
   "cell_type": "markdown",
   "metadata": {},
   "source": [
    "What is the number of links with source pages without lead paragraph?"
   ]
  },
  {
   "cell_type": "code",
   "execution_count": 37,
   "metadata": {},
   "outputs": [
    {
     "data": {
      "text/plain": [
       "15199"
      ]
     },
     "execution_count": 37,
     "metadata": {},
     "output_type": "execute_result"
    }
   ],
   "source": [
    "len(df_links[df_links['source_title'].isin(no_lead)])"
   ]
  },
  {
   "cell_type": "markdown",
   "metadata": {},
   "source": [
    "What is the number of good links?"
   ]
  },
  {
   "cell_type": "code",
   "execution_count": 38,
   "metadata": {},
   "outputs": [
    {
     "data": {
      "text/plain": [
       "2701844"
      ]
     },
     "execution_count": 38,
     "metadata": {},
     "output_type": "execute_result"
    }
   ],
   "source": [
    "len(df_links[(~df_links['target_ID'].isna()) & (~df_links['source_QID'].isna()) & (~df_links['target_QID'].isna()) & (~df_links['target_title'].isin(no_html)) & (~df_links['target_title'].isin(no_lead)) & (~df_links['source_title'].isin(no_lead))])"
   ]
  },
  {
   "cell_type": "markdown",
   "metadata": {},
   "source": [
    "Save good links"
   ]
  },
  {
   "cell_type": "code",
   "execution_count": 39,
   "metadata": {},
   "outputs": [],
   "source": [
    "df_links[(~df_links['target_ID'].isna()) & (~df_links['source_QID'].isna()) & (~df_links['target_QID'].isna()) & (~df_links['target_title'].isin(no_html)) & (~df_links['target_title'].isin(no_lead)) & (~df_links['source_title'].isin(no_lead))].to_parquet(os.path.join(root, 'good_links.parquet'))"
   ]
  },
  {
   "cell_type": "code",
   "execution_count": null,
   "metadata": {},
   "outputs": [],
   "source": []
  }
 ],
 "metadata": {
  "kernelspec": {
   "display_name": "Python 3",
   "language": "python",
   "name": "python3"
  },
  "language_info": {
   "codemirror_mode": {
    "name": "ipython",
    "version": 3
   },
   "file_extension": ".py",
   "mimetype": "text/x-python",
   "name": "python",
   "nbconvert_exporter": "python",
   "pygments_lexer": "ipython3",
   "version": "3.9.18"
  },
  "orig_nbformat": 4
 },
 "nbformat": 4,
 "nbformat_minor": 2
}
