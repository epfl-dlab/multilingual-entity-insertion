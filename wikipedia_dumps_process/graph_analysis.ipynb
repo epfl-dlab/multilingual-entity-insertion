{
 "cells": [
  {
   "cell_type": "markdown",
   "metadata": {},
   "source": [
    "# Imports and Definitions"
   ]
  },
  {
   "cell_type": "code",
   "execution_count": 71,
   "metadata": {},
   "outputs": [],
   "source": [
    "import pandas as pd\n",
    "from glob import glob\n",
    "from tqdm import tqdm\n",
    "import os\n",
    "tqdm.pandas()"
   ]
  },
  {
   "cell_type": "code",
   "execution_count": 72,
   "metadata": {},
   "outputs": [],
   "source": [
    "root = '/scratch/tsoares/wikidumps/simplewiki-NS0-20230801/processed_data'"
   ]
  },
  {
   "cell_type": "markdown",
   "metadata": {},
   "source": [
    "# Get data"
   ]
  },
  {
   "cell_type": "code",
   "execution_count": 73,
   "metadata": {},
   "outputs": [
    {
     "name": "stdout",
     "output_type": "stream",
     "text": [
      "['/scratch/tsoares/wikidumps/simplewiki-NS0-20230801/processed_data/pages_0.parquet', '/scratch/tsoares/wikidumps/simplewiki-NS0-20230801/processed_data/pages_1.parquet']\n",
      "['/scratch/tsoares/wikidumps/simplewiki-NS0-20230801/processed_data/links_1.parquet', '/scratch/tsoares/wikidumps/simplewiki-NS0-20230801/processed_data/links_0.parquet']\n",
      "['/scratch/tsoares/wikidumps/simplewiki-NS0-20230801/processed_data/redirect_map.parquet']\n"
     ]
    }
   ],
   "source": [
    "page_files = glob(os.path.join(root, \"pages*.parquet\"))\n",
    "link_files = glob(os.path.join(root, \"links*.parquet\"))\n",
    "redirect_files = glob(os.path.join(root, \"redirect*.parquet\"))\n",
    "print(page_files)\n",
    "print(link_files)\n",
    "print(redirect_files)"
   ]
  },
  {
   "cell_type": "code",
   "execution_count": 74,
   "metadata": {},
   "outputs": [
    {
     "name": "stderr",
     "output_type": "stream",
     "text": [
      "100%|██████████| 2/2 [00:38<00:00, 19.16s/it]\n"
     ]
    },
    {
     "data": {
      "text/html": [
       "<div>\n",
       "<style scoped>\n",
       "    .dataframe tbody tr th:only-of-type {\n",
       "        vertical-align: middle;\n",
       "    }\n",
       "\n",
       "    .dataframe tbody tr th {\n",
       "        vertical-align: top;\n",
       "    }\n",
       "\n",
       "    .dataframe thead th {\n",
       "        text-align: right;\n",
       "    }\n",
       "</style>\n",
       "<table border=\"1\" class=\"dataframe\">\n",
       "  <thead>\n",
       "    <tr style=\"text-align: right;\">\n",
       "      <th></th>\n",
       "      <th>title</th>\n",
       "      <th>ID</th>\n",
       "      <th>version</th>\n",
       "      <th>HTML</th>\n",
       "      <th>page_length</th>\n",
       "      <th>language</th>\n",
       "      <th>lead_paragraph</th>\n",
       "      <th>QID</th>\n",
       "    </tr>\n",
       "  </thead>\n",
       "  <tbody>\n",
       "    <tr>\n",
       "      <th>0</th>\n",
       "      <td>1293</td>\n",
       "      <td>39608</td>\n",
       "      <td>https://simple.wikipedia.org/w/index.php?title...</td>\n",
       "      <td>a</td>\n",
       "      <td>4526.0</td>\n",
       "      <td>simple</td>\n",
       "      <td>1293 was a common year.</td>\n",
       "      <td>Q5557</td>\n",
       "    </tr>\n",
       "    <tr>\n",
       "      <th>1</th>\n",
       "      <td>1287</td>\n",
       "      <td>69411</td>\n",
       "      <td>https://simple.wikipedia.org/w/index.php?title...</td>\n",
       "      <td>a</td>\n",
       "      <td>7363.0</td>\n",
       "      <td>simple</td>\n",
       "      <td>1287 was a common year.</td>\n",
       "      <td>Q5549</td>\n",
       "    </tr>\n",
       "    <tr>\n",
       "      <th>2</th>\n",
       "      <td>1292</td>\n",
       "      <td>51211</td>\n",
       "      <td>https://simple.wikipedia.org/w/index.php?title...</td>\n",
       "      <td>a</td>\n",
       "      <td>13649.0</td>\n",
       "      <td>simple</td>\n",
       "      <td></td>\n",
       "      <td>Q5555</td>\n",
       "    </tr>\n",
       "    <tr>\n",
       "      <th>3</th>\n",
       "      <td>1276</td>\n",
       "      <td>17718</td>\n",
       "      <td>https://simple.wikipedia.org/w/index.php?title...</td>\n",
       "      <td>a</td>\n",
       "      <td>9632.0</td>\n",
       "      <td>simple</td>\n",
       "      <td></td>\n",
       "      <td>Q5530</td>\n",
       "    </tr>\n",
       "    <tr>\n",
       "      <th>4</th>\n",
       "      <td>1273</td>\n",
       "      <td>82302</td>\n",
       "      <td>https://simple.wikipedia.org/w/index.php?title...</td>\n",
       "      <td>a</td>\n",
       "      <td>11664.0</td>\n",
       "      <td>simple</td>\n",
       "      <td></td>\n",
       "      <td>Q5526</td>\n",
       "    </tr>\n",
       "    <tr>\n",
       "      <th>...</th>\n",
       "      <td>...</td>\n",
       "      <td>...</td>\n",
       "      <td>...</td>\n",
       "      <td>...</td>\n",
       "      <td>...</td>\n",
       "      <td>...</td>\n",
       "      <td>...</td>\n",
       "      <td>...</td>\n",
       "    </tr>\n",
       "    <tr>\n",
       "      <th>36104</th>\n",
       "      <td>Muhammed_Luqman</td>\n",
       "      <td>1034534</td>\n",
       "      <td>None</td>\n",
       "      <td>None</td>\n",
       "      <td>NaN</td>\n",
       "      <td>simple</td>\n",
       "      <td>None</td>\n",
       "      <td>Q121079070</td>\n",
       "    </tr>\n",
       "    <tr>\n",
       "      <th>36105</th>\n",
       "      <td>Passengers_%28Elton_John_song%29</td>\n",
       "      <td>1034536</td>\n",
       "      <td>None</td>\n",
       "      <td>None</td>\n",
       "      <td>NaN</td>\n",
       "      <td>simple</td>\n",
       "      <td>None</td>\n",
       "      <td>Q48805211</td>\n",
       "    </tr>\n",
       "    <tr>\n",
       "      <th>36106</th>\n",
       "      <td>Android_tablet</td>\n",
       "      <td>1034547</td>\n",
       "      <td>None</td>\n",
       "      <td>None</td>\n",
       "      <td>NaN</td>\n",
       "      <td>simple</td>\n",
       "      <td>None</td>\n",
       "      <td>None</td>\n",
       "    </tr>\n",
       "    <tr>\n",
       "      <th>36107</th>\n",
       "      <td>Radio_Nowhere</td>\n",
       "      <td>1034549</td>\n",
       "      <td>None</td>\n",
       "      <td>None</td>\n",
       "      <td>NaN</td>\n",
       "      <td>simple</td>\n",
       "      <td>None</td>\n",
       "      <td>Q1403256</td>\n",
       "    </tr>\n",
       "    <tr>\n",
       "      <th>36108</th>\n",
       "      <td>Leonidlednev</td>\n",
       "      <td>1034551</td>\n",
       "      <td>None</td>\n",
       "      <td>None</td>\n",
       "      <td>NaN</td>\n",
       "      <td>simple</td>\n",
       "      <td>None</td>\n",
       "      <td>None</td>\n",
       "    </tr>\n",
       "  </tbody>\n",
       "</table>\n",
       "<p>236109 rows × 8 columns</p>\n",
       "</div>"
      ],
      "text/plain": [
       "                                  title       ID  \\\n",
       "0                                  1293    39608   \n",
       "1                                  1287    69411   \n",
       "2                                  1292    51211   \n",
       "3                                  1276    17718   \n",
       "4                                  1273    82302   \n",
       "...                                 ...      ...   \n",
       "36104                   Muhammed_Luqman  1034534   \n",
       "36105  Passengers_%28Elton_John_song%29  1034536   \n",
       "36106                    Android_tablet  1034547   \n",
       "36107                     Radio_Nowhere  1034549   \n",
       "36108                      Leonidlednev  1034551   \n",
       "\n",
       "                                                 version  HTML  page_length  \\\n",
       "0      https://simple.wikipedia.org/w/index.php?title...     a       4526.0   \n",
       "1      https://simple.wikipedia.org/w/index.php?title...     a       7363.0   \n",
       "2      https://simple.wikipedia.org/w/index.php?title...     a      13649.0   \n",
       "3      https://simple.wikipedia.org/w/index.php?title...     a       9632.0   \n",
       "4      https://simple.wikipedia.org/w/index.php?title...     a      11664.0   \n",
       "...                                                  ...   ...          ...   \n",
       "36104                                               None  None          NaN   \n",
       "36105                                               None  None          NaN   \n",
       "36106                                               None  None          NaN   \n",
       "36107                                               None  None          NaN   \n",
       "36108                                               None  None          NaN   \n",
       "\n",
       "      language           lead_paragraph         QID  \n",
       "0       simple  1293 was a common year.       Q5557  \n",
       "1       simple  1287 was a common year.       Q5549  \n",
       "2       simple                                Q5555  \n",
       "3       simple                                Q5530  \n",
       "4       simple                                Q5526  \n",
       "...        ...                      ...         ...  \n",
       "36104   simple                     None  Q121079070  \n",
       "36105   simple                     None   Q48805211  \n",
       "36106   simple                     None        None  \n",
       "36107   simple                     None    Q1403256  \n",
       "36108   simple                     None        None  \n",
       "\n",
       "[236109 rows x 8 columns]"
      ]
     },
     "execution_count": 74,
     "metadata": {},
     "output_type": "execute_result"
    }
   ],
   "source": [
    "def simplify_html(html):\n",
    "    if html is None:\n",
    "        return None\n",
    "    if html == '':\n",
    "        return ''\n",
    "    return 'a'\n",
    "\n",
    "dfs = []\n",
    "for file in tqdm(page_files):\n",
    "    temp_df = pd.read_parquet(file)\n",
    "    temp_df['HTML'] = temp_df['HTML'].apply(lambda x: simplify_html(x)) # simpify html so it is not too big\n",
    "    dfs.append(temp_df)\n",
    "df_pages = pd.concat(dfs)\n",
    "df_pages"
   ]
  },
  {
   "cell_type": "code",
   "execution_count": 75,
   "metadata": {},
   "outputs": [
    {
     "name": "stderr",
     "output_type": "stream",
     "text": [
      "100%|██████████| 2/2 [00:13<00:00,  6.68s/it]\n"
     ]
    },
    {
     "data": {
      "text/html": [
       "<div>\n",
       "<style scoped>\n",
       "    .dataframe tbody tr th:only-of-type {\n",
       "        vertical-align: middle;\n",
       "    }\n",
       "\n",
       "    .dataframe tbody tr th {\n",
       "        vertical-align: top;\n",
       "    }\n",
       "\n",
       "    .dataframe thead th {\n",
       "        text-align: right;\n",
       "    }\n",
       "</style>\n",
       "<table border=\"1\" class=\"dataframe\">\n",
       "  <thead>\n",
       "    <tr style=\"text-align: right;\">\n",
       "      <th></th>\n",
       "      <th>target_title</th>\n",
       "      <th>target_section</th>\n",
       "      <th>source_title</th>\n",
       "      <th>target_ID</th>\n",
       "      <th>target_QID</th>\n",
       "      <th>source_ID</th>\n",
       "      <th>source_QID</th>\n",
       "      <th>mention</th>\n",
       "      <th>source_section</th>\n",
       "      <th>link_start_index</th>\n",
       "      <th>link_end_index</th>\n",
       "      <th>sentence</th>\n",
       "      <th>sentence_raw</th>\n",
       "      <th>sentence_start_index</th>\n",
       "      <th>sentence_end_index</th>\n",
       "      <th>source_page_length</th>\n",
       "      <th>link_section_depth</th>\n",
       "      <th>context</th>\n",
       "    </tr>\n",
       "  </thead>\n",
       "  <tbody>\n",
       "    <tr>\n",
       "      <th>0</th>\n",
       "      <td>Televangelism</td>\n",
       "      <td>Lead</td>\n",
       "      <td>William_M._Branham</td>\n",
       "      <td>110724</td>\n",
       "      <td>Q1407240</td>\n",
       "      <td>720496</td>\n",
       "      <td>Q383307</td>\n",
       "      <td>televangelism</td>\n",
       "      <td>Lead</td>\n",
       "      <td>12006</td>\n",
       "      <td>12099</td>\n",
       "      <td>He left a lasting impact on televangelism and...</td>\n",
       "      <td>He left a lasting impact on &lt;a rel=\"mw:WikiLi...</td>\n",
       "      <td>11977</td>\n",
       "      <td>12395</td>\n",
       "      <td>22502</td>\n",
       "      <td>0.0.0</td>\n",
       "      <td>William Marrion Branham (April 6, 1909 – Decem...</td>\n",
       "    </tr>\n",
       "    <tr>\n",
       "      <th>1</th>\n",
       "      <td>Christmas</td>\n",
       "      <td>Lead</td>\n",
       "      <td>William_M._Branham</td>\n",
       "      <td>3317</td>\n",
       "      <td>Q19809</td>\n",
       "      <td>720496</td>\n",
       "      <td>Q383307</td>\n",
       "      <td>Christmas Eve</td>\n",
       "      <td>Lead</td>\n",
       "      <td>12900</td>\n",
       "      <td>13013</td>\n",
       "      <td>\\nBranham was killed in a car crash on Christm...</td>\n",
       "      <td>\\n&lt;p id=\"mwCw\"&gt;Branham was killed in a car cra...</td>\n",
       "      <td>12849</td>\n",
       "      <td>13036</td>\n",
       "      <td>22502</td>\n",
       "      <td>0.0.0</td>\n",
       "      <td>William Marrion Branham (April 6, 1909 – Decem...</td>\n",
       "    </tr>\n",
       "    <tr>\n",
       "      <th>2</th>\n",
       "      <td>Chicago</td>\n",
       "      <td>Lead</td>\n",
       "      <td>Victory_Gardens_Theater</td>\n",
       "      <td>10193</td>\n",
       "      <td>Q1297</td>\n",
       "      <td>791858</td>\n",
       "      <td>Q7927497</td>\n",
       "      <td>Chicago</td>\n",
       "      <td>Lead</td>\n",
       "      <td>2155</td>\n",
       "      <td>2230</td>\n",
       "      <td>Victory Gardens Theater is a theater company i...</td>\n",
       "      <td>&lt;p id=\"mwBg\"&gt;&lt;b id=\"mwBw\"&gt;Victory Gardens Thea...</td>\n",
       "      <td>2077</td>\n",
       "      <td>2381</td>\n",
       "      <td>5945</td>\n",
       "      <td>0.0.0</td>\n",
       "      <td>It is located in the Lincoln Park area of the ...</td>\n",
       "    </tr>\n",
       "    <tr>\n",
       "      <th>3</th>\n",
       "      <td>Illinois</td>\n",
       "      <td>Lead</td>\n",
       "      <td>Victory_Gardens_Theater</td>\n",
       "      <td>11192</td>\n",
       "      <td>Q1204</td>\n",
       "      <td>791858</td>\n",
       "      <td>Q7927497</td>\n",
       "      <td>Illinois</td>\n",
       "      <td>Lead</td>\n",
       "      <td>2232</td>\n",
       "      <td>2310</td>\n",
       "      <td>Victory Gardens Theater is a theater company i...</td>\n",
       "      <td>&lt;p id=\"mwBg\"&gt;&lt;b id=\"mwBw\"&gt;Victory Gardens Thea...</td>\n",
       "      <td>2077</td>\n",
       "      <td>2381</td>\n",
       "      <td>5945</td>\n",
       "      <td>0.0.0</td>\n",
       "      <td>It is located in the Lincoln Park area of the ...</td>\n",
       "    </tr>\n",
       "    <tr>\n",
       "      <th>4</th>\n",
       "      <td>Lincoln_Park%2C_Chicago</td>\n",
       "      <td>Lead</td>\n",
       "      <td>Victory_Gardens_Theater</td>\n",
       "      <td>447135</td>\n",
       "      <td>Q1795453</td>\n",
       "      <td>791858</td>\n",
       "      <td>Q7927497</td>\n",
       "      <td>Lincoln Park</td>\n",
       "      <td>Lead</td>\n",
       "      <td>2403</td>\n",
       "      <td>2511</td>\n",
       "      <td>It is located in the Lincoln Park area of the...</td>\n",
       "      <td>It is located in the &lt;a rel=\"mw:WikiLink\" hre...</td>\n",
       "      <td>2381</td>\n",
       "      <td>2640</td>\n",
       "      <td>5945</td>\n",
       "      <td>0.0.0</td>\n",
       "      <td>Victory Gardens Theater is a theater company i...</td>\n",
       "    </tr>\n",
       "    <tr>\n",
       "      <th>...</th>\n",
       "      <td>...</td>\n",
       "      <td>...</td>\n",
       "      <td>...</td>\n",
       "      <td>...</td>\n",
       "      <td>...</td>\n",
       "      <td>...</td>\n",
       "      <td>...</td>\n",
       "      <td>...</td>\n",
       "      <td>...</td>\n",
       "      <td>...</td>\n",
       "      <td>...</td>\n",
       "      <td>...</td>\n",
       "      <td>...</td>\n",
       "      <td>...</td>\n",
       "      <td>...</td>\n",
       "      <td>...</td>\n",
       "      <td>...</td>\n",
       "      <td>...</td>\n",
       "    </tr>\n",
       "    <tr>\n",
       "      <th>2270085</th>\n",
       "      <td>Germany</td>\n",
       "      <td>Lead</td>\n",
       "      <td>Rust%2C_Baden-W%C3%BCrttemberg</td>\n",
       "      <td>219828</td>\n",
       "      <td>Q183</td>\n",
       "      <td>752319</td>\n",
       "      <td>Q632924</td>\n",
       "      <td>Germany</td>\n",
       "      <td>Lead</td>\n",
       "      <td>22930</td>\n",
       "      <td>23005</td>\n",
       "      <td>\\nRust is a municipality of the district of Or...</td>\n",
       "      <td>&lt;link rel=\"mw:PageProp/Category\" href=\"./Categ...</td>\n",
       "      <td>1801</td>\n",
       "      <td>23006</td>\n",
       "      <td>53496</td>\n",
       "      <td>0.0.0</td>\n",
       "      <td>It is the home of the famous theme park Europa...</td>\n",
       "    </tr>\n",
       "    <tr>\n",
       "      <th>2270086</th>\n",
       "      <td>Municipalities_of_Germany</td>\n",
       "      <td>Lead</td>\n",
       "      <td>Wald%2C_Upper_Palatinate</td>\n",
       "      <td>884087</td>\n",
       "      <td>Q262166</td>\n",
       "      <td>884545</td>\n",
       "      <td>Q547243</td>\n",
       "      <td>municipality</td>\n",
       "      <td>Lead</td>\n",
       "      <td>23256</td>\n",
       "      <td>23372</td>\n",
       "      <td>\\nWald is a municipality  in the district of C...</td>\n",
       "      <td>&lt;link rel=\"mw:PageProp/Category\" href=\"./Categ...</td>\n",
       "      <td>2607</td>\n",
       "      <td>23640</td>\n",
       "      <td>41228</td>\n",
       "      <td>0.0.0</td>\n",
       "      <td></td>\n",
       "    </tr>\n",
       "    <tr>\n",
       "      <th>2270087</th>\n",
       "      <td>Cham_%28district%29</td>\n",
       "      <td>Lead</td>\n",
       "      <td>Wald%2C_Upper_Palatinate</td>\n",
       "      <td>743424</td>\n",
       "      <td>Q10424</td>\n",
       "      <td>884545</td>\n",
       "      <td>Q547243</td>\n",
       "      <td>Cham</td>\n",
       "      <td>Lead</td>\n",
       "      <td>23393</td>\n",
       "      <td>23481</td>\n",
       "      <td>\\nWald is a municipality  in the district of C...</td>\n",
       "      <td>&lt;link rel=\"mw:PageProp/Category\" href=\"./Categ...</td>\n",
       "      <td>2607</td>\n",
       "      <td>23640</td>\n",
       "      <td>41228</td>\n",
       "      <td>0.0.0</td>\n",
       "      <td></td>\n",
       "    </tr>\n",
       "    <tr>\n",
       "      <th>2270088</th>\n",
       "      <td>Bavaria</td>\n",
       "      <td>Lead</td>\n",
       "      <td>Wald%2C_Upper_Palatinate</td>\n",
       "      <td>2871</td>\n",
       "      <td>Q980</td>\n",
       "      <td>884545</td>\n",
       "      <td>Q547243</td>\n",
       "      <td>Bavaria</td>\n",
       "      <td>Lead</td>\n",
       "      <td>23485</td>\n",
       "      <td>23560</td>\n",
       "      <td>\\nWald is a municipality  in the district of C...</td>\n",
       "      <td>&lt;link rel=\"mw:PageProp/Category\" href=\"./Categ...</td>\n",
       "      <td>2607</td>\n",
       "      <td>23640</td>\n",
       "      <td>41228</td>\n",
       "      <td>0.0.0</td>\n",
       "      <td></td>\n",
       "    </tr>\n",
       "    <tr>\n",
       "      <th>2270089</th>\n",
       "      <td>Germany</td>\n",
       "      <td>Lead</td>\n",
       "      <td>Wald%2C_Upper_Palatinate</td>\n",
       "      <td>219828</td>\n",
       "      <td>Q183</td>\n",
       "      <td>884545</td>\n",
       "      <td>Q547243</td>\n",
       "      <td>Germany</td>\n",
       "      <td>Lead</td>\n",
       "      <td>23564</td>\n",
       "      <td>23639</td>\n",
       "      <td>\\nWald is a municipality  in the district of C...</td>\n",
       "      <td>&lt;link rel=\"mw:PageProp/Category\" href=\"./Categ...</td>\n",
       "      <td>2607</td>\n",
       "      <td>23640</td>\n",
       "      <td>41228</td>\n",
       "      <td>0.0.0</td>\n",
       "      <td></td>\n",
       "    </tr>\n",
       "  </tbody>\n",
       "</table>\n",
       "<p>2714975 rows × 18 columns</p>\n",
       "</div>"
      ],
      "text/plain": [
       "                      target_title target_section  \\\n",
       "0                    Televangelism           Lead   \n",
       "1                        Christmas           Lead   \n",
       "2                          Chicago           Lead   \n",
       "3                         Illinois           Lead   \n",
       "4          Lincoln_Park%2C_Chicago           Lead   \n",
       "...                            ...            ...   \n",
       "2270085                    Germany           Lead   \n",
       "2270086  Municipalities_of_Germany           Lead   \n",
       "2270087        Cham_%28district%29           Lead   \n",
       "2270088                    Bavaria           Lead   \n",
       "2270089                    Germany           Lead   \n",
       "\n",
       "                           source_title target_ID target_QID source_ID  \\\n",
       "0                    William_M._Branham    110724   Q1407240    720496   \n",
       "1                    William_M._Branham      3317     Q19809    720496   \n",
       "2               Victory_Gardens_Theater     10193      Q1297    791858   \n",
       "3               Victory_Gardens_Theater     11192      Q1204    791858   \n",
       "4               Victory_Gardens_Theater    447135   Q1795453    791858   \n",
       "...                                 ...       ...        ...       ...   \n",
       "2270085  Rust%2C_Baden-W%C3%BCrttemberg    219828       Q183    752319   \n",
       "2270086        Wald%2C_Upper_Palatinate    884087    Q262166    884545   \n",
       "2270087        Wald%2C_Upper_Palatinate    743424     Q10424    884545   \n",
       "2270088        Wald%2C_Upper_Palatinate      2871       Q980    884545   \n",
       "2270089        Wald%2C_Upper_Palatinate    219828       Q183    884545   \n",
       "\n",
       "        source_QID        mention source_section  link_start_index  \\\n",
       "0          Q383307  televangelism           Lead             12006   \n",
       "1          Q383307  Christmas Eve           Lead             12900   \n",
       "2         Q7927497        Chicago           Lead              2155   \n",
       "3         Q7927497       Illinois           Lead              2232   \n",
       "4         Q7927497   Lincoln Park           Lead              2403   \n",
       "...            ...            ...            ...               ...   \n",
       "2270085    Q632924        Germany           Lead             22930   \n",
       "2270086    Q547243   municipality           Lead             23256   \n",
       "2270087    Q547243           Cham           Lead             23393   \n",
       "2270088    Q547243        Bavaria           Lead             23485   \n",
       "2270089    Q547243        Germany           Lead             23564   \n",
       "\n",
       "         link_end_index                                           sentence  \\\n",
       "0                 12099   He left a lasting impact on televangelism and...   \n",
       "1                 13013  \\nBranham was killed in a car crash on Christm...   \n",
       "2                  2230  Victory Gardens Theater is a theater company i...   \n",
       "3                  2310  Victory Gardens Theater is a theater company i...   \n",
       "4                  2511   It is located in the Lincoln Park area of the...   \n",
       "...                 ...                                                ...   \n",
       "2270085           23005  \\nRust is a municipality of the district of Or...   \n",
       "2270086           23372  \\nWald is a municipality  in the district of C...   \n",
       "2270087           23481  \\nWald is a municipality  in the district of C...   \n",
       "2270088           23560  \\nWald is a municipality  in the district of C...   \n",
       "2270089           23639  \\nWald is a municipality  in the district of C...   \n",
       "\n",
       "                                              sentence_raw  \\\n",
       "0         He left a lasting impact on <a rel=\"mw:WikiLi...   \n",
       "1        \\n<p id=\"mwCw\">Branham was killed in a car cra...   \n",
       "2        <p id=\"mwBg\"><b id=\"mwBw\">Victory Gardens Thea...   \n",
       "3        <p id=\"mwBg\"><b id=\"mwBw\">Victory Gardens Thea...   \n",
       "4         It is located in the <a rel=\"mw:WikiLink\" hre...   \n",
       "...                                                    ...   \n",
       "2270085  <link rel=\"mw:PageProp/Category\" href=\"./Categ...   \n",
       "2270086  <link rel=\"mw:PageProp/Category\" href=\"./Categ...   \n",
       "2270087  <link rel=\"mw:PageProp/Category\" href=\"./Categ...   \n",
       "2270088  <link rel=\"mw:PageProp/Category\" href=\"./Categ...   \n",
       "2270089  <link rel=\"mw:PageProp/Category\" href=\"./Categ...   \n",
       "\n",
       "         sentence_start_index  sentence_end_index  source_page_length  \\\n",
       "0                       11977               12395               22502   \n",
       "1                       12849               13036               22502   \n",
       "2                        2077                2381                5945   \n",
       "3                        2077                2381                5945   \n",
       "4                        2381                2640                5945   \n",
       "...                       ...                 ...                 ...   \n",
       "2270085                  1801               23006               53496   \n",
       "2270086                  2607               23640               41228   \n",
       "2270087                  2607               23640               41228   \n",
       "2270088                  2607               23640               41228   \n",
       "2270089                  2607               23640               41228   \n",
       "\n",
       "        link_section_depth                                            context  \n",
       "0                    0.0.0  William Marrion Branham (April 6, 1909 – Decem...  \n",
       "1                    0.0.0  William Marrion Branham (April 6, 1909 – Decem...  \n",
       "2                    0.0.0  It is located in the Lincoln Park area of the ...  \n",
       "3                    0.0.0  It is located in the Lincoln Park area of the ...  \n",
       "4                    0.0.0  Victory Gardens Theater is a theater company i...  \n",
       "...                    ...                                                ...  \n",
       "2270085              0.0.0  It is the home of the famous theme park Europa...  \n",
       "2270086              0.0.0                                                     \n",
       "2270087              0.0.0                                                     \n",
       "2270088              0.0.0                                                     \n",
       "2270089              0.0.0                                                     \n",
       "\n",
       "[2714975 rows x 18 columns]"
      ]
     },
     "execution_count": 75,
     "metadata": {},
     "output_type": "execute_result"
    }
   ],
   "source": [
    "dfs = []\n",
    "for file in tqdm(link_files):\n",
    "    dfs.append(pd.read_parquet(file))\n",
    "df_links = pd.concat(dfs)\n",
    "df_links"
   ]
  },
  {
   "cell_type": "code",
   "execution_count": 76,
   "metadata": {},
   "outputs": [
    {
     "name": "stderr",
     "output_type": "stream",
     "text": [
      "100%|██████████| 1/1 [00:00<00:00,  2.92it/s]\n"
     ]
    },
    {
     "data": {
      "text/html": [
       "<div>\n",
       "<style scoped>\n",
       "    .dataframe tbody tr th:only-of-type {\n",
       "        vertical-align: middle;\n",
       "    }\n",
       "\n",
       "    .dataframe tbody tr th {\n",
       "        vertical-align: top;\n",
       "    }\n",
       "\n",
       "    .dataframe thead th {\n",
       "        text-align: right;\n",
       "    }\n",
       "</style>\n",
       "<table border=\"1\" class=\"dataframe\">\n",
       "  <thead>\n",
       "    <tr style=\"text-align: right;\">\n",
       "      <th></th>\n",
       "      <th>redirect</th>\n",
       "    </tr>\n",
       "    <tr>\n",
       "      <th>title</th>\n",
       "      <th></th>\n",
       "    </tr>\n",
       "  </thead>\n",
       "  <tbody>\n",
       "    <tr>\n",
       "      <th>Albigensian</th>\n",
       "      <td>Catharism</td>\n",
       "    </tr>\n",
       "    <tr>\n",
       "      <th>American_Units_Of_Measurement</th>\n",
       "      <td>United_States_customary_units</td>\n",
       "    </tr>\n",
       "    <tr>\n",
       "      <th>As</th>\n",
       "      <td>AS</td>\n",
       "    </tr>\n",
       "    <tr>\n",
       "      <th>Animalia</th>\n",
       "      <td>Animal</td>\n",
       "    </tr>\n",
       "    <tr>\n",
       "      <th>Bootstrap</th>\n",
       "      <td>Boot</td>\n",
       "    </tr>\n",
       "    <tr>\n",
       "      <th>...</th>\n",
       "      <td>...</td>\n",
       "    </tr>\n",
       "    <tr>\n",
       "      <th>Constituency_%28France%29</th>\n",
       "      <td>List_of_constituencies_of_the_National_Assembl...</td>\n",
       "    </tr>\n",
       "    <tr>\n",
       "      <th>FC_Dornbirn_1913</th>\n",
       "      <td>FC_Dornbirn</td>\n",
       "    </tr>\n",
       "    <tr>\n",
       "      <th>Ray_Traylor</th>\n",
       "      <td>Big_Boss_Man</td>\n",
       "    </tr>\n",
       "    <tr>\n",
       "      <th>Dan_Fogelberg_discography</th>\n",
       "      <td>Dan_Fogelberg</td>\n",
       "    </tr>\n",
       "    <tr>\n",
       "      <th>FISU_World_University_Games</th>\n",
       "      <td>Universiade</td>\n",
       "    </tr>\n",
       "  </tbody>\n",
       "</table>\n",
       "<p>92624 rows × 1 columns</p>\n",
       "</div>"
      ],
      "text/plain": [
       "                                                                        redirect\n",
       "title                                                                           \n",
       "Albigensian                                                            Catharism\n",
       "American_Units_Of_Measurement                      United_States_customary_units\n",
       "As                                                                            AS\n",
       "Animalia                                                                  Animal\n",
       "Bootstrap                                                                   Boot\n",
       "...                                                                          ...\n",
       "Constituency_%28France%29      List_of_constituencies_of_the_National_Assembl...\n",
       "FC_Dornbirn_1913                                                     FC_Dornbirn\n",
       "Ray_Traylor                                                         Big_Boss_Man\n",
       "Dan_Fogelberg_discography                                          Dan_Fogelberg\n",
       "FISU_World_University_Games                                          Universiade\n",
       "\n",
       "[92624 rows x 1 columns]"
      ]
     },
     "execution_count": 76,
     "metadata": {},
     "output_type": "execute_result"
    }
   ],
   "source": [
    "dfs = []\n",
    "for file in tqdm(redirect_files):\n",
    "    dfs.append(pd.read_parquet(file))\n",
    "df_redirects = pd.concat(dfs)\n",
    "df_redirects"
   ]
  },
  {
   "cell_type": "markdown",
   "metadata": {},
   "source": [
    "# Analyze Pages (Nodes)"
   ]
  },
  {
   "cell_type": "markdown",
   "metadata": {},
   "source": [
    "What is the total number of pages?"
   ]
  },
  {
   "cell_type": "code",
   "execution_count": 77,
   "metadata": {},
   "outputs": [
    {
     "data": {
      "text/plain": [
       "236109"
      ]
     },
     "execution_count": 77,
     "metadata": {},
     "output_type": "execute_result"
    }
   ],
   "source": [
    "len(df_pages)"
   ]
  },
  {
   "cell_type": "markdown",
   "metadata": {},
   "source": [
    "What is the total number of redirects?"
   ]
  },
  {
   "cell_type": "code",
   "execution_count": 78,
   "metadata": {},
   "outputs": [
    {
     "data": {
      "text/plain": [
       "92624"
      ]
     },
     "execution_count": 78,
     "metadata": {},
     "output_type": "execute_result"
    }
   ],
   "source": [
    "len(df_redirects)"
   ]
  },
  {
   "cell_type": "markdown",
   "metadata": {},
   "source": [
    "What is the number of pages with missing QID?"
   ]
  },
  {
   "cell_type": "code",
   "execution_count": 79,
   "metadata": {},
   "outputs": [
    {
     "data": {
      "text/plain": [
       "166"
      ]
     },
     "execution_count": 79,
     "metadata": {},
     "output_type": "execute_result"
    }
   ],
   "source": [
    "no_qid = df_pages['QID'].isna()\n",
    "len(df_pages[no_qid])"
   ]
  },
  {
   "cell_type": "markdown",
   "metadata": {},
   "source": [
    "What is the number of pages with missing HTML?"
   ]
  },
  {
   "cell_type": "code",
   "execution_count": 80,
   "metadata": {},
   "outputs": [
    {
     "data": {
      "text/plain": [
       "800"
      ]
     },
     "execution_count": 80,
     "metadata": {},
     "output_type": "execute_result"
    }
   ],
   "source": [
    "no_html = (df_pages['HTML'].isna()) | (df_pages['HTML'] == '')\n",
    "len(df_pages[no_html])"
   ]
  },
  {
   "cell_type": "markdown",
   "metadata": {},
   "source": [
    "What is the number of pages without a lead paragraph?"
   ]
  },
  {
   "cell_type": "code",
   "execution_count": 81,
   "metadata": {},
   "outputs": [
    {
     "data": {
      "text/plain": [
       "1482"
      ]
     },
     "execution_count": 81,
     "metadata": {},
     "output_type": "execute_result"
    }
   ],
   "source": [
    "no_lead = (df_pages['lead_paragraph'].isna()) | (df_pages['lead_paragraph'] == '')\n",
    "len(df_pages[no_lead])"
   ]
  },
  {
   "cell_type": "markdown",
   "metadata": {},
   "source": [
    "What is the number of pages with a lead paragraph with less than 6 words?"
   ]
  },
  {
   "cell_type": "code",
   "execution_count": 82,
   "metadata": {},
   "outputs": [
    {
     "data": {
      "text/plain": [
       "2184"
      ]
     },
     "execution_count": 82,
     "metadata": {},
     "output_type": "execute_result"
    }
   ],
   "source": [
    "# number of pages where lead paragraph has less than 6 words\n",
    "def split_text(x):\n",
    "    if x is None:\n",
    "        return 0\n",
    "    return len(x.split(' ', 5)) \n",
    "short_lead = df_pages['lead_paragraph'].apply(lambda x: split_text(x) < 6)\n",
    "len(df_pages[short_lead])"
   ]
  },
  {
   "cell_type": "markdown",
   "metadata": {},
   "source": [
    "What is the number of good pages if we exclude all the faulty ones?"
   ]
  },
  {
   "cell_type": "code",
   "execution_count": 83,
   "metadata": {},
   "outputs": [
    {
     "data": {
      "text/plain": [
       "233785"
      ]
     },
     "execution_count": 83,
     "metadata": {},
     "output_type": "execute_result"
    }
   ],
   "source": [
    "len(df_pages[~no_qid & ~no_html & ~no_lead & ~short_lead])"
   ]
  },
  {
   "cell_type": "markdown",
   "metadata": {},
   "source": [
    "Save good data"
   ]
  },
  {
   "cell_type": "code",
   "execution_count": 84,
   "metadata": {},
   "outputs": [
    {
     "name": "stderr",
     "output_type": "stream",
     "text": [
      "100%|██████████| 2/2 [01:27<00:00, 43.57s/it]\n"
     ]
    }
   ],
   "source": [
    "for file in tqdm(page_files):\n",
    "    df = pd.read_parquet(file)\n",
    "    df = df[(~df['QID'].isna()) & (~df['HTML'].isna()) & (~df['lead_paragraph'].isna()) & (df['HTML'] != '') & (df['lead_paragraph'] != '') & (df['lead_paragraph'].apply(lambda x: split_text(x) >= 6))]\n",
    "    df = df.reset_index(drop=True)\n",
    "    df.to_parquet(file.replace('pages', 'good_pages'))"
   ]
  },
  {
   "cell_type": "markdown",
   "metadata": {},
   "source": [
    "# Analyze Links"
   ]
  },
  {
   "cell_type": "markdown",
   "metadata": {},
   "source": [
    "## Auxiliary Data Structures"
   ]
  },
  {
   "cell_type": "code",
   "execution_count": 85,
   "metadata": {},
   "outputs": [],
   "source": [
    "# Pages with no html\n",
    "no_html = df_pages[(df_pages['HTML'].isna()) | (df_pages['HTML'] == '')]['title'].tolist()\n",
    "no_html = set(no_html)"
   ]
  },
  {
   "cell_type": "code",
   "execution_count": 86,
   "metadata": {},
   "outputs": [],
   "source": [
    "# Pages with no lead paragraph\n",
    "no_lead = df_pages[(df_pages['lead_paragraph'].isna()) | (df_pages['lead_paragraph'] == '')]['title'].tolist()\n",
    "no_lead = set(no_lead)"
   ]
  },
  {
   "cell_type": "code",
   "execution_count": 87,
   "metadata": {},
   "outputs": [],
   "source": [
    "# Pages with lead paragraph with less than 6 words\n",
    "short_lead = df_pages[(df_pages['lead_paragraph'].apply(lambda x: split_text(x) < 6))]['title'].tolist()\n",
    "short_lead = set(short_lead)"
   ]
  },
  {
   "cell_type": "markdown",
   "metadata": {},
   "source": [
    "## Results"
   ]
  },
  {
   "cell_type": "markdown",
   "metadata": {},
   "source": [
    "How many total links do we have?"
   ]
  },
  {
   "cell_type": "code",
   "execution_count": 88,
   "metadata": {},
   "outputs": [
    {
     "data": {
      "text/plain": [
       "2714975"
      ]
     },
     "execution_count": 88,
     "metadata": {},
     "output_type": "execute_result"
    }
   ],
   "source": [
    "len(df_links)"
   ]
  },
  {
   "cell_type": "markdown",
   "metadata": {},
   "source": [
    "Of all the links we have, how many were missing its target?"
   ]
  },
  {
   "cell_type": "code",
   "execution_count": 89,
   "metadata": {},
   "outputs": [
    {
     "data": {
      "text/plain": [
       "608"
      ]
     },
     "execution_count": 89,
     "metadata": {},
     "output_type": "execute_result"
    }
   ],
   "source": [
    "no_target = df_links['target_ID'].isna()\n",
    "len(df_links[no_target])"
   ]
  },
  {
   "cell_type": "markdown",
   "metadata": {},
   "source": [
    "What is the number of links where context couldn't be parsed?"
   ]
  },
  {
   "cell_type": "code",
   "execution_count": 90,
   "metadata": {},
   "outputs": [
    {
     "data": {
      "text/plain": [
       "17619"
      ]
     },
     "execution_count": 90,
     "metadata": {},
     "output_type": "execute_result"
    }
   ],
   "source": [
    "context_fail = df_links['context'].isna()\n",
    "len(df_links[context_fail])"
   ]
  },
  {
   "cell_type": "markdown",
   "metadata": {},
   "source": [
    "What is the number of links without context?"
   ]
  },
  {
   "cell_type": "code",
   "execution_count": 91,
   "metadata": {},
   "outputs": [
    {
     "data": {
      "text/plain": [
       "78701"
      ]
     },
     "execution_count": 91,
     "metadata": {},
     "output_type": "execute_result"
    }
   ],
   "source": [
    "no_context = df_links['context'] == ''\n",
    "len(df_links[no_context])"
   ]
  },
  {
   "cell_type": "markdown",
   "metadata": {},
   "source": [
    "What is the number of links where the context is too small (less than 6 words)?"
   ]
  },
  {
   "cell_type": "code",
   "execution_count": 92,
   "metadata": {},
   "outputs": [
    {
     "data": {
      "text/plain": [
       "162270"
      ]
     },
     "execution_count": 92,
     "metadata": {},
     "output_type": "execute_result"
    }
   ],
   "source": [
    "short_context = df_links['context'].apply(lambda x: split_text(x) < 6)\n",
    "len(df_links[short_context])"
   ]
  },
  {
   "cell_type": "markdown",
   "metadata": {},
   "source": [
    "What is the number of links with low quality context?"
   ]
  },
  {
   "cell_type": "code",
   "execution_count": 93,
   "metadata": {},
   "outputs": [
    {
     "name": "stderr",
     "output_type": "stream",
     "text": [
      "100%|██████████| 2714975/2714975 [03:25<00:00, 13232.98it/s]\n"
     ]
    },
    {
     "data": {
      "text/plain": [
       "256432"
      ]
     },
     "execution_count": 93,
     "metadata": {},
     "output_type": "execute_result"
    }
   ],
   "source": [
    "def bad_context_eval(x):\n",
    "    if x is None:\n",
    "        return True\n",
    "    if 'v t e' in x:\n",
    "        return True\n",
    "    if sum(c.isalnum() for c in x) < 0.75 * len(x):\n",
    "        return True\n",
    "    return False\n",
    "bad_context = df_links['context'].progress_apply(lambda x: bad_context_eval(x))\n",
    "len(df_links[bad_context])"
   ]
  },
  {
   "cell_type": "markdown",
   "metadata": {},
   "source": [
    "What is the number of links with source pages without QID?"
   ]
  },
  {
   "cell_type": "code",
   "execution_count": 94,
   "metadata": {},
   "outputs": [
    {
     "data": {
      "text/plain": [
       "733"
      ]
     },
     "execution_count": 94,
     "metadata": {},
     "output_type": "execute_result"
    }
   ],
   "source": [
    "no_source_qid = df_links['source_QID'].isna()\n",
    "len(df_links[no_source_qid])"
   ]
  },
  {
   "cell_type": "markdown",
   "metadata": {},
   "source": [
    "What is the number of links with source pages without lead paragraph?"
   ]
  },
  {
   "cell_type": "code",
   "execution_count": 95,
   "metadata": {},
   "outputs": [
    {
     "data": {
      "text/plain": [
       "15835"
      ]
     },
     "execution_count": 95,
     "metadata": {},
     "output_type": "execute_result"
    }
   ],
   "source": [
    "no_source_lead = df_links['source_title'].isin(no_lead)\n",
    "len(df_links[no_source_lead])"
   ]
  },
  {
   "cell_type": "markdown",
   "metadata": {},
   "source": [
    "What is the number of links where the source lead paragraph is too small (less than 6 words)?"
   ]
  },
  {
   "cell_type": "code",
   "execution_count": 96,
   "metadata": {},
   "outputs": [
    {
     "data": {
      "text/plain": [
       "23148"
      ]
     },
     "execution_count": 96,
     "metadata": {},
     "output_type": "execute_result"
    }
   ],
   "source": [
    "short_source_lead = df_links['source_title'].isin(short_lead)\n",
    "len(df_links[short_source_lead])"
   ]
  },
  {
   "cell_type": "markdown",
   "metadata": {},
   "source": [
    "What is the number of links with target pages without QID?"
   ]
  },
  {
   "cell_type": "code",
   "execution_count": 97,
   "metadata": {},
   "outputs": [
    {
     "data": {
      "text/plain": [
       "1129"
      ]
     },
     "execution_count": 97,
     "metadata": {},
     "output_type": "execute_result"
    }
   ],
   "source": [
    "no_target_qid = df_links['target_QID'].isna()\n",
    "len(df_links[no_target_qid])"
   ]
  },
  {
   "cell_type": "markdown",
   "metadata": {},
   "source": [
    "What is the number of links with target pages without HTML?"
   ]
  },
  {
   "cell_type": "code",
   "execution_count": 98,
   "metadata": {},
   "outputs": [
    {
     "data": {
      "text/plain": [
       "5170"
      ]
     },
     "execution_count": 98,
     "metadata": {},
     "output_type": "execute_result"
    }
   ],
   "source": [
    "target_no_html = df_links['target_title'].isin(no_html)\n",
    "len(df_links[target_no_html])"
   ]
  },
  {
   "cell_type": "markdown",
   "metadata": {},
   "source": [
    "What is the number of links with target pages without lead paragraph?"
   ]
  },
  {
   "cell_type": "code",
   "execution_count": 99,
   "metadata": {},
   "outputs": [
    {
     "data": {
      "text/plain": [
       "43749"
      ]
     },
     "execution_count": 99,
     "metadata": {},
     "output_type": "execute_result"
    }
   ],
   "source": [
    "target_no_lead = df_links['target_title'].isin(no_lead)\n",
    "len(df_links[target_no_lead])"
   ]
  },
  {
   "cell_type": "markdown",
   "metadata": {},
   "source": [
    "What is the number of links where the target lead paragraph is too small (less than 6 words)?"
   ]
  },
  {
   "cell_type": "code",
   "execution_count": 100,
   "metadata": {},
   "outputs": [
    {
     "data": {
      "text/plain": [
       "59203"
      ]
     },
     "execution_count": 100,
     "metadata": {},
     "output_type": "execute_result"
    }
   ],
   "source": [
    "target_short_lead = df_links['target_title'].isin(short_lead)\n",
    "len(df_links[target_short_lead])"
   ]
  },
  {
   "cell_type": "markdown",
   "metadata": {},
   "source": [
    "What is the number of links where the source is the same as the target?"
   ]
  },
  {
   "cell_type": "code",
   "execution_count": 101,
   "metadata": {},
   "outputs": [
    {
     "data": {
      "text/plain": [
       "5031"
      ]
     },
     "execution_count": 101,
     "metadata": {},
     "output_type": "execute_result"
    }
   ],
   "source": [
    "target_same_source = df_links['target_title'] == df_links['source_title']\n",
    "len(df_links[target_same_source])"
   ]
  },
  {
   "cell_type": "markdown",
   "metadata": {},
   "source": [
    "What is the number of good links?"
   ]
  },
  {
   "cell_type": "code",
   "execution_count": 102,
   "metadata": {},
   "outputs": [
    {
     "data": {
      "text/plain": [
       "2255237"
      ]
     },
     "execution_count": 102,
     "metadata": {},
     "output_type": "execute_result"
    }
   ],
   "source": [
    "len(df_links[~no_target & ~context_fail & ~no_context & ~short_context & ~bad_context & ~no_source_qid & ~no_source_lead & ~short_source_lead & ~no_target_qid & ~target_no_html & ~target_no_lead & ~target_short_lead & ~target_same_source])"
   ]
  },
  {
   "cell_type": "markdown",
   "metadata": {},
   "source": [
    "Save good links"
   ]
  },
  {
   "cell_type": "code",
   "execution_count": 103,
   "metadata": {},
   "outputs": [
    {
     "name": "stderr",
     "output_type": "stream",
     "text": [
      "100%|██████████| 2/2 [03:57<00:00, 118.70s/it]\n"
     ]
    }
   ],
   "source": [
    "for file in tqdm(link_files):\n",
    "    df = pd.read_parquet(file)\n",
    "    df = df[(~df['target_ID'].isna()) & (~df['source_QID'].isna()) & (~df['target_QID'].isna()) & (~df['target_title'].isin(no_html)) & (~df['target_title'].isin(no_lead)) & (~df['source_title'].isin(no_lead)) & (~df['context'].isna()) & (df['context'] != '') & (~df['context'].apply(lambda x: bad_context_eval(x))) & (~df['source_title'].isin(short_lead)) & (~df['target_title'].isin(short_lead)) & (df['source_title'] != df['target_title']) & (df['context'].apply(lambda x: split_text(x) >= 6))]\n",
    "    df = df.reset_index(drop=True)\n",
    "    df.to_parquet(file.replace('links', 'good_links'))"
   ]
  },
  {
   "cell_type": "code",
   "execution_count": 104,
   "metadata": {},
   "outputs": [
    {
     "name": "stdout",
     "output_type": "stream",
     "text": [
      "SOURCE Deaths_in_September_2021\n",
      "TARGET Iv%C3%A1n_Vit%C3%A1nyi\n",
      "CONTEXT ] Yolanda Fernández de Cofiño, 86, Guatemalan businesswoman and philanthropist, creator of the Happy Meal. Enrique González Pedrero, 91, Mexican politician and writer, Senator (1970–1976), Governor of Tabasco (1982–1987) and Deputy (1997–2000). Zanele kaMagwaza-Msibi, 59, South African politician, Leader of the National Freedom Party (since 2011) and MP (2014–2019), COVID-19. Jan-Erik Kjellberg, 97, Swedish engineer and writer, last living Swedish volunteer soldier of the Continuation War. Dick Parfitt, 90, American college basketball coach (Central Michigan Chippewas). Todd Scully, 72, American Olympic racewalker (1976), car crash. Adlai Stevenson III, 90, American politician, member of the Illinois House of Representatives (1965–1967), State Treasurer (1967–1970) and U.S. Senator (1970–1981), problems caused by Lewy body dementia. Anthony Ukpo, 74, Nigerian politician, Governor of Rivers State (1986–1988). John Watkins, 98, South African cricketer (Natal, national team), COVID-19. Michael K. Williams, 54, American actor (The Wire, Boardwalk Empire, Assassin's Creed), suspected drug overdose. Severian Yakymyshyn, 91, Canadian Ukrainian Greek Catholic hierarch, Bishop of New Westminster (1995–2007). Donald Zec, 102, British journalist (Daily Mirror). (death announced on this date) Peter Arnold, 94, New Zealand cricketer (Northamptonshire, Canterbury). Jahangir Butt, 78, Pakistani field hockey player, Olympic champion (1968). Sam Cunningham, 71, American football player (New England Patriots). Issei Kitagawa, 78, Japanese politician, member of the House of Councillors (2004–2016), prostate cancer. Martha Patricia Ramírez Lucero, 69, Mexican lawyer and politician, Deputy (2018-2021). Eiichi Yamamoto, 80, Japanese movie director (Belladonna of Sadness, Little Wansa) and screenwriter (Space Battleship\n",
      "SENTENCE Iván Vitányi, 96, Hungarian philosopher and politician, MP (1990–2014).\n",
      "SECTION September\n",
      "###############\n",
      "SOURCE Daniel_LaRusso\n",
      "TARGET The_Karate_Kid_Part_III\n",
      "CONTEXT Role in Karate Kid III Mister Miyagi tells Daniel not to fight in the tournament so Daniel goes to the police instead. Then the people who were harassing Daniel tell him that they will drown him and the girl with him unless he says yes and then Daniel agrees. So Daniel goes to Terry Silver and asks him to teach him karate. But then Daniel thinks that what Silver is teaching him is making him a bad person and asks him to stop so Silver tells him that John Kreese is alive and has Kreese attack him. After that Mr. Miyagi teaches Daniel fighting and Daniel wins the tournament.\n",
      "SENTENCE In The Karate Kid Part III, Terry Silver sends people to rob Mister Miyagi’s store, steal his plants and destroy his property and attack Daniel and they say that they won’t stop unless Daniel fights in the karate tournament.\n",
      "SECTION Role in Karate Kid III\n",
      "###############\n",
      "SOURCE Telluric_acid\n",
      "TARGET Tellurate\n",
      "CONTEXT Telluric acid is a chemical compound. It is an acid. Its chemical formula is H6TeO6. It contains the TeO66- form of the tellurate ion.Telluric acid is a weak acid. It reacts with strong bases to make tellurates. It is a powerful oxidizing agents. It can be dehydrated to make tellurium trioxide. The metatelluric acid, H2TeO4, does not exist. Telluric acid can be made by reacting tellurium dioxide with chromium trioxide or hydrogen peroxide. It is used to make other tellurates such as sodium tellurate.\n",
      "SENTENCE  It contains hydrogen and tellurate ions.\n",
      "SECTION Lead\n",
      "###############\n",
      "SOURCE January_7\n",
      "TARGET 1789\n",
      "CONTEXT Events 1325 – Alfonso IV becomes King of Portugal. 1350 - Guttorm Palsson, Bishop of Stavanger in Norway, dies, as the last known death from Europe's 1347-1350 plague epidemic. 1558 – France takes Calais, the last continental possession of England. 1566 – Pius V becomes Pope. 1598 – Boris Godunov seizes the throne of Russia. 1601 – Robert Devereux, 2nd Earl of Essex leads revolt in London against Queen Elizabeth I of England. 1608 - Fire destroys Jamestown, Virginia. 1610 – Galileo Galilei observes the four largest moons of Jupiter for the first time. He named them and in turn the four are called the Galilean moons. 1782 – The first American commercial bank opens (Bank of North America). 1785 – Frenchman Jean-Pierre Blanchard and American John Jeffries travel from Dover, England to Calais, France in a gas balloon, becoming the first to cross the English Channel by air. 1797 – The parliament of the Repubblica Cisalpina adopts the Italian green-white-red tricolour as the official flag. It is the birthday of the flag of Italy. 1835 – HMS Beagle anchors off the Chonos Archipelago. 1894 – W.K. Dickson receives a patent for movie film. 1896 – Fannie Farmer publishes her first cookbook. – 1901 – Alferd Packer is released from prison after serving 18 years for cannibalism. 1904 – The distress signal \"CQD\" is established only to be replaced two years later by \"SOS.\" 1911 – Mary Pickford marries Owen Moore. 1919 - Montenegrin guerrilla fighters rebel against the planned annexation (take-over) of Montenegro by Serbia, but fail. 1922 – Dáil Éireann ratifies the Anglo-Irish Treaty by 64-57 votes. 1924 – George Gershwin completes \"Rhapsody in Blue\". 1926 – George Burns marries Gracie Allen. 1927 – First international telephone call – New York City to London. 1927 – The Harlem Globetrotters play their first basketball game. 1931 - Guy Menzies becomes the first\n",
      "SENTENCE 1789 - George Washington is elected the first President of the United States, taking office on April 30.\n",
      "SECTION Events\n",
      "###############\n",
      "SOURCE Symphonie_fantastique\n",
      "TARGET String_instrument\n",
      "CONTEXT The instruments used\n",
      "SENTENCE The symphony is played by an orchestra consisting of 2 flutes (2nd doubling piccolo), 2 oboes (2nd doubling cor anglais), 2 clarinets (1st doubling E-flat clarinet), 4 bassoons, 4 French horns, 2 trumpets, 2 cornets, 3 trombones, 2 ophicleides (originally one ophicleide and one serpent), 2 pairs of timpani, snare drum, cymbals, bass drum, bells in C and G, 2 harps, and strings.\n",
      "SECTION The instruments used\n",
      "###############\n",
      "SOURCE From_Hell_to_Victory\n",
      "TARGET George_Peppard\n",
      "CONTEXT From Hell to Victory (Italian: Contro 4 bandiere, French: De l'enfer à la victoire, Spanish: De Dunkerke a la victoria) is a 1979 Italian Spanish French World War II drama movie directed by Edmondo Amati and Umberto Lenzi.\n",
      "SENTENCE  Actors include George Peppard, George Hamilton, Horst Bucholz, Ray Lovelock, Anny Duperey, Lambert Wilson, Jean-Pierre Cassel.\n",
      "SECTION Lead\n",
      "###############\n",
      "SOURCE Itchy_%26_Scratchy%3A_The_Movie\n",
      "TARGET The_Simpsons\n",
      "CONTEXT Story Homer and Marge go to a parent-teacher conference. Marge is told that Lisa is doing well, but Homer is told that Bart is making trouble. Bart's teacher, Mrs. Krabappel, wants Homer and Marge to control Bart better. When Homer and Marge go home, they find out that Bart has broken Grampa's false teeth. Homer makes him go up to his room with no dinner, but gives him pizza because he feels bad for Bart. Bart buys a ticket to see the new Itchy & Scratchy movie. Homer makes Bart watch Maggie while he is gone. Bart does not watch her and Maggie crashes Homer's car. Homer becomes very angry and says that Bart can not watch the Itchy & Scratchy movie. Bart tries to go to a movie theater to see it, but the theater employees are told by Homer that Bart can not see it. Marge and Lisa try to tell Homer that Bart should see the movie, but Homer still does not want him to. Later, the movie is no longer shown in theaters. Homer tells Bart that he will be responsible and he will grow up to be a good man.40 years later, Bart becomes the Chief Justice of the United States and Homer is a senior citizen. Homer sees that the Itchy & Scratchy movie is in theaters again and lets Bart see the movie for the first time.\n",
      "SENTENCE  Two months after the movie is first shown, Bart is the only kid in Springfield who has not seen the movie.\n",
      "SECTION Story\n",
      "###############\n",
      "SOURCE Abel_Tasman\n",
      "TARGET Tasman_Peninsula\n",
      "CONTEXT Western Australia 1644 In 1644 Tasman sailed from Batavia with the ships Limmen, Zeemeeuw and Bracq. He sailed along the west coast of New Guinea, and then the coast of Australia from Cape York to North West Cape. He went back to Batavia in August 1644. He showed that Western Australia and Queensland were part of the same country. He was not able to get through Torres Strait, but his maps were used for the next 200 years. Tasman made more trips including to Sumatra in 1646, Siam in 1647, and Manila in 1648. He purchased a lot of land in Batavia where he died in October 1659.\n",
      "SENTENCE \n",
      "Several places have been named after him, including Tasmania, the Tasman Peninsula, Tasman Island and the Tasman Sea.\n",
      "SECTION Western Australia 1644\n",
      "###############\n",
      "SOURCE European_Council\n",
      "TARGET Legislature\n",
      "CONTEXT The European Council (referred to as a European Summit) is the highest political body of the European Union. It is made of all the heads of state or government of the Union's member states and with the President of the European Commission. The country which holds the Presidency of the Council of the European Union also leads its assemblies. It is an institution that deals with very important issues and any decisions made are \"a major impetus in defining the general political guidelines of the European Union\". The Council meets at least twice a year; usually in the Justus Lipsius building, the quarters of the Council of the European Union (Consilium) of Brussels.\n",
      "SENTENCE \n",
      "The Council has no formal executive or legislative powers.\n",
      "SECTION Lead\n",
      "###############\n",
      "SOURCE West_Springfield%2C_Virginia\n",
      "TARGET Fairfax_County%2C_Virginia\n",
      "CONTEXT Location The town borders (touches) the Norfolk Southern Railway to the north, Accotink Creek to the east, Fairfax County Parkway to the south, and Pohick Creek to the west.\n",
      "SENTENCE West Springfield is located in Fairfax County at 38°47′18″N 77°13′58″W﻿ / ﻿38.78833°N 77.23278°W﻿ / 38.78833; -77.23278 (38.788436, −77.232802).\n",
      "SECTION Location\n",
      "###############\n"
     ]
    }
   ],
   "source": [
    "for i in range(10):\n",
    "    sample = df_links.sample()\n",
    "    print('SOURCE', sample['source_title'].item())\n",
    "    print('TARGET', sample['target_title'].item())\n",
    "    print('CONTEXT', sample['context'].item())\n",
    "    print('SENTENCE', sample['sentence'].item())\n",
    "    print('SECTION', sample['source_section'].item())\n",
    "    print('###############')"
   ]
  }
 ],
 "metadata": {
  "kernelspec": {
   "display_name": "Python 3",
   "language": "python",
   "name": "python3"
  },
  "language_info": {
   "codemirror_mode": {
    "name": "ipython",
    "version": 3
   },
   "file_extension": ".py",
   "mimetype": "text/x-python",
   "name": "python",
   "nbconvert_exporter": "python",
   "pygments_lexer": "ipython3",
   "version": "3.9.18"
  },
  "orig_nbformat": 4
 },
 "nbformat": 4,
 "nbformat_minor": 2
}
