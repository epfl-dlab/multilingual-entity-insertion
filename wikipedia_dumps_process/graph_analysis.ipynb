{
 "cells": [
  {
   "cell_type": "markdown",
   "metadata": {},
   "source": [
    "# Imports and Definitions"
   ]
  },
  {
   "cell_type": "code",
   "execution_count": 25,
   "metadata": {},
   "outputs": [],
   "source": [
    "import pandas as pd\n",
    "from glob import glob\n",
    "from tqdm import tqdm\n",
    "import os"
   ]
  },
  {
   "cell_type": "code",
   "execution_count": 26,
   "metadata": {},
   "outputs": [],
   "source": [
    "root = '/scratch/tsoares/wikidumps/simplewiki-NS0-20231001/processed_data'"
   ]
  },
  {
   "cell_type": "markdown",
   "metadata": {},
   "source": [
    "# Get data"
   ]
  },
  {
   "cell_type": "code",
   "execution_count": 27,
   "metadata": {},
   "outputs": [
    {
     "name": "stdout",
     "output_type": "stream",
     "text": [
      "['/scratch/tsoares/wikidumps/simplewiki-NS0-20231001/processed_data/pages_0.parquet']\n",
      "['/scratch/tsoares/wikidumps/simplewiki-NS0-20231001/processed_data/links_0.parquet']\n",
      "['/scratch/tsoares/wikidumps/simplewiki-NS0-20231001/processed_data/redirect_map.parquet']\n"
     ]
    }
   ],
   "source": [
    "page_files = glob(os.path.join(root, \"pages*.parquet\"))\n",
    "link_files = glob(os.path.join(root, \"links*.parquet\"))\n",
    "redirect_files = glob(os.path.join(root, \"redirect*.parquet\"))\n",
    "print(page_files)\n",
    "print(link_files)\n",
    "print(redirect_files)"
   ]
  },
  {
   "cell_type": "code",
   "execution_count": 28,
   "metadata": {},
   "outputs": [
    {
     "data": {
      "text/html": [
       "<div>\n",
       "<style scoped>\n",
       "    .dataframe tbody tr th:only-of-type {\n",
       "        vertical-align: middle;\n",
       "    }\n",
       "\n",
       "    .dataframe tbody tr th {\n",
       "        vertical-align: top;\n",
       "    }\n",
       "\n",
       "    .dataframe thead th {\n",
       "        text-align: right;\n",
       "    }\n",
       "</style>\n",
       "<table border=\"1\" class=\"dataframe\">\n",
       "  <thead>\n",
       "    <tr style=\"text-align: right;\">\n",
       "      <th></th>\n",
       "      <th>title</th>\n",
       "      <th>ID</th>\n",
       "      <th>version</th>\n",
       "      <th>HTML</th>\n",
       "      <th>page_length</th>\n",
       "      <th>language</th>\n",
       "      <th>lead_paragraph</th>\n",
       "      <th>QID</th>\n",
       "    </tr>\n",
       "  </thead>\n",
       "  <tbody>\n",
       "    <tr>\n",
       "      <th>0</th>\n",
       "      <td>1280s</td>\n",
       "      <td>24221</td>\n",
       "      <td>https://simple.wikipedia.org/w/index.php?title...</td>\n",
       "      <td>a</td>\n",
       "      <td>7848.0</td>\n",
       "      <td>simple</td>\n",
       "      <td></td>\n",
       "      <td>Q83352</td>\n",
       "    </tr>\n",
       "    <tr>\n",
       "      <th>1</th>\n",
       "      <td>1283</td>\n",
       "      <td>69408</td>\n",
       "      <td>https://simple.wikipedia.org/w/index.php?title...</td>\n",
       "      <td>a</td>\n",
       "      <td>6277.0</td>\n",
       "      <td>simple</td>\n",
       "      <td>1283 was a common year.</td>\n",
       "      <td>Q5543</td>\n",
       "    </tr>\n",
       "    <tr>\n",
       "      <th>2</th>\n",
       "      <td>1272</td>\n",
       "      <td>46219</td>\n",
       "      <td>https://simple.wikipedia.org/w/index.php?title...</td>\n",
       "      <td>a</td>\n",
       "      <td>13916.0</td>\n",
       "      <td>simple</td>\n",
       "      <td></td>\n",
       "      <td>Q5524</td>\n",
       "    </tr>\n",
       "    <tr>\n",
       "      <th>3</th>\n",
       "      <td>1267</td>\n",
       "      <td>4652</td>\n",
       "      <td>https://simple.wikipedia.org/w/index.php?title...</td>\n",
       "      <td>a</td>\n",
       "      <td>13275.0</td>\n",
       "      <td>simple</td>\n",
       "      <td></td>\n",
       "      <td>Q5519</td>\n",
       "    </tr>\n",
       "    <tr>\n",
       "      <th>4</th>\n",
       "      <td>1296</td>\n",
       "      <td>39604</td>\n",
       "      <td>https://simple.wikipedia.org/w/index.php?title...</td>\n",
       "      <td>a</td>\n",
       "      <td>5002.0</td>\n",
       "      <td>simple</td>\n",
       "      <td>The year 1296 was a leap year which started on...</td>\n",
       "      <td>Q5561</td>\n",
       "    </tr>\n",
       "    <tr>\n",
       "      <th>...</th>\n",
       "      <td>...</td>\n",
       "      <td>...</td>\n",
       "      <td>...</td>\n",
       "      <td>...</td>\n",
       "      <td>...</td>\n",
       "      <td>...</td>\n",
       "      <td>...</td>\n",
       "      <td>...</td>\n",
       "    </tr>\n",
       "    <tr>\n",
       "      <th>240242</th>\n",
       "      <td>109_%28number%29</td>\n",
       "      <td>1051195</td>\n",
       "      <td>None</td>\n",
       "      <td>None</td>\n",
       "      <td>NaN</td>\n",
       "      <td>simple</td>\n",
       "      <td>None</td>\n",
       "      <td>Q604950</td>\n",
       "    </tr>\n",
       "    <tr>\n",
       "      <th>240243</th>\n",
       "      <td>110_%28number%29</td>\n",
       "      <td>1051196</td>\n",
       "      <td>None</td>\n",
       "      <td>None</td>\n",
       "      <td>NaN</td>\n",
       "      <td>simple</td>\n",
       "      <td>None</td>\n",
       "      <td>Q715456</td>\n",
       "    </tr>\n",
       "    <tr>\n",
       "      <th>240244</th>\n",
       "      <td>Krste_Petkov_Misirkov</td>\n",
       "      <td>1051200</td>\n",
       "      <td>None</td>\n",
       "      <td>None</td>\n",
       "      <td>NaN</td>\n",
       "      <td>simple</td>\n",
       "      <td>None</td>\n",
       "      <td>None</td>\n",
       "    </tr>\n",
       "    <tr>\n",
       "      <th>240245</th>\n",
       "      <td>Anna_Odobescu</td>\n",
       "      <td>1051218</td>\n",
       "      <td>None</td>\n",
       "      <td>None</td>\n",
       "      <td>NaN</td>\n",
       "      <td>simple</td>\n",
       "      <td>None</td>\n",
       "      <td>Q61947352</td>\n",
       "    </tr>\n",
       "    <tr>\n",
       "      <th>240246</th>\n",
       "      <td>Pseudophilautus_frankenbergi</td>\n",
       "      <td>1051224</td>\n",
       "      <td>None</td>\n",
       "      <td>None</td>\n",
       "      <td>NaN</td>\n",
       "      <td>simple</td>\n",
       "      <td>None</td>\n",
       "      <td>Q28061030</td>\n",
       "    </tr>\n",
       "  </tbody>\n",
       "</table>\n",
       "<p>240247 rows × 8 columns</p>\n",
       "</div>"
      ],
      "text/plain": [
       "                               title       ID  \\\n",
       "0                              1280s    24221   \n",
       "1                               1283    69408   \n",
       "2                               1272    46219   \n",
       "3                               1267     4652   \n",
       "4                               1296    39604   \n",
       "...                              ...      ...   \n",
       "240242              109_%28number%29  1051195   \n",
       "240243              110_%28number%29  1051196   \n",
       "240244         Krste_Petkov_Misirkov  1051200   \n",
       "240245                 Anna_Odobescu  1051218   \n",
       "240246  Pseudophilautus_frankenbergi  1051224   \n",
       "\n",
       "                                                  version  HTML  page_length  \\\n",
       "0       https://simple.wikipedia.org/w/index.php?title...     a       7848.0   \n",
       "1       https://simple.wikipedia.org/w/index.php?title...     a       6277.0   \n",
       "2       https://simple.wikipedia.org/w/index.php?title...     a      13916.0   \n",
       "3       https://simple.wikipedia.org/w/index.php?title...     a      13275.0   \n",
       "4       https://simple.wikipedia.org/w/index.php?title...     a       5002.0   \n",
       "...                                                   ...   ...          ...   \n",
       "240242                                               None  None          NaN   \n",
       "240243                                               None  None          NaN   \n",
       "240244                                               None  None          NaN   \n",
       "240245                                               None  None          NaN   \n",
       "240246                                               None  None          NaN   \n",
       "\n",
       "       language                                     lead_paragraph        QID  \n",
       "0        simple                                                        Q83352  \n",
       "1        simple                            1283 was a common year.      Q5543  \n",
       "2        simple                                                         Q5524  \n",
       "3        simple                                                         Q5519  \n",
       "4        simple  The year 1296 was a leap year which started on...      Q5561  \n",
       "...         ...                                                ...        ...  \n",
       "240242   simple                                               None    Q604950  \n",
       "240243   simple                                               None    Q715456  \n",
       "240244   simple                                               None       None  \n",
       "240245   simple                                               None  Q61947352  \n",
       "240246   simple                                               None  Q28061030  \n",
       "\n",
       "[240247 rows x 8 columns]"
      ]
     },
     "execution_count": 28,
     "metadata": {},
     "output_type": "execute_result"
    }
   ],
   "source": [
    "def simplify_html(html):\n",
    "    if html is None:\n",
    "        return None\n",
    "    if html == '':\n",
    "        return ''\n",
    "    return 'a'\n",
    "\n",
    "dfs = []\n",
    "for file in page_files:\n",
    "    temp_df = pd.read_parquet(file)\n",
    "    temp_df['HTML'] = temp_df['HTML'].apply(lambda x: simplify_html(x)) # simpify html so it is not too big\n",
    "    dfs.append(temp_df)\n",
    "df_pages = pd.concat(dfs)\n",
    "df_pages"
   ]
  },
  {
   "cell_type": "code",
   "execution_count": 29,
   "metadata": {},
   "outputs": [
    {
     "data": {
      "text/html": [
       "<div>\n",
       "<style scoped>\n",
       "    .dataframe tbody tr th:only-of-type {\n",
       "        vertical-align: middle;\n",
       "    }\n",
       "\n",
       "    .dataframe tbody tr th {\n",
       "        vertical-align: top;\n",
       "    }\n",
       "\n",
       "    .dataframe thead th {\n",
       "        text-align: right;\n",
       "    }\n",
       "</style>\n",
       "<table border=\"1\" class=\"dataframe\">\n",
       "  <thead>\n",
       "    <tr style=\"text-align: right;\">\n",
       "      <th></th>\n",
       "      <th>target_title</th>\n",
       "      <th>target_section</th>\n",
       "      <th>source_title</th>\n",
       "      <th>target_ID</th>\n",
       "      <th>target_QID</th>\n",
       "      <th>source_ID</th>\n",
       "      <th>source_QID</th>\n",
       "      <th>mention</th>\n",
       "      <th>source_section</th>\n",
       "      <th>link_start_index</th>\n",
       "      <th>link_end_index</th>\n",
       "      <th>sentence</th>\n",
       "      <th>sentence_start_index</th>\n",
       "      <th>sentence_end_index</th>\n",
       "      <th>source_page_length</th>\n",
       "      <th>link_section_depth</th>\n",
       "    </tr>\n",
       "  </thead>\n",
       "  <tbody>\n",
       "    <tr>\n",
       "      <th>0</th>\n",
       "      <td>1282</td>\n",
       "      <td>Lead</td>\n",
       "      <td>1280s</td>\n",
       "      <td>22372</td>\n",
       "      <td>Q5541</td>\n",
       "      <td>24221</td>\n",
       "      <td>Q83352</td>\n",
       "      <td>1282</td>\n",
       "      <td>Events</td>\n",
       "      <td>4763</td>\n",
       "      <td>4829</td>\n",
       "      <td>1282 – March – Dafydd ap Gruffydd, brother to ...</td>\n",
       "      <td>4735</td>\n",
       "      <td>5643</td>\n",
       "      <td>7848</td>\n",
       "      <td>1.0.0</td>\n",
       "    </tr>\n",
       "    <tr>\n",
       "      <th>1</th>\n",
       "      <td>March</td>\n",
       "      <td>Lead</td>\n",
       "      <td>1280s</td>\n",
       "      <td>468</td>\n",
       "      <td>Q110</td>\n",
       "      <td>24221</td>\n",
       "      <td>Q83352</td>\n",
       "      <td>March</td>\n",
       "      <td>Events</td>\n",
       "      <td>4832</td>\n",
       "      <td>4901</td>\n",
       "      <td>1282 – March – Dafydd ap Gruffydd, brother to ...</td>\n",
       "      <td>4735</td>\n",
       "      <td>5643</td>\n",
       "      <td>7848</td>\n",
       "      <td>1.0.0</td>\n",
       "    </tr>\n",
       "    <tr>\n",
       "      <th>2</th>\n",
       "      <td>Dafydd_ap_Gruffydd</td>\n",
       "      <td>Lead</td>\n",
       "      <td>1280s</td>\n",
       "      <td>813653</td>\n",
       "      <td>Q592561</td>\n",
       "      <td>24221</td>\n",
       "      <td>Q83352</td>\n",
       "      <td>Dafydd ap Gruffydd</td>\n",
       "      <td>Events</td>\n",
       "      <td>4904</td>\n",
       "      <td>5012</td>\n",
       "      <td>1282 – March – Dafydd ap Gruffydd, brother to ...</td>\n",
       "      <td>4735</td>\n",
       "      <td>5643</td>\n",
       "      <td>7848</td>\n",
       "      <td>1.0.0</td>\n",
       "    </tr>\n",
       "    <tr>\n",
       "      <th>3</th>\n",
       "      <td>Prince_of_Wales</td>\n",
       "      <td>Lead</td>\n",
       "      <td>1280s</td>\n",
       "      <td>67672</td>\n",
       "      <td>Q180729</td>\n",
       "      <td>24221</td>\n",
       "      <td>Q83352</td>\n",
       "      <td>Prince of Wales</td>\n",
       "      <td>Events</td>\n",
       "      <td>5025</td>\n",
       "      <td>5124</td>\n",
       "      <td>1282 – March – Dafydd ap Gruffydd, brother to ...</td>\n",
       "      <td>4735</td>\n",
       "      <td>5643</td>\n",
       "      <td>7848</td>\n",
       "      <td>1.0.0</td>\n",
       "    </tr>\n",
       "    <tr>\n",
       "      <th>4</th>\n",
       "      <td>Llywelyn_the_Last</td>\n",
       "      <td>Lead</td>\n",
       "      <td>1280s</td>\n",
       "      <td>885492</td>\n",
       "      <td>Q369651</td>\n",
       "      <td>24221</td>\n",
       "      <td>Q83352</td>\n",
       "      <td>Llywelyn the Last</td>\n",
       "      <td>Events</td>\n",
       "      <td>5125</td>\n",
       "      <td>5230</td>\n",
       "      <td>1282 – March – Dafydd ap Gruffydd, brother to ...</td>\n",
       "      <td>4735</td>\n",
       "      <td>5643</td>\n",
       "      <td>7848</td>\n",
       "      <td>1.0.0</td>\n",
       "    </tr>\n",
       "    <tr>\n",
       "      <th>...</th>\n",
       "      <td>...</td>\n",
       "      <td>...</td>\n",
       "      <td>...</td>\n",
       "      <td>...</td>\n",
       "      <td>...</td>\n",
       "      <td>...</td>\n",
       "      <td>...</td>\n",
       "      <td>...</td>\n",
       "      <td>...</td>\n",
       "      <td>...</td>\n",
       "      <td>...</td>\n",
       "      <td>...</td>\n",
       "      <td>...</td>\n",
       "      <td>...</td>\n",
       "      <td>...</td>\n",
       "      <td>...</td>\n",
       "    </tr>\n",
       "    <tr>\n",
       "      <th>2758418</th>\n",
       "      <td>CM_Punk</td>\n",
       "      <td>Lead</td>\n",
       "      <td>Maxwell_Jacob_Friedman</td>\n",
       "      <td>134378</td>\n",
       "      <td>Q215447</td>\n",
       "      <td>1051087</td>\n",
       "      <td>Q61102628</td>\n",
       "      <td>CM Punk</td>\n",
       "      <td>Championships</td>\n",
       "      <td>32228</td>\n",
       "      <td>32303</td>\n",
       "      <td>CM Punk)[28]\\n</td>\n",
       "      <td>32227</td>\n",
       "      <td>32655</td>\n",
       "      <td>108191</td>\n",
       "      <td>2.0.0</td>\n",
       "    </tr>\n",
       "    <tr>\n",
       "      <th>2758419</th>\n",
       "      <td>Ring_of_Honor</td>\n",
       "      <td>Lead</td>\n",
       "      <td>Maxwell_Jacob_Friedman</td>\n",
       "      <td>360980</td>\n",
       "      <td>Q588459</td>\n",
       "      <td>1051087</td>\n",
       "      <td>Q61102628</td>\n",
       "      <td>Ring of Honor</td>\n",
       "      <td>Championships</td>\n",
       "      <td>33171</td>\n",
       "      <td>33264</td>\n",
       "      <td>Ring of Honor\\n</td>\n",
       "      <td>33144</td>\n",
       "      <td>33269</td>\n",
       "      <td>108191</td>\n",
       "      <td>2.0.0</td>\n",
       "    </tr>\n",
       "    <tr>\n",
       "      <th>2758420</th>\n",
       "      <td>Adam_Cole</td>\n",
       "      <td>Lead</td>\n",
       "      <td>Maxwell_Jacob_Friedman</td>\n",
       "      <td>864331</td>\n",
       "      <td>Q928045</td>\n",
       "      <td>1051087</td>\n",
       "      <td>Q61102628</td>\n",
       "      <td>Adam Cole</td>\n",
       "      <td>Championships</td>\n",
       "      <td>33645</td>\n",
       "      <td>33726</td>\n",
       "      <td>ROH World Tag Team Championship (1 time, curre...</td>\n",
       "      <td>33269</td>\n",
       "      <td>34088</td>\n",
       "      <td>108191</td>\n",
       "      <td>2.0.0</td>\n",
       "    </tr>\n",
       "    <tr>\n",
       "      <th>2758421</th>\n",
       "      <td>The_New_York_Times</td>\n",
       "      <td>Lead</td>\n",
       "      <td>Maxwell_Jacob_Friedman</td>\n",
       "      <td>70967</td>\n",
       "      <td>Q9684</td>\n",
       "      <td>1051087</td>\n",
       "      <td>Q61102628</td>\n",
       "      <td>The New York Times</td>\n",
       "      <td>Championships</td>\n",
       "      <td>34580</td>\n",
       "      <td>34688</td>\n",
       "      <td>The New York Times\\n</td>\n",
       "      <td>34553</td>\n",
       "      <td>34693</td>\n",
       "      <td>108191</td>\n",
       "      <td>2.0.0</td>\n",
       "    </tr>\n",
       "    <tr>\n",
       "      <th>2758422</th>\n",
       "      <td>Chris_Jericho</td>\n",
       "      <td>Lead</td>\n",
       "      <td>Maxwell_Jacob_Friedman</td>\n",
       "      <td>131637</td>\n",
       "      <td>Q44144</td>\n",
       "      <td>1051087</td>\n",
       "      <td>Q61102628</td>\n",
       "      <td>Chris Jericho</td>\n",
       "      <td>Championships</td>\n",
       "      <td>35038</td>\n",
       "      <td>35131</td>\n",
       "      <td>Best Performance (2020) (for his rendition of ...</td>\n",
       "      <td>34693</td>\n",
       "      <td>35498</td>\n",
       "      <td>108191</td>\n",
       "      <td>2.0.0</td>\n",
       "    </tr>\n",
       "  </tbody>\n",
       "</table>\n",
       "<p>2758423 rows × 16 columns</p>\n",
       "</div>"
      ],
      "text/plain": [
       "               target_title target_section            source_title target_ID  \\\n",
       "0                      1282           Lead                   1280s     22372   \n",
       "1                     March           Lead                   1280s       468   \n",
       "2        Dafydd_ap_Gruffydd           Lead                   1280s    813653   \n",
       "3           Prince_of_Wales           Lead                   1280s     67672   \n",
       "4         Llywelyn_the_Last           Lead                   1280s    885492   \n",
       "...                     ...            ...                     ...       ...   \n",
       "2758418             CM_Punk           Lead  Maxwell_Jacob_Friedman    134378   \n",
       "2758419       Ring_of_Honor           Lead  Maxwell_Jacob_Friedman    360980   \n",
       "2758420           Adam_Cole           Lead  Maxwell_Jacob_Friedman    864331   \n",
       "2758421  The_New_York_Times           Lead  Maxwell_Jacob_Friedman     70967   \n",
       "2758422       Chris_Jericho           Lead  Maxwell_Jacob_Friedman    131637   \n",
       "\n",
       "        target_QID source_ID source_QID             mention source_section  \\\n",
       "0            Q5541     24221     Q83352                1282         Events   \n",
       "1             Q110     24221     Q83352               March         Events   \n",
       "2          Q592561     24221     Q83352  Dafydd ap Gruffydd         Events   \n",
       "3          Q180729     24221     Q83352     Prince of Wales         Events   \n",
       "4          Q369651     24221     Q83352   Llywelyn the Last         Events   \n",
       "...            ...       ...        ...                 ...            ...   \n",
       "2758418    Q215447   1051087  Q61102628             CM Punk  Championships   \n",
       "2758419    Q588459   1051087  Q61102628       Ring of Honor  Championships   \n",
       "2758420    Q928045   1051087  Q61102628           Adam Cole  Championships   \n",
       "2758421      Q9684   1051087  Q61102628  The New York Times  Championships   \n",
       "2758422     Q44144   1051087  Q61102628       Chris Jericho  Championships   \n",
       "\n",
       "         link_start_index  link_end_index  \\\n",
       "0                    4763            4829   \n",
       "1                    4832            4901   \n",
       "2                    4904            5012   \n",
       "3                    5025            5124   \n",
       "4                    5125            5230   \n",
       "...                   ...             ...   \n",
       "2758418             32228           32303   \n",
       "2758419             33171           33264   \n",
       "2758420             33645           33726   \n",
       "2758421             34580           34688   \n",
       "2758422             35038           35131   \n",
       "\n",
       "                                                  sentence  \\\n",
       "0        1282 – March – Dafydd ap Gruffydd, brother to ...   \n",
       "1        1282 – March – Dafydd ap Gruffydd, brother to ...   \n",
       "2        1282 – March – Dafydd ap Gruffydd, brother to ...   \n",
       "3        1282 – March – Dafydd ap Gruffydd, brother to ...   \n",
       "4        1282 – March – Dafydd ap Gruffydd, brother to ...   \n",
       "...                                                    ...   \n",
       "2758418                                     CM Punk)[28]\\n   \n",
       "2758419                                    Ring of Honor\\n   \n",
       "2758420  ROH World Tag Team Championship (1 time, curre...   \n",
       "2758421                               The New York Times\\n   \n",
       "2758422  Best Performance (2020) (for his rendition of ...   \n",
       "\n",
       "         sentence_start_index  sentence_end_index  source_page_length  \\\n",
       "0                        4735                5643                7848   \n",
       "1                        4735                5643                7848   \n",
       "2                        4735                5643                7848   \n",
       "3                        4735                5643                7848   \n",
       "4                        4735                5643                7848   \n",
       "...                       ...                 ...                 ...   \n",
       "2758418                 32227               32655              108191   \n",
       "2758419                 33144               33269              108191   \n",
       "2758420                 33269               34088              108191   \n",
       "2758421                 34553               34693              108191   \n",
       "2758422                 34693               35498              108191   \n",
       "\n",
       "        link_section_depth  \n",
       "0                    1.0.0  \n",
       "1                    1.0.0  \n",
       "2                    1.0.0  \n",
       "3                    1.0.0  \n",
       "4                    1.0.0  \n",
       "...                    ...  \n",
       "2758418              2.0.0  \n",
       "2758419              2.0.0  \n",
       "2758420              2.0.0  \n",
       "2758421              2.0.0  \n",
       "2758422              2.0.0  \n",
       "\n",
       "[2758423 rows x 16 columns]"
      ]
     },
     "execution_count": 29,
     "metadata": {},
     "output_type": "execute_result"
    }
   ],
   "source": [
    "dfs = []\n",
    "for file in link_files:\n",
    "    dfs.append(pd.read_parquet(file))\n",
    "df_links = pd.concat(dfs)\n",
    "df_links"
   ]
  },
  {
   "cell_type": "code",
   "execution_count": 30,
   "metadata": {},
   "outputs": [
    {
     "data": {
      "text/html": [
       "<div>\n",
       "<style scoped>\n",
       "    .dataframe tbody tr th:only-of-type {\n",
       "        vertical-align: middle;\n",
       "    }\n",
       "\n",
       "    .dataframe tbody tr th {\n",
       "        vertical-align: top;\n",
       "    }\n",
       "\n",
       "    .dataframe thead th {\n",
       "        text-align: right;\n",
       "    }\n",
       "</style>\n",
       "<table border=\"1\" class=\"dataframe\">\n",
       "  <thead>\n",
       "    <tr style=\"text-align: right;\">\n",
       "      <th></th>\n",
       "      <th>redirect</th>\n",
       "    </tr>\n",
       "    <tr>\n",
       "      <th>title</th>\n",
       "      <th></th>\n",
       "    </tr>\n",
       "  </thead>\n",
       "  <tbody>\n",
       "    <tr>\n",
       "      <th>Albigensian</th>\n",
       "      <td>Catharism</td>\n",
       "    </tr>\n",
       "    <tr>\n",
       "      <th>American_Units_Of_Measurement</th>\n",
       "      <td>United_States_customary_units</td>\n",
       "    </tr>\n",
       "    <tr>\n",
       "      <th>As</th>\n",
       "      <td>AS</td>\n",
       "    </tr>\n",
       "    <tr>\n",
       "      <th>Animalia</th>\n",
       "      <td>Animal</td>\n",
       "    </tr>\n",
       "    <tr>\n",
       "      <th>Bootstrap</th>\n",
       "      <td>Boot</td>\n",
       "    </tr>\n",
       "    <tr>\n",
       "      <th>...</th>\n",
       "      <td>...</td>\n",
       "    </tr>\n",
       "    <tr>\n",
       "      <th>Hol</th>\n",
       "      <td>HOL</td>\n",
       "    </tr>\n",
       "    <tr>\n",
       "      <th>Voss_%28village%29</th>\n",
       "      <td>Vossevangen</td>\n",
       "    </tr>\n",
       "    <tr>\n",
       "      <th>Grandmaster_Sexay</th>\n",
       "      <td>Brian_Christopher</td>\n",
       "    </tr>\n",
       "    <tr>\n",
       "      <th>Perfume_%28J-Pop%29</th>\n",
       "      <td>Perfume_%28Japanese_band%29</td>\n",
       "    </tr>\n",
       "    <tr>\n",
       "      <th>The_World_Starts_Tonight</th>\n",
       "      <td>Bonnie_Tyler</td>\n",
       "    </tr>\n",
       "  </tbody>\n",
       "</table>\n",
       "<p>93857 rows × 1 columns</p>\n",
       "</div>"
      ],
      "text/plain": [
       "                                                    redirect\n",
       "title                                                       \n",
       "Albigensian                                        Catharism\n",
       "American_Units_Of_Measurement  United_States_customary_units\n",
       "As                                                        AS\n",
       "Animalia                                              Animal\n",
       "Bootstrap                                               Boot\n",
       "...                                                      ...\n",
       "Hol                                                      HOL\n",
       "Voss_%28village%29                               Vossevangen\n",
       "Grandmaster_Sexay                          Brian_Christopher\n",
       "Perfume_%28J-Pop%29              Perfume_%28Japanese_band%29\n",
       "The_World_Starts_Tonight                        Bonnie_Tyler\n",
       "\n",
       "[93857 rows x 1 columns]"
      ]
     },
     "execution_count": 30,
     "metadata": {},
     "output_type": "execute_result"
    }
   ],
   "source": [
    "dfs = []\n",
    "for file in redirect_files:\n",
    "    dfs.append(pd.read_parquet(file))\n",
    "df_redirects = pd.concat(dfs)\n",
    "df_redirects"
   ]
  },
  {
   "cell_type": "markdown",
   "metadata": {},
   "source": [
    "# Analyze Pages (Nodes)"
   ]
  },
  {
   "cell_type": "markdown",
   "metadata": {},
   "source": [
    "What is the total number of pages?"
   ]
  },
  {
   "cell_type": "code",
   "execution_count": 31,
   "metadata": {},
   "outputs": [
    {
     "data": {
      "text/plain": [
       "240247"
      ]
     },
     "execution_count": 31,
     "metadata": {},
     "output_type": "execute_result"
    }
   ],
   "source": [
    "len(df_pages)"
   ]
  },
  {
   "cell_type": "markdown",
   "metadata": {},
   "source": [
    "What is the total number of redirects?"
   ]
  },
  {
   "cell_type": "code",
   "execution_count": 32,
   "metadata": {},
   "outputs": [
    {
     "data": {
      "text/plain": [
       "93857"
      ]
     },
     "execution_count": 32,
     "metadata": {},
     "output_type": "execute_result"
    }
   ],
   "source": [
    "len(df_redirects)"
   ]
  },
  {
   "cell_type": "markdown",
   "metadata": {},
   "source": [
    "What is the number of pages with missing QID?"
   ]
  },
  {
   "cell_type": "code",
   "execution_count": 33,
   "metadata": {},
   "outputs": [
    {
     "data": {
      "text/plain": [
       "184"
      ]
     },
     "execution_count": 33,
     "metadata": {},
     "output_type": "execute_result"
    }
   ],
   "source": [
    "len(df_pages[df_pages['QID'].isna()])"
   ]
  },
  {
   "cell_type": "markdown",
   "metadata": {},
   "source": [
    "What is the number of pages with missing HTML?"
   ]
  },
  {
   "cell_type": "code",
   "execution_count": 34,
   "metadata": {},
   "outputs": [
    {
     "data": {
      "text/plain": [
       "726"
      ]
     },
     "execution_count": 34,
     "metadata": {},
     "output_type": "execute_result"
    }
   ],
   "source": [
    "len(df_pages[(df_pages['HTML'].isna()) | (df_pages['HTML'] == '')])"
   ]
  },
  {
   "cell_type": "markdown",
   "metadata": {},
   "source": [
    "What is the number of pages without a lead paragraph?"
   ]
  },
  {
   "cell_type": "code",
   "execution_count": 35,
   "metadata": {},
   "outputs": [
    {
     "data": {
      "text/plain": [
       "1406"
      ]
     },
     "execution_count": 35,
     "metadata": {},
     "output_type": "execute_result"
    }
   ],
   "source": [
    "len(df_pages[(df_pages['lead_paragraph'].isna()) | (df_pages['lead_paragraph'] == '')])"
   ]
  },
  {
   "cell_type": "markdown",
   "metadata": {},
   "source": [
    "What is the number of good pages if we exclude all the faulty ones?"
   ]
  },
  {
   "cell_type": "code",
   "execution_count": 36,
   "metadata": {},
   "outputs": [
    {
     "data": {
      "text/plain": [
       "238680"
      ]
     },
     "execution_count": 36,
     "metadata": {},
     "output_type": "execute_result"
    }
   ],
   "source": [
    "len(df_pages[(~df_pages['QID'].isna()) & (~df_pages['HTML'].isna()) & (~df_pages['lead_paragraph'].isna()) & (df_pages['HTML'] != '') & (df_pages['lead_paragraph'] != '')])"
   ]
  },
  {
   "cell_type": "markdown",
   "metadata": {},
   "source": [
    "Save good data"
   ]
  },
  {
   "cell_type": "code",
   "execution_count": 37,
   "metadata": {},
   "outputs": [],
   "source": [
    "for file in page_files:\n",
    "    df = pd.read_parquet(file)\n",
    "    df = df[(~df['QID'].isna()) & (~df['HTML'].isna()) & (~df['lead_paragraph'].isna()) & (df['HTML'] != '') & (df['lead_paragraph'] != '')]\n",
    "    df.to_parquet(file.replace('.parquet', '_good.parquet'))"
   ]
  },
  {
   "cell_type": "markdown",
   "metadata": {},
   "source": [
    "# Analyze Links"
   ]
  },
  {
   "cell_type": "markdown",
   "metadata": {},
   "source": [
    "## Auxiliary Data Structures"
   ]
  },
  {
   "cell_type": "code",
   "execution_count": 38,
   "metadata": {},
   "outputs": [],
   "source": [
    "# Pages with no html\n",
    "no_html = df_pages[(df_pages['HTML'].isna()) | (df_pages['HTML'] == '')]['title'].tolist()\n",
    "no_html = set(no_html)"
   ]
  },
  {
   "cell_type": "code",
   "execution_count": 39,
   "metadata": {},
   "outputs": [],
   "source": [
    "# Pages with no lead paragraph\n",
    "no_lead = df_pages[(df_pages['lead_paragraph'].isna()) | (df_pages['lead_paragraph'] == '')]['title'].tolist()\n",
    "no_lead = set(no_lead)"
   ]
  },
  {
   "cell_type": "markdown",
   "metadata": {},
   "source": [
    "## Results"
   ]
  },
  {
   "cell_type": "markdown",
   "metadata": {},
   "source": [
    "How many total links do we have?"
   ]
  },
  {
   "cell_type": "code",
   "execution_count": 40,
   "metadata": {},
   "outputs": [
    {
     "data": {
      "text/plain": [
       "2758423"
      ]
     },
     "execution_count": 40,
     "metadata": {},
     "output_type": "execute_result"
    }
   ],
   "source": [
    "len(df_links)"
   ]
  },
  {
   "cell_type": "markdown",
   "metadata": {},
   "source": [
    "Of all the links we have, how many couldn't be parsed (e.g., target page not in storage)?"
   ]
  },
  {
   "cell_type": "code",
   "execution_count": 41,
   "metadata": {},
   "outputs": [
    {
     "data": {
      "text/plain": [
       "636"
      ]
     },
     "execution_count": 41,
     "metadata": {},
     "output_type": "execute_result"
    }
   ],
   "source": [
    "len(df_links[df_links['target_ID'].isna()])"
   ]
  },
  {
   "cell_type": "markdown",
   "metadata": {},
   "source": [
    "What is the number of links with source pages without QID?"
   ]
  },
  {
   "cell_type": "code",
   "execution_count": 42,
   "metadata": {},
   "outputs": [
    {
     "data": {
      "text/plain": [
       "1633"
      ]
     },
     "execution_count": 42,
     "metadata": {},
     "output_type": "execute_result"
    }
   ],
   "source": [
    "len(df_links[df_links['source_QID'].isna()])"
   ]
  },
  {
   "cell_type": "markdown",
   "metadata": {},
   "source": [
    "What is the number of links with target pages without QID?"
   ]
  },
  {
   "cell_type": "code",
   "execution_count": 43,
   "metadata": {},
   "outputs": [
    {
     "data": {
      "text/plain": [
       "868"
      ]
     },
     "execution_count": 43,
     "metadata": {},
     "output_type": "execute_result"
    }
   ],
   "source": [
    "len(df_links[df_links['target_QID'].isna()])"
   ]
  },
  {
   "cell_type": "markdown",
   "metadata": {},
   "source": [
    "What is the number of links with target pages without HTML?"
   ]
  },
  {
   "cell_type": "code",
   "execution_count": 44,
   "metadata": {},
   "outputs": [
    {
     "data": {
      "text/plain": [
       "3367"
      ]
     },
     "execution_count": 44,
     "metadata": {},
     "output_type": "execute_result"
    }
   ],
   "source": [
    "len(df_links[df_links['target_title'].isin(no_html)])"
   ]
  },
  {
   "cell_type": "markdown",
   "metadata": {},
   "source": [
    "What is the number of links with target pages without lead paragraph?"
   ]
  },
  {
   "cell_type": "code",
   "execution_count": 45,
   "metadata": {},
   "outputs": [
    {
     "data": {
      "text/plain": [
       "40545"
      ]
     },
     "execution_count": 45,
     "metadata": {},
     "output_type": "execute_result"
    }
   ],
   "source": [
    "len(df_links[df_links['target_title'].isin(no_lead)])"
   ]
  },
  {
   "cell_type": "markdown",
   "metadata": {},
   "source": [
    "What is the number of links with source pages without lead paragraph?"
   ]
  },
  {
   "cell_type": "code",
   "execution_count": 46,
   "metadata": {},
   "outputs": [
    {
     "data": {
      "text/plain": [
       "15211"
      ]
     },
     "execution_count": 46,
     "metadata": {},
     "output_type": "execute_result"
    }
   ],
   "source": [
    "len(df_links[df_links['source_title'].isin(no_lead)])"
   ]
  },
  {
   "cell_type": "markdown",
   "metadata": {},
   "source": [
    "What is the number of good links?"
   ]
  },
  {
   "cell_type": "code",
   "execution_count": 47,
   "metadata": {},
   "outputs": [
    {
     "data": {
      "text/plain": [
       "2701217"
      ]
     },
     "execution_count": 47,
     "metadata": {},
     "output_type": "execute_result"
    }
   ],
   "source": [
    "len(df_links[(~df_links['target_ID'].isna()) & (~df_links['source_QID'].isna()) & (~df_links['target_QID'].isna()) & (~df_links['target_title'].isin(no_html)) & (~df_links['target_title'].isin(no_lead)) & (~df_links['source_title'].isin(no_lead))])"
   ]
  },
  {
   "cell_type": "markdown",
   "metadata": {},
   "source": [
    "Save good links"
   ]
  },
  {
   "cell_type": "code",
   "execution_count": 48,
   "metadata": {},
   "outputs": [],
   "source": [
    "for file in link_files:\n",
    "    df = pd.read_parquet(file)\n",
    "    df = df[(~df['target_ID'].isna()) & (~df['source_QID'].isna()) & (~df['target_QID'].isna()) & (~df['target_title'].isin(no_html)) & (~df['target_title'].isin(no_lead)) & (~df['source_title'].isin(no_lead))]\n",
    "    df.to_parquet(file.replace('.parquet', '_good.parquet'))"
   ]
  },
  {
   "cell_type": "code",
   "execution_count": null,
   "metadata": {},
   "outputs": [],
   "source": []
  }
 ],
 "metadata": {
  "kernelspec": {
   "display_name": "Python 3",
   "language": "python",
   "name": "python3"
  },
  "language_info": {
   "codemirror_mode": {
    "name": "ipython",
    "version": 3
   },
   "file_extension": ".py",
   "mimetype": "text/x-python",
   "name": "python",
   "nbconvert_exporter": "python",
   "pygments_lexer": "ipython3",
   "version": "3.9.18"
  },
  "orig_nbformat": 4
 },
 "nbformat": 4,
 "nbformat_minor": 2
}
