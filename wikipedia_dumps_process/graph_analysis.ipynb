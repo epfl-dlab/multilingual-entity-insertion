{
 "cells": [
  {
   "cell_type": "markdown",
   "metadata": {},
   "source": [
    "# Imports and Definitions"
   ]
  },
  {
   "cell_type": "code",
   "execution_count": 1,
   "metadata": {},
   "outputs": [],
   "source": [
    "import pandas as pd\n",
    "from glob import glob\n",
    "from tqdm import tqdm\n",
    "import os"
   ]
  },
  {
   "cell_type": "code",
   "execution_count": 2,
   "metadata": {},
   "outputs": [],
   "source": [
    "root = '/scratch/tsoares/wikidumps/simplewiki-NS0-20231001/processed_data'"
   ]
  },
  {
   "cell_type": "markdown",
   "metadata": {},
   "source": [
    "# Get data"
   ]
  },
  {
   "cell_type": "code",
   "execution_count": 3,
   "metadata": {},
   "outputs": [
    {
     "name": "stdout",
     "output_type": "stream",
     "text": [
      "['/scratch/tsoares/wikidumps/simplewiki-NS0-20231001/processed_data/pages_0.parquet', '/scratch/tsoares/wikidumps/simplewiki-NS0-20231001/processed_data/pages_1.parquet']\n",
      "['/scratch/tsoares/wikidumps/simplewiki-NS0-20231001/processed_data/links_1.parquet', '/scratch/tsoares/wikidumps/simplewiki-NS0-20231001/processed_data/links_0.parquet']\n",
      "['/scratch/tsoares/wikidumps/simplewiki-NS0-20231001/processed_data/redirect_map.parquet']\n"
     ]
    }
   ],
   "source": [
    "page_files = glob(os.path.join(root, \"pages*.parquet\"))\n",
    "link_files = glob(os.path.join(root, \"links*.parquet\"))\n",
    "redirect_files = glob(os.path.join(root, \"redirect*.parquet\"))\n",
    "print(page_files)\n",
    "print(link_files)\n",
    "print(redirect_files)"
   ]
  },
  {
   "cell_type": "code",
   "execution_count": 4,
   "metadata": {},
   "outputs": [
    {
     "data": {
      "text/html": [
       "<div>\n",
       "<style scoped>\n",
       "    .dataframe tbody tr th:only-of-type {\n",
       "        vertical-align: middle;\n",
       "    }\n",
       "\n",
       "    .dataframe tbody tr th {\n",
       "        vertical-align: top;\n",
       "    }\n",
       "\n",
       "    .dataframe thead th {\n",
       "        text-align: right;\n",
       "    }\n",
       "</style>\n",
       "<table border=\"1\" class=\"dataframe\">\n",
       "  <thead>\n",
       "    <tr style=\"text-align: right;\">\n",
       "      <th></th>\n",
       "      <th>title</th>\n",
       "      <th>ID</th>\n",
       "      <th>version</th>\n",
       "      <th>HTML</th>\n",
       "      <th>page_length</th>\n",
       "      <th>language</th>\n",
       "      <th>lead_paragraph</th>\n",
       "      <th>QID</th>\n",
       "    </tr>\n",
       "  </thead>\n",
       "  <tbody>\n",
       "    <tr>\n",
       "      <th>0</th>\n",
       "      <td>1280s</td>\n",
       "      <td>24221</td>\n",
       "      <td>https://simple.wikipedia.org/w/index.php?title...</td>\n",
       "      <td>a</td>\n",
       "      <td>7848.0</td>\n",
       "      <td>simple</td>\n",
       "      <td></td>\n",
       "      <td>Q83352</td>\n",
       "    </tr>\n",
       "    <tr>\n",
       "      <th>1</th>\n",
       "      <td>1283</td>\n",
       "      <td>69408</td>\n",
       "      <td>https://simple.wikipedia.org/w/index.php?title...</td>\n",
       "      <td>a</td>\n",
       "      <td>6277.0</td>\n",
       "      <td>simple</td>\n",
       "      <td>1283 was a common year.</td>\n",
       "      <td>Q5543</td>\n",
       "    </tr>\n",
       "    <tr>\n",
       "      <th>2</th>\n",
       "      <td>1272</td>\n",
       "      <td>46219</td>\n",
       "      <td>https://simple.wikipedia.org/w/index.php?title...</td>\n",
       "      <td>a</td>\n",
       "      <td>13916.0</td>\n",
       "      <td>simple</td>\n",
       "      <td></td>\n",
       "      <td>Q5524</td>\n",
       "    </tr>\n",
       "    <tr>\n",
       "      <th>3</th>\n",
       "      <td>1267</td>\n",
       "      <td>4652</td>\n",
       "      <td>https://simple.wikipedia.org/w/index.php?title...</td>\n",
       "      <td>a</td>\n",
       "      <td>13275.0</td>\n",
       "      <td>simple</td>\n",
       "      <td></td>\n",
       "      <td>Q5519</td>\n",
       "    </tr>\n",
       "    <tr>\n",
       "      <th>4</th>\n",
       "      <td>1296</td>\n",
       "      <td>39604</td>\n",
       "      <td>https://simple.wikipedia.org/w/index.php?title...</td>\n",
       "      <td>a</td>\n",
       "      <td>5002.0</td>\n",
       "      <td>simple</td>\n",
       "      <td>The year 1296 was a leap year which started on...</td>\n",
       "      <td>Q5561</td>\n",
       "    </tr>\n",
       "    <tr>\n",
       "      <th>...</th>\n",
       "      <td>...</td>\n",
       "      <td>...</td>\n",
       "      <td>...</td>\n",
       "      <td>...</td>\n",
       "      <td>...</td>\n",
       "      <td>...</td>\n",
       "      <td>...</td>\n",
       "      <td>...</td>\n",
       "    </tr>\n",
       "    <tr>\n",
       "      <th>40242</th>\n",
       "      <td>109_%28number%29</td>\n",
       "      <td>1051195</td>\n",
       "      <td>None</td>\n",
       "      <td>None</td>\n",
       "      <td>NaN</td>\n",
       "      <td>simple</td>\n",
       "      <td>None</td>\n",
       "      <td>Q604950</td>\n",
       "    </tr>\n",
       "    <tr>\n",
       "      <th>40243</th>\n",
       "      <td>110_%28number%29</td>\n",
       "      <td>1051196</td>\n",
       "      <td>None</td>\n",
       "      <td>None</td>\n",
       "      <td>NaN</td>\n",
       "      <td>simple</td>\n",
       "      <td>None</td>\n",
       "      <td>Q715456</td>\n",
       "    </tr>\n",
       "    <tr>\n",
       "      <th>40244</th>\n",
       "      <td>Krste_Petkov_Misirkov</td>\n",
       "      <td>1051200</td>\n",
       "      <td>None</td>\n",
       "      <td>None</td>\n",
       "      <td>NaN</td>\n",
       "      <td>simple</td>\n",
       "      <td>None</td>\n",
       "      <td>None</td>\n",
       "    </tr>\n",
       "    <tr>\n",
       "      <th>40245</th>\n",
       "      <td>Anna_Odobescu</td>\n",
       "      <td>1051218</td>\n",
       "      <td>None</td>\n",
       "      <td>None</td>\n",
       "      <td>NaN</td>\n",
       "      <td>simple</td>\n",
       "      <td>None</td>\n",
       "      <td>Q61947352</td>\n",
       "    </tr>\n",
       "    <tr>\n",
       "      <th>40246</th>\n",
       "      <td>Pseudophilautus_frankenbergi</td>\n",
       "      <td>1051224</td>\n",
       "      <td>None</td>\n",
       "      <td>None</td>\n",
       "      <td>NaN</td>\n",
       "      <td>simple</td>\n",
       "      <td>None</td>\n",
       "      <td>Q28061030</td>\n",
       "    </tr>\n",
       "  </tbody>\n",
       "</table>\n",
       "<p>240247 rows × 8 columns</p>\n",
       "</div>"
      ],
      "text/plain": [
       "                              title       ID  \\\n",
       "0                             1280s    24221   \n",
       "1                              1283    69408   \n",
       "2                              1272    46219   \n",
       "3                              1267     4652   \n",
       "4                              1296    39604   \n",
       "...                             ...      ...   \n",
       "40242              109_%28number%29  1051195   \n",
       "40243              110_%28number%29  1051196   \n",
       "40244         Krste_Petkov_Misirkov  1051200   \n",
       "40245                 Anna_Odobescu  1051218   \n",
       "40246  Pseudophilautus_frankenbergi  1051224   \n",
       "\n",
       "                                                 version  HTML  page_length  \\\n",
       "0      https://simple.wikipedia.org/w/index.php?title...     a       7848.0   \n",
       "1      https://simple.wikipedia.org/w/index.php?title...     a       6277.0   \n",
       "2      https://simple.wikipedia.org/w/index.php?title...     a      13916.0   \n",
       "3      https://simple.wikipedia.org/w/index.php?title...     a      13275.0   \n",
       "4      https://simple.wikipedia.org/w/index.php?title...     a       5002.0   \n",
       "...                                                  ...   ...          ...   \n",
       "40242                                               None  None          NaN   \n",
       "40243                                               None  None          NaN   \n",
       "40244                                               None  None          NaN   \n",
       "40245                                               None  None          NaN   \n",
       "40246                                               None  None          NaN   \n",
       "\n",
       "      language                                     lead_paragraph        QID  \n",
       "0       simple                                                        Q83352  \n",
       "1       simple                            1283 was a common year.      Q5543  \n",
       "2       simple                                                         Q5524  \n",
       "3       simple                                                         Q5519  \n",
       "4       simple  The year 1296 was a leap year which started on...      Q5561  \n",
       "...        ...                                                ...        ...  \n",
       "40242   simple                                               None    Q604950  \n",
       "40243   simple                                               None    Q715456  \n",
       "40244   simple                                               None       None  \n",
       "40245   simple                                               None  Q61947352  \n",
       "40246   simple                                               None  Q28061030  \n",
       "\n",
       "[240247 rows x 8 columns]"
      ]
     },
     "execution_count": 4,
     "metadata": {},
     "output_type": "execute_result"
    }
   ],
   "source": [
    "def simplify_html(html):\n",
    "    if html is None:\n",
    "        return None\n",
    "    if html == '':\n",
    "        return ''\n",
    "    return 'a'\n",
    "\n",
    "dfs = []\n",
    "for file in page_files:\n",
    "    temp_df = pd.read_parquet(file)\n",
    "    temp_df['HTML'] = temp_df['HTML'].apply(lambda x: simplify_html(x)) # simpify html so it is not too big\n",
    "    dfs.append(temp_df)\n",
    "df_pages = pd.concat(dfs)\n",
    "df_pages"
   ]
  },
  {
   "cell_type": "code",
   "execution_count": 5,
   "metadata": {},
   "outputs": [
    {
     "data": {
      "text/html": [
       "<div>\n",
       "<style scoped>\n",
       "    .dataframe tbody tr th:only-of-type {\n",
       "        vertical-align: middle;\n",
       "    }\n",
       "\n",
       "    .dataframe tbody tr th {\n",
       "        vertical-align: top;\n",
       "    }\n",
       "\n",
       "    .dataframe thead th {\n",
       "        text-align: right;\n",
       "    }\n",
       "</style>\n",
       "<table border=\"1\" class=\"dataframe\">\n",
       "  <thead>\n",
       "    <tr style=\"text-align: right;\">\n",
       "      <th></th>\n",
       "      <th>target_title</th>\n",
       "      <th>target_section</th>\n",
       "      <th>source_title</th>\n",
       "      <th>target_ID</th>\n",
       "      <th>target_QID</th>\n",
       "      <th>source_ID</th>\n",
       "      <th>source_QID</th>\n",
       "      <th>mention</th>\n",
       "      <th>source_section</th>\n",
       "      <th>link_start_index</th>\n",
       "      <th>link_end_index</th>\n",
       "      <th>sentence</th>\n",
       "      <th>sentence_raw</th>\n",
       "      <th>sentence_start_index</th>\n",
       "      <th>sentence_end_index</th>\n",
       "      <th>source_page_length</th>\n",
       "      <th>link_section_depth</th>\n",
       "      <th>context</th>\n",
       "    </tr>\n",
       "  </thead>\n",
       "  <tbody>\n",
       "    <tr>\n",
       "      <th>0</th>\n",
       "      <td>Georgian_language</td>\n",
       "      <td>Lead</td>\n",
       "      <td>David_Khakhaleishvili</td>\n",
       "      <td>52487</td>\n",
       "      <td>Q8108</td>\n",
       "      <td>813041</td>\n",
       "      <td>Q155514</td>\n",
       "      <td>Georgian</td>\n",
       "      <td>Lead</td>\n",
       "      <td>1600</td>\n",
       "      <td>1875</td>\n",
       "      <td>David Khakhaleishvili (Georgian: დავით ხახალეი...</td>\n",
       "      <td>&lt;section data-mw-section-id=\"0\" id=\"mwAQ\"&gt;&lt;p i...</td>\n",
       "      <td>16</td>\n",
       "      <td>2464</td>\n",
       "      <td>9058</td>\n",
       "      <td>0.0.0</td>\n",
       "      <td>He was born in Kutaisi, Georgia. He won the g...</td>\n",
       "    </tr>\n",
       "    <tr>\n",
       "      <th>1</th>\n",
       "      <td>Judo</td>\n",
       "      <td>Lead</td>\n",
       "      <td>David_Khakhaleishvili</td>\n",
       "      <td>78553</td>\n",
       "      <td>Q11420</td>\n",
       "      <td>813041</td>\n",
       "      <td>Q155514</td>\n",
       "      <td>judoka</td>\n",
       "      <td>Lead</td>\n",
       "      <td>2233</td>\n",
       "      <td>2301</td>\n",
       "      <td>David Khakhaleishvili (Georgian: დავით ხახალეი...</td>\n",
       "      <td>&lt;section data-mw-section-id=\"0\" id=\"mwAQ\"&gt;&lt;p i...</td>\n",
       "      <td>16</td>\n",
       "      <td>2464</td>\n",
       "      <td>9058</td>\n",
       "      <td>0.0.0</td>\n",
       "      <td>He was born in Kutaisi, Georgia. He won the g...</td>\n",
       "    </tr>\n",
       "    <tr>\n",
       "      <th>2</th>\n",
       "      <td>Mixed_martial_arts</td>\n",
       "      <td>Lead</td>\n",
       "      <td>David_Khakhaleishvili</td>\n",
       "      <td>31326</td>\n",
       "      <td>Q114466</td>\n",
       "      <td>813041</td>\n",
       "      <td>Q155514</td>\n",
       "      <td>mixed martial artist</td>\n",
       "      <td>Lead</td>\n",
       "      <td>2303</td>\n",
       "      <td>2437</td>\n",
       "      <td>David Khakhaleishvili (Georgian: დავით ხახალეი...</td>\n",
       "      <td>&lt;section data-mw-section-id=\"0\" id=\"mwAQ\"&gt;&lt;p i...</td>\n",
       "      <td>16</td>\n",
       "      <td>2464</td>\n",
       "      <td>9058</td>\n",
       "      <td>0.0.0</td>\n",
       "      <td>He was born in Kutaisi, Georgia. He won the g...</td>\n",
       "    </tr>\n",
       "    <tr>\n",
       "      <th>3</th>\n",
       "      <td>Georgia_%28country%29</td>\n",
       "      <td>Lead</td>\n",
       "      <td>David_Khakhaleishvili</td>\n",
       "      <td>14986</td>\n",
       "      <td>Q230</td>\n",
       "      <td>813041</td>\n",
       "      <td>Q155514</td>\n",
       "      <td>Georgia</td>\n",
       "      <td>Lead</td>\n",
       "      <td>2709</td>\n",
       "      <td>2804</td>\n",
       "      <td>He was born in Kutaisi, Georgia.</td>\n",
       "      <td>He was born in &lt;a rel=\"mw:WikiLink\" href=\"./K...</td>\n",
       "      <td>2464</td>\n",
       "      <td>2805</td>\n",
       "      <td>9058</td>\n",
       "      <td>0.0.0</td>\n",
       "      <td>David Khakhaleishvili (Georgian: დავით ხახალეი...</td>\n",
       "    </tr>\n",
       "    <tr>\n",
       "      <th>4</th>\n",
       "      <td>1992_Summer_Olympics</td>\n",
       "      <td>Lead</td>\n",
       "      <td>David_Khakhaleishvili</td>\n",
       "      <td>47889</td>\n",
       "      <td>Q8488</td>\n",
       "      <td>813041</td>\n",
       "      <td>Q155514</td>\n",
       "      <td>1992 Summer Olympics</td>\n",
       "      <td>Lead</td>\n",
       "      <td>2835</td>\n",
       "      <td>2949</td>\n",
       "      <td>He won the gold medal at the 1992 Summer Olym...</td>\n",
       "      <td>He won the gold medal at the &lt;a rel=\"mw:WikiL...</td>\n",
       "      <td>2805</td>\n",
       "      <td>2950</td>\n",
       "      <td>9058</td>\n",
       "      <td>0.0.0</td>\n",
       "      <td>David Khakhaleishvili (Georgian: დავით ხახალეი...</td>\n",
       "    </tr>\n",
       "    <tr>\n",
       "      <th>...</th>\n",
       "      <td>...</td>\n",
       "      <td>...</td>\n",
       "      <td>...</td>\n",
       "      <td>...</td>\n",
       "      <td>...</td>\n",
       "      <td>...</td>\n",
       "      <td>...</td>\n",
       "      <td>...</td>\n",
       "      <td>...</td>\n",
       "      <td>...</td>\n",
       "      <td>...</td>\n",
       "      <td>...</td>\n",
       "      <td>...</td>\n",
       "      <td>...</td>\n",
       "      <td>...</td>\n",
       "      <td>...</td>\n",
       "      <td>...</td>\n",
       "      <td>...</td>\n",
       "    </tr>\n",
       "    <tr>\n",
       "      <th>2045439</th>\n",
       "      <td>San_Diego_County</td>\n",
       "      <td>Lead</td>\n",
       "      <td>Escondido%2C_California</td>\n",
       "      <td>298599</td>\n",
       "      <td>Q108143</td>\n",
       "      <td>650261</td>\n",
       "      <td>Q372454</td>\n",
       "      <td>San Diego County</td>\n",
       "      <td>Lead</td>\n",
       "      <td>5259</td>\n",
       "      <td>5405</td>\n",
       "      <td>Created in 1888, it is one of the oldest citi...</td>\n",
       "      <td>Created in 1888, it is one of the oldest citi...</td>\n",
       "      <td>5207</td>\n",
       "      <td>5406</td>\n",
       "      <td>53507</td>\n",
       "      <td>0.0.0</td>\n",
       "      <td>Escondido (/ˌɛskənˈdiːdoʊ/ ES-kən-DEE-doh) is ...</td>\n",
       "    </tr>\n",
       "    <tr>\n",
       "      <th>2045440</th>\n",
       "      <td>Ice_hockey</td>\n",
       "      <td>Lead</td>\n",
       "      <td>Milan_Kajkl</td>\n",
       "      <td>9451</td>\n",
       "      <td>Q41466</td>\n",
       "      <td>694013</td>\n",
       "      <td>Q1386108</td>\n",
       "      <td>ice hockey</td>\n",
       "      <td>Lead</td>\n",
       "      <td>9428</td>\n",
       "      <td>9512</td>\n",
       "      <td>\\nMilan Kajkl (May 14, 1950 – January 18, 2014...</td>\n",
       "      <td>\\n&lt;p id=\"mwBA\"&gt;&lt;b id=\"mwBQ\"&gt;Milan Kajkl&lt;/b&gt; (M...</td>\n",
       "      <td>8997</td>\n",
       "      <td>9520</td>\n",
       "      <td>23054</td>\n",
       "      <td>0.0.0</td>\n",
       "      <td>(1950-05-14)\\n1950-05-14\\n(2014-01-18)\\n \\n \\n...</td>\n",
       "    </tr>\n",
       "    <tr>\n",
       "      <th>2045441</th>\n",
       "      <td>Plze%C5%88</td>\n",
       "      <td>Lead</td>\n",
       "      <td>Milan_Kajkl</td>\n",
       "      <td>160752</td>\n",
       "      <td>Q43453</td>\n",
       "      <td>694013</td>\n",
       "      <td>Q1386108</td>\n",
       "      <td>Plzeň</td>\n",
       "      <td>Lead</td>\n",
       "      <td>9539</td>\n",
       "      <td>9608</td>\n",
       "      <td>Kajkl was born in Plzeň, Czechoslovakia.</td>\n",
       "      <td>Kajkl was born in &lt;a rel=\"mw:WikiLink\" href=\"...</td>\n",
       "      <td>9520</td>\n",
       "      <td>9707</td>\n",
       "      <td>23054</td>\n",
       "      <td>0.0.0</td>\n",
       "      <td>(1950-05-14)\\n1950-05-14\\n(2014-01-18)\\n \\n \\n...</td>\n",
       "    </tr>\n",
       "    <tr>\n",
       "      <th>2045442</th>\n",
       "      <td>Czechoslovakia</td>\n",
       "      <td>Lead</td>\n",
       "      <td>Milan_Kajkl</td>\n",
       "      <td>22914</td>\n",
       "      <td>Q33946</td>\n",
       "      <td>694013</td>\n",
       "      <td>Q1386108</td>\n",
       "      <td>Czechoslovakia</td>\n",
       "      <td>Lead</td>\n",
       "      <td>9610</td>\n",
       "      <td>9706</td>\n",
       "      <td>Kajkl was born in Plzeň, Czechoslovakia.</td>\n",
       "      <td>Kajkl was born in &lt;a rel=\"mw:WikiLink\" href=\"...</td>\n",
       "      <td>9520</td>\n",
       "      <td>9707</td>\n",
       "      <td>23054</td>\n",
       "      <td>0.0.0</td>\n",
       "      <td>(1950-05-14)\\n1950-05-14\\n(2014-01-18)\\n \\n \\n...</td>\n",
       "    </tr>\n",
       "    <tr>\n",
       "      <th>2045443</th>\n",
       "      <td>Innsbruck</td>\n",
       "      <td>Lead</td>\n",
       "      <td>Milan_Kajkl</td>\n",
       "      <td>33885</td>\n",
       "      <td>Q1735</td>\n",
       "      <td>694013</td>\n",
       "      <td>Q1386108</td>\n",
       "      <td>Innsbruck</td>\n",
       "      <td>Lead</td>\n",
       "      <td>10069</td>\n",
       "      <td>10150</td>\n",
       "      <td>He participated at the 1976 Winter Olympics ...</td>\n",
       "      <td>He participated at the &lt;a rel=\"mw:WikiLink\" ...</td>\n",
       "      <td>9707</td>\n",
       "      <td>10525</td>\n",
       "      <td>23054</td>\n",
       "      <td>0.0.0</td>\n",
       "      <td>(1950-05-14)\\n1950-05-14\\n(2014-01-18)\\n \\n \\n...</td>\n",
       "    </tr>\n",
       "  </tbody>\n",
       "</table>\n",
       "<p>2756089 rows × 18 columns</p>\n",
       "</div>"
      ],
      "text/plain": [
       "                  target_title target_section             source_title  \\\n",
       "0            Georgian_language           Lead    David_Khakhaleishvili   \n",
       "1                         Judo           Lead    David_Khakhaleishvili   \n",
       "2           Mixed_martial_arts           Lead    David_Khakhaleishvili   \n",
       "3        Georgia_%28country%29           Lead    David_Khakhaleishvili   \n",
       "4         1992_Summer_Olympics           Lead    David_Khakhaleishvili   \n",
       "...                        ...            ...                      ...   \n",
       "2045439       San_Diego_County           Lead  Escondido%2C_California   \n",
       "2045440             Ice_hockey           Lead              Milan_Kajkl   \n",
       "2045441             Plze%C5%88           Lead              Milan_Kajkl   \n",
       "2045442         Czechoslovakia           Lead              Milan_Kajkl   \n",
       "2045443              Innsbruck           Lead              Milan_Kajkl   \n",
       "\n",
       "        target_ID target_QID source_ID source_QID               mention  \\\n",
       "0           52487      Q8108    813041    Q155514              Georgian   \n",
       "1           78553     Q11420    813041    Q155514                judoka   \n",
       "2           31326    Q114466    813041    Q155514  mixed martial artist   \n",
       "3           14986       Q230    813041    Q155514               Georgia   \n",
       "4           47889      Q8488    813041    Q155514  1992 Summer Olympics   \n",
       "...           ...        ...       ...        ...                   ...   \n",
       "2045439    298599    Q108143    650261    Q372454      San Diego County   \n",
       "2045440      9451     Q41466    694013   Q1386108            ice hockey   \n",
       "2045441    160752     Q43453    694013   Q1386108                 Plzeň   \n",
       "2045442     22914     Q33946    694013   Q1386108        Czechoslovakia   \n",
       "2045443     33885      Q1735    694013   Q1386108             Innsbruck   \n",
       "\n",
       "        source_section  link_start_index  link_end_index  \\\n",
       "0                 Lead              1600            1875   \n",
       "1                 Lead              2233            2301   \n",
       "2                 Lead              2303            2437   \n",
       "3                 Lead              2709            2804   \n",
       "4                 Lead              2835            2949   \n",
       "...                ...               ...             ...   \n",
       "2045439           Lead              5259            5405   \n",
       "2045440           Lead              9428            9512   \n",
       "2045441           Lead              9539            9608   \n",
       "2045442           Lead              9610            9706   \n",
       "2045443           Lead             10069           10150   \n",
       "\n",
       "                                                  sentence  \\\n",
       "0        David Khakhaleishvili (Georgian: დავით ხახალეი...   \n",
       "1        David Khakhaleishvili (Georgian: დავით ხახალეი...   \n",
       "2        David Khakhaleishvili (Georgian: დავით ხახალეი...   \n",
       "3                         He was born in Kutaisi, Georgia.   \n",
       "4         He won the gold medal at the 1992 Summer Olym...   \n",
       "...                                                    ...   \n",
       "2045439   Created in 1888, it is one of the oldest citi...   \n",
       "2045440  \\nMilan Kajkl (May 14, 1950 – January 18, 2014...   \n",
       "2045441           Kajkl was born in Plzeň, Czechoslovakia.   \n",
       "2045442           Kajkl was born in Plzeň, Czechoslovakia.   \n",
       "2045443    He participated at the 1976 Winter Olympics ...   \n",
       "\n",
       "                                              sentence_raw  \\\n",
       "0        <section data-mw-section-id=\"0\" id=\"mwAQ\"><p i...   \n",
       "1        <section data-mw-section-id=\"0\" id=\"mwAQ\"><p i...   \n",
       "2        <section data-mw-section-id=\"0\" id=\"mwAQ\"><p i...   \n",
       "3         He was born in <a rel=\"mw:WikiLink\" href=\"./K...   \n",
       "4         He won the gold medal at the <a rel=\"mw:WikiL...   \n",
       "...                                                    ...   \n",
       "2045439   Created in 1888, it is one of the oldest citi...   \n",
       "2045440  \\n<p id=\"mwBA\"><b id=\"mwBQ\">Milan Kajkl</b> (M...   \n",
       "2045441   Kajkl was born in <a rel=\"mw:WikiLink\" href=\"...   \n",
       "2045442   Kajkl was born in <a rel=\"mw:WikiLink\" href=\"...   \n",
       "2045443    He participated at the <a rel=\"mw:WikiLink\" ...   \n",
       "\n",
       "         sentence_start_index  sentence_end_index  source_page_length  \\\n",
       "0                          16                2464                9058   \n",
       "1                          16                2464                9058   \n",
       "2                          16                2464                9058   \n",
       "3                        2464                2805                9058   \n",
       "4                        2805                2950                9058   \n",
       "...                       ...                 ...                 ...   \n",
       "2045439                  5207                5406               53507   \n",
       "2045440                  8997                9520               23054   \n",
       "2045441                  9520                9707               23054   \n",
       "2045442                  9520                9707               23054   \n",
       "2045443                  9707               10525               23054   \n",
       "\n",
       "        link_section_depth                                            context  \n",
       "0                    0.0.0   He was born in Kutaisi, Georgia. He won the g...  \n",
       "1                    0.0.0   He was born in Kutaisi, Georgia. He won the g...  \n",
       "2                    0.0.0   He was born in Kutaisi, Georgia. He won the g...  \n",
       "3                    0.0.0  David Khakhaleishvili (Georgian: დავით ხახალეი...  \n",
       "4                    0.0.0  David Khakhaleishvili (Georgian: დავით ხახალეი...  \n",
       "...                    ...                                                ...  \n",
       "2045439              0.0.0  Escondido (/ˌɛskənˈdiːdoʊ/ ES-kən-DEE-doh) is ...  \n",
       "2045440              0.0.0  (1950-05-14)\\n1950-05-14\\n(2014-01-18)\\n \\n \\n...  \n",
       "2045441              0.0.0  (1950-05-14)\\n1950-05-14\\n(2014-01-18)\\n \\n \\n...  \n",
       "2045442              0.0.0  (1950-05-14)\\n1950-05-14\\n(2014-01-18)\\n \\n \\n...  \n",
       "2045443              0.0.0  (1950-05-14)\\n1950-05-14\\n(2014-01-18)\\n \\n \\n...  \n",
       "\n",
       "[2756089 rows x 18 columns]"
      ]
     },
     "execution_count": 5,
     "metadata": {},
     "output_type": "execute_result"
    }
   ],
   "source": [
    "dfs = []\n",
    "for file in link_files:\n",
    "    dfs.append(pd.read_parquet(file))\n",
    "df_links = pd.concat(dfs)\n",
    "df_links"
   ]
  },
  {
   "cell_type": "code",
   "execution_count": 6,
   "metadata": {},
   "outputs": [
    {
     "data": {
      "text/html": [
       "<div>\n",
       "<style scoped>\n",
       "    .dataframe tbody tr th:only-of-type {\n",
       "        vertical-align: middle;\n",
       "    }\n",
       "\n",
       "    .dataframe tbody tr th {\n",
       "        vertical-align: top;\n",
       "    }\n",
       "\n",
       "    .dataframe thead th {\n",
       "        text-align: right;\n",
       "    }\n",
       "</style>\n",
       "<table border=\"1\" class=\"dataframe\">\n",
       "  <thead>\n",
       "    <tr style=\"text-align: right;\">\n",
       "      <th></th>\n",
       "      <th>redirect</th>\n",
       "    </tr>\n",
       "    <tr>\n",
       "      <th>title</th>\n",
       "      <th></th>\n",
       "    </tr>\n",
       "  </thead>\n",
       "  <tbody>\n",
       "    <tr>\n",
       "      <th>Albigensian</th>\n",
       "      <td>Catharism</td>\n",
       "    </tr>\n",
       "    <tr>\n",
       "      <th>American_Units_Of_Measurement</th>\n",
       "      <td>United_States_customary_units</td>\n",
       "    </tr>\n",
       "    <tr>\n",
       "      <th>As</th>\n",
       "      <td>AS</td>\n",
       "    </tr>\n",
       "    <tr>\n",
       "      <th>Animalia</th>\n",
       "      <td>Animal</td>\n",
       "    </tr>\n",
       "    <tr>\n",
       "      <th>Bootstrap</th>\n",
       "      <td>Boot</td>\n",
       "    </tr>\n",
       "    <tr>\n",
       "      <th>...</th>\n",
       "      <td>...</td>\n",
       "    </tr>\n",
       "    <tr>\n",
       "      <th>Hol</th>\n",
       "      <td>HOL</td>\n",
       "    </tr>\n",
       "    <tr>\n",
       "      <th>Voss_%28village%29</th>\n",
       "      <td>Vossevangen</td>\n",
       "    </tr>\n",
       "    <tr>\n",
       "      <th>Grandmaster_Sexay</th>\n",
       "      <td>Brian_Christopher</td>\n",
       "    </tr>\n",
       "    <tr>\n",
       "      <th>Perfume_%28J-Pop%29</th>\n",
       "      <td>Perfume_%28Japanese_band%29</td>\n",
       "    </tr>\n",
       "    <tr>\n",
       "      <th>The_World_Starts_Tonight</th>\n",
       "      <td>Bonnie_Tyler</td>\n",
       "    </tr>\n",
       "  </tbody>\n",
       "</table>\n",
       "<p>93857 rows × 1 columns</p>\n",
       "</div>"
      ],
      "text/plain": [
       "                                                    redirect\n",
       "title                                                       \n",
       "Albigensian                                        Catharism\n",
       "American_Units_Of_Measurement  United_States_customary_units\n",
       "As                                                        AS\n",
       "Animalia                                              Animal\n",
       "Bootstrap                                               Boot\n",
       "...                                                      ...\n",
       "Hol                                                      HOL\n",
       "Voss_%28village%29                               Vossevangen\n",
       "Grandmaster_Sexay                          Brian_Christopher\n",
       "Perfume_%28J-Pop%29              Perfume_%28Japanese_band%29\n",
       "The_World_Starts_Tonight                        Bonnie_Tyler\n",
       "\n",
       "[93857 rows x 1 columns]"
      ]
     },
     "execution_count": 6,
     "metadata": {},
     "output_type": "execute_result"
    }
   ],
   "source": [
    "dfs = []\n",
    "for file in redirect_files:\n",
    "    dfs.append(pd.read_parquet(file))\n",
    "df_redirects = pd.concat(dfs)\n",
    "df_redirects"
   ]
  },
  {
   "cell_type": "markdown",
   "metadata": {},
   "source": [
    "# Analyze Pages (Nodes)"
   ]
  },
  {
   "cell_type": "markdown",
   "metadata": {},
   "source": [
    "What is the total number of pages?"
   ]
  },
  {
   "cell_type": "code",
   "execution_count": 7,
   "metadata": {},
   "outputs": [
    {
     "data": {
      "text/plain": [
       "240247"
      ]
     },
     "execution_count": 7,
     "metadata": {},
     "output_type": "execute_result"
    }
   ],
   "source": [
    "len(df_pages)"
   ]
  },
  {
   "cell_type": "markdown",
   "metadata": {},
   "source": [
    "What is the total number of redirects?"
   ]
  },
  {
   "cell_type": "code",
   "execution_count": 8,
   "metadata": {},
   "outputs": [
    {
     "data": {
      "text/plain": [
       "93857"
      ]
     },
     "execution_count": 8,
     "metadata": {},
     "output_type": "execute_result"
    }
   ],
   "source": [
    "len(df_redirects)"
   ]
  },
  {
   "cell_type": "markdown",
   "metadata": {},
   "source": [
    "What is the number of pages with missing QID?"
   ]
  },
  {
   "cell_type": "code",
   "execution_count": 9,
   "metadata": {},
   "outputs": [
    {
     "data": {
      "text/plain": [
       "184"
      ]
     },
     "execution_count": 9,
     "metadata": {},
     "output_type": "execute_result"
    }
   ],
   "source": [
    "len(df_pages[df_pages['QID'].isna()])"
   ]
  },
  {
   "cell_type": "markdown",
   "metadata": {},
   "source": [
    "What is the number of pages with missing HTML?"
   ]
  },
  {
   "cell_type": "code",
   "execution_count": 10,
   "metadata": {},
   "outputs": [
    {
     "data": {
      "text/plain": [
       "726"
      ]
     },
     "execution_count": 10,
     "metadata": {},
     "output_type": "execute_result"
    }
   ],
   "source": [
    "len(df_pages[(df_pages['HTML'].isna()) | (df_pages['HTML'] == '')])"
   ]
  },
  {
   "cell_type": "markdown",
   "metadata": {},
   "source": [
    "What is the number of pages without a lead paragraph?"
   ]
  },
  {
   "cell_type": "code",
   "execution_count": 11,
   "metadata": {},
   "outputs": [
    {
     "data": {
      "text/plain": [
       "1406"
      ]
     },
     "execution_count": 11,
     "metadata": {},
     "output_type": "execute_result"
    }
   ],
   "source": [
    "len(df_pages[(df_pages['lead_paragraph'].isna()) | (df_pages['lead_paragraph'] == '')])"
   ]
  },
  {
   "cell_type": "markdown",
   "metadata": {},
   "source": [
    "What is the number of good pages if we exclude all the faulty ones?"
   ]
  },
  {
   "cell_type": "code",
   "execution_count": 12,
   "metadata": {},
   "outputs": [
    {
     "data": {
      "text/plain": [
       "238680"
      ]
     },
     "execution_count": 12,
     "metadata": {},
     "output_type": "execute_result"
    }
   ],
   "source": [
    "len(df_pages[(~df_pages['QID'].isna()) & (~df_pages['HTML'].isna()) & (~df_pages['lead_paragraph'].isna()) & (df_pages['HTML'] != '') & (df_pages['lead_paragraph'] != '')])"
   ]
  },
  {
   "cell_type": "markdown",
   "metadata": {},
   "source": [
    "Save good data"
   ]
  },
  {
   "cell_type": "code",
   "execution_count": 13,
   "metadata": {},
   "outputs": [],
   "source": [
    "for file in page_files:\n",
    "    df = pd.read_parquet(file)\n",
    "    df = df[(~df['QID'].isna()) & (~df['HTML'].isna()) & (~df['lead_paragraph'].isna()) & (df['HTML'] != '') & (df['lead_paragraph'] != '')]\n",
    "    df.to_parquet(file.replace('pages', 'good_pages'))"
   ]
  },
  {
   "cell_type": "markdown",
   "metadata": {},
   "source": [
    "# Analyze Links"
   ]
  },
  {
   "cell_type": "markdown",
   "metadata": {},
   "source": [
    "## Auxiliary Data Structures"
   ]
  },
  {
   "cell_type": "code",
   "execution_count": 14,
   "metadata": {},
   "outputs": [],
   "source": [
    "# Pages with no html\n",
    "no_html = df_pages[(df_pages['HTML'].isna()) | (df_pages['HTML'] == '')]['title'].tolist()\n",
    "no_html = set(no_html)"
   ]
  },
  {
   "cell_type": "code",
   "execution_count": 15,
   "metadata": {},
   "outputs": [],
   "source": [
    "# Pages with no lead paragraph\n",
    "no_lead = df_pages[(df_pages['lead_paragraph'].isna()) | (df_pages['lead_paragraph'] == '')]['title'].tolist()\n",
    "no_lead = set(no_lead)"
   ]
  },
  {
   "cell_type": "markdown",
   "metadata": {},
   "source": [
    "## Results"
   ]
  },
  {
   "cell_type": "markdown",
   "metadata": {},
   "source": [
    "How many total links do we have?"
   ]
  },
  {
   "cell_type": "code",
   "execution_count": 16,
   "metadata": {},
   "outputs": [
    {
     "data": {
      "text/plain": [
       "2756089"
      ]
     },
     "execution_count": 16,
     "metadata": {},
     "output_type": "execute_result"
    }
   ],
   "source": [
    "len(df_links)"
   ]
  },
  {
   "cell_type": "markdown",
   "metadata": {},
   "source": [
    "Of all the links we have, how many couldn't be parsed (e.g., target page not in storage)?"
   ]
  },
  {
   "cell_type": "code",
   "execution_count": 17,
   "metadata": {},
   "outputs": [
    {
     "data": {
      "text/plain": [
       "636"
      ]
     },
     "execution_count": 17,
     "metadata": {},
     "output_type": "execute_result"
    }
   ],
   "source": [
    "len(df_links[df_links['target_ID'].isna()])"
   ]
  },
  {
   "cell_type": "markdown",
   "metadata": {},
   "source": [
    "What is the number of links with source pages without QID?"
   ]
  },
  {
   "cell_type": "code",
   "execution_count": 18,
   "metadata": {},
   "outputs": [
    {
     "data": {
      "text/plain": [
       "1633"
      ]
     },
     "execution_count": 18,
     "metadata": {},
     "output_type": "execute_result"
    }
   ],
   "source": [
    "len(df_links[df_links['source_QID'].isna()])"
   ]
  },
  {
   "cell_type": "markdown",
   "metadata": {},
   "source": [
    "What is the number of links with target pages without QID?"
   ]
  },
  {
   "cell_type": "code",
   "execution_count": 19,
   "metadata": {},
   "outputs": [
    {
     "data": {
      "text/plain": [
       "868"
      ]
     },
     "execution_count": 19,
     "metadata": {},
     "output_type": "execute_result"
    }
   ],
   "source": [
    "len(df_links[df_links['target_QID'].isna()])"
   ]
  },
  {
   "cell_type": "markdown",
   "metadata": {},
   "source": [
    "What is the number of links with target pages without HTML?"
   ]
  },
  {
   "cell_type": "code",
   "execution_count": 20,
   "metadata": {},
   "outputs": [
    {
     "data": {
      "text/plain": [
       "3367"
      ]
     },
     "execution_count": 20,
     "metadata": {},
     "output_type": "execute_result"
    }
   ],
   "source": [
    "len(df_links[df_links['target_title'].isin(no_html)])"
   ]
  },
  {
   "cell_type": "markdown",
   "metadata": {},
   "source": [
    "What is the number of links with target pages without lead paragraph?"
   ]
  },
  {
   "cell_type": "code",
   "execution_count": 21,
   "metadata": {},
   "outputs": [
    {
     "data": {
      "text/plain": [
       "40545"
      ]
     },
     "execution_count": 21,
     "metadata": {},
     "output_type": "execute_result"
    }
   ],
   "source": [
    "len(df_links[df_links['target_title'].isin(no_lead)])"
   ]
  },
  {
   "cell_type": "markdown",
   "metadata": {},
   "source": [
    "What is the number of links with source pages without lead paragraph?"
   ]
  },
  {
   "cell_type": "code",
   "execution_count": 22,
   "metadata": {},
   "outputs": [
    {
     "data": {
      "text/plain": [
       "15209"
      ]
     },
     "execution_count": 22,
     "metadata": {},
     "output_type": "execute_result"
    }
   ],
   "source": [
    "len(df_links[df_links['source_title'].isin(no_lead)])"
   ]
  },
  {
   "cell_type": "markdown",
   "metadata": {},
   "source": [
    "What is the number of links without context?"
   ]
  },
  {
   "cell_type": "code",
   "execution_count": 25,
   "metadata": {},
   "outputs": [
    {
     "data": {
      "text/plain": [
       "11726"
      ]
     },
     "execution_count": 25,
     "metadata": {},
     "output_type": "execute_result"
    }
   ],
   "source": [
    "len(df_links[df_links['context'].isna()])"
   ]
  },
  {
   "cell_type": "markdown",
   "metadata": {},
   "source": [
    "What is the number of good links?"
   ]
  },
  {
   "cell_type": "code",
   "execution_count": 23,
   "metadata": {},
   "outputs": [
    {
     "data": {
      "text/plain": [
       "2698885"
      ]
     },
     "execution_count": 23,
     "metadata": {},
     "output_type": "execute_result"
    }
   ],
   "source": [
    "len(df_links[(~df_links['target_ID'].isna()) & (~df_links['source_QID'].isna()) & (~df_links['target_QID'].isna()) & (~df_links['target_title'].isin(no_html)) & (~df_links['target_title'].isin(no_lead)) & (~df_links['source_title'].isin(no_lead))])"
   ]
  },
  {
   "cell_type": "markdown",
   "metadata": {},
   "source": [
    "Save good links"
   ]
  },
  {
   "cell_type": "code",
   "execution_count": 24,
   "metadata": {},
   "outputs": [],
   "source": [
    "for file in link_files:\n",
    "    df = pd.read_parquet(file)\n",
    "    df = df[(~df['target_ID'].isna()) & (~df['source_QID'].isna()) & (~df['target_QID'].isna()) & (~df['target_title'].isin(no_html)) & (~df['target_title'].isin(no_lead)) & (~df['source_title'].isin(no_lead))]\n",
    "    df.to_parquet(file.replace('links', 'good_links'))"
   ]
  },
  {
   "cell_type": "code",
   "execution_count": 29,
   "metadata": {},
   "outputs": [
    {
     "name": "stdout",
     "output_type": "stream",
     "text": [
      "SOURCE Garry_McCarthy\n",
      "TARGET Chicago_Police_Department\n",
      "CONTEXT Garry Francis McCarthy\n",
      "\n",
      " (1959-05-04) \n",
      "1959-05-04\n",
      " (age 64)\n",
      " \n",
      "The Bronx, New York\n",
      "Garry Francis McCarthy (born May 4, 1959) an American police officer. [1]McCarthy was born in The Bronx, New York.McCarthy joined the New York City Police Department in 1981 at age 22. He rose through the ranks and became Deputy Commissioner of Operations in 2000.In 2006, McCarthy left his position with the New York Police Department to take over the Police Department of Newark, New Jersey.McCarthy was hired by Mayor Rahm Emanuel to take over the Chicago Police Department shortly after Emanuel's election in early 2011.  On December 1, 2015, the mayor asked for McCarthy's resignation.  He said this was because  public trust in the leadership of the city's police department had been shaken and that McCarthy had become \"an issue\" and \"a distraction.\" [2]On March 21, 2018, McCarthy announced his candidacy for Mayor of Chicago in the 2019 election.[3] He lost the first round of the election.\n",
      "SENTENCE  He was the Superintendent of the Chicago Police Department.\n",
      "###############\n",
      "SOURCE HUGO_Gene_Nomenclature_Committee\n",
      "TARGET Alternative_splicing\n",
      "CONTEXT The HGNC approach to naming genes and assigning symbols (gene name abbreviations)is:gene symbols must be unique\n",
      "symbols should only use the Roman alphabet and Arabic numerals\n",
      "symbols should not contain punctuation or \"G\" for gene\n",
      "symbols do not contain any reference to the species they are encoded in, i.e. \"H/h\" for human\n",
      "The full description of HGNC's nomenclature guidelines can be found on their web site . HGNC advocates the appendices _v1, _v2,.. for promoter variants of a single gene.HGNC also states that \"gene nomenclature should evolve with new technology rather than be restrictive as sometimes occurs when historical and single gene nomenclature systems are applied\".[3]\n",
      "SENTENCE . to distinguish between different splice variants and _pr1, _pr2,.\n",
      "###############\n",
      "SOURCE Harmonic_series_%28mathematics%29\n",
      "TARGET Divergence\n",
      "CONTEXT  A few of them are given below.One way to prove divergence is to compare the harmonic series with another divergent series, where each denominator is replaced with the next-largest power of two:\n",
      "\n",
      "\n",
      "\n",
      "\n",
      "\n",
      "\n",
      "\n",
      "\n",
      "\n",
      "\n",
      "\n",
      "1\n",
      "+\n",
      "\n",
      "\n",
      "1\n",
      "2\n",
      "\n",
      "\n",
      "+\n",
      "\n",
      "\n",
      "1\n",
      "3\n",
      "\n",
      "\n",
      "+\n",
      "\n",
      "\n",
      "1\n",
      "4\n",
      "\n",
      "\n",
      "+\n",
      "\n",
      "\n",
      "1\n",
      "5\n",
      "\n",
      "\n",
      "+\n",
      "\n",
      "\n",
      "1\n",
      "6\n",
      "\n",
      "\n",
      "+\n",
      "\n",
      "\n",
      "1\n",
      "7\n",
      "\n",
      "\n",
      "+\n",
      "\n",
      "\n",
      "1\n",
      "8\n",
      "\n",
      "\n",
      "+\n",
      "\n",
      "\n",
      "1\n",
      "9\n",
      "\n",
      "\n",
      "+\n",
      "⋯\n",
      "\n",
      "\n",
      "\n",
      "\n",
      "≥\n",
      "\n",
      "\n",
      "\n",
      "\n",
      "1\n",
      "+\n",
      "\n",
      "\n",
      "1\n",
      "2\n",
      "\n",
      "\n",
      "+\n",
      "\n",
      "\n",
      "1\n",
      "\n",
      "\n",
      "\n",
      "4\n",
      "\n",
      "\n",
      "\n",
      "\n",
      "\n",
      "+\n",
      "\n",
      "\n",
      "1\n",
      "4\n",
      "\n",
      "\n",
      "+\n",
      "\n",
      "\n",
      "1\n",
      "\n",
      "\n",
      "\n",
      "8\n",
      "\n",
      "\n",
      "\n",
      "\n",
      "\n",
      "+\n",
      "\n",
      "\n",
      "1\n",
      "\n",
      "\n",
      "\n",
      "8\n",
      "\n",
      "\n",
      "\n",
      "\n",
      "\n",
      "+\n",
      "\n",
      "\n",
      "1\n",
      "\n",
      "\n",
      "\n",
      "8\n",
      "\n",
      "\n",
      "\n",
      "\n",
      "\n",
      "+\n",
      "\n",
      "\n",
      "1\n",
      "8\n",
      "\n",
      "\n",
      "+\n",
      "\n",
      "\n",
      "1\n",
      "\n",
      "\n",
      "\n",
      "16\n",
      "\n",
      "\n",
      "\n",
      "\n",
      "\n",
      "+\n",
      "⋯\n",
      "\n",
      "\n",
      "\n",
      "\n",
      "\n",
      "\n",
      "{\\displaystyle {\\begin{aligned}&{}1+{\\frac {1}{2}}+{\\frac {1}{3}}+{\\frac {1}{4}}+{\\frac {1}{5}}+{\\frac {1}{6}}+{\\frac {1}{7}}+{\\frac {1}{8}}+{\\frac {1}{9}}+\\cdots \\\\[12pt]\\geq {}&1+{\\frac {1}{2}}+{\\frac {1}{\\color {red}{\\mathbf {4} }}}+{\\frac {1}{4}}+{\\frac {1}{\\color {red}{\\mathbf {8} }}}+{\\frac {1}{\\color {red}{\\mathbf {8} }}}+{\\frac {1}{\\color {red}{\\mathbf {8} }}}+{\\frac {1}{8}}+{\\frac {1}{\\color {red}{\\mathbf {16} }}}+\\cdots \\end{aligned}}}\n",
      "\n",
      "\n",
      "\n",
      "\n",
      "\n",
      "\n",
      "\n",
      "\n",
      "\n",
      "\n",
      "\n",
      "\n",
      "\n",
      "1\n",
      "+\n",
      "\n",
      "\n",
      "1\n",
      "2\n",
      "\n",
      "\n",
      "+\n",
      "\n",
      "\n",
      "1\n",
      "3\n",
      "\n",
      "\n",
      "+\n",
      "\n",
      "\n",
      "1\n",
      "4\n",
      "\n",
      "\n",
      "+\n",
      "\n",
      "\n",
      "1\n",
      "5\n",
      "\n",
      "\n",
      "+\n",
      "\n",
      "\n",
      "1\n",
      "6\n",
      "\n",
      "\n",
      "+\n",
      "\n",
      "\n",
      "1\n",
      "7\n",
      "\n",
      "\n",
      "+\n",
      "\n",
      "\n",
      "1\n",
      "8\n",
      "\n",
      "\n",
      "+\n",
      "\n",
      "\n",
      "1\n",
      "9\n",
      "\n",
      "\n",
      "+\n",
      "⋯\n",
      "\n",
      "\n",
      "\n",
      "\n",
      "≥\n",
      "\n",
      "\n",
      "\n",
      "\n",
      "1\n",
      "+\n",
      "\n",
      "\n",
      "1\n",
      "2\n",
      "\n",
      "\n",
      "+\n",
      "\n",
      "\n",
      "\n",
      "SENTENCE \n",
      "There are several well-known proofs of the divergence of the harmonic series.\n",
      "###############\n",
      "SOURCE Bill_Clinton_1992_presidential_campaign\n",
      "TARGET Dan_Quayle\n",
      "CONTEXT The 1992 presidential campaign of Bill Clinton, then Governor of Arkansas, was announced on October 3, 1991 in Little Rock, Arkansas.After winning a majority of delegates in the Democratic primaries of 1992, the campaign announced that then-junior Senator from Tennessee, Al Gore, would be Clinton's running mate.\n",
      "SENTENCE \n",
      "The Clinton-Gore ticket went on to defeat Republican incumbent President George H. W. Bush and Vice President Dan Quayle in the presidential election on November 3, 1992, and took office as the 42nd President and 45th Vice President on January 20, 1993.\n",
      "###############\n",
      "SOURCE JavaScript\n",
      "TARGET ECMAScript\n",
      "CONTEXT www.ecma-international.org/publications-and-standards/standards/ecma-262/\n",
      " It was originally designed as a scripting language for websites but became widely adopted as a general-purpose programming language, and is currently the most popular programming language in use.[1] JavaScript is usually found running in a web browser as interactive or automated content, ranging from popup messages and live clocks to large web applications. JavaScript is also commonly used in server-side programming through platforms like Node.js,[2] or \"embedded\" in non-JavaScript applications where the base programming language lacks the high-level functionality that JavaScript offers.Despite the similarities in name and syntax, JavaScript is not related to the programming language Java. Though the names of both languages are trademarks of Oracle Corporation, the two languages follow different design principles, and are actively developed by unrelated organizations.\n",
      "SENTENCE JavaScript is a high-level programming language that follows the ECMAScript standard.\n",
      "###############\n",
      "SOURCE Atwood%2C_Kansas\n",
      "TARGET Cleveland_Guardians\n",
      "CONTEXT Mike Hayden, 41st Governor of Kansas 1987–1990.\n",
      "[12]\n",
      "[12]\n",
      "Katie Uhlaender (born July 17, 1984) is an American skeleton racer who has competed since 2003. She won four medals at the FIBT World Championships with one silver (women's skeleton: 2008) and three bronzes (women's skeleton: 2007, mixed bobsleigh-skeleton team event: 2008, 2009).\n",
      "SENTENCE Ted Uhlaender, Major League Baseball outfielder for the Minnesota Twins, Cleveland Indians and Cincinnati Reds from 1965–1972.\n",
      "###############\n",
      "SOURCE Dean_Martin\n",
      "TARGET Retirement\n",
      "CONTEXT Martin was more or less retired in the early 1990s. He did record a new collection of his best songs, which were sold through television commercials. In early 1987, his son Dean Paul (\"Dino\") Martin was in the United States Air Force, and his airplane crashed during a mission. His body was later recovered. Losing Dean Paul broke Martin's spirit. He never seemed happy after that.Martin joined Sinatra and other Rat Packers for a reunion tour, but he quit after just a few shows. Sinatra was very angry. The two did not speak for years. They later made their peace, after members of the Rat Pack began to die off.  He watched movies at home, and went to dinner at a nearby restaurant.During the 1990s, Martin developed emphysema from years of cigarette smoking. He also had trouble with his liver. His health became bad. He began to think about death. He and his wife Jeanne were divorced years earlier, but had remained close. She encouraged him not to worry about dying, and to think about his parents, and their son Dean Paul, waiting for him.Martin died in Beverly Hills, California over the Christmas holidays in 1995, watching television in bed. As a tribute, the lights on the Las Vegas Strip were dimmed for one minute, in his memory. His epitaph was the title of his best-remembered song: \"EVERYBODY LOVES SOMEBODY SOMETIME\".\n",
      "SENTENCE  Martin lived in retirement.\n",
      "###############\n",
      "SOURCE Feldkirchen_District\n",
      "TARGET Reichenau%2C_Carinthia\n",
      "CONTEXT ach, Maitratten, Mitteregg, Sonnleiten, Weißenbach, Zedlitzdorf\n",
      "Himmelberg (Slov.: Sokovo) (5)\n",
      "Außerteuchen, Dragelsberg, Draschen, Eden, Flatschach, Fresen, Glanz, Grilzberg, Grilzgraben, Grintschach, Himmelberg, Hochegg, Kaidern, Klatzenberg, Kösting, Kraß, Lassen, Linz, Manessen, Oberboden, Pichlern, Pojedl, Sallach, Saurachberg, Schleichenfeld, Schwaig, Sonnleiten, Spitzenbichl, Tiebel, Tiffnerwinkl, Tobitsch, Tschriet, Werschling, Winklern, Wöllach, Zedlitzberg\n",
      "Außerteuchen, Dragelsberg, Draschen, Eden, Flatschach, Fresen, Glanz, Grilzberg, Grilzgraben, Grintschach, Himmelberg, Hochegg, Kaidern, Klatzenberg, Kösting, Kraß, Lassen, Linz, Manessen, Oberboden, Pichlern, Pojedl, Sallach, Saurachberg, Schleichenfeld, Schwaig, Sonnleiten, Spitzenbichl, Tiebel, Tiffnerwinkl, Tobitsch, Tschriet, Werschling, Winklern, Wöllach, Zedlitzberg\n",
      "Ossiach (Slov.: Osoje) (6)\n",
      "Alt-Ossiach, Ossiach, Ostriach, Rappitsch, Tauern, Untertauern\n",
      "Alt-Ossiach, Ossiach, Ostriach, Rappitsch, Tauern, Untertauern\n",
      " Lorenzen, St. Margarethen, Turracherhöhe, Vorderkoflach, Vorwald, Waidach, Wiederschwing, Wiedweg, Winkl\n",
      "Ebene Reichenau, Falkertsee, Falkertsee, Hinterkoflach, Lassen, Lorenzenberg, Mitterdorf, Patergassen, Plaß, Rottenstein, Saureggen, Schuß, Seebach, St. Lorenzen, St. Margarethen, Turracherhöhe, Vorderkoflach, Vorwald, Waidach, Wiederschwing, Wiedweg, Winkl\n",
      "Sankt Urban (Slov.: Št. Urban) (8)\n",
      "Agsdorf, Agsdorf-Gegend, Bach, Bach-St. Urban, Eggen, Gall, Gasmai, Göschl, Gößeberg, Grai, Hafenberg, Kleingradenegg, Lawesen, Oberdorf, Reggen, Retschitz, Retschitz-Simonhöhe, Rittolach, Rogg, St. Paul, St. Urban, Stattenberg, Trenk, Tumpf, Zirkitz, Zwattendorf\n",
      "Agsdorf, Agsdorf-Gegend, Bach, Bach-St. Urban, Eggen, Gall, Gasmai, Göschl, Gößeberg, Grai, Hafenberg, Kleingradenegg, Lawesen, Oberdorf, Reggen, Retschitz, Retschitz-Simonhöhe, Rittolach, Rogg, St. Paul, St. Urban, Stattenberg, Trenk, Tumpf, Zirkitz, Zwattendorf\n",
      "Steindorf am Ossiacher See (Slov.: Kamna vas) (9)\n",
      "Apetig, Bichl, Bodensdo\n",
      "SENTENCE Reichenau (Slov.: Rajnava) (7)\n",
      "Ebene Reichenau, Falkertsee, Falkertsee, Hinterkoflach, Lassen, Lorenzenberg, Mitterdorf, Patergassen, Plaß, Rottenstein, Saureggen, Schuß, Seebach, St.\n",
      "###############\n",
      "SOURCE Metropolitan_county\n",
      "TARGET Liverpool\n",
      "CONTEXT The six metropolitan counties and their metropolitan districts are:The structure of Greater London is similar to the metropolitan counties, but it is not one.  It was created earlier in 1965, by the London Government Act 1963.\n",
      "The idea for creating administrative areas based upon the large conurbations outside London based on the model of the County of London or Greater London.  The metropolitan counties were established by the Local Government Act 1972, the county councils were first elected in 1973, and were formally established in April 1974. This organisation has no distinct legal status but seems to move towards a role of these cities as regional capitals outside of London.\n",
      "SENTENCE \n",
      "Since 1995, the cities of Birmingham, Bristol, Leeds, Liverpool, Manchester, Newcastle, Nottingham and Sheffield have come together in the English Core Cities Group.\n",
      "###############\n",
      "SOURCE Tim_Tebow\n",
      "TARGET Quarterback\n",
      "CONTEXT None\n",
      "SENTENCE Player stats at PFR\n",
      "\n",
      "###############\n"
     ]
    }
   ],
   "source": [
    "for i in range(10):\n",
    "    sample = df_links.sample()\n",
    "    print('SOURCE', sample['source_title'].item())\n",
    "    print('TARGET', sample['target_title'].item())\n",
    "    print('CONTEXT', sample['context'].item())\n",
    "    print('SENTENCE', sample['sentence'].item())\n",
    "    print('###############')"
   ]
  },
  {
   "cell_type": "code",
   "execution_count": 30,
   "metadata": {},
   "outputs": [
    {
     "data": {
      "text/plain": [
       "'a'"
      ]
     },
     "execution_count": 30,
     "metadata": {},
     "output_type": "execute_result"
    }
   ],
   "source": [
    "df_pages[df_pages['title'] == 'Garry_McCarthy']['HTML'].item()"
   ]
  },
  {
   "cell_type": "code",
   "execution_count": 31,
   "metadata": {},
   "outputs": [
    {
     "name": "stdout",
     "output_type": "stream",
     "text": [
      "<!DOCTYPE html>\n",
      "<html prefix=\"dc: http://purl.org/dc/terms/ mw: http://mediawiki.org/rdf/\" about=\"https://simple.wikipedia.org/wiki/Special:Redirect/revision/8939102\"><head prefix=\"mwr: https://simple.wikipedia.org/wiki/Special:Redirect/\"><meta property=\"mw:TimeUuid\" content=\"f3660b30-22da-11ee-a86f-cfe260082712\"/><meta charset=\"utf-8\"/><meta property=\"mw:pageId\" content=\"458479\"/><meta property=\"mw:pageNamespace\" content=\"0\"/><link rel=\"dc:replaces\" resource=\"mwr:revision/8041653\"/><meta property=\"mw:revisionSHA1\" content=\"ad85a981407b5db3a1125c615354976793882522\"/><meta property=\"dc:modified\" content=\"2023-07-15T06:43:46.000Z\"/><meta property=\"mw:htmlVersion\" content=\"2.8.0\"/><meta property=\"mw:html:version\" content=\"2.8.0\"/><link rel=\"dc:isVersionOf\" href=\"//simple.wikipedia.org/wiki/Garry_McCarthy\"/><base href=\"//simple.wikipedia.org/wiki/\"/><title>Garry McCarthy</title><meta property=\"mw:moduleStyles\" content=\"ext.cite.style|ext.cite.styles\"/><link rel=\"stylesheet\" href=\"/w/load.php?lang=en&amp;modules=ext.cite.style%7Cext.cite.styles%7Cmediawiki.skinning.content.parsoid%7Cmediawiki.skinning.interface%7Csite.styles&amp;only=styles&amp;skin=vector\"/><meta http-equiv=\"content-language\" content=\"en\"/><meta http-equiv=\"vary\" content=\"Accept\"/></head><body id=\"mwAA\" lang=\"en\" class=\"mw-content-ltr sitedir-ltr ltr mw-body-content parsoid-body mediawiki mw-parser-output\" dir=\"ltr\"><section data-mw-section-id=\"0\" id=\"mwAQ\"><style data-mw-deduplicate=\"TemplateStyles:r8709196\" typeof=\"mw:Extension/templatestyles mw:Transclusion\" about=\"#mwt1\" data-mw='{\"parts\":[{\"template\":{\"target\":{\"wt\":\"Infobox person\\n\",\"href\":\"./Template:Infobox_person\"},\"params\":{\"name\":{\"wt\":\"Garry Francis McCarthy\"},\"image\":{\"wt\":\"Garry McCarthy DmRcI5.jpg\"},\"caption\":{\"wt\":\"\"},\"birth_date\":{\"wt\":\"{{birth date and age|1959|5|4}}\"},\"badgenumber\":{\"wt\":\"\"},\"birth_place\":{\"wt\":\"[[The Bronx]], [[New York City|New York]]\"},\"nickname\":{\"wt\":\"\"},\"employer\":{\"wt\":\"[[New York City Police Department]]&lt;br>[[Newark Police Department (New Jersey)|Newark Police Department]]&lt;br>[[Chicago Police Department]]\"},\"service\":{\"wt\":\"\"},\"serviceyears\":{\"wt\":\"\"},\"rank\":{\"wt\":\"\"},\"awards\":{\"wt\":\"\"},\"relations\":{\"wt\":\"\"},\"laterwork\":{\"wt\":\"\"}},\"i\":0}}]}' id=\"mwAg\">.mw-parser-output .infobox-subbox{padding:0;border:none;margin:-3px;width:auto;min-width:100%;font-size:100%;clear:none;float:none;background-color:transparent}.mw-parser-output .infobox-3cols-child{margin:auto}.mw-parser-output .infobox .navbar{font-size:100%}body.skin-minerva .mw-parser-output .infobox-header,body.skin-minerva .mw-parser-output .infobox-subheader,body.skin-minerva .mw-parser-output .infobox-above,body.skin-minerva .mw-parser-output .infobox-title,body.skin-minerva .mw-parser-output .infobox-image,body.skin-minerva .mw-parser-output .infobox-full-data,body.skin-minerva .mw-parser-output .infobox-below{text-align:center}</style><table class=\"infobox biography vcard\" about=\"#mwt1\"><tbody><tr><th colspan=\"2\" class=\"infobox-above\"><div class=\"fn\" style=\"display:inline\">Garry Francis McCarthy</div></th></tr><tr><td colspan=\"2\" class=\"infobox-image\"><span class=\"mw-default-size\" typeof=\"mw:File/Frameless\"><a href=\"./File:Garry_McCarthy_DmRcI5.jpg\" class=\"mw-file-description\"><img resource=\"./File:Garry_McCarthy_DmRcI5.jpg\" src=\"//upload.wikimedia.org/wikipedia/commons/thumb/2/27/Garry_McCarthy_DmRcI5.jpg/220px-Garry_McCarthy_DmRcI5.jpg\" decoding=\"async\" data-file-width=\"579\" data-file-height=\"731\" data-file-type=\"bitmap\" height=\"278\" width=\"220\" srcset=\"//upload.wikimedia.org/wikipedia/commons/thumb/2/27/Garry_McCarthy_DmRcI5.jpg/330px-Garry_McCarthy_DmRcI5.jpg 1.5x, //upload.wikimedia.org/wikipedia/commons/thumb/2/27/Garry_McCarthy_DmRcI5.jpg/440px-Garry_McCarthy_DmRcI5.jpg 2x\" class=\"mw-file-element\"/></a></span></td></tr><tr><th scope=\"row\" class=\"infobox-label\">Born</th><td class=\"infobox-data\"><span style=\"display:none\"> (<span class=\"bday\">1959-05-04</span>) </span>May 4, 1959<span class=\"noprint ForceAgeToShow\"> (age<span typeof=\"mw:Entity\"> </span>64)</span><br/><div style=\"display:inline\" class=\"birthplace\"><a rel=\"mw:WikiLink\" href=\"./The_Bronx\" title=\"The Bronx\">The Bronx</a>, <a rel=\"mw:WikiLink\" href=\"./New_York_City\" title=\"New York City\">New York</a></div></td></tr><tr><th scope=\"row\" class=\"infobox-label\">Employer</th><td class=\"infobox-data org\"><a rel=\"mw:WikiLink\" href=\"./New_York_City_Police_Department\" title=\"New York City Police Department\">New York City Police Department</a><br/><a rel=\"mw:WikiLink\" href=\"./Newark_Police_Department_(New_Jersey)?action=edit&amp;redlink=1\" title=\"Newark Police Department (New Jersey)\" class=\"new\" typeof=\"mw:LocalizedAttrs\" data-mw-i18n='{\"title\":{\"lang\":\"x-page\",\"key\":\"red-link-title\",\"params\":[\"Newark Police Department (New Jersey)\"]}}'>Newark Police Department</a><br/><a rel=\"mw:WikiLink\" href=\"./Chicago_Police_Department\" title=\"Chicago Police Department\">Chicago Police Department</a></td></tr></tbody></table><link rel=\"mw:PageProp/Category\" href=\"./Category:Articles_with_hCards\" about=\"#mwt1\" id=\"mwAw\"/>\n",
      "\n",
      "<p id=\"mwBA\"><b id=\"mwBQ\">Garry Francis McCarthy</b> (born May 4, 1959) an <a rel=\"mw:WikiLink\" href=\"./Americans\" title=\"Americans\" id=\"mwBg\">American</a> police officer. He was the <a rel=\"mw:WikiLink\" href=\"./Superintendent?action=edit&amp;redlink=1\" title=\"Superintendent\" class=\"new\" typeof=\"mw:LocalizedAttrs\" data-mw-i18n='{\"title\":{\"lang\":\"x-page\",\"key\":\"red-link-title\",\"params\":[\"Superintendent\"]}}' id=\"mwBw\">Superintendent</a> of the <a rel=\"mw:WikiLink\" href=\"./Chicago_Police_Department\" title=\"Chicago Police Department\" id=\"mwCA\">Chicago Police Department</a>.<sup about=\"#mwt8\" class=\"mw-ref reference\" id=\"cite_ref-1\" rel=\"dc:references\" typeof=\"mw:Extension/ref\" data-mw='{\"name\":\"ref\",\"attrs\":{},\"body\":{\"id\":\"mw-reference-text-cite_note-1\"}}'><a href=\"./Garry_McCarthy#cite_note-1\" style=\"counter-reset: mw-Ref 1;\" id=\"mwCQ\"><span class=\"mw-reflink-text\" id=\"mwCg\">[1]</span></a></sup></p> \n",
      "\n",
      "<p id=\"mwCw\">McCarthy was born in <a rel=\"mw:WikiLink\" href=\"./The_Bronx\" title=\"The Bronx\" id=\"mwDA\">The Bronx</a>, <a rel=\"mw:WikiLink\" href=\"./New_York_City\" title=\"New York City\" id=\"mwDQ\">New York</a>.</p>\n",
      "\n",
      "<p id=\"mwDg\">McCarthy joined the <a rel=\"mw:WikiLink\" href=\"./New_York_City_Police_Department\" title=\"New York City Police Department\" id=\"mwDw\">New York City Police Department</a> in 1981 at age 22. He rose through the ranks and became Deputy Commissioner of Operations in 2000.</p>\n",
      "\n",
      "<p id=\"mwEA\">In 2006, McCarthy left his position with the New York Police Department to take over the <a rel=\"mw:WikiLink\" href=\"./Newark_Police_Department_(New_Jersey)?action=edit&amp;redlink=1\" title=\"Newark Police Department (New Jersey)\" class=\"new\" typeof=\"mw:LocalizedAttrs\" data-mw-i18n='{\"title\":{\"lang\":\"x-page\",\"key\":\"red-link-title\",\"params\":[\"Newark Police Department (New Jersey)\"]}}' id=\"mwEQ\">Police Department</a> of <a rel=\"mw:WikiLink\" href=\"./Newark,_New_Jersey\" title=\"Newark, New Jersey\" id=\"mwEg\">Newark, New Jersey</a>.</p>\n",
      "\n",
      "<p id=\"mwEw\">McCarthy was hired by Mayor <a rel=\"mw:WikiLink\" href=\"./Rahm_Emanuel\" title=\"Rahm Emanuel\" id=\"mwFA\">Rahm Emanuel</a> to take over the <a rel=\"mw:WikiLink\" href=\"./Chicago_Police_Department\" title=\"Chicago Police Department\" id=\"mwFQ\">Chicago Police Department</a> shortly after Emanuel's election in early 2011.  On December 1, 2015, the mayor asked for McCarthy's resignation.  He said this was because  public trust in the leadership of the city's police department had been shaken and that McCarthy had become \"an issue\" and \"a distraction.\" <sup about=\"#mwt10\" class=\"mw-ref reference\" id=\"cite_ref-2\" rel=\"dc:references\" typeof=\"mw:Extension/ref\" data-mw='{\"name\":\"ref\",\"attrs\":{},\"body\":{\"id\":\"mw-reference-text-cite_note-2\"}}'><a href=\"./Garry_McCarthy#cite_note-2\" style=\"counter-reset: mw-Ref 2;\" id=\"mwFg\"><span class=\"mw-reflink-text\" id=\"mwFw\">[2]</span></a></sup></p>\n",
      "\n",
      "<p id=\"mwGA\">On March 21, 2018, McCarthy announced his candidacy for <a rel=\"mw:WikiLink\" href=\"./Mayor_of_Chicago\" title=\"Mayor of Chicago\" id=\"mwGQ\">Mayor of Chicago</a> in the <a rel=\"mw:WikiLink\" href=\"./Chicago_mayoral_election,_2019\" title=\"Chicago mayoral election, 2019\" class=\"mw-redirect\" id=\"mwGg\">2019 election</a>.<sup about=\"#mwt15\" class=\"mw-ref reference\" id=\"cite_ref-3\" rel=\"dc:references\" typeof=\"mw:Extension/ref\" data-mw='{\"name\":\"ref\",\"attrs\":{},\"body\":{\"id\":\"mw-reference-text-cite_note-3\"}}'><a href=\"./Garry_McCarthy#cite_note-3\" style=\"counter-reset: mw-Ref 3;\" id=\"mwGw\"><span class=\"mw-reflink-text\" id=\"mwHA\">[3]</span></a></sup> He lost the first round of the election.</p>\n",
      "\n",
      "</section><section data-mw-section-id=\"1\" id=\"mwHQ\"><h2 id=\"References\">References</h2>\n",
      "<style data-mw-deduplicate=\"TemplateStyles:r8087918\" typeof=\"mw:Extension/templatestyles mw:Transclusion\" about=\"#mwt16\" data-mw='{\"parts\":[{\"template\":{\"target\":{\"wt\":\"reflist\",\"href\":\"./Template:Reflist\"},\"params\":{},\"i\":0}}]}' id=\"mwHg\">.mw-parser-output .reflist{font-size:90%;margin-bottom:0.5em;list-style-type:decimal}.mw-parser-output .reflist .references{font-size:100%;margin-bottom:0;list-style-type:inherit}.mw-parser-output .reflist-columns-2{column-width:30em}.mw-parser-output .reflist-columns-3{column-width:25em}.mw-parser-output .reflist-columns{margin-top:0.3em}.mw-parser-output .reflist-columns ol{margin-top:0}.mw-parser-output .reflist-columns li{page-break-inside:avoid;break-inside:avoid-column}.mw-parser-output .reflist-upper-alpha{list-style-type:upper-alpha}.mw-parser-output .reflist-upper-roman{list-style-type:upper-roman}.mw-parser-output .reflist-lower-alpha{list-style-type:lower-alpha}.mw-parser-output .reflist-lower-greek{list-style-type:lower-greek}.mw-parser-output .reflist-lower-roman{list-style-type:lower-roman}</style><div class=\"reflist   \" about=\"#mwt16\" id=\"mwHw\">\n",
      "<div class=\"mw-references-wrap\" typeof=\"mw:Extension/references\" about=\"#mwt20\" data-mw='{\"name\":\"references\",\"attrs\":{\"group\":\"\",\"responsive\":\"1\"},\"body\":{\"html\":\"\"}}' id=\"mwIA\"><ol class=\"mw-references references\" id=\"mwIQ\"><li about=\"#cite_note-1\" id=\"cite_note-1\"><a href=\"./Garry_McCarthy#cite_ref-1\" rel=\"mw:referencedBy\" id=\"mwIg\"><span class=\"mw-linkback-text\" id=\"mwIw\">↑ </span></a> <span id=\"mw-reference-text-cite_note-1\" class=\"mw-reference-text\"><style data-mw-deduplicate=\"TemplateStyles:r8742204\" typeof=\"mw:Extension/templatestyles mw:Transclusion\" about=\"#mwt5\" data-mw='{\"parts\":[{\"template\":{\"target\":{\"wt\":\"cite web\",\"href\":\"./Template:Cite_web\"},\"params\":{\"url\":{\"wt\":\"http://www.wycc.org/garrymccarthy.html\"},\"title\":{\"wt\":\"Garry McCarthy\"},\"publisher\":{\"wt\":\"WYCC.org\"},\"accessdate\":{\"wt\":\"July 30, 2014\"}},\"i\":0}}]}' id=\"mwJA\">.mw-parser-output cite.citation{font-style:inherit;word-wrap:break-word}.mw-parser-output .citation q{quotes:\"\\\"\"\"\\\"\"\"'\"\"'\"}.mw-parser-output .citation:target{background-color:rgba(0,127,255,0.133)}.mw-parser-output .id-lock-free a,.mw-parser-output .citation .cs1-lock-free a{background:url(\"//upload.wikimedia.org/wikipedia/commons/6/65/Lock-green.svg\")right 0.1em center/9px no-repeat}.mw-parser-output .id-lock-limited a,.mw-parser-output .id-lock-registration a,.mw-parser-output .citation .cs1-lock-limited a,.mw-parser-output .citation .cs1-lock-registration a{background:url(\"//upload.wikimedia.org/wikipedia/commons/d/d6/Lock-gray-alt-2.svg\")right 0.1em center/9px no-repeat}.mw-parser-output .id-lock-subscription a,.mw-parser-output .citation .cs1-lock-subscription a{background:url(\"//upload.wikimedia.org/wikipedia/commons/a/aa/Lock-red-alt-2.svg\")right 0.1em center/9px no-repeat}.mw-parser-output .cs1-ws-icon a{background:url(\"//upload.wikimedia.org/wikipedia/commons/4/4c/Wikisource-logo.svg\")right 0.1em center/12px no-repeat}.mw-parser-output .cs1-code{color:inherit;background:inherit;border:none;padding:inherit}.mw-parser-output .cs1-hidden-error{display:none;color:#d33}.mw-parser-output .cs1-visible-error{color:#d33}.mw-parser-output .cs1-maint{display:none;color:#3a3;margin-left:0.3em}.mw-parser-output .cs1-format{font-size:95%}.mw-parser-output .cs1-kern-left{padding-left:0.2em}.mw-parser-output .cs1-kern-right{padding-right:0.2em}.mw-parser-output .citation .mw-selflink{font-weight:inherit}</style><cite class=\"citation web cs1\" about=\"#mwt5\" id=\"mwJQ\"><a rel=\"mw:ExtLink nofollow\" href=\"http://www.wycc.org/garrymccarthy.html\" class=\"external text\" id=\"mwJg\">\"Garry McCarthy\"</a>. WYCC.org<span class=\"reference-accessdate\" id=\"mwJw\">. Retrieved <span class=\"nowrap\" id=\"mwKA\">July 30,</span> 2014</span>.</cite><span title=\"ctx_ver=Z39.88-2004&amp;rft_val_fmt=info%3Aofi%2Ffmt%3Akev%3Amtx%3Abook&amp;rft.genre=unknown&amp;rft.btitle=Garry+McCarthy&amp;rft.pub=WYCC.org&amp;rft_id=http%3A%2F%2Fwww.wycc.org%2Fgarrymccarthy.html&amp;rfr_id=info%3Asid%2Fsimple.wikipedia.org%3AGarry+McCarthy\" class=\"Z3988\" about=\"#mwt5\" id=\"mwKQ\"></span></span></li><li about=\"#cite_note-2\" id=\"cite_note-2\"><a href=\"./Garry_McCarthy#cite_ref-2\" rel=\"mw:referencedBy\" id=\"mwKg\"><span class=\"mw-linkback-text\" id=\"mwKw\">↑ </span></a> <span id=\"mw-reference-text-cite_note-2\" class=\"mw-reference-text\">  <a rel=\"mw:ExtLink nofollow\" href=\"https://www.nytimes.com/2015/12/02/us/chicago-police-rahm-emanuel-laquan-mcdonald.html\" class=\"external free\" id=\"mwLA\">https://www.nytimes.com/2015/12/02/us/chicago-police-rahm-emanuel-laquan-mcdonald.html</a> \"Mayor Rahm Emanuel Fires Chicago Police Superintendent,\" <i id=\"mwLQ\">New York Times</i> on line, by MONICA DAVEY and RICHARD PÉREZ-PEÑA; accessed 2015.12.01</span></li><li about=\"#cite_note-3\" id=\"cite_note-3\"><a href=\"./Garry_McCarthy#cite_ref-3\" rel=\"mw:referencedBy\" id=\"mwLg\"><span class=\"mw-linkback-text\" id=\"mwLw\">↑ </span></a> <span id=\"mw-reference-text-cite_note-3\" class=\"mw-reference-text\"><link rel=\"mw-deduplicated-inline-style\" href=\"mw-data:TemplateStyles:r8742204\" about=\"#mwt12\" typeof=\"mw:Extension/templatestyles mw:Transclusion\" data-mw='{\"parts\":[{\"template\":{\"target\":{\"wt\":\"cite web\",\"href\":\"./Template:Cite_web\"},\"params\":{\"url\":{\"wt\":\"https://chicago.suntimes.com/chicago-politics/ex-top-cop-garry-mccarthy-officially-jumps-into-race-against-mayor-rahm-emanuel/\"},\"title\":{\"wt\":\"Ex-Top Cop Garry McCarthy Officially Jumps Into Race Against Mayor Rahm Emanuel\"},\"publisher\":{\"wt\":\"[[Chicago Sun-Times]]\"},\"date\":{\"wt\":\"March 21, 2018\"},\"accessdate\":{\"wt\":\"March 21, 2018\"},\"archive-date\":{\"wt\":\"March 22, 2018\"},\"archive-url\":{\"wt\":\"https://web.archive.org/web/20180322032103/https://chicago.suntimes.com/chicago-politics/ex-top-cop-garry-mccarthy-officially-jumps-into-race-against-mayor-rahm-emanuel/\"},\"url-status\":{\"wt\":\"dead\"}},\"i\":0}}]}' id=\"mwMA\"/><cite class=\"citation web cs1\" about=\"#mwt12\" id=\"mwMQ\"><a rel=\"mw:ExtLink nofollow\" href=\"https://web.archive.org/web/20180322032103/https://chicago.suntimes.com/chicago-politics/ex-top-cop-garry-mccarthy-officially-jumps-into-race-against-mayor-rahm-emanuel/\" class=\"external text\" id=\"mwMg\">\"Ex-Top Cop Garry McCarthy Officially Jumps Into Race Against Mayor Rahm Emanuel\"</a>. <a rel=\"mw:WikiLink\" href=\"./Chicago_Sun-Times\" title=\"Chicago Sun-Times\" id=\"mwMw\">Chicago Sun-Times</a>. March 21, 2018. Archived from <a rel=\"mw:ExtLink nofollow\" href=\"https://chicago.suntimes.com/chicago-politics/ex-top-cop-garry-mccarthy-officially-jumps-into-race-against-mayor-rahm-emanuel/\" class=\"external text\" id=\"mwNA\">the original</a> on March 22, 2018<span class=\"reference-accessdate\" id=\"mwNQ\">. Retrieved <span class=\"nowrap\" id=\"mwNg\">March 21,</span> 2018</span>.</cite><span title=\"ctx_ver=Z39.88-2004&amp;rft_val_fmt=info%3Aofi%2Ffmt%3Akev%3Amtx%3Abook&amp;rft.genre=unknown&amp;rft.btitle=Ex-Top+Cop+Garry+McCarthy+Officially+Jumps+Into+Race+Against+Mayor+Rahm+Emanuel&amp;rft.pub=Chicago+Sun-Times&amp;rft.date=2018-03-21&amp;rft_id=https%3A%2F%2Fchicago.suntimes.com%2Fchicago-politics%2Fex-top-cop-garry-mccarthy-officially-jumps-into-race-against-mayor-rahm-emanuel%2F&amp;rfr_id=info%3Asid%2Fsimple.wikipedia.org%3AGarry+McCarthy\" class=\"Z3988\" about=\"#mwt12\" id=\"mwNw\"></span></span></li></ol></div></div>\n",
      "\n",
      "</section><section data-mw-section-id=\"2\" id=\"mwOA\"><h2 id=\"Other_websites\">Other websites</h2>\n",
      "<ul id=\"mwOQ\"><li id=\"mwOg\"><span class=\"official-website\" about=\"#mwt21\" typeof=\"mw:Transclusion\" data-mw='{\"parts\":[{\"template\":{\"target\":{\"wt\":\"Official website\",\"href\":\"./Template:Official_website\"},\"params\":{\"1\":{\"wt\":\"https://portal.chicagopolice.org/portal/page/portal/ClearPath/About%20CPD/Bureaus/Superintendent%27s%20Office\"}},\"i\":0}}]}' id=\"mwOw\"><span class=\"url\"><a rel=\"mw:ExtLink nofollow\" href=\"https://portal.chicagopolice.org/portal/page/portal/ClearPath/About%20CPD/Bureaus/Superintendent%27s%20Office\" class=\"external text\">Official website</a></span></span></li></ul>\n",
      "\n",
      "<span about=\"#mwt22\" typeof=\"mw:Transclusion\" data-mw='{\"parts\":[{\"template\":{\"target\":{\"wt\":\"DEFAULTSORT:McCarthy, Garry\",\"function\":\"defaultsort\"},\"params\":{},\"i\":0}}]}' id=\"mwPA\"></span>\n",
      "<link rel=\"mw:PageProp/Category\" href=\"./Category:1959_births\" id=\"mwPQ\"/>\n",
      "<link rel=\"mw:PageProp/Category\" href=\"./Category:Living_people\" id=\"mwPg\"/>\n",
      "<link rel=\"mw:PageProp/Category\" href=\"./Category:American_police_officers\" id=\"mwPw\"/>\n",
      "<link rel=\"mw:PageProp/Category\" href=\"./Category:People_from_New_York_City\" id=\"mwQA\"/>\n",
      "<p id=\"mwQQ\">\n",
      "<br id=\"mwQg\"/></p>\n",
      "<div class=\"boilerplate metadata plainlinks\" id=\"stub\" about=\"#mwt23\" typeof=\"mw:Transclusion\" data-mw='{\"parts\":[{\"template\":{\"target\":{\"wt\":\"us-bio-stub\",\"href\":\"./Template:Us-bio-stub\"},\"params\":{},\"i\":0}}]}'><span typeof=\"mw:File\"><a href=\"./File:Flag_of_the_United_States.svg\" class=\"mw-file-description\"><img alt=\"\" resource=\"./File:Flag_of_the_United_States.svg\" src=\"//upload.wikimedia.org/wikipedia/commons/thumb/a/a4/Flag_of_the_United_States.svg/30px-Flag_of_the_United_States.svg.png\" decoding=\"async\" data-file-width=\"1235\" data-file-height=\"650\" data-file-type=\"drawing\" height=\"16\" width=\"30\" srcset=\"//upload.wikimedia.org/wikipedia/commons/thumb/a/a4/Flag_of_the_United_States.svg/45px-Flag_of_the_United_States.svg.png 1.5x, //upload.wikimedia.org/wikipedia/commons/thumb/a/a4/Flag_of_the_United_States.svg/60px-Flag_of_the_United_States.svg.png 2x\" class=\"mw-file-element\"/></a></span> <i>This <a rel=\"mw:WikiLink\" href=\"./Wikipedia:Stub\" title=\"Wikipedia:Stub\">short article</a> about a<span typeof=\"mw:Entity\"> </span><a rel=\"mw:WikiLink\" href=\"./Category:American_people_stubs\" title=\"Category:American people stubs\">person</a><span typeof=\"mw:Entity\"> </span>from the United States can be made longer. You can help Wikipedia by <a rel=\"mw:ExtLink\" href=\"//simple.wikipedia.org/w/index.php?title=Garry_McCarthy&amp;action=edit\" class=\"external text\">adding to it</a></i>.</div><link rel=\"mw:PageProp/Category\" href=\"./Category:American_people_stubs\" about=\"#mwt23\"/><span about=\"#mwt23\">\n",
      "</span></section></body></html>\n"
     ]
    },
    {
     "ename": "ValueError",
     "evalue": "can only convert an array of size 1 to a Python scalar",
     "output_type": "error",
     "traceback": [
      "\u001b[0;31m---------------------------------------------------------------------------\u001b[0m",
      "\u001b[0;31mValueError\u001b[0m                                Traceback (most recent call last)",
      "\u001b[1;32m/home/tsoares/linkrec-llms/wikipedia_dumps_process/graph_analysis.ipynb Cell 51\u001b[0m line \u001b[0;36m3\n\u001b[1;32m      <a href='vscode-notebook-cell://ssh-remote%2Biccluster039.iccluster.epfl.ch/home/tsoares/linkrec-llms/wikipedia_dumps_process/graph_analysis.ipynb#Y101sdnNjb2RlLXJlbW90ZQ%3D%3D?line=0'>1</a>\u001b[0m \u001b[39mfor\u001b[39;00m page \u001b[39min\u001b[39;00m page_files:\n\u001b[1;32m      <a href='vscode-notebook-cell://ssh-remote%2Biccluster039.iccluster.epfl.ch/home/tsoares/linkrec-llms/wikipedia_dumps_process/graph_analysis.ipynb#Y101sdnNjb2RlLXJlbW90ZQ%3D%3D?line=1'>2</a>\u001b[0m     df \u001b[39m=\u001b[39m pd\u001b[39m.\u001b[39mread_parquet(page)\n\u001b[0;32m----> <a href='vscode-notebook-cell://ssh-remote%2Biccluster039.iccluster.epfl.ch/home/tsoares/linkrec-llms/wikipedia_dumps_process/graph_analysis.ipynb#Y101sdnNjb2RlLXJlbW90ZQ%3D%3D?line=2'>3</a>\u001b[0m     \u001b[39mprint\u001b[39m(df[df[\u001b[39m'\u001b[39;49m\u001b[39mtitle\u001b[39;49m\u001b[39m'\u001b[39;49m] \u001b[39m==\u001b[39;49m \u001b[39m'\u001b[39;49m\u001b[39mGarry_McCarthy\u001b[39;49m\u001b[39m'\u001b[39;49m][\u001b[39m'\u001b[39;49m\u001b[39mHTML\u001b[39;49m\u001b[39m'\u001b[39;49m]\u001b[39m.\u001b[39;49mitem())\n",
      "File \u001b[0;32m/scratch/tsoares/miniconda3/envs/wiki_dump/lib/python3.9/site-packages/pandas/core/base.py:418\u001b[0m, in \u001b[0;36mIndexOpsMixin.item\u001b[0;34m(self)\u001b[0m\n\u001b[1;32m    416\u001b[0m \u001b[39mif\u001b[39;00m \u001b[39mlen\u001b[39m(\u001b[39mself\u001b[39m) \u001b[39m==\u001b[39m \u001b[39m1\u001b[39m:\n\u001b[1;32m    417\u001b[0m     \u001b[39mreturn\u001b[39;00m \u001b[39mnext\u001b[39m(\u001b[39miter\u001b[39m(\u001b[39mself\u001b[39m))\n\u001b[0;32m--> 418\u001b[0m \u001b[39mraise\u001b[39;00m \u001b[39mValueError\u001b[39;00m(\u001b[39m\"\u001b[39m\u001b[39mcan only convert an array of size 1 to a Python scalar\u001b[39m\u001b[39m\"\u001b[39m)\n",
      "\u001b[0;31mValueError\u001b[0m: can only convert an array of size 1 to a Python scalar"
     ]
    }
   ],
   "source": [
    "for page in page_files:\n",
    "    df = pd.read_parquet(page)\n",
    "    print(df[df['title'] == 'Garry_McCarthy']['HTML'].item())\n"
   ]
  },
  {
   "cell_type": "code",
   "execution_count": null,
   "metadata": {},
   "outputs": [],
   "source": []
  }
 ],
 "metadata": {
  "kernelspec": {
   "display_name": "Python 3",
   "language": "python",
   "name": "python3"
  },
  "language_info": {
   "codemirror_mode": {
    "name": "ipython",
    "version": 3
   },
   "file_extension": ".py",
   "mimetype": "text/x-python",
   "name": "python",
   "nbconvert_exporter": "python",
   "pygments_lexer": "ipython3",
   "version": "3.9.18"
  },
  "orig_nbformat": 4
 },
 "nbformat": 4,
 "nbformat_minor": 2
}
